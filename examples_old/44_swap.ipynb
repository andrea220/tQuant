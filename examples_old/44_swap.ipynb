{
 "cells": [
  {
   "cell_type": "code",
   "execution_count": 1,
   "metadata": {},
   "outputs": [],
   "source": [
    "import sys\n",
    "sys.path.append('../')\n",
    "\n",
    "import json\n",
    "from instruments.swap import *\n",
    "from datetime import datetime, timedelta\n",
    "import pandas as pd\n",
    "import matplotlib.pyplot as plt\n",
    "import tensorflow as tf"
   ]
  },
  {
   "cell_type": "markdown",
   "metadata": {},
   "source": [
    "# Market curves"
   ]
  },
  {
   "cell_type": "code",
   "execution_count": 2,
   "metadata": {},
   "outputs": [],
   "source": [
    "class Market:\n",
    "    def __init__(self) -> None:\n",
    "        self.market_dfs = pd.read_csv('../data/markets/Market_2023_09_29_DFs.csv', \n",
    "                                        skiprows= 2,\n",
    "                                        on_bad_lines='skip')\n",
    "        self.evaluation_date = date(2023,9,29)\n",
    "        Settings.evaluation_date = self.evaluation_date\n",
    "        self._eur_6m_index_init()\n",
    "    \n",
    "    @property\n",
    "    def estr_curve(self):\n",
    "        df_eur = self.market_dfs[self.market_dfs['Property'].str.contains(\"IR.EUR-ESTR-ON.DF\")][['Property', 'Label']]\n",
    "        dates = []\n",
    "        for i in range(len(df_eur['Property'].values)):\n",
    "            str_temp = df_eur['Property'].values[i][18:29]\n",
    "            dates.append(datetime.strptime(str_temp, '%d-%b-%Y') )\n",
    "        dfs_pillars = [(dates[t]-dates[0]).days/365 for t in range(len(dates))]\n",
    "        dfs_market = df_eur['Label'].values\n",
    "        return DiscountCurveSimple(dfs_pillars, dfs_market)\n",
    "    \n",
    "    def _eur_6m_index_init(self):\n",
    "        index_eur_6m = IborIndex(\"EUR6M\", \"calendar\", \"6M\")\n",
    "        # fixing storici settati costanti a 3% \n",
    "        dates_random = [date(2023,9,28) - timedelta(x) for x in range(0,200)] \n",
    "        [index_eur_6m.add_fixing(dt, 0.03) for dt in dates_random]\n",
    "        self._eur_6m_index = index_eur_6m \n",
    "    \n",
    "    @property\n",
    "    def eur_6m_index(self):\n",
    "        return self._eur_6m_index\n",
    "    \n",
    "## market instance\n",
    "md = Market()"
   ]
  },
  {
   "cell_type": "markdown",
   "metadata": {},
   "source": [
    "# Load Trade"
   ]
  },
  {
   "cell_type": "code",
   "execution_count": 3,
   "metadata": {},
   "outputs": [],
   "source": [
    "def make_swap(trade):\n",
    "    ''' \n",
    "    Read json and returns tq.Swap\n",
    "    '''\n",
    "    leg1_schedule_len = len(trade['data']['Leg1.schedule']['rows'])\n",
    "    leg2_schedule_len = len(trade['data']['Leg2.schedule']['rows'])\n",
    "\n",
    "    leg1_is_fixed = trade['data']['Leg1.isFixedLeg']\n",
    "    leg2_is_fixed = trade['data']['Leg2.isFixedLeg']\n",
    "\n",
    "    if not leg1_is_fixed:\n",
    "        leg1_index = trade['data']['Leg1.index']\n",
    "    elif not leg2_is_fixed:\n",
    "        leg2_index = trade['data']['Leg2.index']\n",
    "\n",
    "    date_format = '%Y-%m-%d'\n",
    "    leg1_payment_dates = [trade['data']['Leg1.schedule']['rows'][i]['paymentDate'] for i in range(leg1_schedule_len)]\n",
    "    leg1_payment_dates = [datetime.strptime(dt, date_format).date() for dt in leg1_payment_dates]\n",
    "    leg2_payment_dates = [trade['data']['Leg2.schedule']['rows'][i]['paymentDate'] for i in range(leg2_schedule_len)]\n",
    "    leg2_payment_dates = [datetime.strptime(dt, date_format).date() for dt in leg2_payment_dates]\n",
    "\n",
    "    leg1_notionals = [trade['data']['Leg1.notionalTable']['rows'][i]['value'] for i in range(leg1_schedule_len)]\n",
    "    leg2_notionals = [trade['data']['Leg2.notionalTable']['rows'][i]['value'] for i in range(leg2_schedule_len)]\n",
    "\n",
    "    leg1_margins = [trade['data']['Leg1.marginTable']['rows'][i]['value'] for i in range(leg1_schedule_len)]\n",
    "    leg2_margins = [trade['data']['Leg2.marginTable']['rows'][i]['value'] for i in range(leg2_schedule_len)]\n",
    "\n",
    "    leg1_rate_factor = [trade['data']['Leg1.rateFactorTable']['rows'][i]['value'] for i in range(leg1_schedule_len)]\n",
    "    leg2_rate_factor = [trade['data']['Leg2.rateFactorTable']['rows'][i]['value'] for i in range(leg2_schedule_len)]\n",
    "\n",
    "    leg1_fixed_payments = [trade['data']['Leg1.fixedPaymentAmountTable']['rows'][i]['value'] for i in range(leg1_schedule_len)]\n",
    "    leg2_fixed_payments = [trade['data']['Leg2.fixedPaymentAmountTable']['rows'][i]['value'] for i in range(leg2_schedule_len)]\n",
    "\n",
    "    if leg1_is_fixed and not leg2_is_fixed:\n",
    "\n",
    "        if leg2_index == 'EUR-EURIBOR-6M':\n",
    "            index = md.eur_6m_index\n",
    "        else:\n",
    "            raise ValueError('No index available')\n",
    "\n",
    "        swap_obj = SwapFixedFloating(leg1_payment_dates,\n",
    "                                    leg2_payment_dates,\n",
    "                                    leg1_notionals,\n",
    "                                    leg2_notionals ,\n",
    "                                    leg2_rate_factor, # moltiplicatore variabile\n",
    "                                    leg2_margins, # spread variabile\n",
    "                                    index,\n",
    "                                    leg1_margins) # tasso fisso\n",
    "        \n",
    "    elif leg2_is_fixed and not leg1_is_fixed:\n",
    "        if leg1_index == 'EUR-EURIBOR-6M':\n",
    "            index = md.eur_6m_index\n",
    "        else:\n",
    "            raise ValueError('No index available')\n",
    "\n",
    "        swap_obj = SwapFixedFloating(leg1_payment_dates,\n",
    "                                    leg2_payment_dates,\n",
    "                                    leg1_notionals,\n",
    "                                    leg2_notionals,\n",
    "                                    leg1_rate_factor, # moltiplicatore variabile\n",
    "                                    leg1_margins, # spread variabile\n",
    "                                    index,\n",
    "                                    leg2_margins) # tasso fisso\n",
    "    \n",
    "    return swap_obj\n",
    "\n",
    "def make_portfolio(trade_data):\n",
    "    portfolio = []\n",
    "    errors = []\n",
    "    for trade_json in trade_data:\n",
    "        try:\n",
    "            if trade_json['data']['productType'] == 'InterestRateSwapScript':\n",
    "                trade_json['trade_object'] = make_swap(trade_json)\n",
    "                portfolio.append(trade_json)\n",
    "        except:\n",
    "            errors.append(trade_json['ref'])\n",
    "    return portfolio, errors\n"
   ]
  },
  {
   "cell_type": "code",
   "execution_count": 4,
   "metadata": {},
   "outputs": [],
   "source": [
    "with open('../data/trades/TradesAggregated_2.json', 'r') as file:\n",
    "    trade_data = json.load(file)\n",
    "\n",
    "ptf, mapping_errors = make_portfolio(trade_data)\n",
    "\n",
    "#filtro per swap plain \n",
    "for trade_json in ptf:\n",
    "    if trade_json['ref'] == '0-17092454':\n",
    "        trade = trade_json\n",
    "        \n",
    "swap_obj = trade['trade_object']"
   ]
  },
  {
   "cell_type": "code",
   "execution_count": 5,
   "metadata": {},
   "outputs": [
    {
     "name": "stdout",
     "output_type": "stream",
     "text": [
      "NPV: -10,478,948\n",
      "NPV FixedLeg: -46,972,945\n",
      "NPV FloatingLeg: 36,493,997\n"
     ]
    }
   ],
   "source": [
    "npv = swap_obj.price(md.estr_curve, md.estr_curve, md.evaluation_date) \n",
    "npv_float = swap_obj.floating_leg.npv(md.estr_curve, md.estr_curve,  md.evaluation_date) \n",
    "npv_fixed = swap_obj.fixed_leg.npv(md.estr_curve, md.evaluation_date) \n",
    "\n",
    "print(f\"NPV: {npv :,.0f}\")\n",
    "print(f\"NPV FixedLeg: {npv_fixed :,.0f}\")\n",
    "print(f\"NPV FloatingLeg: {npv_float :,.0f}\")"
   ]
  },
  {
   "cell_type": "markdown",
   "metadata": {},
   "source": [
    "# test pricing1"
   ]
  },
  {
   "cell_type": "markdown",
   "metadata": {},
   "source": [
    "- singolo trade\n",
    "- molti scenari"
   ]
  },
  {
   "cell_type": "markdown",
   "metadata": {},
   "source": [
    "generazione scenari"
   ]
  },
  {
   "cell_type": "code",
   "execution_count": 6,
   "metadata": {},
   "outputs": [],
   "source": [
    "from models.hullwhitesimple import *\n",
    "from engines.gaussian1d import *\n",
    "t0_pillars = [0.25, 0.5, 1.0, 2.0, 5.0, 10.0, 20.0, 50.0]\n",
    "t0_rates = [0.05, 0.05, 0.05, 0.05, 0.05, 0.05, 0.05, 0.05]\n",
    "t0_rate_curve = RateCurveSimple(t0_pillars, t0_rates)\n",
    "\n",
    "# instance of the hull-white model\n",
    "mean_rev = 0.02\n",
    "sigma = 0.045\n",
    "hw = HullWhiteProcess(mean_rev, sigma, market_curve=t0_rate_curve)\n",
    "hw_kernel = GaussianRateKernel1D(hw)\n",
    "\n",
    "# simulate short rate and discount curve \n",
    "paths = int(1e6) \n",
    "r_tensor, zb_tensor, grid = hw_kernel.rate_tensor(paths,\n",
    "                                                  last_grid_time=1,\n",
    "                                                  time_steps=2) # evaluation_date + 1y\n",
    "\n",
    "# Reshape the tensor and create a discount curve object\n",
    "reshaped_tensor = tf.reshape(zb_tensor, shape=(8, paths, 1))\n",
    "rate_curve_tensor = DiscountCurveSimple(t0_pillars, reshaped_tensor)"
   ]
  },
  {
   "cell_type": "code",
   "execution_count": null,
   "metadata": {},
   "outputs": [],
   "source": []
  },
  {
   "cell_type": "code",
   "execution_count": 7,
   "metadata": {},
   "outputs": [],
   "source": [
    "prices = swap_obj.price(rate_curve_tensor, \n",
    "                        rate_curve_tensor,\n",
    "                        md.evaluation_date)"
   ]
  },
  {
   "cell_type": "code",
   "execution_count": 8,
   "metadata": {},
   "outputs": [
    {
     "data": {
      "image/png": "[encoded data removed]",
      "text/plain": [
       "<Figure size 640x480 with 1 Axes>"
      ]
     },
     "metadata": {},
     "output_type": "display_data"
    }
   ],
   "source": [
    "plt.plot(prices[:1000], \".\")\n",
    "plt.grid()\n",
    "plt.show()"
   ]
  },
  {
   "cell_type": "code",
   "execution_count": 9,
   "metadata": {},
   "outputs": [
    {
     "data": {
      "text/plain": [
       "<tf.Tensor: shape=(1000000, 1), dtype=float64, numpy=\n",
       "array([[ 16209413.94166907],\n",
       "       [-12699377.20344334],\n",
       "       [  3565753.08963486],\n",
       "       ...,\n",
       "       [ -3821739.58772577],\n",
       "       [  2592861.62098769],\n",
       "       [  2064472.11156296]])>"
      ]
     },
     "execution_count": 9,
     "metadata": {},
     "output_type": "execute_result"
    }
   ],
   "source": [
    "prices"
   ]
  },
  {
   "cell_type": "code",
   "execution_count": null,
   "metadata": {},
   "outputs": [],
   "source": []
  }
 ],
 "metadata": {
  "kernelspec": {
   "display_name": "Python 3",
   "language": "python",
   "name": "python3"
  },
  "language_info": {
   "codemirror_mode": {
    "name": "ipython",
    "version": 3
   },
   "file_extension": ".py",
   "mimetype": "text/x-python",
   "name": "python",
   "nbconvert_exporter": "python",
   "pygments_lexer": "ipython3",
   "version": "3.10.7"
  }
 },
 "nbformat": 4,
 "nbformat_minor": 2
}
