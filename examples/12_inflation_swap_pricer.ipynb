{
 "cells": [
  {
   "cell_type": "code",
   "execution_count": 1,
   "metadata": {},
   "outputs": [
    {
     "name": "stdout",
     "output_type": "stream",
     "text": [
      "WARNING:tensorflow:From c:\\Users\\lm.329\\AppData\\Local\\anaconda3\\Lib\\site-packages\\keras\\src\\losses.py:2976: The name tf.losses.sparse_softmax_cross_entropy is deprecated. Please use tf.compat.v1.losses.sparse_softmax_cross_entropy instead.\n",
      "\n",
      "WARNING:tensorflow:From c:\\Users\\lm.329\\AppData\\Local\\anaconda3\\Lib\\site-packages\\tensorflow_probability\\python\\internal\\backend\\numpy\\_utils.py:48: The name tf.logging.TaskLevelStatusMessage is deprecated. Please use tf.compat.v1.logging.TaskLevelStatusMessage instead.\n",
      "\n",
      "WARNING:tensorflow:From c:\\Users\\lm.329\\AppData\\Local\\anaconda3\\Lib\\site-packages\\tensorflow_probability\\python\\internal\\backend\\numpy\\_utils.py:48: The name tf.control_flow_v2_enabled is deprecated. Please use tf.compat.v1.control_flow_v2_enabled instead.\n",
      "\n"
     ]
    }
   ],
   "source": [
    "import sys\n",
    "sys.path.append('../')\n",
    "\n",
    "import tquant as tq\n",
    "from engine.globalconfig import GlobalConfig\n",
    "from engine.loader.curveload import MarketDataLoader\n",
    "from engine.loader.inflationindexload import Inflation_Index\n",
    "\n",
    "from datetime import date, timedelta\n",
    "import tensorflow as tf\n",
    "import pandas as pd\n",
    "\n",
    "import QuantLib as ql"
   ]
  },
  {
   "cell_type": "markdown",
   "metadata": {},
   "source": [
    "# Settings"
   ]
  },
  {
   "cell_type": "code",
   "execution_count": 2,
   "metadata": {},
   "outputs": [
    {
     "data": {
      "text/plain": [
       "datetime.date(2023, 9, 29)"
      ]
     },
     "execution_count": 2,
     "metadata": {},
     "output_type": "execute_result"
    }
   ],
   "source": [
    "config = GlobalConfig.from_json()\n",
    "mdl = MarketDataLoader(config)\n",
    "tq.Settings.evaluation_date"
   ]
  },
  {
   "cell_type": "code",
   "execution_count": 3,
   "metadata": {},
   "outputs": [],
   "source": [
    "calendar = tq.TARGET()\n",
    "daycounter = tq.DayCounter(tq.DayCounterConvention.Actual360)\n",
    "evaluation_date = tq.Settings.evaluation_date"
   ]
  },
  {
   "cell_type": "markdown",
   "metadata": {},
   "source": [
    "# Market"
   ]
  },
  {
   "cell_type": "code",
   "execution_count": 4,
   "metadata": {},
   "outputs": [],
   "source": [
    "rates = mdl.ir_eur_curve_estr['quote'].values\n",
    "times = mdl.ir_eur_curve_estr['daycount'].values/365\n",
    "\n",
    "rates_infl = [0.1,0.2,0.2,0.22,0.24,0.23,0.25,0.26,0.28,0.3,0.24,0.15,0.12,0.10,0.11,0.09,0.05,0.4,0.004,0.1]\n",
    "times_infl = [0,1,10,100,180,250,350,365,380,450,540,600,700,850,950,1000,1100,1200,1400,2000]"
   ]
  },
  {
   "cell_type": "code",
   "execution_count": 5,
   "metadata": {},
   "outputs": [],
   "source": [
    "estr_curve = tq.RateCurve(times, rates)\n",
    "infl_curve = tq.InflationCurveSimple(times_infl,rates_infl)"
   ]
  },
  {
   "cell_type": "markdown",
   "metadata": {},
   "source": [
    "# Market Quantlib"
   ]
  },
  {
   "cell_type": "code",
   "execution_count": 6,
   "metadata": {},
   "outputs": [],
   "source": [
    "today = ql.Date(29,9,2023)\n",
    "ql.Settings.instance().evaluationDate = today\n",
    "\n",
    "ql_times = [today + int(day*365) for day in times]\n",
    "\n",
    "ql_times_infl = [today + int(day) for day in times_infl]"
   ]
  },
  {
   "cell_type": "code",
   "execution_count": 7,
   "metadata": {},
   "outputs": [],
   "source": [
    "ql_estr_curve = ql.ZeroCurve(ql_times,rates,ql.Actual360())\n",
    "ql_estr_handle = ql.RelinkableYieldTermStructureHandle()\n",
    "ql_estr_handle.linkTo(ql_estr_curve)\n",
    "\n",
    "\n",
    "observationLag = ql.Period(\"0M\")\n",
    "ql_infl_curve = ql.ZeroInflationCurve(ql.Date(1,9,2023), ql.TARGET(), ql.Actual360(),observationLag,ql.Monthly,ql_times_infl,rates_infl)\n",
    "ql_infl_handle = ql.RelinkableZeroInflationTermStructureHandle()\n",
    "ql_infl_handle.linkTo(ql_infl_curve)"
   ]
  },
  {
   "cell_type": "markdown",
   "metadata": {},
   "source": [
    "# Inflation Coupon Quantlib"
   ]
  },
  {
   "cell_type": "code",
   "execution_count": 8,
   "metadata": {},
   "outputs": [
    {
     "name": "stdout",
     "output_type": "stream",
     "text": [
      "QuantLib ZeroCoupon NPV: 108330.07593669387\n"
     ]
    }
   ],
   "source": [
    "# Indici di inflazione molto complessi. Bisogna capire bene come fanno - C'era l'indice EUHCPI per cui non funzionava questo stesso codice\n",
    "# Discutere che l'indice può essere fisso alla prima data del mese\n",
    "swapType = ql.ZeroCouponInflationSwap.Payer\n",
    "calendar = ql.TARGET()\n",
    "nominal = 1e6\n",
    "startDate = ql.Date(1,11,2025)\n",
    "endDate = ql.Date(1,11,2026)\n",
    "fixedRate = 0.1\n",
    "dc = ql.Actual365Fixed()\n",
    "\n",
    "inflationIndex = ql.UKRPI(False,ql_infl_handle)\n",
    "inflationIndex.addFixing(ql.Date(29,9,2023), 0.1, True)\n",
    "\n",
    "contractObservationLag = ql.Period(3, ql.Months)\n",
    "bdc = ql.ModifiedFollowing\n",
    "swap = ql.ZeroCouponInflationSwap(swapType, nominal, startDate, endDate, calendar, bdc, dc, fixedRate, inflationIndex, contractObservationLag, ql.CPI.Linear)\n",
    "\n",
    "swapEngine = ql.DiscountingSwapEngine(ql_estr_handle)\n",
    "swap.setPricingEngine(swapEngine)\n",
    "npv = swap.NPV()\n",
    "print(\"QuantLib ZeroCoupon NPV:\", npv)"
   ]
  },
  {
   "cell_type": "markdown",
   "metadata": {},
   "source": [
    "# Inflation Coupon TQuant"
   ]
  },
  {
   "cell_type": "code",
   "execution_count": 9,
   "metadata": {},
   "outputs": [
    {
     "name": "stdout",
     "output_type": "stream",
     "text": [
      "TQuant Zero Coupon NPV: 108226.3266877565\n"
     ]
    }
   ],
   "source": [
    "swapType = tq.SwapType.Payer\n",
    "calendar = tq.TARGET()\n",
    "nominal = 1e6\n",
    "startDate = tq.date(2025,11,1)\n",
    "endDate = tq.date(2026,11,1)\n",
    "fixedRate = 0.1\n",
    "dc = tq.DayCounter(tq.DayCounterConvention.Actual365)\n",
    "payment_lag = 3\n",
    "payment_lag_period = tq.TimeUnit.Months\n",
    "\n",
    "inflationIndex = Inflation_Index.euhicp\n",
    "inflationIndex.add_fixing(tq.date(2023,9,29), 0.1)\n",
    "\n",
    "contractObservationLag = 3\n",
    "contractObservationLagTenor = tq.TimeUnit.Months\n",
    "\n",
    "bdc = tq.BusinessDayConvention.ModifiedFollowing\n",
    "coupon = tq.ZeroInflationCoupon(endDate, nominal, startDate, endDate, inflationIndex, fixedRate, swapType, startDate, endDate, dc, payment_lag, payment_lag_period)\n",
    "\n",
    "coupon_engine = tq.ZeroInflationCouponDiscounting(coupon, False)\n",
    "npv_coupon = coupon_engine.price(estr_curve, infl_curve, evaluation_date)\n",
    "\n",
    "print(\"TQuant Zero Coupon NPV:\", npv_coupon.numpy())"
   ]
  },
  {
   "cell_type": "markdown",
   "metadata": {},
   "source": [
    "# YoY Inflation Swap Quantlib"
   ]
  },
  {
   "cell_type": "code",
   "execution_count": 10,
   "metadata": {},
   "outputs": [
    {
     "name": "stdout",
     "output_type": "stream",
     "text": [
      "Quantlib YoYinflationSwap NPV: -11011.224008716905\n"
     ]
    }
   ],
   "source": [
    "observationLag = ql.Period(\"0M\")\n",
    "ql_infl_curve = ql.YoYInflationCurve(ql.Date(1,9,2023), ql.TARGET(), ql.Actual360(),observationLag,ql.Monthly,True,ql_times_infl,rates_infl)\n",
    "ql_infl_curve.enableExtrapolation()\n",
    "ql_infl_handle = ql.RelinkableYoYInflationTermStructureHandle()\n",
    "ql_infl_handle.linkTo(ql_infl_curve)\n",
    "\n",
    "swapType = ql.YearOnYearInflationSwap.Payer\n",
    "nominal = 1e6\n",
    "startDate = ql.Date(1,11,2025)\n",
    "endDate = ql.Date(1,11,2026)\n",
    "\n",
    "fixedSchedule = ql.MakeSchedule(startDate, endDate, ql.Period('6m'))\n",
    "fixedRate = 0.1\n",
    "fixedDayCounter = ql.Actual365Fixed()\n",
    "yoySchedule = ql.MakeSchedule(startDate, endDate, ql.Period('6m'))\n",
    "index = ql.YYEUHICP(False,ql_infl_handle)\n",
    "lag = ql.Period('3m')\n",
    "spread = 0.0\n",
    "yoyDayCounter = ql.Actual365Fixed()\n",
    "paymentCalendar = ql.TARGET()\n",
    "\n",
    "swap = ql.YearOnYearInflationSwap(swapType, \n",
    "                                  nominal, \n",
    "                                  fixedSchedule, \n",
    "                                  fixedRate, \n",
    "                                  fixedDayCounter, \n",
    "                                  yoySchedule, \n",
    "                                  index, \n",
    "                                  lag, \n",
    "                                  spread, \n",
    "                                  yoyDayCounter, \n",
    "                                  paymentCalendar)\n",
    "\n",
    "swapEngine = ql.DiscountingSwapEngine(ql_estr_handle)\n",
    "swap.setPricingEngine(swapEngine)\n",
    "npv = swap.NPV()\n",
    "print(\"Quantlib YoYinflationSwap NPV:\", npv)\n",
    "#print(swap.fixedLegNPV())\n",
    "#print(swap.yoyLegNPV())"
   ]
  },
  {
   "cell_type": "markdown",
   "metadata": {},
   "source": [
    "# YoY Inflation Swap TQuant"
   ]
  },
  {
   "cell_type": "code",
   "execution_count": 11,
   "metadata": {},
   "outputs": [
    {
     "name": "stdout",
     "output_type": "stream",
     "text": [
      "TQuant YoYinflation Swap NPV: -10948.52255107733\n"
     ]
    }
   ],
   "source": [
    "infl_curve = tq.YoYInflationCurveSimple(times_infl,rates_infl)\n",
    "\n",
    "swapType = tq.SwapType.Payer\n",
    "startDate = tq.date(2025,11,1)\n",
    "endDate = tq.date(2026,11,1)\n",
    "\n",
    "fixed_schedule = [startDate]\n",
    "fixed_schedule.extend([startDate + timedelta(365 *.5 *i) for i in range(1,3)])\n",
    "fixedDayCounter = tq.DayCounter(tq.DayCounterConvention.Actual365)\n",
    "\n",
    "nominal = [1e6]*len(fixed_schedule)\n",
    "fixedRate = [0.1]*len(fixed_schedule)\n",
    "\n",
    "yoySchedule = fixed_schedule\n",
    "inflationIndex = Inflation_Index.euhicp\n",
    "inflationIndex.add_fixing(tq.date(2023,9,29), 0.1)\n",
    "contractObservationLag = 3\n",
    "contractObservationLagTenor = tq.TimeUnit.Months\n",
    "spread = 0.0\n",
    "yoyDayCounter = tq.DayCounter(tq.DayCounterConvention.Actual365)\n",
    "\n",
    "paymentCalendar = tq.TARGET()\n",
    "\n",
    "leg1 = tq.FixedRateLeg(fixed_schedule,nominal,fixedRate, fixedDayCounter)\n",
    "\n",
    "leg2 = tq.InflationLeg(yoySchedule,nominal,inflationIndex,yoyDayCounter, spread = spread, observation_lag=contractObservationLag, observation_lag_period=contractObservationLagTenor)\n",
    "\n",
    "swap = tq.InflationSwap.from_legs(swapType,leg1,leg2)\n",
    "\n",
    "swap_engine = tq.InflationSwapAnalyticEngine(swap)\n",
    "npv_swap = swap_engine.price(estr_curve, infl_curve, evaluation_date)\n",
    "\n",
    "print(\"TQuant YoYinflation Swap NPV:\",npv_swap.numpy())"
   ]
  },
  {
   "cell_type": "code",
   "execution_count": 12,
   "metadata": {},
   "outputs": [
    {
     "name": "stdout",
     "output_type": "stream",
     "text": [
      "[datetime.date(2025, 11, 1), datetime.date(2026, 5, 2), datetime.date(2026, 11, 1)]\n",
      "November 1st, 2025\n",
      "May 1st, 2026\n",
      "November 1st, 2026\n",
      "tf.Tensor(0.9152458412443154, shape=(), dtype=float64)\n",
      "0.9142942981177891\n"
     ]
    }
   ],
   "source": [
    "# Per ora l'errore deriva dal discount. Controllare dopo l'inserimento delle curve\n",
    "print(fixed_schedule)\n",
    "for date in fixedSchedule:\n",
    "    print(date)\n",
    "print(estr_curve.discount(2.591780821917808))\n",
    "print(ql_estr_curve.discount(ql.Date(2,5,2026)))"
   ]
  }
 ],
 "metadata": {
  "kernelspec": {
   "display_name": "base",
   "language": "python",
   "name": "python3"
  },
  "language_info": {
   "codemirror_mode": {
    "name": "ipython",
    "version": 3
   },
   "file_extension": ".py",
   "mimetype": "text/x-python",
   "name": "python",
   "nbconvert_exporter": "python",
   "pygments_lexer": "ipython3",
   "version": "3.11.5"
  }
 },
 "nbformat": 4,
 "nbformat_minor": 2
}
