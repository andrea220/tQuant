{
 "cells": [
  {
   "cell_type": "code",
   "execution_count": 1,
   "metadata": {},
   "outputs": [],
   "source": [
    "import sys\n",
    "sys.path.append('../')\n",
    "\n",
    "import tquant as tq\n",
    "from datetime import date\n",
    "\n",
    "from datastore import *\n",
    "import matplotlib.pyplot as plt\n",
    "import QuantLib as ql\n",
    "\n",
    "def get_ql_curve(curve_tq, evaluation_date):\n",
    "    evaluation_date_ql = ql.Date.from_date(evaluation_date)\n",
    "    dates_ql = [evaluation_date_ql + d for d in curve_tq._pillar_days]\n",
    "    rates_ql = [r.numpy() for r in curve_tq._rates]\n",
    "    curve_ql = ql.ZeroCurve(dates_ql, rates_ql, ql.ActualActual(ql.ActualActual.ISDA), ql.TARGET())\n",
    "    curve_ql.enableExtrapolation()\n",
    "    return curve_ql\n"
   ]
  },
  {
   "cell_type": "markdown",
   "metadata": {},
   "source": [
    "# Settings"
   ]
  },
  {
   "cell_type": "code",
   "execution_count": 2,
   "metadata": {},
   "outputs": [],
   "source": [
    "tq.Settings.evaluation_date = date(2024, 4, 30)\n",
    "\n",
    "calendar = tq.TARGET()\n",
    "daycounter = tq.DayCounter(tq.DayCounterConvention.Actual360)\n",
    "evaluation_date = tq.Settings.evaluation_date"
   ]
  },
  {
   "cell_type": "markdown",
   "metadata": {},
   "source": [
    "# Market"
   ]
  },
  {
   "cell_type": "code",
   "execution_count": 3,
   "metadata": {},
   "outputs": [],
   "source": [
    "rates = ir_eur_curve_estr['quote'].values\n",
    "times = ir_eur_curve_estr['daycount'].values/365\n",
    "\n",
    "rates_6m = rates #ir_eur_curve_6m['quote'].values\n",
    "times_6m = times #ir_eur_curve_6m['daycount'].values/365 # sono sbagliati questi\n",
    "\n",
    "market_data = {}\n",
    "market_data[\"EUR:ESTR\"] = tq.RateCurve(evaluation_date, times, rates, 'LINEAR')\n",
    "market_data[\"EUR:6M\"] = tq.RateCurve(evaluation_date, times, rates, 'LINEAR')\n",
    "\n",
    "eur6m_index = tq.IborIndex(calendar, 6, tq.TimeUnit.Months, tq.Currency.EUR)"
   ]
  },
  {
   "cell_type": "code",
   "execution_count": 4,
   "metadata": {},
   "outputs": [
    {
     "data": {
      "text/plain": [
       "{'EUR': {'ON': 'EUR:ESTR', '3M': 'EUR:3M', '6M': 'EUR:6M'},\n",
       " 'USD': {'ON': 'USD:SOFR', '3M': 'USD:3M', '6M': 'USD:6M'}}"
      ]
     },
     "execution_count": 4,
     "metadata": {},
     "output_type": "execute_result"
    }
   ],
   "source": [
    "curve_map"
   ]
  },
  {
   "cell_type": "markdown",
   "metadata": {},
   "source": [
    "# Deposit"
   ]
  },
  {
   "cell_type": "code",
   "execution_count": 5,
   "metadata": {},
   "outputs": [
    {
     "data": {
      "text/html": [
       "<div>\n",
       "<style scoped>\n",
       "    .dataframe tbody tr th:only-of-type {\n",
       "        vertical-align: middle;\n",
       "    }\n",
       "\n",
       "    .dataframe tbody tr th {\n",
       "        vertical-align: top;\n",
       "    }\n",
       "\n",
       "    .dataframe thead th {\n",
       "        text-align: right;\n",
       "    }\n",
       "</style>\n",
       "<table border=\"1\" class=\"dataframe\">\n",
       "  <thead>\n",
       "    <tr style=\"text-align: right;\">\n",
       "      <th></th>\n",
       "      <th>sensy</th>\n",
       "    </tr>\n",
       "    <tr>\n",
       "      <th>time</th>\n",
       "      <th></th>\n",
       "    </tr>\n",
       "  </thead>\n",
       "  <tbody>\n",
       "    <tr>\n",
       "      <th>0.008219</th>\n",
       "      <td>-0.821654</td>\n",
       "    </tr>\n",
       "    <tr>\n",
       "      <th>0.016438</th>\n",
       "      <td>1.643191</td>\n",
       "    </tr>\n",
       "  </tbody>\n",
       "</table>\n",
       "</div>"
      ],
      "text/plain": [
       "             sensy\n",
       "time              \n",
       "0.008219 -0.821654\n",
       "0.016438  1.643191"
      ]
     },
     "execution_count": 5,
     "metadata": {},
     "output_type": "execute_result"
    }
   ],
   "source": [
    "spot_date = calendar.advance(evaluation_date, 2, tq.TimeUnit.Days, tq.DayCounterConvention.Actual360)\n",
    "maturity = calendar.advance(spot_date, 1, tq.TimeUnit.Days, tq.DayCounterConvention.Actual360)\n",
    "quote = 0.03\n",
    "\n",
    "deposit = tq.Deposit(ccy=tq.Currency.EUR,\n",
    "                    quote=quote,\n",
    "                    trade_date=evaluation_date,\n",
    "                    start_date=spot_date,\n",
    "                    end_date=maturity,\n",
    "                    notional=100,\n",
    "                    day_count_convention=tq.DayCounterConvention.Actual360)\n",
    "depo_engine = tq.DepositPricer(curve_map)\n",
    "npv_depo, tape = depo_engine.price(deposit, evaluation_date, market_data, True)\n",
    "sensy_depo = tape.gradient(npv_depo, market_data[\"EUR:ESTR\"]._rates)\n",
    "\n",
    "# results\n",
    "sensy_depo = pd.DataFrame([market_data[\"EUR:ESTR\"]._pillars, sensy_depo]).T\n",
    "sensy_depo.columns = ['time', 'sensy']\n",
    "sensy_depo.fillna(0, inplace = True)\n",
    "sensy_depo.set_index('time', inplace = True)\n",
    "sensy_depo['sensy'] = sensy_depo['sensy'].apply(tq.extract_value)\n",
    "sensy_depo[sensy_depo['sensy'] != 0]\n"
   ]
  },
  {
   "cell_type": "markdown",
   "metadata": {},
   "source": [
    "# Forward Rate Agreement"
   ]
  },
  {
   "cell_type": "code",
   "execution_count": 6,
   "metadata": {},
   "outputs": [],
   "source": [
    "notional=100e6\n",
    "fixed_rate = 0.03\n",
    "\n",
    "eur_fra_builder = tq.FraGenerator(ccy=tq.Currency.EUR,\n",
    "                                  start_delay=2,\n",
    "                                  fixing_days=2,\n",
    "                                  index_term=\"6M\",\n",
    "                                  roll_convention= tq.BusinessDayConvention.ModifiedFollowing,\n",
    "                                  notional=notional,\n",
    "                                  day_count_convention=tq.DayCounterConvention.Actual360,\n",
    "                                  calendar=calendar,\n",
    "                                  index=eur6m_index)  \n",
    "fra = eur_fra_builder.build(trade_date=evaluation_date, quote=fixed_rate, term=\"3M-9M\")"
   ]
  },
  {
   "cell_type": "code",
   "execution_count": 7,
   "metadata": {},
   "outputs": [
    {
     "name": "stdout",
     "output_type": "stream",
     "text": [
      "NPV FRA: 242,731\n"
     ]
    }
   ],
   "source": [
    "fra_engine = tq.FraPricer(curve_map)\n",
    "npv_fra, tape = fra_engine.price(fra, evaluation_date, market_data, True)\n",
    "print(f\"NPV FRA: {npv_fra :,.0f}\")"
   ]
  },
  {
   "cell_type": "markdown",
   "metadata": {},
   "source": [
    "## Debug vs quantlib"
   ]
  },
  {
   "cell_type": "code",
   "execution_count": 8,
   "metadata": {},
   "outputs": [
    {
     "name": "stdout",
     "output_type": "stream",
     "text": [
      "NPV FRA TQ: 242,731\n",
      "NPV FRA QL: 219,763\n"
     ]
    }
   ],
   "source": [
    "ql.Settings.instance().evaluationDate = ql.Date.from_date(evaluation_date)\n",
    "estr_ql = get_ql_curve(market_data['EUR:ESTR'], evaluation_date)\n",
    "eur6m_ql = get_ql_curve(market_data['EUR:6M'], evaluation_date)\n",
    "handleYieldTermStructure_estr = ql.YieldTermStructureHandle(eur6m_ql)\n",
    "handleYieldTermStructure = ql.YieldTermStructureHandle(eur6m_ql)\n",
    "index_ql = ql.Euribor6M(handleYieldTermStructure)\n",
    "calendar_ql = ql.TARGET()\n",
    "\n",
    "start_date_ql = ql.Date.from_date(fra.start_date) \n",
    "end_date_ql = ql.Date.from_date(fra.maturity)\n",
    "\n",
    "fra_ql = ql.ForwardRateAgreement(start_date_ql, end_date_ql, ql.Position.Long, fixed_rate, notional, index_ql, handleYieldTermStructure_estr)\n",
    "\n",
    "print(f\"NPV FRA TQ: {npv_fra :,.0f}\")\n",
    "print(f\"NPV FRA QL: {fra_ql.NPV() :,.0f}\")\n",
    "\n",
    "# cambia il forward leggermente rispetto a ql, da utilizzare il daycounter act/360 dell'indice eur6m"
   ]
  },
  {
   "cell_type": "code",
   "execution_count": 9,
   "metadata": {},
   "outputs": [],
   "source": [
    "tau = fra.day_counter.year_fraction(fra.start_date, fra.end_date) #da vedere funzione QL originale\n",
    "fwd = handleYieldTermStructure_estr.forwardRate(start_date_ql, end_date_ql, ql.Actual360(), ql.Simple).rate()\n",
    "# fwd = fra_ql.forwardRate().rate()\n",
    "# fwd = market_data['EUR:6M'].forward_rate(fra.start_date, fra.end_date).numpy()\n",
    "\n",
    "amount_ql = ((fwd - fixed_rate) * notional * tau ) / (1 + fwd*tau) #*discount\n",
    "#fra_ql.amount()"
   ]
  },
  {
   "cell_type": "code",
   "execution_count": 10,
   "metadata": {},
   "outputs": [
    {
     "data": {
      "text/plain": [
       "221929.2452959474"
      ]
     },
     "execution_count": 10,
     "metadata": {},
     "output_type": "execute_result"
    }
   ],
   "source": [
    "fra_ql.amount()"
   ]
  },
  {
   "cell_type": "markdown",
   "metadata": {},
   "source": [
    "# OIS"
   ]
  },
  {
   "cell_type": "markdown",
   "metadata": {},
   "source": [
    "## tQuant"
   ]
  },
  {
   "cell_type": "code",
   "execution_count": 11,
   "metadata": {},
   "outputs": [],
   "source": [
    "estr_index = tq.OvernightIndex(calendar, tq.Currency.EUR)\n",
    "\n",
    "eur_ois_builder = tq.OisGenerator(\n",
    "                        ccy=tq.Currency.EUR,\n",
    "                        start_delay=2,\n",
    "                        fixing_days=2,\n",
    "                        period_fix=\"1Y\",\n",
    "                        period_flt=\"1Y\",\n",
    "                        roll_convention= tq.BusinessDayConvention.ModifiedFollowing,\n",
    "                        notional=100e6,\n",
    "                        day_count_convention_fix= tq.DayCounterConvention.Actual360,\n",
    "                        day_count_convention_flt= tq.DayCounterConvention.Actual360,\n",
    "                        calendar=calendar,\n",
    "                        index= estr_index)\n",
    "\n",
    "fixed_rate = 0.01\n",
    "ois = eur_ois_builder.build(trade_date=evaluation_date, quote=fixed_rate, term=\"5Y\")"
   ]
  },
  {
   "cell_type": "code",
   "execution_count": 12,
   "metadata": {},
   "outputs": [
    {
     "name": "stdout",
     "output_type": "stream",
     "text": [
      "NPV FixedLeg: 4,642,203\n",
      "NPV FloatingLeg: 13,063,111\n",
      "NPV OIS: 8,420,908\n"
     ]
    }
   ],
   "source": [
    "ois_engine = tq.OisPricer(curve_map)\n",
    "npv_ois, tape = ois_engine.price(ois, evaluation_date, market_data, True)\n",
    "sensitivities = tape.gradient(npv_ois, [market_data['EUR:ESTR']._rates, market_data['EUR:6M']._rates])\n",
    "\n",
    "print(f\"NPV FixedLeg: {ois_engine.pv_fix :,.0f}\")\n",
    "print(f\"NPV FloatingLeg: {ois_engine.pv_flt :,.0f}\")\n",
    "########\n",
    "print(f\"NPV OIS: {npv_ois :,.0f}\")"
   ]
  },
  {
   "cell_type": "markdown",
   "metadata": {},
   "source": [
    "## Debug vs QuantLib"
   ]
  },
  {
   "cell_type": "code",
   "execution_count": 13,
   "metadata": {},
   "outputs": [
    {
     "name": "stdout",
     "output_type": "stream",
     "text": [
      "NPV QL Swap: 8,244,886\n",
      "NPV TQ Swap: 8,420,908\n"
     ]
    }
   ],
   "source": [
    "ql.Settings.instance().evaluationDate = ql.Date.from_date(evaluation_date)\n",
    "estr_ql = get_ql_curve(market_data['EUR:ESTR'], evaluation_date)\n",
    "handleYieldTermStructure = ql.YieldTermStructureHandle(estr_ql)\n",
    "\n",
    "swapType = ql.OvernightIndexedSwap.Payer\n",
    "nominal = 100e6\n",
    "schedule = ql.MakeSchedule(ql.Date.from_date(ois.start_date), ql.Date.from_date(ois.maturity), ql.Period('1Y'), calendar=ql.TARGET())\n",
    "fixedRate = 0.01\n",
    "fixedDC = ql.Actual360()\n",
    "overnightIndex = ql.Estr(handleYieldTermStructure)\n",
    "ois_swap = ql.OvernightIndexedSwap(swapType, nominal, schedule, fixedRate, fixedDC, overnightIndex)\n",
    "\n",
    "engine = ql.DiscountingSwapEngine(handleYieldTermStructure)\n",
    "ois_swap.setPricingEngine(engine)\n",
    "print(f\"NPV QL Swap: {ois_swap.NPV() :,.0f}\")\n",
    "print(f\"NPV TQ Swap: {npv_ois :,.0f}\")"
   ]
  },
  {
   "cell_type": "markdown",
   "metadata": {},
   "source": [
    "# Vanilla Swap"
   ]
  },
  {
   "cell_type": "markdown",
   "metadata": {},
   "source": [
    "## tQuant"
   ]
  },
  {
   "cell_type": "code",
   "execution_count": 14,
   "metadata": {},
   "outputs": [],
   "source": [
    "currency = tq.Currency.EUR\n",
    "mod_fol_convention = tq.BusinessDayConvention.ModifiedFollowing\n",
    "daycount_fix = tq.DayCounterConvention.Actual360\n",
    "daycount_flt = tq.DayCounterConvention.Actual360\n",
    "\n",
    "settlement_delay = 2 \n",
    "period_fixed_leg = \"1Y\"\n",
    "period_float_leg = \"6M\"\n",
    "\n",
    "irs_eur6m_generator = tq.SwapGenerator(currency, settlement_delay, period_fixed_leg, period_float_leg, mod_fol_convention, 100e6, daycount_fix, daycount_flt, calendar, eur6m_index)\n",
    "fixed_rate = 0.01\n",
    "swap = irs_eur6m_generator.build(trade_date=evaluation_date, quote=0.01, term=\"10Y\")"
   ]
  },
  {
   "cell_type": "code",
   "execution_count": 16,
   "metadata": {},
   "outputs": [
    {
     "name": "stdout",
     "output_type": "stream",
     "text": [
      "NPV FixedLeg: 8,716,366\n",
      "NPV FloatingLeg: 24,037,159\n",
      "NPV Swap: 15,320,792\n"
     ]
    }
   ],
   "source": [
    "swap_engine = tq.SwapPricer(curve_map)\n",
    "npv_swap, tape = swap_engine.price(swap, evaluation_date, market_data, True)\n",
    "sensitivities = tape.gradient(npv_swap, [market_data['EUR:ESTR']._rates, market_data['EUR:6M']._rates])\n",
    "\n",
    "print(f\"NPV FixedLeg: {swap_engine.pv_fix :,.0f}\")\n",
    "print(f\"NPV FloatingLeg: {swap_engine.pv_flt :,.0f}\")\n",
    "########\n",
    "print(f\"NPV Swap: {npv_swap :,.0f}\")"
   ]
  },
  {
   "cell_type": "code",
   "execution_count": 17,
   "metadata": {},
   "outputs": [
    {
     "data": {
      "image/png": "[encoded data removed]",
      "text/plain": [
       "<Figure size 640x480 with 1 Axes>"
      ]
     },
     "metadata": {},
     "output_type": "display_data"
    }
   ],
   "source": [
    "sensy_estr = pd.DataFrame([market_data['EUR:ESTR']._pillars.tolist(), sensitivities[0]]).T\n",
    "sensy_estr.columns = ['time', 'sensy_estr']\n",
    "sensy_estr.fillna(0, inplace = True)\n",
    "sensy_estr.set_index('time', inplace = True)\n",
    "sensy_estr['sensy_estr'] = sensy_estr['sensy_estr'].apply(tq.extract_value)\n",
    "\n",
    "sensy_eur6m = pd.DataFrame([market_data['EUR:6M']._pillars.tolist(), sensitivities[1]]).T\n",
    "sensy_eur6m.columns = ['time', 'sensy_eur6m']\n",
    "sensy_eur6m.fillna(0, inplace = True)\n",
    "sensy_eur6m.set_index('time', inplace = True)\n",
    "sensy_eur6m['sensy_eur6m'] = sensy_eur6m['sensy_eur6m'].apply(tq.extract_value)\n",
    "\n",
    "plt.bar(sensy_estr.index, sensy_estr['sensy_estr'])\n",
    "plt.xlabel('Index')\n",
    "plt.ylabel('Value')\n",
    "plt.title('ESTR sensy')\n",
    "plt.show()"
   ]
  },
  {
   "cell_type": "markdown",
   "metadata": {},
   "source": [
    "## Debug vs QuantLib"
   ]
  },
  {
   "cell_type": "code",
   "execution_count": 18,
   "metadata": {},
   "outputs": [],
   "source": [
    "\n",
    "def makeVanillaSwap(start, maturity, nominal, fixedRate, index, typ=ql.VanillaSwap.Payer):\n",
    "    end = maturity# ql.TARGET().advance(start, maturity)\n",
    "    fixedLegTenor = ql.Period(\"12M\")\n",
    "    fixedLegBDC = ql.ModifiedFollowing\n",
    "    fixedLegDC = ql.Thirty360(ql.Thirty360.BondBasis)\n",
    "    spread = 0.0\n",
    "    fixedSchedule = ql.Schedule(start,\n",
    "                                end, \n",
    "                                fixedLegTenor, \n",
    "                                index.fixingCalendar(), \n",
    "                                fixedLegBDC,\n",
    "                                fixedLegBDC, \n",
    "                                ql.DateGeneration.Backward,\n",
    "                                False)\n",
    "    floatSchedule = ql.Schedule(start,\n",
    "                                end,\n",
    "                                index.tenor(),\n",
    "                                index.fixingCalendar(),\n",
    "                                index.businessDayConvention(),\n",
    "                                index.businessDayConvention(),\n",
    "                                ql.DateGeneration.Backward,\n",
    "                                False)\n",
    "    swap = ql.VanillaSwap(typ, \n",
    "                          nominal,\n",
    "                          fixedSchedule,\n",
    "                          fixedRate,\n",
    "                          fixedLegDC,\n",
    "                          floatSchedule,\n",
    "                          index,\n",
    "                          spread,\n",
    "                          index.dayCounter())\n",
    "    return swap"
   ]
  },
  {
   "cell_type": "code",
   "execution_count": 19,
   "metadata": {},
   "outputs": [],
   "source": [
    "ql.Settings.instance().evaluationDate = ql.Date.from_date(evaluation_date)\n",
    "estr_ql = get_ql_curve(market_data['EUR:ESTR'], evaluation_date)\n",
    "eur6m_ql = get_ql_curve(market_data['EUR:6M'], evaluation_date)\n",
    "handleYieldTermStructure = ql.YieldTermStructureHandle(eur6m_ql)\n",
    "index_ql = ql.Euribor6M(handleYieldTermStructure)\n",
    "calendar_ql = ql.TARGET()"
   ]
  },
  {
   "cell_type": "code",
   "execution_count": 20,
   "metadata": {},
   "outputs": [
    {
     "name": "stdout",
     "output_type": "stream",
     "text": [
      "NPV QL Swap: 15,110,528\n",
      "NPV TQ Swap: 15,320,792\n",
      "********************\n",
      "NPV QL FixedLeg: -8,603,777\n",
      "NPV TQ FixedLeg: 8,716,366\n",
      "NPV QL FloatingLeg: 23,714,305\n",
      "NPV TQ FloatingLeg: 24,037,159\n"
     ]
    }
   ],
   "source": [
    "start_date_ql = ql.Date.from_date(swap.start_date) +2\n",
    "end_date_ql = ql.Date.from_date(swap.maturity)\n",
    "engine = ql.DiscountingSwapEngine(handleYieldTermStructure)\n",
    "\n",
    "swap_ql2 = makeVanillaSwap(start_date_ql, end_date_ql, swap.notional, swap.quote, index_ql )\n",
    "swap_ql2.setPricingEngine(engine)\n",
    "print(f\"NPV QL Swap: {swap_ql2.NPV() :,.0f}\")\n",
    "print(f\"NPV TQ Swap: {npv_swap :,.0f}\")\n",
    "print(20*\"*\")\n",
    "print(f\"NPV QL FixedLeg: {swap_ql2.fixedLegNPV() :,.0f}\")\n",
    "print(f\"NPV TQ FixedLeg: {swap_engine.pv_fix :,.0f}\")\n",
    "print(f\"NPV QL FloatingLeg: {swap_ql2.floatingLegNPV() :,.0f}\")\n",
    "print(f\"NPV TQ FloatingLeg: {swap_engine.pv_flt :,.0f}\")"
   ]
  },
  {
   "cell_type": "code",
   "execution_count": null,
   "metadata": {},
   "outputs": [],
   "source": []
  },
  {
   "cell_type": "code",
   "execution_count": null,
   "metadata": {},
   "outputs": [],
   "source": []
  },
  {
   "cell_type": "code",
   "execution_count": null,
   "metadata": {},
   "outputs": [],
   "source": []
  },
  {
   "cell_type": "code",
   "execution_count": null,
   "metadata": {},
   "outputs": [],
   "source": []
  },
  {
   "cell_type": "code",
   "execution_count": null,
   "metadata": {},
   "outputs": [],
   "source": []
  }
 ],
 "metadata": {
  "kernelspec": {
   "display_name": "Python 3",
   "language": "python",
   "name": "python3"
  },
  "language_info": {
   "codemirror_mode": {
    "name": "ipython",
    "version": 3
   },
   "file_extension": ".py",
   "mimetype": "text/x-python",
   "name": "python",
   "nbconvert_exporter": "python",
   "pygments_lexer": "ipython3",
   "version": "3.10.7"
  }
 },
 "nbformat": 4,
 "nbformat_minor": 2
}
