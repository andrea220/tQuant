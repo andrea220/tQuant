{
 "cells": [
  {
   "cell_type": "code",
   "execution_count": 57,
   "metadata": {},
   "outputs": [],
   "source": [
    "from abc import ABC, abstractmethod\n",
    "from enum import Enum\n",
    "from datetime import date \n",
    "from dateutil.easter import *"
   ]
  },
  {
   "cell_type": "code",
   "execution_count": 31,
   "metadata": {},
   "outputs": [],
   "source": [
    "from enum import Enum\n",
    "from typing import Union\n",
    "from datetime import timedelta\n",
    "\n",
    "\n",
    "class TimeUnit(Enum):\n",
    "    Days = 1\n",
    "    Weeks = 7\n",
    "    Months = 30  # Approximation for a month\n",
    "    Years = 365  # Approximation for a year\n",
    "\n",
    "    def __str__(self):\n",
    "        return self.value\n",
    "\n",
    "\n",
    "class BusinessDayConvention(Enum):\n",
    "    Following = \"Following\"\n",
    "    ModifiedFollowing = \"Modified Following\"\n",
    "    HalfMonthModifiedFollowing = \"Half-Month Modified Following\"\n",
    "    Preceding = \"Preceding\"\n",
    "    ModifiedPreceding = \"Modified Preceding\"\n",
    "    Unadjusted = \"Unadjusted\"\n",
    "    Nearest = \"Nearest\"\n",
    "\n",
    "    def __str__(self):\n",
    "        return self.value\n",
    "\n"
   ]
  },
  {
   "cell_type": "code",
   "execution_count": 99,
   "metadata": {},
   "outputs": [],
   "source": [
    "class Calendar(ABC):\n",
    "    ''' \n",
    "    abstract base class for calendar implementations\n",
    "    '''\n",
    "\n",
    "    def advance(self,\n",
    "                start_date: date,\n",
    "                period: int,\n",
    "                time_unit: TimeUnit,\n",
    "                convention: BusinessDayConvention,\n",
    "                end_of_month: bool):\n",
    "        ''' \n",
    "        Advances the given date as specified by the given period and\n",
    "            returns the result.\n",
    "        '''\n",
    "        \n",
    "        if start_date is None:\n",
    "            raise ValueError(\"null date\")\n",
    "\n",
    "        if period == 0:\n",
    "            return self.adjust(start_date, convention)\n",
    "\n",
    "        d1 = start_date\n",
    "\n",
    "        if time_unit == TimeUnit.Days:\n",
    "            while period > 0:\n",
    "                d1 += timedelta(days=1)\n",
    "                while self.is_holiday(d1):\n",
    "                    d1 += timedelta(days=1)\n",
    "                period -= 1\n",
    "\n",
    "            while period < 0:\n",
    "                d1 -= timedelta(days=1)\n",
    "                while self.is_holiday(d1):\n",
    "                    d1 -= timedelta(days=1)\n",
    "                period += 1\n",
    "\n",
    "        elif time_unit == TimeUnit.Weeks:\n",
    "            d1 += timedelta(weeks=period)\n",
    "            d1 = self.adjust(d1, convention)\n",
    "\n",
    "        else:  # Months or Years\n",
    "            d1 += timedelta(days=period * time_unit.value)\n",
    "\n",
    "            if end_of_month and self.is_end_of_month(start_date):\n",
    "                return self.end_of_month(d1)\n",
    "\n",
    "            d1 = self.adjust(d1, convention)\n",
    "\n",
    "        return d1\n",
    "\n",
    "    def adjust(self,\n",
    "               d: date,\n",
    "               c: BusinessDayConvention):\n",
    "        ''' \n",
    "        Adjust date based on the business day convention\n",
    "        '''\n",
    "        if d is None:\n",
    "            raise ValueError(\"null date\")\n",
    "\n",
    "        if c == BusinessDayConvention.Unadjusted:\n",
    "            return d\n",
    "\n",
    "        d1 = d\n",
    "\n",
    "        if c in [BusinessDayConvention.Following, BusinessDayConvention.ModifiedFollowing, BusinessDayConvention.HalfMonthModifiedFollowing]:\n",
    "            while self.is_holiday(d1):\n",
    "                d1 += timedelta(days=1)\n",
    "\n",
    "            if c in [BusinessDayConvention.ModifiedFollowing, BusinessDayConvention.HalfMonthModifiedFollowing]:\n",
    "                if d1.month != d.month:\n",
    "                    return self.adjust(d, BusinessDayConvention.Preceding)\n",
    "\n",
    "                if c == BusinessDayConvention.HalfMonthModifiedFollowing and d.day <= 15 and d1.day > 15:\n",
    "                    return self.adjust(d, BusinessDayConvention.Preceding)\n",
    "\n",
    "        elif c in [BusinessDayConvention.Preceding, BusinessDayConvention.ModifiedPreceding]:\n",
    "            while self.is_holiday(d1):\n",
    "                d1 -= timedelta(days=1)\n",
    "\n",
    "            if c == BusinessDayConvention.ModifiedPreceding and d1.month != d.month:\n",
    "                return self.adjust(d, BusinessDayConvention.Following)\n",
    "\n",
    "        elif c == BusinessDayConvention.Nearest:\n",
    "            d2 = d\n",
    "            while self.is_holiday(d1) and self.is_holiday(d2):\n",
    "                d1 += timedelta(days=1)\n",
    "                d2 -= timedelta(days=1)\n",
    "\n",
    "            if self.is_holiday(d1):\n",
    "                return d2\n",
    "            else:\n",
    "                return d1\n",
    "\n",
    "        else:\n",
    "            raise ValueError(\"unknown business-day convention\")\n",
    "\n",
    "        return d1\n",
    "    \n",
    "    def is_end_of_month(self, d: date):\n",
    "        return d.month != self.adjust(d + timedelta(1).month)\n",
    "    \n",
    "    def is_weekend(self, d: date):\n",
    "        return d.weekday() in [5,6]\n",
    "\n",
    "    def end_of_month(self, d: date):\n",
    "        pass\n",
    "\n",
    "    def is_holiday(self, d: date):\n",
    "        return not self.is_business_day(d)\n",
    "\n",
    "    @abstractmethod\n",
    "    def is_business_day(self, d: date):\n",
    "        ''' \n",
    "        abstract method depending on different calendars\n",
    "        '''\n",
    "        pass\n",
    "\n",
    "\n",
    "class TARGET(Calendar):\n",
    "    def __init__(self) -> None:\n",
    "        pass \n",
    "\n",
    "    def is_business_day(self, d: date):\n",
    "        ''' \n",
    "        check se la data in input è un bd oppure no\n",
    "        '''\n",
    "        ny = d.day == 1 and d.month == 1\n",
    "        em = d == easter(d.year) + timedelta(1)\n",
    "        gf = d == easter(d.year) - timedelta(2)\n",
    "        ld = d.day == 1 and d.month == 5\n",
    "        c = d.day == 25 and d.month == 12\n",
    "        cg = d.day == 26 and d.month == 12\n",
    "\n",
    "        if self.is_weekend(d) or ny or gf or em or ld or c or cg:\n",
    "            return False\n",
    "        else:\n",
    "            return True"
   ]
  },
  {
   "cell_type": "code",
   "execution_count": 100,
   "metadata": {},
   "outputs": [],
   "source": [
    "d = date(2023,4,11)\n",
    "calendar_test = TARGET()"
   ]
  },
  {
   "cell_type": "code",
   "execution_count": 103,
   "metadata": {},
   "outputs": [
    {
     "data": {
      "text/plain": [
       "True"
      ]
     },
     "execution_count": 103,
     "metadata": {},
     "output_type": "execute_result"
    }
   ],
   "source": [
    "calendar_test.is_business_day(d)"
   ]
  },
  {
   "cell_type": "code",
   "execution_count": 104,
   "metadata": {},
   "outputs": [
    {
     "data": {
      "text/plain": [
       "False"
      ]
     },
     "execution_count": 104,
     "metadata": {},
     "output_type": "execute_result"
    }
   ],
   "source": [
    "calendar_test.is_holiday(d)"
   ]
  },
  {
   "cell_type": "code",
   "execution_count": null,
   "metadata": {},
   "outputs": [],
   "source": []
  },
  {
   "cell_type": "code",
   "execution_count": null,
   "metadata": {},
   "outputs": [],
   "source": []
  }
 ],
 "metadata": {
  "kernelspec": {
   "display_name": "Python 3",
   "language": "python",
   "name": "python3"
  },
  "language_info": {
   "codemirror_mode": {
    "name": "ipython",
    "version": 3
   },
   "file_extension": ".py",
   "mimetype": "text/x-python",
   "name": "python",
   "nbconvert_exporter": "python",
   "pygments_lexer": "ipython3",
   "version": "3.10.7"
  }
 },
 "nbformat": 4,
 "nbformat_minor": 2
}
