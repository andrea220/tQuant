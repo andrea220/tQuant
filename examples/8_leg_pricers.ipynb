{
 "cells": [
  {
   "cell_type": "code",
   "execution_count": 1,
   "metadata": {},
   "outputs": [],
   "source": [
    "import sys\n",
    "sys.path.append('../')\n",
    "\n",
    "import tquant as tq\n",
    "from engine.globalconfig import GlobalConfig\n",
    "from engine.loader.curveload import MarketDataLoader\n",
    "\n",
    "from datetime import date\n",
    "import tensorflow as tf\n",
    "import pandas as pd"
   ]
  },
  {
   "cell_type": "markdown",
   "metadata": {},
   "source": [
    "# Settings"
   ]
  },
  {
   "cell_type": "code",
   "execution_count": 2,
   "metadata": {},
   "outputs": [],
   "source": [
    "config = GlobalConfig.from_json()\n",
    "mdl = MarketDataLoader(config)"
   ]
  },
  {
   "cell_type": "code",
   "execution_count": 3,
   "metadata": {},
   "outputs": [
    {
     "data": {
      "text/plain": [
       "datetime.date(2023, 9, 29)"
      ]
     },
     "execution_count": 3,
     "metadata": {},
     "output_type": "execute_result"
    }
   ],
   "source": [
    "tq.Settings.evaluation_date"
   ]
  },
  {
   "cell_type": "code",
   "execution_count": 4,
   "metadata": {},
   "outputs": [],
   "source": [
    "calendar = tq.TARGET()\n",
    "daycounter = tq.DayCounter(tq.DayCounterConvention.Actual360)\n",
    "evaluation_date = tq.Settings.evaluation_date"
   ]
  },
  {
   "cell_type": "markdown",
   "metadata": {},
   "source": [
    "# Market"
   ]
  },
  {
   "cell_type": "code",
   "execution_count": 5,
   "metadata": {},
   "outputs": [],
   "source": [
    "rates = mdl.ir_eur_curve_estr['quote'].values\n",
    "times = mdl.ir_eur_curve_estr['daycount'].values/365\n",
    "\n",
    "rates_6m = mdl.ir_eur_curve_6m['quote'].values\n",
    "times_6m = mdl.ir_eur_curve_6m['daycount'].values/365"
   ]
  },
  {
   "cell_type": "code",
   "execution_count": 6,
   "metadata": {},
   "outputs": [],
   "source": [
    "estr_curve = tq.RateCurve(times, rates)\n",
    "eur6m_curve = tq.RateCurve(times_6m, rates_6m)"
   ]
  },
  {
   "cell_type": "markdown",
   "metadata": {},
   "source": [
    "# Fixed Leg"
   ]
  },
  {
   "cell_type": "code",
   "execution_count": 7,
   "metadata": {},
   "outputs": [],
   "source": [
    "fixed_schedule = [tq.TARGET().advance(evaluation_date,\n",
    "                         t,\n",
    "                         tq.TimeUnit.Months,\n",
    "                         tq.BusinessDayConvention.ModifiedFollowing) for t in [0,6,12,18,24]]\n",
    "notionals = [1e6] * (len(fixed_schedule) - 1)\n",
    "coupon_rates = [0.03] * (len(fixed_schedule) - 1)\n",
    "\n",
    "fixed_leg = tq.FixedRateLeg(fixed_schedule,\n",
    "                            notionals,\n",
    "                            coupon_rates,\n",
    "                            daycounter= daycounter,\n",
    "                            compounding=tq.CompoundingType.Simple,\n",
    "                            frequency= tq.Frequency.Annual)"
   ]
  },
  {
   "cell_type": "code",
   "execution_count": 8,
   "metadata": {},
   "outputs": [],
   "source": [
    "fixed_leg_pricer = tq.FixedLegDiscounting(fixed_leg)"
   ]
  },
  {
   "cell_type": "code",
   "execution_count": 9,
   "metadata": {},
   "outputs": [
    {
     "data": {
      "text/plain": [
       "<tf.Tensor: shape=(), dtype=float64, numpy=58131.51747537639>"
      ]
     },
     "execution_count": 9,
     "metadata": {},
     "output_type": "execute_result"
    }
   ],
   "source": [
    "fixed_leg_pricer.price(estr_curve, evaluation_date, tq.FixedCouponDiscounting)"
   ]
  },
  {
   "cell_type": "code",
   "execution_count": 10,
   "metadata": {},
   "outputs": [
    {
     "data": {
      "text/plain": [
       "<tf.Tensor: shape=(), dtype=float64, numpy=58131.51747537639>"
      ]
     },
     "execution_count": 10,
     "metadata": {},
     "output_type": "execute_result"
    }
   ],
   "source": [
    "fixed_leg_pricer.price(estr_curve, evaluation_date, tq.FixedCouponDiscounting)"
   ]
  },
  {
   "cell_type": "code",
   "execution_count": 11,
   "metadata": {},
   "outputs": [],
   "source": [
    "npv, tape = fixed_leg_pricer.price_aad(estr_curve, evaluation_date, tq.FixedCouponDiscounting)\n",
    "sensitivities = tape.gradient(npv, [estr_curve.rates, eur6m_curve.rates])"
   ]
  },
  {
   "cell_type": "code",
   "execution_count": 12,
   "metadata": {},
   "outputs": [
    {
     "data": {
      "text/html": [
       "<div>\n",
       "<style scoped>\n",
       "    .dataframe tbody tr th:only-of-type {\n",
       "        vertical-align: middle;\n",
       "    }\n",
       "\n",
       "    .dataframe tbody tr th {\n",
       "        vertical-align: top;\n",
       "    }\n",
       "\n",
       "    .dataframe thead th {\n",
       "        text-align: right;\n",
       "    }\n",
       "</style>\n",
       "<table border=\"1\" class=\"dataframe\">\n",
       "  <thead>\n",
       "    <tr style=\"text-align: right;\">\n",
       "      <th></th>\n",
       "      <th>time</th>\n",
       "      <th>sensitivity</th>\n",
       "    </tr>\n",
       "  </thead>\n",
       "  <tbody>\n",
       "    <tr>\n",
       "      <th>10</th>\n",
       "      <td>0.419178</td>\n",
       "      <td>NaN</td>\n",
       "    </tr>\n",
       "    <tr>\n",
       "      <th>11</th>\n",
       "      <td>0.49589</td>\n",
       "      <td>tf.Tensor(-6850.130249995172, shape=(), dtype=...</td>\n",
       "    </tr>\n",
       "    <tr>\n",
       "      <th>12</th>\n",
       "      <td>0.583562</td>\n",
       "      <td>tf.Tensor(-584.0195832544138, shape=(), dtype=...</td>\n",
       "    </tr>\n",
       "    <tr>\n",
       "      <th>13</th>\n",
       "      <td>0.665753</td>\n",
       "      <td>NaN</td>\n",
       "    </tr>\n",
       "    <tr>\n",
       "      <th>14</th>\n",
       "      <td>0.747945</td>\n",
       "      <td>NaN</td>\n",
       "    </tr>\n",
       "    <tr>\n",
       "      <th>15</th>\n",
       "      <td>0.832877</td>\n",
       "      <td>NaN</td>\n",
       "    </tr>\n",
       "    <tr>\n",
       "      <th>16</th>\n",
       "      <td>0.917808</td>\n",
       "      <td>NaN</td>\n",
       "    </tr>\n",
       "    <tr>\n",
       "      <th>17</th>\n",
       "      <td>1.005479</td>\n",
       "      <td>tf.Tensor(-12517.389366366535, shape=(), dtype...</td>\n",
       "    </tr>\n",
       "    <tr>\n",
       "      <th>18</th>\n",
       "      <td>1.084932</td>\n",
       "      <td>tf.Tensor(-2669.3096440769896, shape=(), dtype...</td>\n",
       "    </tr>\n",
       "    <tr>\n",
       "      <th>19</th>\n",
       "      <td>1.169863</td>\n",
       "      <td>NaN</td>\n",
       "    </tr>\n",
       "    <tr>\n",
       "      <th>20</th>\n",
       "      <td>1.254795</td>\n",
       "      <td>NaN</td>\n",
       "    </tr>\n",
       "    <tr>\n",
       "      <th>21</th>\n",
       "      <td>1.336986</td>\n",
       "      <td>NaN</td>\n",
       "    </tr>\n",
       "    <tr>\n",
       "      <th>22</th>\n",
       "      <td>1.419178</td>\n",
       "      <td>NaN</td>\n",
       "    </tr>\n",
       "    <tr>\n",
       "      <th>23</th>\n",
       "      <td>1.50411</td>\n",
       "      <td>tf.Tensor(-16112.298398192846, shape=(), dtype...</td>\n",
       "    </tr>\n",
       "    <tr>\n",
       "      <th>24</th>\n",
       "      <td>1.583562</td>\n",
       "      <td>tf.Tensor(-5747.662001694518, shape=(), dtype=...</td>\n",
       "    </tr>\n",
       "    <tr>\n",
       "      <th>25</th>\n",
       "      <td>1.665753</td>\n",
       "      <td>NaN</td>\n",
       "    </tr>\n",
       "    <tr>\n",
       "      <th>26</th>\n",
       "      <td>1.753425</td>\n",
       "      <td>NaN</td>\n",
       "    </tr>\n",
       "    <tr>\n",
       "      <th>27</th>\n",
       "      <td>1.832877</td>\n",
       "      <td>NaN</td>\n",
       "    </tr>\n",
       "    <tr>\n",
       "      <th>28</th>\n",
       "      <td>1.917808</td>\n",
       "      <td>NaN</td>\n",
       "    </tr>\n",
       "    <tr>\n",
       "      <th>29</th>\n",
       "      <td>2.00274</td>\n",
       "      <td>tf.Tensor(-27861.93864006188, shape=(), dtype=...</td>\n",
       "    </tr>\n",
       "  </tbody>\n",
       "</table>\n",
       "</div>"
      ],
      "text/plain": [
       "        time                                        sensitivity\n",
       "10  0.419178                                                NaN\n",
       "11   0.49589  tf.Tensor(-6850.130249995172, shape=(), dtype=...\n",
       "12  0.583562  tf.Tensor(-584.0195832544138, shape=(), dtype=...\n",
       "13  0.665753                                                NaN\n",
       "14  0.747945                                                NaN\n",
       "15  0.832877                                                NaN\n",
       "16  0.917808                                                NaN\n",
       "17  1.005479  tf.Tensor(-12517.389366366535, shape=(), dtype...\n",
       "18  1.084932  tf.Tensor(-2669.3096440769896, shape=(), dtype...\n",
       "19  1.169863                                                NaN\n",
       "20  1.254795                                                NaN\n",
       "21  1.336986                                                NaN\n",
       "22  1.419178                                                NaN\n",
       "23   1.50411  tf.Tensor(-16112.298398192846, shape=(), dtype...\n",
       "24  1.583562  tf.Tensor(-5747.662001694518, shape=(), dtype=...\n",
       "25  1.665753                                                NaN\n",
       "26  1.753425                                                NaN\n",
       "27  1.832877                                                NaN\n",
       "28  1.917808                                                NaN\n",
       "29   2.00274  tf.Tensor(-27861.93864006188, shape=(), dtype=..."
      ]
     },
     "execution_count": 12,
     "metadata": {},
     "output_type": "execute_result"
    }
   ],
   "source": [
    "sensy = pd.DataFrame([estr_curve.pillars.tolist(), sensitivities[0]]).T\n",
    "sensy.columns = ['time', 'sensitivity']\n",
    "sensy[sensy['time'] > 0.4].head(20)"
   ]
  },
  {
   "cell_type": "markdown",
   "metadata": {},
   "source": [
    "# Floating Leg"
   ]
  },
  {
   "cell_type": "code",
   "execution_count": 13,
   "metadata": {},
   "outputs": [],
   "source": [
    "spreads = [0] * (len(fixed_schedule) - 1)\n",
    "gearing = [1] * (len(fixed_schedule) - 1)\n",
    "floating_schedule = fixed_schedule\n",
    "index = tq.IborIndex('EUR6M',\n",
    "             calendar,\n",
    "             6,\n",
    "             tq.TimeUnit.Months)\n",
    "\n",
    "floating_leg = tq.FloatingRateLeg(floating_schedule,\n",
    "                               notionals,\n",
    "                               gearing,\n",
    "                               spreads,\n",
    "                               index,\n",
    "                               daycounter)"
   ]
  },
  {
   "cell_type": "code",
   "execution_count": 14,
   "metadata": {},
   "outputs": [],
   "source": [
    "floating_leg_pricer = tq.FloatingLegDiscounting(floating_leg)"
   ]
  },
  {
   "cell_type": "code",
   "execution_count": 15,
   "metadata": {},
   "outputs": [
    {
     "data": {
      "text/plain": [
       "<tf.Tensor: shape=(), dtype=float64, numpy=73422.18552775549>"
      ]
     },
     "execution_count": 15,
     "metadata": {},
     "output_type": "execute_result"
    }
   ],
   "source": [
    "floating_leg_pricer.price(estr_curve, eur6m_curve, evaluation_date, tq.FloatingCouponDiscounting)"
   ]
  },
  {
   "cell_type": "code",
   "execution_count": 16,
   "metadata": {},
   "outputs": [],
   "source": [
    "npv, tape =floating_leg_pricer.price_aad(estr_curve, eur6m_curve, evaluation_date, tq.FloatingCouponDiscounting)\n",
    "sensitivities = tape.gradient(npv, [estr_curve.rates, eur6m_curve.rates])"
   ]
  },
  {
   "cell_type": "code",
   "execution_count": 17,
   "metadata": {},
   "outputs": [
    {
     "data": {
      "text/html": [
       "<div>\n",
       "<style scoped>\n",
       "    .dataframe tbody tr th:only-of-type {\n",
       "        vertical-align: middle;\n",
       "    }\n",
       "\n",
       "    .dataframe tbody tr th {\n",
       "        vertical-align: top;\n",
       "    }\n",
       "\n",
       "    .dataframe thead th {\n",
       "        text-align: right;\n",
       "    }\n",
       "</style>\n",
       "<table border=\"1\" class=\"dataframe\">\n",
       "  <thead>\n",
       "    <tr style=\"text-align: right;\">\n",
       "      <th></th>\n",
       "      <th>time</th>\n",
       "      <th>sensy_estr</th>\n",
       "      <th>sensy_eur6m</th>\n",
       "    </tr>\n",
       "  </thead>\n",
       "  <tbody>\n",
       "    <tr>\n",
       "      <th>8</th>\n",
       "      <td>0.249315</td>\n",
       "      <td>NaN</td>\n",
       "      <td>NaN</td>\n",
       "    </tr>\n",
       "    <tr>\n",
       "      <th>9</th>\n",
       "      <td>0.334247</td>\n",
       "      <td>None</td>\n",
       "      <td>tf.Tensor(9426.124691723555, shape=(), dtype=f...</td>\n",
       "    </tr>\n",
       "    <tr>\n",
       "      <th>10</th>\n",
       "      <td>0.419178</td>\n",
       "      <td>None</td>\n",
       "      <td>tf.Tensor(391.7631616996441, shape=(), dtype=f...</td>\n",
       "    </tr>\n",
       "    <tr>\n",
       "      <th>11</th>\n",
       "      <td>0.49589</td>\n",
       "      <td>tf.Tensor(-9497.84399362655, shape=(), dtype=f...</td>\n",
       "      <td>None</td>\n",
       "    </tr>\n",
       "    <tr>\n",
       "      <th>12</th>\n",
       "      <td>0.583562</td>\n",
       "      <td>tf.Tensor(-809.7549518824293, shape=(), dtype=...</td>\n",
       "      <td>tf.Tensor(17107.208223456284, shape=(), dtype=...</td>\n",
       "    </tr>\n",
       "    <tr>\n",
       "      <th>13</th>\n",
       "      <td>0.665753</td>\n",
       "      <td>None</td>\n",
       "      <td>tf.Tensor(1588.2482716945087, shape=(), dtype=...</td>\n",
       "    </tr>\n",
       "    <tr>\n",
       "      <th>14</th>\n",
       "      <td>0.747945</td>\n",
       "      <td>NaN</td>\n",
       "      <td>NaN</td>\n",
       "    </tr>\n",
       "    <tr>\n",
       "      <th>15</th>\n",
       "      <td>0.832877</td>\n",
       "      <td>None</td>\n",
       "      <td>tf.Tensor(28417.42868711357, shape=(), dtype=f...</td>\n",
       "    </tr>\n",
       "    <tr>\n",
       "      <th>16</th>\n",
       "      <td>0.917808</td>\n",
       "      <td>None</td>\n",
       "      <td>tf.Tensor(5877.083791738813, shape=(), dtype=f...</td>\n",
       "    </tr>\n",
       "    <tr>\n",
       "      <th>17</th>\n",
       "      <td>1.005479</td>\n",
       "      <td>tf.Tensor(-16950.189095604055, shape=(), dtype...</td>\n",
       "      <td>None</td>\n",
       "    </tr>\n",
       "  </tbody>\n",
       "</table>\n",
       "</div>"
      ],
      "text/plain": [
       "        time                                         sensy_estr  \\\n",
       "8   0.249315                                                NaN   \n",
       "9   0.334247                                               None   \n",
       "10  0.419178                                               None   \n",
       "11   0.49589  tf.Tensor(-9497.84399362655, shape=(), dtype=f...   \n",
       "12  0.583562  tf.Tensor(-809.7549518824293, shape=(), dtype=...   \n",
       "13  0.665753                                               None   \n",
       "14  0.747945                                                NaN   \n",
       "15  0.832877                                               None   \n",
       "16  0.917808                                               None   \n",
       "17  1.005479  tf.Tensor(-16950.189095604055, shape=(), dtype...   \n",
       "\n",
       "                                          sensy_eur6m  \n",
       "8                                                 NaN  \n",
       "9   tf.Tensor(9426.124691723555, shape=(), dtype=f...  \n",
       "10  tf.Tensor(391.7631616996441, shape=(), dtype=f...  \n",
       "11                                               None  \n",
       "12  tf.Tensor(17107.208223456284, shape=(), dtype=...  \n",
       "13  tf.Tensor(1588.2482716945087, shape=(), dtype=...  \n",
       "14                                                NaN  \n",
       "15  tf.Tensor(28417.42868711357, shape=(), dtype=f...  \n",
       "16  tf.Tensor(5877.083791738813, shape=(), dtype=f...  \n",
       "17                                               None  "
      ]
     },
     "execution_count": 17,
     "metadata": {},
     "output_type": "execute_result"
    }
   ],
   "source": [
    "sensy = pd.DataFrame([estr_curve.pillars.tolist(), sensitivities[0], sensitivities[1]]).T\n",
    "sensy.columns = ['time', 'sensy_estr', 'sensy_eur6m']\n",
    "sensy[sensy['time'] > 0.2].head(10)"
   ]
  },
  {
   "cell_type": "code",
   "execution_count": null,
   "metadata": {},
   "outputs": [],
   "source": []
  }
 ],
 "metadata": {
  "kernelspec": {
   "display_name": "Python 3",
   "language": "python",
   "name": "python3"
  },
  "language_info": {
   "codemirror_mode": {
    "name": "ipython",
    "version": 3
   },
   "file_extension": ".py",
   "mimetype": "text/x-python",
   "name": "python",
   "nbconvert_exporter": "python",
   "pygments_lexer": "ipython3",
   "version": "3.10.7"
  }
 },
 "nbformat": 4,
 "nbformat_minor": 2
}
