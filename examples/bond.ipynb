{
 "cells": [
  {
   "cell_type": "code",
   "execution_count": 1,
   "metadata": {},
   "outputs": [],
   "source": [
    "import QuantLib as ql\n",
    "import pandas as pd\n",
    "import numpy as np"
   ]
  },
  {
   "cell_type": "code",
   "execution_count": 4,
   "metadata": {},
   "outputs": [],
   "source": [
    "mkt = pd.read_excel('C:/Users/carap/Downloads/market_data.xlsx')\n",
    "evaluation_date = ql.Date(29, 9, 2023)\n",
    "ql.Settings.instance().evaluationDate = evaluation_date\n",
    "\n",
    "dates = [evaluation_date]\n",
    "for i in range(mkt.shape[0]):\n",
    "    d = mkt['Maturity'][i].day\n",
    "    m = mkt['Maturity'][i].month\n",
    "    y = mkt['Maturity'][i].year\n",
    "    dates.append(\n",
    "    ql.Date(mkt['Maturity'][i].day,\n",
    "            mkt['Maturity'][i].month,\n",
    "            mkt['Maturity'][i].year)\n",
    "    )\n",
    "dates = np.array(dates)\n",
    "#\n",
    "\n",
    "rates = mkt['ds.rate'].values/100\n",
    "zero_bonds = mkt['ds,factor'].values/100\n",
    "zero_bonds = np.insert(zero_bonds,0,1)\n"
   ]
  },
  {
   "cell_type": "code",
   "execution_count": 9,
   "metadata": {},
   "outputs": [],
   "source": [
    "discount_curve = ql.DiscountCurve(dates, zero_bonds, ql.Actual360(), ql.TARGET())\n",
    "discount_curve.enableExtrapolation()\n",
    "\n",
    "discount_curve_handle = ql.YieldTermStructureHandle(discount_curve)\n",
    "discount_curve_handle.enableExtrapolation()"
   ]
  },
  {
   "cell_type": "code",
   "execution_count": 35,
   "metadata": {},
   "outputs": [
    {
     "name": "stdout",
     "output_type": "stream",
     "text": [
      "828.1539985233376\n",
      "82.85248586215377\n",
      "82.66399271146885\n",
      "0.18849315068492076\n",
      "Actual/365 (Fixed) day counter\n",
      "October 3rd, 2023\n",
      "     March 1st, 2022   282.739726\n",
      " September 1st, 2022  1083.835616\n",
      "     March 1st, 2023  1066.164384\n",
      " September 1st, 2023  1083.835616\n",
      "     March 1st, 2024  1072.054795\n",
      " September 2nd, 2024  1089.726027\n",
      "     March 3rd, 2025  1072.054795\n",
      " September 1st, 2025  1072.054795\n",
      "     March 2nd, 2026  1072.054795\n",
      " September 1st, 2026  1077.945205\n",
      "     March 1st, 2027  1066.164384\n",
      " September 1st, 2027  1083.835616\n",
      "     March 1st, 2028  1072.054795\n",
      " September 1st, 2028  1083.835616\n",
      "     March 1st, 2029  1066.164384\n",
      " September 3rd, 2029  1095.616438\n",
      "     March 1st, 2030  1054.383562\n",
      " September 2nd, 2030  1089.726027\n",
      "     March 3rd, 2031  1072.054795\n",
      " September 1st, 2031  1072.054795\n",
      "     March 1st, 2032  1072.054795\n",
      " September 1st, 2032  1083.835616\n",
      "     March 1st, 2033  1066.164384\n",
      " September 1st, 2033  1083.835616\n",
      "     March 1st, 2034  1066.164384\n",
      " September 1st, 2034  1083.835616\n",
      "     March 1st, 2035  1066.164384\n",
      " September 3rd, 2035  1095.616438\n",
      "     March 3rd, 2036  1072.054795\n",
      " September 1st, 2036  1072.054795\n",
      "     March 2nd, 2037  1072.054795\n",
      " September 1st, 2037  1077.945205\n",
      "     March 1st, 2038  1066.164384\n",
      " September 1st, 2038  1083.835616\n",
      "     March 1st, 2039  1066.164384\n",
      " September 1st, 2039  1083.835616\n",
      "     March 1st, 2040  1072.054795\n",
      " September 3rd, 2040  1095.616438\n",
      "     March 1st, 2041  1054.383562\n",
      " September 2nd, 2041  1089.726027\n",
      "     March 3rd, 2042  1072.054795\n",
      " September 1st, 2042  1072.054795\n",
      "     March 2nd, 2043  1072.054795\n",
      " September 1st, 2043  1077.945205\n",
      "     March 1st, 2044  1072.054795\n",
      " September 1st, 2044  1083.835616\n",
      "     March 1st, 2045  1066.164384\n",
      " September 1st, 2045  1083.835616\n",
      "     March 1st, 2046  1066.164384\n",
      " September 3rd, 2046  1095.616438\n",
      "     March 1st, 2047  1054.383562\n",
      " September 2nd, 2047  1089.726027\n",
      "     March 2nd, 2048  1072.054795\n",
      " September 1st, 2048  1077.945205\n",
      "     March 1st, 2049  1066.164384\n",
      " September 1st, 2049  1083.835616\n",
      "     March 1st, 2050  1066.164384\n",
      " September 1st, 2050  1083.835616\n",
      "     March 1st, 2051  1066.164384\n",
      " September 1st, 2051  1083.835616\n",
      "     March 1st, 2052  1072.054795\n",
      " September 2nd, 2052  1089.726027\n",
      " September 2nd, 2052 100000.000000\n"
     ]
    }
   ],
   "source": [
    "## bond info\n",
    "issue_date = ql.Date(12, 1, 2022)\n",
    "maturity_date = ql.Date(1, 9, 2052)\n",
    "tenor = ql.Period(ql.Semiannual)\n",
    "bussinessConvention = ql.Following\n",
    "dateGeneration = ql.DateGeneration.Backward\n",
    "monthEnd = False\n",
    "\n",
    "schedule = ql.Schedule (issue_date, maturity_date, tenor, ql.TARGET(), \n",
    "                        bussinessConvention, bussinessConvention, \n",
    "                        dateGeneration, monthEnd)\n",
    "\n",
    "dayCount = ql.Actual365Fixed()\n",
    "couponRate = 0.0215\n",
    "coupons = [couponRate]\n",
    "\n",
    "settlementDays = 2\n",
    "faceValue = 100000\n",
    "fixedRateBond = ql.FixedRateBond(settlementDays, faceValue, \n",
    "                                 schedule, coupons, dayCount)\n",
    "\n",
    "bondEngine = ql.DiscountingBondEngine(discount_curve_handle)\n",
    "fixedRateBond.setPricingEngine(bondEngine)\n",
    "\n",
    "fixedRateBond.NPV()\n",
    "print(fixedRateBond.NPV())\n",
    "print(fixedRateBond.dirtyPrice())\n",
    "print(fixedRateBond.cleanPrice())\n",
    "print(fixedRateBond.accruedAmount())\n",
    "print(fixedRateBond.dayCounter())\n",
    "print(fixedRateBond.settlementDate())\n",
    "\n",
    "cf_amounts = []\n",
    "cf_dates = []\n",
    "for c in fixedRateBond.cashflows():\n",
    "    cf_amounts.append(c.amount())\n",
    "    cf_dates.append(c.date())\n",
    "    print('%20s %12f' % (c.date(), c.amount()))"
   ]
  },
  {
   "cell_type": "code",
   "execution_count": 27,
   "metadata": {},
   "outputs": [
    {
     "data": {
      "text/plain": [
       "65919.58904109603"
      ]
     },
     "execution_count": 27,
     "metadata": {},
     "output_type": "execute_result"
    }
   ],
   "source": [
    "np.sum(cf_amounts[:-1]) "
   ]
  },
  {
   "cell_type": "code",
   "execution_count": 32,
   "metadata": {},
   "outputs": [
    {
     "data": {
      "text/plain": [
       "0.009599494730161282"
      ]
     },
     "execution_count": 32,
     "metadata": {},
     "output_type": "execute_result"
    }
   ],
   "source": [
    "discount_curve.discount(1)"
   ]
  },
  {
   "cell_type": "code",
   "execution_count": null,
   "metadata": {},
   "outputs": [],
   "source": []
  },
  {
   "cell_type": "code",
   "execution_count": null,
   "metadata": {},
   "outputs": [],
   "source": []
  },
  {
   "cell_type": "code",
   "execution_count": 22,
   "metadata": {},
   "outputs": [
    {
     "data": {
      "text/plain": [
       "[Date(1,3,2024),\n",
       " Date(2,9,2024),\n",
       " Date(3,3,2025),\n",
       " Date(1,9,2025),\n",
       " Date(2,3,2026),\n",
       " Date(1,9,2026),\n",
       " Date(1,3,2027),\n",
       " Date(1,9,2027),\n",
       " Date(1,3,2028),\n",
       " Date(1,9,2028),\n",
       " Date(1,3,2029),\n",
       " Date(3,9,2029),\n",
       " Date(1,3,2030),\n",
       " Date(2,9,2030),\n",
       " Date(3,3,2031),\n",
       " Date(1,9,2031),\n",
       " Date(1,3,2032),\n",
       " Date(1,9,2032),\n",
       " Date(1,3,2033),\n",
       " Date(1,9,2033),\n",
       " Date(1,3,2034),\n",
       " Date(1,9,2034),\n",
       " Date(1,3,2035),\n",
       " Date(3,9,2035),\n",
       " Date(3,3,2036),\n",
       " Date(1,9,2036),\n",
       " Date(2,3,2037),\n",
       " Date(1,9,2037),\n",
       " Date(1,3,2038),\n",
       " Date(1,9,2038),\n",
       " Date(1,3,2039),\n",
       " Date(1,9,2039),\n",
       " Date(1,3,2040),\n",
       " Date(3,9,2040),\n",
       " Date(1,3,2041),\n",
       " Date(2,9,2041),\n",
       " Date(3,3,2042),\n",
       " Date(1,9,2042),\n",
       " Date(2,3,2043),\n",
       " Date(1,9,2043),\n",
       " Date(1,3,2044),\n",
       " Date(1,9,2044),\n",
       " Date(1,3,2045),\n",
       " Date(1,9,2045),\n",
       " Date(1,3,2046),\n",
       " Date(3,9,2046),\n",
       " Date(1,3,2047),\n",
       " Date(2,9,2047),\n",
       " Date(2,3,2048),\n",
       " Date(1,9,2048),\n",
       " Date(1,3,2049),\n",
       " Date(1,9,2049),\n",
       " Date(1,3,2050),\n",
       " Date(1,9,2050),\n",
       " Date(1,3,2051),\n",
       " Date(1,9,2051),\n",
       " Date(1,3,2052),\n",
       " Date(2,9,2052),\n",
       " Date(2,9,2052)]"
      ]
     },
     "execution_count": 22,
     "metadata": {},
     "output_type": "execute_result"
    }
   ],
   "source": [
    "cf_dates[4:]"
   ]
  },
  {
   "cell_type": "code",
   "execution_count": null,
   "metadata": {},
   "outputs": [],
   "source": []
  },
  {
   "cell_type": "code",
   "execution_count": null,
   "metadata": {},
   "outputs": [],
   "source": []
  },
  {
   "cell_type": "code",
   "execution_count": null,
   "metadata": {},
   "outputs": [],
   "source": []
  },
  {
   "cell_type": "code",
   "execution_count": null,
   "metadata": {},
   "outputs": [],
   "source": []
  },
  {
   "cell_type": "code",
   "execution_count": null,
   "metadata": {},
   "outputs": [],
   "source": []
  },
  {
   "cell_type": "code",
   "execution_count": null,
   "metadata": {},
   "outputs": [],
   "source": []
  },
  {
   "cell_type": "markdown",
   "metadata": {},
   "source": [
    "## OLD1"
   ]
  },
  {
   "cell_type": "code",
   "execution_count": 3,
   "metadata": {},
   "outputs": [],
   "source": [
    "\n",
    "day_count = ql.Actual365Fixed()\n",
    "calendar = ql.TARGET()\n",
    "interpolation = ql.Linear()\n",
    "compounding = ql.Compounded\n",
    "compounding_frequency = ql.Semiannual\n",
    "\n",
    "discount_curve = ql.ZeroCurve(dates, rates, day_count, calendar, \n",
    "                        interpolation, compounding, compounding_frequency)\n",
    "discount_curve_handle = ql.YieldTermStructureHandle(discount_curve)\n",
    "discount_curve_handle.enableExtrapolation()"
   ]
  },
  {
   "cell_type": "code",
   "execution_count": 4,
   "metadata": {},
   "outputs": [
    {
     "name": "stdout",
     "output_type": "stream",
     "text": [
      "83231.80175518853\n",
      "83.2410244274706\n",
      "83.05253127678569\n",
      "0.18849315068492076\n",
      "Actual/365 (Fixed) day counter\n",
      "October 3rd, 2023\n",
      "     March 1st, 2022   282.739726\n",
      " September 1st, 2022  1083.835616\n",
      "     March 1st, 2023  1066.164384\n",
      " September 1st, 2023  1083.835616\n",
      "     March 1st, 2024  1072.054795\n",
      " September 2nd, 2024  1089.726027\n",
      "     March 3rd, 2025  1072.054795\n",
      " September 1st, 2025  1072.054795\n",
      "     March 2nd, 2026  1072.054795\n",
      " September 1st, 2026  1077.945205\n",
      "     March 1st, 2027  1066.164384\n",
      " September 1st, 2027  1083.835616\n",
      "     March 1st, 2028  1072.054795\n",
      " September 1st, 2028  1083.835616\n",
      "     March 1st, 2029  1066.164384\n",
      " September 3rd, 2029  1095.616438\n",
      "     March 1st, 2030  1054.383562\n",
      " September 2nd, 2030  1089.726027\n",
      "     March 3rd, 2031  1072.054795\n",
      " September 1st, 2031  1072.054795\n",
      "     March 1st, 2032  1072.054795\n",
      " September 1st, 2032  1083.835616\n",
      "     March 1st, 2033  1066.164384\n",
      " September 1st, 2033  1083.835616\n",
      "     March 1st, 2034  1066.164384\n",
      " September 1st, 2034  1083.835616\n",
      "     March 1st, 2035  1066.164384\n",
      " September 3rd, 2035  1095.616438\n",
      "     March 3rd, 2036  1072.054795\n",
      " September 1st, 2036  1072.054795\n",
      "     March 2nd, 2037  1072.054795\n",
      " September 1st, 2037  1077.945205\n",
      "     March 1st, 2038  1066.164384\n",
      " September 1st, 2038  1083.835616\n",
      "     March 1st, 2039  1066.164384\n",
      " September 1st, 2039  1083.835616\n",
      "     March 1st, 2040  1072.054795\n",
      " September 3rd, 2040  1095.616438\n",
      "     March 1st, 2041  1054.383562\n",
      " September 2nd, 2041  1089.726027\n",
      "     March 3rd, 2042  1072.054795\n",
      " September 1st, 2042  1072.054795\n",
      "     March 2nd, 2043  1072.054795\n",
      " September 1st, 2043  1077.945205\n",
      "     March 1st, 2044  1072.054795\n",
      " September 1st, 2044  1083.835616\n",
      "     March 1st, 2045  1066.164384\n",
      " September 1st, 2045  1083.835616\n",
      "     March 1st, 2046  1066.164384\n",
      " September 3rd, 2046  1095.616438\n",
      "     March 1st, 2047  1054.383562\n",
      " September 2nd, 2047  1089.726027\n",
      "     March 2nd, 2048  1072.054795\n",
      " September 1st, 2048  1077.945205\n",
      "     March 1st, 2049  1066.164384\n",
      " September 1st, 2049  1083.835616\n",
      "     March 1st, 2050  1066.164384\n",
      " September 1st, 2050  1083.835616\n",
      "     March 1st, 2051  1066.164384\n",
      " September 1st, 2051  1083.835616\n",
      "     March 1st, 2052  1072.054795\n",
      " September 2nd, 2052  1089.726027\n",
      " September 2nd, 2052 100000.000000\n"
     ]
    }
   ],
   "source": [
    "## bond info\n",
    "issue_date = ql.Date(12, 1, 2022)\n",
    "maturity_date = ql.Date(1, 9, 2052)\n",
    "tenor = ql.Period(ql.Semiannual)\n",
    "bussinessConvention = ql.Following\n",
    "dateGeneration = ql.DateGeneration.Backward\n",
    "monthEnd = False\n",
    "\n",
    "schedule = ql.Schedule (issue_date, maturity_date, tenor, calendar, \n",
    "                        bussinessConvention, bussinessConvention, \n",
    "                        dateGeneration, monthEnd)\n",
    "\n",
    "dayCount = ql.Actual365Fixed()\n",
    "couponRate = 0.0215\n",
    "coupons = [couponRate]\n",
    "\n",
    "settlementDays = 2\n",
    "faceValue = 100000\n",
    "fixedRateBond = ql.FixedRateBond(settlementDays, faceValue, \n",
    "                                 schedule, coupons, dayCount)\n",
    "\n",
    "bondEngine = ql.DiscountingBondEngine(discount_curve_handle)\n",
    "fixedRateBond.setPricingEngine(bondEngine)\n",
    "\n",
    "fixedRateBond.NPV()\n",
    "print(fixedRateBond.NPV())\n",
    "print(fixedRateBond.dirtyPrice())\n",
    "print(fixedRateBond.cleanPrice())\n",
    "print(fixedRateBond.accruedAmount())\n",
    "print(fixedRateBond.dayCounter())\n",
    "print(fixedRateBond.settlementDate())\n",
    "\n",
    "for c in fixedRateBond.cashflows():\n",
    "    print('%20s %12f' % (c.date(), c.amount()))"
   ]
  },
  {
   "cell_type": "code",
   "execution_count": 9,
   "metadata": {},
   "outputs": [
    {
     "data": {
      "text/plain": [
       "Date(1,3,2022)"
      ]
     },
     "execution_count": 9,
     "metadata": {},
     "output_type": "execute_result"
    }
   ],
   "source": [
    "fixedRateBond.cashflows()[0].date()"
   ]
  },
  {
   "cell_type": "markdown",
   "metadata": {},
   "source": [
    "## new"
   ]
  },
  {
   "cell_type": "code",
   "execution_count": null,
   "metadata": {},
   "outputs": [],
   "source": [
    "fixedRateBond = ql.FixedRateBond(settlementDays, faceValue, \n",
    "                                 schedule, coupons, dayCount)"
   ]
  },
  {
   "cell_type": "code",
   "execution_count": 18,
   "metadata": {},
   "outputs": [
    {
     "ename": "RuntimeError",
     "evalue": "negative time (-0.00821918) given",
     "output_type": "error",
     "traceback": [
      "\u001b[1;31m---------------------------------------------------------------------------\u001b[0m",
      "\u001b[1;31mRuntimeError\u001b[0m                              Traceback (most recent call last)",
      "Cell \u001b[1;32mIn [18], line 45\u001b[0m\n\u001b[0;32m     39\u001b[0m fixed_rate_bond\u001b[38;5;241m.\u001b[39msetPricingEngine(ql\u001b[38;5;241m.\u001b[39mDiscountingBondEngine(discount_curve_handle))\n\u001b[0;32m     44\u001b[0m \u001b[38;5;66;03m# Get the bond price\u001b[39;00m\n\u001b[1;32m---> 45\u001b[0m bond_price \u001b[38;5;241m=\u001b[39m fixed_rate_bond\u001b[38;5;241m.\u001b[39mcleanPrice()\n\u001b[0;32m     47\u001b[0m \u001b[38;5;28mprint\u001b[39m(\u001b[38;5;124mf\u001b[39m\u001b[38;5;124m\"\u001b[39m\u001b[38;5;124mBond Price: \u001b[39m\u001b[38;5;132;01m{\u001b[39;00mbond_price\u001b[38;5;132;01m}\u001b[39;00m\u001b[38;5;124m\"\u001b[39m)\n",
      "File \u001b[1;32mc:\\Users\\carap\\AppData\\Local\\Programs\\Python\\Python310\\lib\\site-packages\\QuantLib\\QuantLib.py:17870\u001b[0m, in \u001b[0;36mBond.cleanPrice\u001b[1;34m(self, *args)\u001b[0m\n\u001b[0;32m  17869\u001b[0m \u001b[38;5;28;01mdef\u001b[39;00m \u001b[38;5;21mcleanPrice\u001b[39m(\u001b[38;5;28mself\u001b[39m, \u001b[38;5;241m*\u001b[39margs):\n\u001b[1;32m> 17870\u001b[0m     \u001b[38;5;28;01mreturn\u001b[39;00m \u001b[43m_QuantLib\u001b[49m\u001b[38;5;241;43m.\u001b[39;49m\u001b[43mBond_cleanPrice\u001b[49m\u001b[43m(\u001b[49m\u001b[38;5;28;43mself\u001b[39;49m\u001b[43m,\u001b[49m\u001b[43m \u001b[49m\u001b[38;5;241;43m*\u001b[39;49m\u001b[43margs\u001b[49m\u001b[43m)\u001b[49m\n",
      "\u001b[1;31mRuntimeError\u001b[0m: negative time (-0.00821918) given"
     ]
    }
   ],
   "source": [
    "import QuantLib as ql\n",
    "\n",
    "# Set the evaluation date\n",
    "evaluation_date = ql.Date(29, 9, 2023)\n",
    "ql.Settings.instance().evaluationDate = evaluation_date\n",
    "\n",
    "# Set up the bond parameters\n",
    "issue_date = ql.Date(12, 1, 2022)\n",
    "maturity_date = ql.Date(1, 9, 2052)\n",
    "coupon_rate = 0.03\n",
    "face_value = 1000.0\n",
    "\n",
    "# Define the bond schedule\n",
    "schedule = ql.Schedule(issue_date, maturity_date, ql.Period(ql.Annual), ql.UnitedStates(),\n",
    "                    ql.ModifiedFollowing, ql.ModifiedFollowing,\n",
    "                    ql.DateGeneration.Backward, False)\n",
    "\n",
    "# Create the fixed rate bond\n",
    "fixed_rate_bond = ql.FixedRateBond(0,  # Set to 0 for fixed-rate bond\n",
    "                                   face_value,\n",
    "                                   schedule,\n",
    "                                   [coupon_rate],\n",
    "                                 ql.ActualActual(ql.ActualActual.Bond))\n",
    "# fixedRateBond = ql.FixedRateBond(settlementDays, faceValue, \n",
    "#                                  schedule, coupons, dayCount)\n",
    "\n",
    "# Set the pricing engine\n",
    "\n",
    "day_count = ql.Actual365Fixed()\n",
    "calendar = ql.TARGET()\n",
    "interpolation = ql.Linear()\n",
    "compounding = ql.Compounded\n",
    "compounding_frequency = ql.Semiannual\n",
    "\n",
    "discount_curve = ql.ZeroCurve(dates, rates, day_count, calendar, \n",
    "                        interpolation, compounding, compounding_frequency)\n",
    "discount_curve_handle = ql.YieldTermStructureHandle(discount_curve)\n",
    "discount_curve_handle.enableExtrapolation()\n",
    "\n",
    "fixed_rate_bond.setPricingEngine(ql.DiscountingBondEngine(discount_curve_handle))\n",
    "\n",
    "\n",
    "\n",
    "\n",
    "# Get the bond price\n",
    "bond_price = fixed_rate_bond.cleanPrice()\n",
    "\n",
    "print(f\"Bond Price: {bond_price}\")\n"
   ]
  },
  {
   "cell_type": "code",
   "execution_count": 19,
   "metadata": {},
   "outputs": [],
   "source": [
    "bond = ql.FixedRateBond(2, ql.TARGET(), 100.0, ql.Date(15,12,2019), ql.Date(15,12,2024), ql.Period('1Y'), [0.05], ql.ActualActual(ql.ActualActual.Bond))"
   ]
  },
  {
   "cell_type": "code",
   "execution_count": null,
   "metadata": {},
   "outputs": [],
   "source": []
  },
  {
   "cell_type": "code",
   "execution_count": null,
   "metadata": {},
   "outputs": [],
   "source": []
  },
  {
   "cell_type": "markdown",
   "metadata": {},
   "source": [
    "## OLD"
   ]
  },
  {
   "cell_type": "code",
   "execution_count": 10,
   "metadata": {},
   "outputs": [
    {
     "name": "stdout",
     "output_type": "stream",
     "text": [
      "28.1017826345124\n",
      "39.44282301391349\n",
      "39.24843945226966\n",
      "0.19438356164382942\n",
      "Actual/365 (Fixed) day counter\n",
      "October 4th, 2023\n",
      "     March 1st, 2022     0.282740\n",
      " September 1st, 2022     1.083836\n",
      "     March 1st, 2023     1.066164\n",
      " September 1st, 2023     1.083836\n",
      "     March 1st, 2024     1.072055\n",
      " September 2nd, 2024     1.089726\n",
      "     March 3rd, 2025     1.072055\n",
      " September 1st, 2025     1.072055\n",
      "     March 2nd, 2026     1.072055\n",
      " September 1st, 2026     1.077945\n",
      "     March 1st, 2027     1.066164\n",
      " September 1st, 2027     1.083836\n",
      "     March 1st, 2028     1.072055\n",
      " September 1st, 2028     1.083836\n",
      "     March 1st, 2029     1.066164\n",
      " September 3rd, 2029     1.095616\n",
      "     March 1st, 2030     1.054384\n",
      " September 2nd, 2030     1.089726\n",
      "     March 3rd, 2031     1.072055\n",
      " September 1st, 2031     1.072055\n",
      "     March 1st, 2032     1.072055\n",
      " September 1st, 2032     1.083836\n",
      "     March 1st, 2033     1.066164\n",
      " September 1st, 2033     1.083836\n",
      "     March 1st, 2034     1.066164\n",
      " September 1st, 2034     1.083836\n",
      "     March 1st, 2035     1.066164\n",
      " September 3rd, 2035     1.095616\n",
      "     March 3rd, 2036     1.072055\n",
      " September 1st, 2036     1.072055\n",
      "     March 2nd, 2037     1.072055\n",
      " September 1st, 2037     1.077945\n",
      "     March 1st, 2038     1.066164\n",
      " September 1st, 2038     1.083836\n",
      "     March 1st, 2039     1.066164\n",
      " September 1st, 2039     1.083836\n",
      "     March 1st, 2040     1.072055\n",
      " September 3rd, 2040     1.095616\n",
      "     March 1st, 2041     1.054384\n",
      " September 2nd, 2041     1.089726\n",
      "     March 3rd, 2042     1.072055\n",
      " September 1st, 2042     1.072055\n",
      "     March 2nd, 2043     1.072055\n",
      " September 1st, 2043     1.077945\n",
      "     March 1st, 2044     1.072055\n",
      " September 1st, 2044     1.083836\n",
      "     March 1st, 2045     1.066164\n",
      " September 1st, 2045     1.083836\n",
      "     March 1st, 2046     1.066164\n",
      " September 3rd, 2046     1.095616\n",
      "     March 1st, 2047     1.054384\n",
      " September 2nd, 2047     1.089726\n",
      "     March 2nd, 2048     1.072055\n",
      " September 1st, 2048     1.077945\n",
      "     March 1st, 2049     1.066164\n",
      " September 1st, 2049     1.083836\n",
      "     March 1st, 2050     1.066164\n",
      " September 1st, 2050     1.083836\n",
      "     March 1st, 2051     1.066164\n",
      " September 1st, 2051     1.083836\n",
      "     March 1st, 2052     1.072055\n",
      " September 2nd, 2052     1.089726\n",
      " September 2nd, 2052   100.000000\n"
     ]
    }
   ],
   "source": [
    "#todaysDate = ql.Date(31, 8, 2017)\n",
    "todaysDate = ql.Date(29, 9, 2023)\n",
    "ql.Settings.instance().evaluationDate = todaysDate\n",
    "\n",
    "# mkt info\n",
    "spot_dates = [ql.Date(1,9,2017), ql.Date(5,9,2017), ql.Date(7,9,2017), ql.Date(14,9,2017),   ql.Date(21,9,2017), ql.Date(2,10,2017), ql.Date(31,10,2017), ql.Date(30,11,2017), ql.Date(2,1,2018), ql.Date(31,1,2018), ql.Date(28,2,2018), ql.Date(3,4,2018), ql.Date(30,4,2018)]\n",
    "spot_rates = [0.066682, 0.067199, 0.067502, 0.068526, 0.069462, 0.070742, 0.072984, 0.073566, 0.073174, 0.072844, 0.072610, 0.072467, 0.072366]\n",
    "\n",
    "day_count = ql.Actual365Fixed()\n",
    "calendar = ql.TARGET()\n",
    "interpolation = ql.Linear()\n",
    "compounding = ql.Compounded\n",
    "compounding_frequency = ql.Semiannual\n",
    "\n",
    "spotCurve = ql.ZeroCurve(spot_dates, spot_rates, day_count, calendar, \n",
    "                        interpolation, compounding, compounding_frequency)\n",
    "spotCurveHandle = ql.YieldTermStructureHandle(spotCurve)\n",
    "spotCurveHandle.enableExtrapolation()\n",
    "\n",
    "## bond info\n",
    "issue_date = ql.Date(12, 1, 2022)\n",
    "maturity_date = ql.Date(1, 9, 2052)\n",
    "tenor = ql.Period(ql.Semiannual)\n",
    "bussinessConvention = ql.Following\n",
    "dateGeneration = ql.DateGeneration.Backward\n",
    "monthEnd = False\n",
    "\n",
    "schedule = ql.Schedule (issue_date, maturity_date, tenor, calendar, \n",
    "                        bussinessConvention, bussinessConvention, \n",
    "                        dateGeneration, monthEnd)\n",
    "\n",
    "dayCount = ql.Actual365Fixed()\n",
    "couponRate = 0.0215\n",
    "coupons = [couponRate]\n",
    "\n",
    "settlementDays = 3\n",
    "faceValue = 100\n",
    "fixedRateBond = ql.FixedRateBond(settlementDays, faceValue, schedule, coupons, dayCount)\n",
    "\n",
    "bondEngine = ql.DiscountingBondEngine(spotCurveHandle)\n",
    "fixedRateBond.setPricingEngine(bondEngine)\n",
    "\n",
    "fixedRateBond.NPV()\n",
    "print(fixedRateBond.NPV())\n",
    "print(fixedRateBond.dirtyPrice())\n",
    "print(fixedRateBond.cleanPrice())\n",
    "print(fixedRateBond.accruedAmount())\n",
    "print(fixedRateBond.dayCounter())\n",
    "print(fixedRateBond.settlementDate())\n",
    "\n",
    "for c in fixedRateBond.cashflows():\n",
    "    print('%20s %12f' % (c.date(), c.amount()))"
   ]
  },
  {
   "cell_type": "code",
   "execution_count": 13,
   "metadata": {},
   "outputs": [
    {
     "data": {
      "text/plain": [
       "1.075"
      ]
     },
     "execution_count": 13,
     "metadata": {},
     "output_type": "execute_result"
    }
   ],
   "source": [
    "2.15/2"
   ]
  },
  {
   "cell_type": "code",
   "execution_count": null,
   "metadata": {},
   "outputs": [],
   "source": []
  }
 ],
 "metadata": {
  "kernelspec": {
   "display_name": "Python 3",
   "language": "python",
   "name": "python3"
  },
  "language_info": {
   "codemirror_mode": {
    "name": "ipython",
    "version": 3
   },
   "file_extension": ".py",
   "mimetype": "text/x-python",
   "name": "python",
   "nbconvert_exporter": "python",
   "pygments_lexer": "ipython3",
   "version": "3.10.7"
  }
 },
 "nbformat": 4,
 "nbformat_minor": 2
}
