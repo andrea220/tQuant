{
 "cells": [
  {
   "cell_type": "code",
   "execution_count": 2,
   "metadata": {},
   "outputs": [],
   "source": [
    "import sys\n",
    "sys.path.append('../')\n",
    "\n",
    "from interface.calendar import Calendar\n",
    "from datetime import date, timedelta\n",
    "from dateutil.easter import *\n",
    "###\n",
    "from utilities.time import TimeUnit, BusinessDayConvention\n",
    "from utilities.targetcalendar import TARGET"
   ]
  },
  {
   "cell_type": "markdown",
   "metadata": {},
   "source": [
    "# Adjust for holidays"
   ]
  },
  {
   "cell_type": "code",
   "execution_count": 3,
   "metadata": {},
   "outputs": [],
   "source": [
    "d = date(2024, 3, 31) # easter monday 2024\n",
    "calendar_test = TARGET()"
   ]
  },
  {
   "cell_type": "code",
   "execution_count": 4,
   "metadata": {},
   "outputs": [
    {
     "name": "stdout",
     "output_type": "stream",
     "text": [
      "Is BusinessDay?:  False\n",
      "Is Holiday?:  True\n"
     ]
    }
   ],
   "source": [
    "print('Is BusinessDay?: ' , calendar_test.is_business_day(d))\n",
    "print('Is Holiday?: ' , calendar_test.is_holiday(d))"
   ]
  },
  {
   "cell_type": "code",
   "execution_count": 5,
   "metadata": {},
   "outputs": [
    {
     "name": "stdout",
     "output_type": "stream",
     "text": [
      "Is EoM Unadjasted?:  True\n"
     ]
    }
   ],
   "source": [
    "print('Is EoM Unadjasted?: ' , calendar_test.is_end_of_month(d))"
   ]
  },
  {
   "cell_type": "code",
   "execution_count": 6,
   "metadata": {},
   "outputs": [
    {
     "name": "stdout",
     "output_type": "stream",
     "text": [
      "Following:  2024-04-02\n",
      "ModFol:  2024-03-28\n",
      "Preceding:  2024-03-28\n"
     ]
    }
   ],
   "source": [
    "print(\"Following: \", calendar_test.adjust(d, BusinessDayConvention.Following))\n",
    "print(\"ModFol: \", calendar_test.adjust(d, BusinessDayConvention.ModifiedFollowing)) # equal to preceding since it's an EoM\n",
    "print(\"Preceding: \", calendar_test.adjust(d, BusinessDayConvention.Preceding))"
   ]
  },
  {
   "cell_type": "markdown",
   "metadata": {},
   "source": [
    "# Advance dates "
   ]
  },
  {
   "cell_type": "code",
   "execution_count": 7,
   "metadata": {},
   "outputs": [],
   "source": [
    "start_date = date(2024, 1, 31)\n",
    "n_period = 2\n",
    "period_unit =  TimeUnit.Months\n",
    "\n",
    "advanced_date = calendar_test.advance(start_date,\n",
    "                                        n_period, \n",
    "                                        period_unit,\n",
    "                                        BusinessDayConvention.ModifiedFollowing \n",
    "                                        )"
   ]
  },
  {
   "cell_type": "code",
   "execution_count": 8,
   "metadata": {},
   "outputs": [
    {
     "data": {
      "text/plain": [
       "datetime.date(2024, 3, 28)"
      ]
     },
     "execution_count": 8,
     "metadata": {},
     "output_type": "execute_result"
    }
   ],
   "source": [
    "# 29-30-31 March are holidays\n",
    "# EoM --> take last BD of the month\n",
    "advanced_date"
   ]
  },
  {
   "cell_type": "code",
   "execution_count": 9,
   "metadata": {},
   "outputs": [],
   "source": [
    "advanced_date2 = calendar_test.advance(start_date,\n",
    "                                        n_period, \n",
    "                                        period_unit,\n",
    "                                        BusinessDayConvention.Following\n",
    "                                        )"
   ]
  },
  {
   "cell_type": "code",
   "execution_count": 10,
   "metadata": {},
   "outputs": [
    {
     "data": {
      "text/plain": [
       "datetime.date(2024, 4, 2)"
      ]
     },
     "execution_count": 10,
     "metadata": {},
     "output_type": "execute_result"
    }
   ],
   "source": [
    "# Folowing --> don't care about EoM, just give me the next BD\n",
    "advanced_date2"
   ]
  },
  {
   "cell_type": "markdown",
   "metadata": {},
   "source": [
    "# Add your calendar!"
   ]
  },
  {
   "cell_type": "code",
   "execution_count": 11,
   "metadata": {},
   "outputs": [],
   "source": [
    "class MyCalendarError(Calendar):\n",
    "    def __init__(self) -> None:\n",
    "        pass "
   ]
  },
  {
   "cell_type": "code",
   "execution_count": 12,
   "metadata": {},
   "outputs": [
    {
     "ename": "TypeError",
     "evalue": "Can't instantiate abstract class MyCalendarError with abstract method is_business_day",
     "output_type": "error",
     "traceback": [
      "\u001b[1;31m---------------------------------------------------------------------------\u001b[0m",
      "\u001b[1;31mTypeError\u001b[0m                                 Traceback (most recent call last)",
      "Cell \u001b[1;32mIn [12], line 2\u001b[0m\n\u001b[0;32m      1\u001b[0m \u001b[38;5;66;03m# missing concrete method!\u001b[39;00m\n\u001b[1;32m----> 2\u001b[0m MyCalendarError()\n",
      "\u001b[1;31mTypeError\u001b[0m: Can't instantiate abstract class MyCalendarError with abstract method is_business_day"
     ]
    }
   ],
   "source": [
    "# missing concrete method!\n",
    "MyCalendarError()"
   ]
  },
  {
   "cell_type": "markdown",
   "metadata": {},
   "source": [
    "- make sure to override the abstract method is_business_day"
   ]
  },
  {
   "cell_type": "code",
   "execution_count": 13,
   "metadata": {},
   "outputs": [],
   "source": [
    "class MyCalendar(Calendar):\n",
    "    def __init__(self) -> None:\n",
    "        pass \n",
    "\n",
    "    def is_business_day(self, d: date):\n",
    "        ''' \n",
    "        check se la data in input è un bd oppure no\n",
    "        '''\n",
    "        ny = d.day == 1 and d.month == 1\n",
    "        em = d == easter(d.year) + timedelta(1)\n",
    "        gf = d == easter(d.year) - timedelta(2)\n",
    "        ld = d.day == 1 and d.month == 5\n",
    "        c = d.day == 25 and d.month == 12\n",
    "        cg = d.day == 26 and d.month == 12\n",
    "\n",
    "        if self.is_weekend(d) or ny or gf or em or ld or c or cg:\n",
    "            return False\n",
    "        else:\n",
    "            return True"
   ]
  },
  {
   "cell_type": "code",
   "execution_count": 14,
   "metadata": {},
   "outputs": [
    {
     "data": {
      "text/plain": [
       "<__main__.MyCalendar at 0x1a1cbc4c8e0>"
      ]
     },
     "execution_count": 14,
     "metadata": {},
     "output_type": "execute_result"
    }
   ],
   "source": [
    "MyCalendar()"
   ]
  },
  {
   "cell_type": "code",
   "execution_count": null,
   "metadata": {},
   "outputs": [],
   "source": []
  }
 ],
 "metadata": {
  "kernelspec": {
   "display_name": "Python 3",
   "language": "python",
   "name": "python3"
  },
  "language_info": {
   "codemirror_mode": {
    "name": "ipython",
    "version": 3
   },
   "file_extension": ".py",
   "mimetype": "text/x-python",
   "name": "python",
   "nbconvert_exporter": "python",
   "pygments_lexer": "ipython3",
   "version": "3.10.7"
  }
 },
 "nbformat": 4,
 "nbformat_minor": 2
}
