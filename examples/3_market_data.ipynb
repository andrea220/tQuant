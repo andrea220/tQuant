{
 "cells": [
  {
   "cell_type": "code",
   "execution_count": 1,
   "metadata": {},
   "outputs": [],
   "source": [
    "import sys\n",
    "sys.path.append('../')\n",
    "\n",
    "from engine.globalconfig import GlobalConfig\n",
    "from engine.loader.curveload import MarketDataLoader\n",
    "import tquant as tq"
   ]
  },
  {
   "cell_type": "code",
   "execution_count": 2,
   "metadata": {},
   "outputs": [],
   "source": [
    "config = GlobalConfig.from_json()\n",
    "mdl = MarketDataLoader(config)"
   ]
  },
  {
   "cell_type": "markdown",
   "metadata": {},
   "source": [
    "# Test su curve"
   ]
  },
  {
   "cell_type": "code",
   "execution_count": 3,
   "metadata": {},
   "outputs": [
    {
     "data": {
      "text/plain": [
       "datetime.date(2023, 9, 29)"
      ]
     },
     "execution_count": 3,
     "metadata": {},
     "output_type": "execute_result"
    }
   ],
   "source": [
    "tq.Settings.evaluation_date"
   ]
  },
  {
   "cell_type": "code",
   "execution_count": 4,
   "metadata": {},
   "outputs": [
    {
     "data": {
      "text/html": [
       "<div>\n",
       "<style scoped>\n",
       "    .dataframe tbody tr th:only-of-type {\n",
       "        vertical-align: middle;\n",
       "    }\n",
       "\n",
       "    .dataframe tbody tr th {\n",
       "        vertical-align: top;\n",
       "    }\n",
       "\n",
       "    .dataframe thead th {\n",
       "        text-align: right;\n",
       "    }\n",
       "</style>\n",
       "<table border=\"1\" class=\"dataframe\">\n",
       "  <thead>\n",
       "    <tr style=\"text-align: right;\">\n",
       "      <th></th>\n",
       "      <th>type</th>\n",
       "      <th>start</th>\n",
       "      <th>maturity</th>\n",
       "      <th>tenor</th>\n",
       "      <th>daycount</th>\n",
       "      <th>quote</th>\n",
       "    </tr>\n",
       "  </thead>\n",
       "  <tbody>\n",
       "    <tr>\n",
       "      <th>0</th>\n",
       "      <td>CASH</td>\n",
       "      <td>2023-09-29</td>\n",
       "      <td>2023-10-04</td>\n",
       "      <td>3BD</td>\n",
       "      <td>5</td>\n",
       "      <td>0.04265</td>\n",
       "    </tr>\n",
       "    <tr>\n",
       "      <th>0</th>\n",
       "      <td>CASH</td>\n",
       "      <td>2023-09-29</td>\n",
       "      <td>2023-10-06</td>\n",
       "      <td>1W</td>\n",
       "      <td>7</td>\n",
       "      <td>0.042613</td>\n",
       "    </tr>\n",
       "    <tr>\n",
       "      <th>0</th>\n",
       "      <td>CASH</td>\n",
       "      <td>2023-09-29</td>\n",
       "      <td>2023-10-13</td>\n",
       "      <td>2W</td>\n",
       "      <td>14</td>\n",
       "      <td>0.04259</td>\n",
       "    </tr>\n",
       "    <tr>\n",
       "      <th>0</th>\n",
       "      <td>CASH</td>\n",
       "      <td>2023-09-29</td>\n",
       "      <td>2023-10-20</td>\n",
       "      <td>3W</td>\n",
       "      <td>21</td>\n",
       "      <td>0.042577</td>\n",
       "    </tr>\n",
       "    <tr>\n",
       "      <th>0</th>\n",
       "      <td>CASH</td>\n",
       "      <td>2023-09-29</td>\n",
       "      <td>2023-10-30</td>\n",
       "      <td>1M</td>\n",
       "      <td>31</td>\n",
       "      <td>0.042564</td>\n",
       "    </tr>\n",
       "    <tr>\n",
       "      <th>...</th>\n",
       "      <td>...</td>\n",
       "      <td>...</td>\n",
       "      <td>...</td>\n",
       "      <td>...</td>\n",
       "      <td>...</td>\n",
       "      <td>...</td>\n",
       "    </tr>\n",
       "    <tr>\n",
       "      <th>0</th>\n",
       "      <td>SWAP</td>\n",
       "      <td>2023-09-29</td>\n",
       "      <td>2061-09-29</td>\n",
       "      <td>38Y</td>\n",
       "      <td>13880</td>\n",
       "      <td>0.031561</td>\n",
       "    </tr>\n",
       "    <tr>\n",
       "      <th>0</th>\n",
       "      <td>SWAP</td>\n",
       "      <td>2023-09-29</td>\n",
       "      <td>2062-09-29</td>\n",
       "      <td>39Y</td>\n",
       "      <td>14245</td>\n",
       "      <td>0.031389</td>\n",
       "    </tr>\n",
       "    <tr>\n",
       "      <th>0</th>\n",
       "      <td>SWAP</td>\n",
       "      <td>2023-09-29</td>\n",
       "      <td>2063-09-28</td>\n",
       "      <td>40Y</td>\n",
       "      <td>14609</td>\n",
       "      <td>0.03122</td>\n",
       "    </tr>\n",
       "    <tr>\n",
       "      <th>0</th>\n",
       "      <td>SWAP</td>\n",
       "      <td>2023-09-29</td>\n",
       "      <td>2073-09-29</td>\n",
       "      <td>50Y</td>\n",
       "      <td>18263</td>\n",
       "      <td>0.0297</td>\n",
       "    </tr>\n",
       "    <tr>\n",
       "      <th>0</th>\n",
       "      <td>SWAP</td>\n",
       "      <td>2023-09-29</td>\n",
       "      <td>2083-09-29</td>\n",
       "      <td>60Y</td>\n",
       "      <td>21915</td>\n",
       "      <td>0.02865</td>\n",
       "    </tr>\n",
       "  </tbody>\n",
       "</table>\n",
       "<p>68 rows × 6 columns</p>\n",
       "</div>"
      ],
      "text/plain": [
       "    type       start    maturity tenor daycount     quote\n",
       "0   CASH  2023-09-29  2023-10-04   3BD        5   0.04265\n",
       "0   CASH  2023-09-29  2023-10-06    1W        7  0.042613\n",
       "0   CASH  2023-09-29  2023-10-13    2W       14   0.04259\n",
       "0   CASH  2023-09-29  2023-10-20    3W       21  0.042577\n",
       "0   CASH  2023-09-29  2023-10-30    1M       31  0.042564\n",
       "..   ...         ...         ...   ...      ...       ...\n",
       "0   SWAP  2023-09-29  2061-09-29   38Y    13880  0.031561\n",
       "0   SWAP  2023-09-29  2062-09-29   39Y    14245  0.031389\n",
       "0   SWAP  2023-09-29  2063-09-28   40Y    14609   0.03122\n",
       "0   SWAP  2023-09-29  2073-09-29   50Y    18263    0.0297\n",
       "0   SWAP  2023-09-29  2083-09-29   60Y    21915   0.02865\n",
       "\n",
       "[68 rows x 6 columns]"
      ]
     },
     "execution_count": 4,
     "metadata": {},
     "output_type": "execute_result"
    }
   ],
   "source": [
    "mdl.ir_eur_curve_12m\n"
   ]
  },
  {
   "cell_type": "code",
   "execution_count": null,
   "metadata": {},
   "outputs": [],
   "source": []
  },
  {
   "cell_type": "markdown",
   "metadata": {},
   "source": [
    "# Test su vola"
   ]
  },
  {
   "cell_type": "code",
   "execution_count": null,
   "metadata": {},
   "outputs": [],
   "source": []
  },
  {
   "cell_type": "code",
   "execution_count": null,
   "metadata": {},
   "outputs": [],
   "source": []
  },
  {
   "cell_type": "code",
   "execution_count": null,
   "metadata": {},
   "outputs": [],
   "source": []
  }
 ],
 "metadata": {
  "kernelspec": {
   "display_name": "Python 3",
   "language": "python",
   "name": "python3"
  },
  "language_info": {
   "codemirror_mode": {
    "name": "ipython",
    "version": 3
   },
   "file_extension": ".py",
   "mimetype": "text/x-python",
   "name": "python",
   "nbconvert_exporter": "python",
   "pygments_lexer": "ipython3",
   "version": "3.10.7"
  }
 },
 "nbformat": 4,
 "nbformat_minor": 2
}
