{
 "cells": [
  {
   "cell_type": "code",
   "execution_count": 1,
   "metadata": {},
   "outputs": [],
   "source": [
    "import sys\n",
    "sys.path.append('../')\n",
    "\n",
    "import tquant as tq\n",
    "\n",
    "# from datetime import date, timedelta\n",
    "# import tensorflow as tf\n",
    "# import pandas as pd\n",
    "from datastore import *"
   ]
  },
  {
   "cell_type": "code",
   "execution_count": 2,
   "metadata": {},
   "outputs": [],
   "source": [
    "def modifica_stringhe(lista_stringhe):\n",
    "    # Lista per memorizzare le stringhe modificate\n",
    "    stringhe_modificate = []\n",
    "    \n",
    "    # Rimozione del prefisso FRA\n",
    "    prefisso = \"FRA-\"\n",
    "    for stringa in lista_stringhe:\n",
    "        if stringa.startswith(prefisso):\n",
    "            stringa = stringa[len(prefisso):]\n",
    "        stringhe_modificate.append(stringa)\n",
    "\n",
    "    # Dizionario delle sostituzioni\n",
    "    sostituzioni = {\n",
    "        \"1BD\": \"O/N\",\n",
    "        \"2BD\": \"T/N\",\n",
    "        \"3BD\": \"S/N\",\n",
    "        \"CASH\": \"depo\",\n",
    "        \"SWAP\": \"ois\",\n",
    "        \"FRA\": \"fra\",\n",
    "    }\n",
    "\n",
    "    # Lista temporanea per memorizzare le stringhe modificate ulteriormente\n",
    "    stringhe_modificate_finali = []\n",
    "\n",
    "    # Iterare su ciascuna stringa nella lista delle stringhe modificate\n",
    "    for stringa in stringhe_modificate:\n",
    "        for chiave, valore in sostituzioni.items():\n",
    "            stringa = stringa.replace(chiave, valore)\n",
    "        stringhe_modificate_finali.append(stringa)\n",
    "    \n",
    "    return stringhe_modificate_finali"
   ]
  },
  {
   "cell_type": "code",
   "execution_count": 3,
   "metadata": {},
   "outputs": [],
   "source": [
    "import math\n",
    "\n",
    "def entropy(data):\n",
    "    label_counts = {}\n",
    "    for entry in data:\n",
    "        label = entry[-1]\n",
    "        if label in label_counts:\n",
    "            label_counts[label] += 1\n",
    "        else:\n",
    "            label_counts[label] = 1\n",
    "    entropy = 0.0\n",
    "    for label in label_counts:\n",
    "        prob = label_counts[label] / len(data)\n",
    "        entropy -= prob * math.log2(prob)\n",
    "    return entropy\n",
    "\n",
    "def information_gain(data, attribute_index):\n",
    "    attribute_values = {}\n",
    "    for entry in data:\n",
    "        attr_val = entry[attribute_index]\n",
    "        if attr_val in attribute_values:\n",
    "            attribute_values[attr_val].append(entry)\n",
    "        else:\n",
    "            attribute_values[attr_val] = [entry]\n",
    "    gain = entropy(data)\n",
    "    for attr_val in attribute_values:\n",
    "        subset = attribute_values[attr_val]\n",
    "        prob = len(subset) / len(data)\n",
    "        gain -= prob * entropy(subset)\n",
    "    return gain\n",
    "\n",
    "def id3(data, attributes):\n",
    "    labels = [entry[-1] for entry in data]\n",
    "    if len(set(labels)) == 1:\n",
    "        return labels[0]\n",
    "    if len(attributes) == 0:\n",
    "        return max(set(labels), key=labels.count)\n",
    "    gains = [information_gain(data, i) for i in range(len(attributes))]\n",
    "    best_attr_index = gains.index(max(gains))\n",
    "    best_attr = attributes[best_attr_index]\n",
    "\n",
    "    tree = {best_attr: {}}\n",
    "    # del attributes[best_attr_index]\n",
    "\n",
    "    attribute_values = set([entry[best_attr_index] for entry in data])\n",
    "    for value in attribute_values:\n",
    "        subset = [entry[:] for entry in data if entry[best_attr_index] == value]\n",
    "        subtree = id3(subset, attributes[:])\n",
    "        tree[best_attr][value] = subtree\n",
    "    return tree\n",
    "\n",
    "def classify(instance, tree, attributes):\n",
    "    if isinstance(tree, str):\n",
    "        return tree\n",
    "    else:\n",
    "        attr = list(tree.keys())[0]\n",
    "        attr_value = \"\"\n",
    "        if any(attr in key for key in instance.keys()):\n",
    "            attr_value = instance[attr]\n",
    "        subtree = tree[attr][attr_value]\n",
    "        return classify(instance, subtree, attributes)\n",
    "\n",
    "class CurveAssignment:\n",
    "    def __init__(self, data, attributes):\n",
    "        self.tree = id3(data, attributes)\n",
    "        self.attributes = attributes\n",
    "\n",
    "    def get_curve_name(self, instance):\n",
    "        return classify(instance, self.tree, self.attributes)\n",
    "\n"
   ]
  },
  {
   "cell_type": "code",
   "execution_count": 17,
   "metadata": {},
   "outputs": [],
   "source": [
    "tq.Settings.evaluation_date = date(2024, 4, 30)\n",
    "\n",
    "deposit_builder = tq.DepositHelper(tq.Currency.EUR,\n",
    "                    2,\n",
    "                    tq.BusinessDayConvention.ModifiedFollowing,\n",
    "                    tq.DayCounterConvention.Actual360,\n",
    "                    1.0)\n",
    "\n",
    "ois_builder = tq.OisHelper(tq.Currency.EUR,\n",
    "                        2,\n",
    "                        2,\n",
    "                        \"1Y\",\n",
    "                        \"1Y\",\n",
    "                        tq.BusinessDayConvention.ModifiedFollowing,\n",
    "                        1.0,\n",
    "                        tq.DayCounterConvention.Actual360,\n",
    "                        tq.DayCounterConvention.Actual360)"
   ]
  },
  {
   "cell_type": "code",
   "execution_count": null,
   "metadata": {},
   "outputs": [],
   "source": []
  },
  {
   "cell_type": "code",
   "execution_count": null,
   "metadata": {},
   "outputs": [],
   "source": []
  },
  {
   "cell_type": "code",
   "execution_count": null,
   "metadata": {},
   "outputs": [],
   "source": []
  },
  {
   "cell_type": "code",
   "execution_count": null,
   "metadata": {},
   "outputs": [],
   "source": []
  },
  {
   "cell_type": "code",
   "execution_count": 23,
   "metadata": {},
   "outputs": [],
   "source": [
    "#bootstrap della estr\n",
    "generators = modifica_stringhe(ir_eur_curve_estr['type'])\n",
    "maturities = list(modifica_stringhe(ir_eur_curve_estr['tenor']))\n",
    "data = [[\"EUR\", \"DISCOUNT\", \"\", \"EUR:ESTR\"]]\n",
    "attributes = [\"CCY\", \"USAGE\"]"
   ]
  },
  {
   "cell_type": "code",
   "execution_count": 24,
   "metadata": {},
   "outputs": [],
   "source": [
    "curve_assignment = CurveAssignment(data, attributes)"
   ]
  },
  {
   "cell_type": "code",
   "execution_count": 25,
   "metadata": {},
   "outputs": [
    {
     "name": "stdout",
     "output_type": "stream",
     "text": [
      "EUR:ESTR\n"
     ]
    }
   ],
   "source": [
    "instance = {\"CCY\": \"EUR\", \"USAGE\": \"DISCOUNT\"}\n",
    "print(curve_assignment.get_curve_name(instance))"
   ]
  },
  {
   "cell_type": "code",
   "execution_count": null,
   "metadata": {},
   "outputs": [],
   "source": []
  }
 ],
 "metadata": {
  "kernelspec": {
   "display_name": "Python 3",
   "language": "python",
   "name": "python3"
  },
  "language_info": {
   "codemirror_mode": {
    "name": "ipython",
    "version": 3
   },
   "file_extension": ".py",
   "mimetype": "text/x-python",
   "name": "python",
   "nbconvert_exporter": "python",
   "pygments_lexer": "ipython3",
   "version": "3.10.7"
  }
 },
 "nbformat": 4,
 "nbformat_minor": 2
}
