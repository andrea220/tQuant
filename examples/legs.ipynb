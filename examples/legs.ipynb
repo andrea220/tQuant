{
 "cells": [
  {
   "cell_type": "code",
   "execution_count": 1,
   "metadata": {},
   "outputs": [],
   "source": [
    "import sys\n",
    "sys.path.append('../')\n",
    "from abc import ABC, abstractmethod\n",
    "import pandas as pd\n",
    "from datetime import date, timedelta\n",
    "from enum import Enum\n",
    "from structures.ratecurves import *\n",
    "from interface.coupon import *\n",
    "from structures.compounding import *\n",
    "from structures.interestrate import *\n",
    "from utilities.time import *\n",
    "#\n",
    "from interface.fixedleg import *\n",
    "from interface.floatingleg import *\n",
    "from interface.index import *\n"
   ]
  },
  {
   "cell_type": "markdown",
   "metadata": {},
   "source": [
    "# Market instance"
   ]
  },
  {
   "cell_type": "code",
   "execution_count": 2,
   "metadata": {},
   "outputs": [],
   "source": [
    "# import curva\n",
    "market_dfs = pd.read_csv('../data/Market_DFs_20230621.csv', \n",
    "                            skiprows= 2,\n",
    "                            on_bad_lines='skip')\n",
    "df = market_dfs[market_dfs['Property'].str.contains(\"IR.EUR-ESTR-ON.DF\")][['Property', 'Label']]\n",
    "dates = []\n",
    "for i in range(len(df['Property'].values)):\n",
    "    str_temp = df['Property'].values[i][18:29]\n",
    "    dates.append(datetime.strptime(str_temp, '%d-%b-%Y') )\n",
    "    \n",
    "dfs_pillars = [(dates[t]-dates[0]).days/365 for t in range(len(dates))]\n",
    "dfs_market = df['Label'].values\n",
    "\n",
    "disc_curve = DiscountCurveSimple(dfs_pillars, dfs_market)"
   ]
  },
  {
   "cell_type": "markdown",
   "metadata": {},
   "source": [
    "# Fixed Leg Price"
   ]
  },
  {
   "cell_type": "code",
   "execution_count": 3,
   "metadata": {},
   "outputs": [
    {
     "name": "stdout",
     "output_type": "stream",
     "text": [
      "NPV FixedLeg: 48,242,121\n"
     ]
    }
   ],
   "source": [
    "evaluation_date = date(2023, 6, 21)\n",
    "start_date = date(2015,12,31)\n",
    "fixed_schedule = [start_date]\n",
    "fixed_schedule.extend([start_date + timedelta(365 *.5 *i) for i in range(1,51)])\n",
    "fixed_rate = [0.04156]*(len(fixed_schedule)-1)\n",
    "fixed_notional = [143857602,142099704,140995554,139343227,138170625,136487409,135100610,133235348,131633135,130088055,\n",
    "                128443001,126527961,124478813,122046073,119540895,117334856,115325682,113682288,112374057,110400222,108996590,\n",
    "                107427609,106277787,104934949,103826978,102318265,101011839,99241108,97427949,95062460,92643968,89488286,86306759,\n",
    "                82654668,79233393,75249260,71491885,67239725,63147273,58562602,54101515,49235670,44484930,39276217,34122360,28587822,\n",
    "                23186787,17327243,11581997,5627771]\n",
    "leg1 = FixedRateLeg(fixed_schedule, fixed_notional, fixed_rate)\n",
    "\n",
    "npv_value = leg1.npv(discount_curve= disc_curve,\n",
    "                    evaluation_date=evaluation_date)\n",
    "print(f\"NPV FixedLeg: {npv_value :,.0f}\")"
   ]
  },
  {
   "cell_type": "markdown",
   "metadata": {},
   "source": [
    "##### QuantLib check"
   ]
  },
  {
   "cell_type": "code",
   "execution_count": 4,
   "metadata": {},
   "outputs": [
    {
     "name": "stdout",
     "output_type": "stream",
     "text": [
      "NPV FixedLeg TQ: 48,242,121\n",
      "NPV FixedLeg QL: 48,926,821\n"
     ]
    }
   ],
   "source": [
    "import QuantLib as ql\n",
    "def curve_estr(Market_DFs):\n",
    "    df = Market_DFs[Market_DFs['Property'].str.contains(\"IR.EUR-ESTR-ON.DF\")][['Property', 'Label']]\n",
    "    date_format = '%d-%b-%Y'\n",
    "    dates_QuantLib = []\n",
    "    for i in range(len(df['Property'].values)):\n",
    "        str_temp = df['Property'].values[i][18:29]\n",
    "        datetime_obj = datetime.strptime(str_temp, date_format)\n",
    "        dates_QuantLib.append(ql.Date.from_date(datetime_obj))\n",
    "\n",
    "    DFs = df['Label'].values\n",
    "    yieldTermStructure = ql.DiscountCurve(dates_QuantLib, DFs, ql.Actual360(), ql.TARGET())\n",
    "    yieldTermStructure.enableExtrapolation()\n",
    "    return yieldTermStructure\n",
    "\n",
    "disc_curve_ql = curve_estr(market_dfs)\n",
    "start_date_ql = ql.Date(31,12,2015)\n",
    "end_date_ql = ql.Date(31,12,2040)\n",
    "fixed_tenor_ql = ql.Period('6M')\n",
    "fixed_schedule_ql = ql.MakeSchedule(start_date_ql, end_date_ql, fixed_tenor_ql)\n",
    "leg_ql = ql.FixedRateLeg(fixed_schedule_ql, ql.Actual360(), fixed_notional, fixed_rate)\n",
    "ql.Settings.instance().evaluationDate = ql.Date(21,6,2023)\n",
    "\n",
    "print(f\"NPV FixedLeg TQ: {npv_value :,.0f}\")\n",
    "print(f\"NPV FixedLeg QL: {ql.CashFlows.npv(leg_ql, ql.YieldTermStructureHandle(disc_curve_ql), True) :,.0f}\")"
   ]
  },
  {
   "cell_type": "markdown",
   "metadata": {},
   "source": [
    "# Floating Leg Price"
   ]
  },
  {
   "cell_type": "code",
   "execution_count": 5,
   "metadata": {},
   "outputs": [],
   "source": [
    "floating_schedule = [start_date]\n",
    "floating_schedule.extend([start_date + timedelta(365 *.5 *i) for i in range(1,51)])\n",
    "\n",
    "floating_notional = [0,0,0,0,0,0,0,0,0,0,\n",
    "    128443001,126527961,124478813,122046073,119540895,117334856,115325682,113682288,112374057,110400222,108996590,\n",
    "    107427609,106277787,104934949,103826978,102318265,101011839,99241108,97427949,95062460,92643968,89488286,86306759,\n",
    "    82654668,79233393,75249260,71491885,67239725,63147273,58562602,54101515,49235670,44484930,39276217,34122360,28587822,\n",
    "    23186787,17327243,11581997,5627771]\n",
    "\n",
    "index_6m = CurveRateIndex(\"EUR6M\", \"calendar\", disc_curve, \"6M\")\n",
    "spread = [0.] *(len(floating_schedule)-1)\n",
    "gearing = [1.] *(len(floating_schedule)-1)\n",
    "\n",
    "float_leg = FloatingRateLeg(floating_schedule,\n",
    "                            floating_notional,\n",
    "                            gearing,\n",
    "                            spread,\n",
    "                            index_6m)\n",
    "index_6m.add_fixing(date(2022,12,29), 0.03)\n",
    "\n",
    "npv_float = float_leg.npv(disc_curve, evaluation_date)"
   ]
  },
  {
   "cell_type": "markdown",
   "metadata": {},
   "source": [
    "##### QuantLib check"
   ]
  },
  {
   "cell_type": "code",
   "execution_count": 6,
   "metadata": {},
   "outputs": [
    {
     "name": "stdout",
     "output_type": "stream",
     "text": [
      "NPV FixedLeg TQ: 33,339,462\n",
      "NPV FixedLeg QL: 33,376,616\n"
     ]
    }
   ],
   "source": [
    "start_date = ql.Date(31,12,2015)\n",
    "end_date = ql.Date(31,12,2040)\n",
    "\n",
    "floating_tenor = ql.Period('6M')\n",
    "floating_schedule = ql.MakeSchedule(start_date, end_date, floating_tenor)\n",
    "floatDayCount = ql.Actual360()\n",
    "index_eur6m_ql = ql.Euribor6M(ql.YieldTermStructureHandle(disc_curve_ql))\n",
    "index_eur6m_ql.addFixing(ql.Date(29,12,2022), 0.03)\n",
    "\n",
    "leg2_ql = ql.IborLeg(floating_notional, floating_schedule, index_eur6m_ql)\n",
    "\n",
    "print(f\"NPV FixedLeg TQ: {npv_float :,.0f}\")\n",
    "print(f\"NPV FixedLeg QL: {ql.CashFlows.npv(leg2_ql, ql.YieldTermStructureHandle(disc_curve_ql), True) :,.0f}\")"
   ]
  },
  {
   "cell_type": "code",
   "execution_count": null,
   "metadata": {},
   "outputs": [],
   "source": []
  },
  {
   "cell_type": "code",
   "execution_count": null,
   "metadata": {},
   "outputs": [],
   "source": []
  },
  {
   "cell_type": "code",
   "execution_count": null,
   "metadata": {},
   "outputs": [],
   "source": []
  },
  {
   "cell_type": "code",
   "execution_count": null,
   "metadata": {},
   "outputs": [],
   "source": []
  },
  {
   "cell_type": "code",
   "execution_count": null,
   "metadata": {},
   "outputs": [],
   "source": []
  }
 ],
 "metadata": {
  "kernelspec": {
   "display_name": "base",
   "language": "python",
   "name": "python3"
  },
  "language_info": {
   "codemirror_mode": {
    "name": "ipython",
    "version": 3
   },
   "file_extension": ".py",
   "mimetype": "text/x-python",
   "name": "python",
   "nbconvert_exporter": "python",
   "pygments_lexer": "ipython3",
   "version": "3.10.7"
  }
 },
 "nbformat": 4,
 "nbformat_minor": 2
}
