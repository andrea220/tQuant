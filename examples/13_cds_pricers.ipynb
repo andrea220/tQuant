{
 "cells": [
  {
   "cell_type": "code",
   "execution_count": 1,
   "metadata": {},
   "outputs": [
    {
     "name": "stdout",
     "output_type": "stream",
     "text": [
      "WARNING:tensorflow:From c:\\Users\\lm.329\\AppData\\Local\\anaconda3\\Lib\\site-packages\\keras\\src\\losses.py:2976: The name tf.losses.sparse_softmax_cross_entropy is deprecated. Please use tf.compat.v1.losses.sparse_softmax_cross_entropy instead.\n",
      "\n",
      "WARNING:tensorflow:From c:\\Users\\lm.329\\AppData\\Local\\anaconda3\\Lib\\site-packages\\tensorflow_probability\\python\\internal\\backend\\numpy\\_utils.py:48: The name tf.logging.TaskLevelStatusMessage is deprecated. Please use tf.compat.v1.logging.TaskLevelStatusMessage instead.\n",
      "\n",
      "WARNING:tensorflow:From c:\\Users\\lm.329\\AppData\\Local\\anaconda3\\Lib\\site-packages\\tensorflow_probability\\python\\internal\\backend\\numpy\\_utils.py:48: The name tf.control_flow_v2_enabled is deprecated. Please use tf.compat.v1.control_flow_v2_enabled instead.\n",
      "\n"
     ]
    }
   ],
   "source": [
    "import sys\n",
    "sys.path.append('../')\n",
    "\n",
    "import tquant as tq\n",
    "from engine.globalconfig import GlobalConfig\n",
    "from engine.loader.curveload import MarketDataLoader\n",
    "\n",
    "from datetime import date, timedelta\n",
    "import tensorflow as tf\n",
    "import pandas as pd\n",
    "\n",
    "import QuantLib as ql"
   ]
  },
  {
   "cell_type": "code",
   "execution_count": 2,
   "metadata": {},
   "outputs": [
    {
     "data": {
      "text/plain": [
       "datetime.date(2023, 9, 29)"
      ]
     },
     "execution_count": 2,
     "metadata": {},
     "output_type": "execute_result"
    }
   ],
   "source": [
    "config = GlobalConfig.from_json()\n",
    "mdl = MarketDataLoader(config)\n",
    "tq.Settings.evaluation_date"
   ]
  },
  {
   "cell_type": "code",
   "execution_count": 3,
   "metadata": {},
   "outputs": [],
   "source": [
    "calendar = tq.TARGET()\n",
    "daycounter = tq.DayCounter(tq.DayCounterConvention.Actual360)\n",
    "evaluation_date = tq.Settings.evaluation_date"
   ]
  },
  {
   "cell_type": "code",
   "execution_count": 4,
   "metadata": {},
   "outputs": [],
   "source": [
    "rates = mdl.ir_eur_curve_estr['quote'].values\n",
    "times = mdl.ir_eur_curve_estr['daycount'].values/365"
   ]
  },
  {
   "cell_type": "code",
   "execution_count": 5,
   "metadata": {},
   "outputs": [],
   "source": [
    "today = ql.Date(29,9,2023)\n",
    "ql.Settings.instance().evaluationDate = today\n",
    "\n",
    "sp = [1.0, 0.9941, 0.9826, 0.9674, 0.9488, 0.9246, 0.8945, 0.8645, 0.83484, 0.80614, 0.7784]\n",
    "dp = [1 - s for s in sp]\n",
    "ql_times = [today + int(day*365) for day in times]\n",
    "ql_times_sp = [today + int(n*365) for n in range(11)]\n",
    "times_sp = [0 + int(n) for n in range(11)]\n",
    "\n",
    "estr_curve = tq.RateCurve(times, rates)\n",
    "default_curve = tq.SurvivalProbabilityCurve(times_sp, sp)"
   ]
  },
  {
   "cell_type": "code",
   "execution_count": 6,
   "metadata": {},
   "outputs": [],
   "source": [
    "ql_crv = ql.SurvivalProbabilityCurve(ql_times_sp, sp, ql.Actual365Fixed(), ql.TARGET())\n",
    "ql_crv.enableExtrapolation()\n",
    "\n",
    "ql_estr_curve = ql.ZeroCurve(ql_times,rates,ql.Actual365Fixed())\n",
    "ql_estr_handle = ql.RelinkableYieldTermStructureHandle()\n",
    "ql_estr_handle.linkTo(ql_estr_curve)"
   ]
  },
  {
   "cell_type": "code",
   "execution_count": 7,
   "metadata": {},
   "outputs": [],
   "source": [
    "probability = ql.DefaultProbabilityTermStructureHandle(ql_crv)\n",
    "recoveryRate = 0.4\n",
    "integralStep = ql.Period('1d')\n",
    "engine = ql.IntegralCdsEngine(integralStep,probability, recoveryRate, ql_estr_handle)\n"
   ]
  },
  {
   "cell_type": "code",
   "execution_count": 8,
   "metadata": {},
   "outputs": [
    {
     "name": "stdout",
     "output_type": "stream",
     "text": [
      "-12026.923702065273\n",
      "9474.042901271438\n",
      "-21500.96660333671\n"
     ]
    }
   ],
   "source": [
    "spread = 34.6 / 10000\n",
    "nominal = 1000000\n",
    "\n",
    "cdsSchedule = ql.MakeSchedule(ql.Date(22,3,2024), \n",
    "                              ql.Date(22, 3, 2027), \n",
    "                              ql.Period('3M'),\n",
    "                              ql.Quarterly, \n",
    "                              ql.TARGET(), \n",
    "                              ql.Following\n",
    "                              )\n",
    "\n",
    "cds = ql.CreditDefaultSwap(ql.Protection.Seller, nominal, spread, cdsSchedule, ql.Following, ql.Actual365Fixed())\n",
    "\n",
    "cds.setPricingEngine(engine)\n",
    "\n",
    "print(cds.NPV())\n",
    "print(cds.couponLegNPV())\n",
    "print(cds.defaultLegNPV())"
   ]
  },
  {
   "cell_type": "code",
   "execution_count": 9,
   "metadata": {},
   "outputs": [
    {
     "name": "stdout",
     "output_type": "stream",
     "text": [
      "-12062.8282329174\n"
     ]
    }
   ],
   "source": [
    "# --------------\n",
    "# Premium leg\n",
    "start_date = date(2024, 3, 22)\n",
    "fixed_schedule = [start_date]\n",
    "fixed_schedule.extend([start_date + timedelta(365 *.25 *i) for i in range(1,13)])\n",
    "fixed_spread = [34.6 / 10000]*len(fixed_schedule)\n",
    "fixed_notional = [1000000]*len(fixed_schedule)\n",
    "fixed_daycounter = tq.DayCounter(tq.DayCounterConvention.Actual365)\n",
    "swap_type = tq.SwapType.Payer\n",
    "\n",
    "premium_leg = tq.PremiumLeg(fixed_schedule, \n",
    "                            fixed_notional, \n",
    "                            fixed_spread, \n",
    "                            fixed_daycounter,\n",
    "                            tq.CompoundingType.Simple, \n",
    "                            tq.Frequency.Quarterly\n",
    "                            )\n",
    "# --------------\n",
    "# floating leg\n",
    "default_schedule = [start_date]\n",
    "default_schedule.extend([start_date + timedelta(365 *.25 *i) for i in range(1,13)])\n",
    "\n",
    "floating_notional = [1000000]*len(default_schedule)\n",
    "floating_daycounter = tq.DayCounter(tq.DayCounterConvention.Actual365)\n",
    "\n",
    "default_leg = tq.DefaultLeg(default_schedule, \n",
    "                            floating_notional, \n",
    "                            recoveryRate, \n",
    "                            floating_daycounter,\n",
    "                            tq.CompoundingType.Simple, \n",
    "                            tq.Frequency.Quarterly\n",
    "                            )\n",
    "# --------------\n",
    "# cds object\n",
    "\n",
    "cds = tq.CreditDefaultSwap.from_legs(swap_type, \n",
    "                           premium_leg,\n",
    "                           default_leg)\n",
    "\n",
    "cds_engine = tq.CDSAnalyticEngine(cds)\n",
    "\n",
    "npv_cds = cds_engine.price(estr_curve, default_curve, evaluation_date)\n",
    "print(npv_cds.numpy())"
   ]
  },
  {
   "cell_type": "code",
   "execution_count": 10,
   "metadata": {},
   "outputs": [
    {
     "name": "stdout",
     "output_type": "stream",
     "text": [
      "[datetime.date(2024, 3, 22), datetime.date(2024, 6, 21), datetime.date(2024, 9, 20), datetime.date(2024, 12, 20), datetime.date(2025, 3, 22), datetime.date(2025, 6, 21), datetime.date(2025, 9, 20), datetime.date(2025, 12, 20), datetime.date(2026, 3, 22), datetime.date(2026, 6, 21), datetime.date(2026, 9, 20), datetime.date(2026, 12, 20), datetime.date(2027, 3, 22)]\n"
     ]
    }
   ],
   "source": [
    "print(fixed_schedule)"
   ]
  },
  {
   "cell_type": "code",
   "execution_count": 11,
   "metadata": {},
   "outputs": [
    {
     "name": "stdout",
     "output_type": "stream",
     "text": [
      "tf.Tensor(0.9617597256015296, shape=(), dtype=float64)\n",
      "0.9618675656625507\n"
     ]
    }
   ],
   "source": [
    "print(estr_curve.discount(1))\n",
    "print(ql_estr_curve.discount(ql.Date(29,9,2024)))"
   ]
  },
  {
   "cell_type": "code",
   "execution_count": 12,
   "metadata": {},
   "outputs": [
    {
     "name": "stdout",
     "output_type": "stream",
     "text": [
      "2023-09-29\n",
      "September 29th, 2023\n",
      "tf.Tensor(0.9673485462048487, shape=(), dtype=float64)\n",
      "tf.Tensor(1.0, shape=(), dtype=float64) 0\n",
      "tf.Tensor(0.9941, shape=(), dtype=float64) 1\n",
      "tf.Tensor(0.9826, shape=(), dtype=float64) 2\n",
      "tf.Tensor(0.9674, shape=(), dtype=float64) 3\n",
      "tf.Tensor(0.9488, shape=(), dtype=float64) 4\n",
      "tf.Tensor(0.9246, shape=(), dtype=float64) 5\n",
      "tf.Tensor(0.8945, shape=(), dtype=float64) 6\n",
      "tf.Tensor(0.8645, shape=(), dtype=float64) 7\n",
      "tf.Tensor(0.83484, shape=(), dtype=float64) 8\n",
      "tf.Tensor(0.80614, shape=(), dtype=float64) 9\n",
      "tf.Tensor(0.7784, shape=(), dtype=float64) 10\n",
      "0.9673490410958905\n"
     ]
    }
   ],
   "source": [
    "print(evaluation_date)\n",
    "print(today)\n",
    "print(default_curve.survival_probability(tq.date(2026,9,29), \n",
    "                                         tq.DayCounter(tq.DayCounterConvention.Actual365), \n",
    "                                         evaluation_date))\n",
    "for p,d in zip (default_curve.survival_probabilities,default_curve.pillars):\n",
    "    print(p,d)\n",
    "print(ql_crv.survivalProbability(ql.Date(29,9,2026)))"
   ]
  },
  {
   "cell_type": "code",
   "execution_count": 13,
   "metadata": {},
   "outputs": [
    {
     "data": {
      "text/html": [
       "<div>\n",
       "<style scoped>\n",
       "    .dataframe tbody tr th:only-of-type {\n",
       "        vertical-align: middle;\n",
       "    }\n",
       "\n",
       "    .dataframe tbody tr th {\n",
       "        vertical-align: top;\n",
       "    }\n",
       "\n",
       "    .dataframe thead th {\n",
       "        text-align: right;\n",
       "    }\n",
       "</style>\n",
       "<table border=\"1\" class=\"dataframe\">\n",
       "  <thead>\n",
       "    <tr style=\"text-align: right;\">\n",
       "      <th></th>\n",
       "      <th>start_period</th>\n",
       "      <th>end_period</th>\n",
       "      <th>payment_date</th>\n",
       "      <th>notional</th>\n",
       "      <th>recovery</th>\n",
       "      <th>accrual</th>\n",
       "      <th>day_counter</th>\n",
       "    </tr>\n",
       "  </thead>\n",
       "  <tbody>\n",
       "    <tr>\n",
       "      <th>0</th>\n",
       "      <td>2024-03-22</td>\n",
       "      <td>2024-03-23</td>\n",
       "      <td>2024-03-23</td>\n",
       "      <td>1000000</td>\n",
       "      <td>0.4</td>\n",
       "      <td>0.00274</td>\n",
       "      <td>Actual365</td>\n",
       "    </tr>\n",
       "    <tr>\n",
       "      <th>0</th>\n",
       "      <td>2024-03-23</td>\n",
       "      <td>2024-03-24</td>\n",
       "      <td>2024-03-24</td>\n",
       "      <td>1000000</td>\n",
       "      <td>0.4</td>\n",
       "      <td>0.00274</td>\n",
       "      <td>Actual365</td>\n",
       "    </tr>\n",
       "    <tr>\n",
       "      <th>0</th>\n",
       "      <td>2024-03-24</td>\n",
       "      <td>2024-03-25</td>\n",
       "      <td>2024-03-25</td>\n",
       "      <td>1000000</td>\n",
       "      <td>0.4</td>\n",
       "      <td>0.00274</td>\n",
       "      <td>Actual365</td>\n",
       "    </tr>\n",
       "    <tr>\n",
       "      <th>0</th>\n",
       "      <td>2024-03-25</td>\n",
       "      <td>2024-03-26</td>\n",
       "      <td>2024-03-26</td>\n",
       "      <td>1000000</td>\n",
       "      <td>0.4</td>\n",
       "      <td>0.00274</td>\n",
       "      <td>Actual365</td>\n",
       "    </tr>\n",
       "    <tr>\n",
       "      <th>0</th>\n",
       "      <td>2024-03-26</td>\n",
       "      <td>2024-03-27</td>\n",
       "      <td>2024-03-27</td>\n",
       "      <td>1000000</td>\n",
       "      <td>0.4</td>\n",
       "      <td>0.00274</td>\n",
       "      <td>Actual365</td>\n",
       "    </tr>\n",
       "    <tr>\n",
       "      <th>...</th>\n",
       "      <td>...</td>\n",
       "      <td>...</td>\n",
       "      <td>...</td>\n",
       "      <td>...</td>\n",
       "      <td>...</td>\n",
       "      <td>...</td>\n",
       "      <td>...</td>\n",
       "    </tr>\n",
       "    <tr>\n",
       "      <th>0</th>\n",
       "      <td>2027-03-17</td>\n",
       "      <td>2027-03-18</td>\n",
       "      <td>2027-03-18</td>\n",
       "      <td>1000000</td>\n",
       "      <td>0.4</td>\n",
       "      <td>0.00274</td>\n",
       "      <td>Actual365</td>\n",
       "    </tr>\n",
       "    <tr>\n",
       "      <th>0</th>\n",
       "      <td>2027-03-18</td>\n",
       "      <td>2027-03-19</td>\n",
       "      <td>2027-03-19</td>\n",
       "      <td>1000000</td>\n",
       "      <td>0.4</td>\n",
       "      <td>0.00274</td>\n",
       "      <td>Actual365</td>\n",
       "    </tr>\n",
       "    <tr>\n",
       "      <th>0</th>\n",
       "      <td>2027-03-19</td>\n",
       "      <td>2027-03-20</td>\n",
       "      <td>2027-03-20</td>\n",
       "      <td>1000000</td>\n",
       "      <td>0.4</td>\n",
       "      <td>0.00274</td>\n",
       "      <td>Actual365</td>\n",
       "    </tr>\n",
       "    <tr>\n",
       "      <th>0</th>\n",
       "      <td>2027-03-20</td>\n",
       "      <td>2027-03-21</td>\n",
       "      <td>2027-03-21</td>\n",
       "      <td>1000000</td>\n",
       "      <td>0.4</td>\n",
       "      <td>0.00274</td>\n",
       "      <td>Actual365</td>\n",
       "    </tr>\n",
       "    <tr>\n",
       "      <th>0</th>\n",
       "      <td>2027-03-21</td>\n",
       "      <td>2027-03-22</td>\n",
       "      <td>2027-03-22</td>\n",
       "      <td>1000000</td>\n",
       "      <td>0.4</td>\n",
       "      <td>0.00274</td>\n",
       "      <td>Actual365</td>\n",
       "    </tr>\n",
       "  </tbody>\n",
       "</table>\n",
       "<p>1095 rows × 7 columns</p>\n",
       "</div>"
      ],
      "text/plain": [
       "   start_period  end_period payment_date notional recovery  accrual  \\\n",
       "0    2024-03-22  2024-03-23   2024-03-23  1000000      0.4  0.00274   \n",
       "0    2024-03-23  2024-03-24   2024-03-24  1000000      0.4  0.00274   \n",
       "0    2024-03-24  2024-03-25   2024-03-25  1000000      0.4  0.00274   \n",
       "0    2024-03-25  2024-03-26   2024-03-26  1000000      0.4  0.00274   \n",
       "0    2024-03-26  2024-03-27   2024-03-27  1000000      0.4  0.00274   \n",
       "..          ...         ...          ...      ...      ...      ...   \n",
       "0    2027-03-17  2027-03-18   2027-03-18  1000000      0.4  0.00274   \n",
       "0    2027-03-18  2027-03-19   2027-03-19  1000000      0.4  0.00274   \n",
       "0    2027-03-19  2027-03-20   2027-03-20  1000000      0.4  0.00274   \n",
       "0    2027-03-20  2027-03-21   2027-03-21  1000000      0.4  0.00274   \n",
       "0    2027-03-21  2027-03-22   2027-03-22  1000000      0.4  0.00274   \n",
       "\n",
       "   day_counter  \n",
       "0    Actual365  \n",
       "0    Actual365  \n",
       "0    Actual365  \n",
       "0    Actual365  \n",
       "0    Actual365  \n",
       "..         ...  \n",
       "0    Actual365  \n",
       "0    Actual365  \n",
       "0    Actual365  \n",
       "0    Actual365  \n",
       "0    Actual365  \n",
       "\n",
       "[1095 rows x 7 columns]"
      ]
     },
     "execution_count": 13,
     "metadata": {},
     "output_type": "execute_result"
    }
   ],
   "source": [
    "default_leg.display_flows()"
   ]
  },
  {
   "cell_type": "code",
   "execution_count": null,
   "metadata": {},
   "outputs": [],
   "source": []
  }
 ],
 "metadata": {
  "kernelspec": {
   "display_name": "base",
   "language": "python",
   "name": "python3"
  },
  "language_info": {
   "codemirror_mode": {
    "name": "ipython",
    "version": 3
   },
   "file_extension": ".py",
   "mimetype": "text/x-python",
   "name": "python",
   "nbconvert_exporter": "python",
   "pygments_lexer": "ipython3",
   "version": "3.11.5"
  }
 },
 "nbformat": 4,
 "nbformat_minor": 2
}
