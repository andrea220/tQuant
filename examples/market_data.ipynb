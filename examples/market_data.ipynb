{
 "cells": [
  {
   "cell_type": "code",
   "execution_count": 1,
   "metadata": {},
   "outputs": [],
   "source": [
    "import sys\n",
    "sys.path.append('../')\n",
    "\n",
    "from engine.globalconfig import GlobalConfig\n",
    "from engine.loader.curveload import MarketDataLoader\n",
    "import tquant as tq"
   ]
  },
  {
   "cell_type": "code",
   "execution_count": 2,
   "metadata": {},
   "outputs": [],
   "source": [
    "config = GlobalConfig.from_json()\n",
    "mdl = MarketDataLoader(config)"
   ]
  },
  {
   "cell_type": "markdown",
   "metadata": {},
   "source": [
    "# Test su curve"
   ]
  },
  {
   "cell_type": "code",
   "execution_count": 3,
   "metadata": {},
   "outputs": [
    {
     "data": {
      "text/plain": [
       "datetime.date(2024, 4, 30)"
      ]
     },
     "execution_count": 3,
     "metadata": {},
     "output_type": "execute_result"
    }
   ],
   "source": [
    "tq.Settings.evaluation_date"
   ]
  },
  {
   "cell_type": "code",
   "execution_count": 4,
   "metadata": {},
   "outputs": [
    {
     "data": {
      "text/html": [
       "<div>\n",
       "<style scoped>\n",
       "    .dataframe tbody tr th:only-of-type {\n",
       "        vertical-align: middle;\n",
       "    }\n",
       "\n",
       "    .dataframe tbody tr th {\n",
       "        vertical-align: top;\n",
       "    }\n",
       "\n",
       "    .dataframe thead th {\n",
       "        text-align: right;\n",
       "    }\n",
       "</style>\n",
       "<table border=\"1\" class=\"dataframe\">\n",
       "  <thead>\n",
       "    <tr style=\"text-align: right;\">\n",
       "      <th></th>\n",
       "      <th>type</th>\n",
       "      <th>start</th>\n",
       "      <th>maturity</th>\n",
       "      <th>tenor</th>\n",
       "      <th>daycount</th>\n",
       "      <th>quote</th>\n",
       "    </tr>\n",
       "  </thead>\n",
       "  <tbody>\n",
       "    <tr>\n",
       "      <th>0</th>\n",
       "      <td>CASH</td>\n",
       "      <td>2024-04-30</td>\n",
       "      <td>2024-05-06</td>\n",
       "      <td>3BD</td>\n",
       "      <td>6</td>\n",
       "      <td>0.040676</td>\n",
       "    </tr>\n",
       "    <tr>\n",
       "      <th>0</th>\n",
       "      <td>CASH</td>\n",
       "      <td>2024-04-30</td>\n",
       "      <td>2024-05-07</td>\n",
       "      <td>1W</td>\n",
       "      <td>7</td>\n",
       "      <td>0.040709</td>\n",
       "    </tr>\n",
       "    <tr>\n",
       "      <th>0</th>\n",
       "      <td>CASH</td>\n",
       "      <td>2024-04-30</td>\n",
       "      <td>2024-05-14</td>\n",
       "      <td>2W</td>\n",
       "      <td>14</td>\n",
       "      <td>0.040754</td>\n",
       "    </tr>\n",
       "    <tr>\n",
       "      <th>0</th>\n",
       "      <td>CASH</td>\n",
       "      <td>2024-04-30</td>\n",
       "      <td>2024-05-21</td>\n",
       "      <td>3W</td>\n",
       "      <td>21</td>\n",
       "      <td>0.040789</td>\n",
       "    </tr>\n",
       "    <tr>\n",
       "      <th>0</th>\n",
       "      <td>CASH</td>\n",
       "      <td>2024-04-30</td>\n",
       "      <td>2024-05-30</td>\n",
       "      <td>1M</td>\n",
       "      <td>30</td>\n",
       "      <td>0.040825</td>\n",
       "    </tr>\n",
       "    <tr>\n",
       "      <th>...</th>\n",
       "      <td>...</td>\n",
       "      <td>...</td>\n",
       "      <td>...</td>\n",
       "      <td>...</td>\n",
       "      <td>...</td>\n",
       "      <td>...</td>\n",
       "    </tr>\n",
       "    <tr>\n",
       "      <th>0</th>\n",
       "      <td>SWAP</td>\n",
       "      <td>2024-04-30</td>\n",
       "      <td>2062-04-28</td>\n",
       "      <td>38Y</td>\n",
       "      <td>13877</td>\n",
       "      <td>0.026019</td>\n",
       "    </tr>\n",
       "    <tr>\n",
       "      <th>0</th>\n",
       "      <td>SWAP</td>\n",
       "      <td>2024-04-30</td>\n",
       "      <td>2063-04-30</td>\n",
       "      <td>39Y</td>\n",
       "      <td>14244</td>\n",
       "      <td>0.02584</td>\n",
       "    </tr>\n",
       "    <tr>\n",
       "      <th>0</th>\n",
       "      <td>SWAP</td>\n",
       "      <td>2024-04-30</td>\n",
       "      <td>2064-04-30</td>\n",
       "      <td>40Y</td>\n",
       "      <td>14610</td>\n",
       "      <td>0.02566</td>\n",
       "    </tr>\n",
       "    <tr>\n",
       "      <th>0</th>\n",
       "      <td>SWAP</td>\n",
       "      <td>2024-04-30</td>\n",
       "      <td>2074-04-30</td>\n",
       "      <td>50Y</td>\n",
       "      <td>18262</td>\n",
       "      <td>0.02397</td>\n",
       "    </tr>\n",
       "    <tr>\n",
       "      <th>0</th>\n",
       "      <td>SWAP</td>\n",
       "      <td>2024-04-30</td>\n",
       "      <td>2084-04-28</td>\n",
       "      <td>60Y</td>\n",
       "      <td>21913</td>\n",
       "      <td>0.02291</td>\n",
       "    </tr>\n",
       "  </tbody>\n",
       "</table>\n",
       "<p>68 rows × 6 columns</p>\n",
       "</div>"
      ],
      "text/plain": [
       "    type       start    maturity tenor daycount     quote\n",
       "0   CASH  2024-04-30  2024-05-06   3BD        6  0.040676\n",
       "0   CASH  2024-04-30  2024-05-07    1W        7  0.040709\n",
       "0   CASH  2024-04-30  2024-05-14    2W       14  0.040754\n",
       "0   CASH  2024-04-30  2024-05-21    3W       21  0.040789\n",
       "0   CASH  2024-04-30  2024-05-30    1M       30  0.040825\n",
       "..   ...         ...         ...   ...      ...       ...\n",
       "0   SWAP  2024-04-30  2062-04-28   38Y    13877  0.026019\n",
       "0   SWAP  2024-04-30  2063-04-30   39Y    14244   0.02584\n",
       "0   SWAP  2024-04-30  2064-04-30   40Y    14610   0.02566\n",
       "0   SWAP  2024-04-30  2074-04-30   50Y    18262   0.02397\n",
       "0   SWAP  2024-04-30  2084-04-28   60Y    21913   0.02291\n",
       "\n",
       "[68 rows x 6 columns]"
      ]
     },
     "execution_count": 4,
     "metadata": {},
     "output_type": "execute_result"
    }
   ],
   "source": [
    "mdl.ir_eur_curve_12m\n"
   ]
  },
  {
   "cell_type": "code",
   "execution_count": null,
   "metadata": {},
   "outputs": [],
   "source": []
  },
  {
   "cell_type": "markdown",
   "metadata": {},
   "source": [
    "# Test su vola"
   ]
  },
  {
   "cell_type": "code",
   "execution_count": null,
   "metadata": {},
   "outputs": [],
   "source": []
  },
  {
   "cell_type": "code",
   "execution_count": null,
   "metadata": {},
   "outputs": [],
   "source": []
  },
  {
   "cell_type": "code",
   "execution_count": null,
   "metadata": {},
   "outputs": [],
   "source": []
  }
 ],
 "metadata": {
  "kernelspec": {
   "display_name": "Python 3",
   "language": "python",
   "name": "python3"
  },
  "language_info": {
   "codemirror_mode": {
    "name": "ipython",
    "version": 3
   },
   "file_extension": ".py",
   "mimetype": "text/x-python",
   "name": "python",
   "nbconvert_exporter": "python",
   "pygments_lexer": "ipython3",
   "version": "3.10.7"
  }
 },
 "nbformat": 4,
 "nbformat_minor": 2
}
