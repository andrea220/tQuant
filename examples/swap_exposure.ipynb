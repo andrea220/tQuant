{
 "cells": [
  {
   "cell_type": "code",
   "execution_count": 20,
   "metadata": {},
   "outputs": [],
   "source": [
    "import sys\n",
    "sys.path.append('../')\n",
    "\n",
    "from interface.fixedleg import *\n",
    "from interface.floatingleg import *\n",
    "from datetime import date, timedelta\n",
    "from models.hullwhitesimple import *\n",
    "from engines.gaussian1d import *\n",
    "from index.curverateindex import *"
   ]
  },
  {
   "cell_type": "markdown",
   "metadata": {},
   "source": [
    "## Step1 - simulate future curves"
   ]
  },
  {
   "cell_type": "code",
   "execution_count": 9,
   "metadata": {},
   "outputs": [],
   "source": [
    "t0_pillars = [0.25, 0.5, 1.0, 2.0, 5.0, 10.0, 20.0, 50.0]\n",
    "t0_rates = [0.05, 0.05, 0.05, 0.05, 0.05, 0.05, 0.05, 0.05]\n",
    "t0_rate_curve = RateCurveSimple(t0_pillars, t0_rates)\n",
    "\n",
    "# create an instance of the hull-white model\n",
    "mean_rev = 0.02\n",
    "sigma = 0.045\n",
    "hw = HullWhiteProcess(mean_rev, sigma, market_curve=t0_rate_curve)\n",
    "\n",
    "# simulate short rate and discount curve \n",
    "last_grid_time = 20\n",
    "time_steps = 50\n",
    "hw_kernel = GaussianRateKernel1D(hw)\n",
    "r_tensor, zb_tensor, grid = hw_kernel.rate_tensor(1000, last_grid_time, time_steps)\n",
    "\n",
    "# Reshape the tensor and create a discount curve object\n",
    "reshaped_tensor = tf.transpose(zb_tensor, perm=[1, 2, 0])  # Transpose the dimensions\n",
    "reshaped_tensor = tf.reshape(reshaped_tensor, shape=(8, 1000, 49))\n",
    "rate_curve_tensor = DiscountCurveSimple(t0_pillars, reshaped_tensor)"
   ]
  },
  {
   "cell_type": "code",
   "execution_count": 13,
   "metadata": {},
   "outputs": [
    {
     "data": {
      "text/plain": [
       "<tf.Tensor: shape=(1000, 49), dtype=float64, numpy=\n",
       "array([[0.84465449, 0.81970654, 0.79203824, ..., 0.80458586, 0.80183014,\n",
       "        0.75789296],\n",
       "       [0.87331892, 0.82643089, 0.8171063 , ..., 1.06431006, 0.98748379,\n",
       "        1.00417306],\n",
       "       [0.89839965, 0.87187958, 0.88533145, ..., 0.75314001, 0.77446832,\n",
       "        0.78471321],\n",
       "       ...,\n",
       "       [0.87335843, 0.87160062, 0.84270685, ..., 0.60892653, 0.60323493,\n",
       "        0.61784466],\n",
       "       [0.84567014, 0.85238993, 0.82659519, ..., 0.76451225, 0.71702223,\n",
       "        0.69153658],\n",
       "       [0.89744583, 0.86855019, 0.90422685, ..., 0.72903713, 0.74854627,\n",
       "        0.71548407]])>"
      ]
     },
     "execution_count": 13,
     "metadata": {},
     "output_type": "execute_result"
    }
   ],
   "source": [
    "# whenever you request a discount factor for a certain date you get it for all the tensor\n",
    "rate_curve_tensor.discount(3)"
   ]
  },
  {
   "cell_type": "markdown",
   "metadata": {},
   "source": [
    "## Step2 - Fixed Legs"
   ]
  },
  {
   "cell_type": "code",
   "execution_count": 17,
   "metadata": {},
   "outputs": [
    {
     "data": {
      "text/plain": [
       "<tf.Tensor: shape=(1000, 49), dtype=float64, numpy=\n",
       "array([[41316926.22696852, 39278180.42472614, 37123254.56482752, ...,\n",
       "        37235897.500861  , 37028732.62358788, 33944958.20895715],\n",
       "       [43705209.8735273 , 39806603.9402761 , 39032394.27480633, ...,\n",
       "        60216390.42280106, 52503562.93844229, 54092645.23169626],\n",
       "       [45883158.8679911 , 43527270.26485293, 44623547.35531961, ...,\n",
       "        33635718.96368721, 35087470.20264274, 35798487.40723414],\n",
       "       ...,\n",
       "       [43708575.30030467, 43503625.48725204, 41061371.83342092, ...,\n",
       "        24968867.87188123, 24663750.67099166, 25442267.40160827],\n",
       "       [41399745.44125623, 41899542.42874496, 39774973.64620239, ...,\n",
       "        34407152.07846751, 31269664.0470104 , 29679052.20650442],\n",
       "       [45798796.12433001, 43245730.09185938, 46278522.17623712, ...,\n",
       "        32045220.09410423, 33322311.40680351, 31167393.27691526]])>"
      ]
     },
     "execution_count": 17,
     "metadata": {},
     "output_type": "execute_result"
    }
   ],
   "source": [
    "evaluation_date = date(2023, 6, 21)\n",
    "start_date = date(2015,12,31)\n",
    "fixed_schedule = [start_date]\n",
    "fixed_schedule.extend([start_date + timedelta(365 *.5 *i) for i in range(1,51)])\n",
    "fixed_rate = [0.04156]*(len(fixed_schedule)-1)\n",
    "fixed_notional = [143857602,142099704,140995554,139343227,138170625,136487409,135100610,133235348,131633135,130088055,\n",
    "                128443001,126527961,124478813,122046073,119540895,117334856,115325682,113682288,112374057,110400222,108996590,\n",
    "                107427609,106277787,104934949,103826978,102318265,101011839,99241108,97427949,95062460,92643968,89488286,86306759,\n",
    "                82654668,79233393,75249260,71491885,67239725,63147273,58562602,54101515,49235670,44484930,39276217,34122360,28587822,\n",
    "                23186787,17327243,11581997,5627771]\n",
    "# create the FixedRateLeg object\n",
    "leg1 = FixedRateLeg(fixed_schedule, fixed_notional, fixed_rate)\n",
    "\n",
    "# price is computed for all the input tensor\n",
    "leg1.npv(rate_curve_tensor, evaluation_date)"
   ]
  },
  {
   "cell_type": "markdown",
   "metadata": {},
   "source": [
    "## Step3 - Floating Legs"
   ]
  },
  {
   "cell_type": "code",
   "execution_count": 23,
   "metadata": {},
   "outputs": [],
   "source": [
    "floating_schedule = [start_date]\n",
    "floating_schedule.extend([start_date + timedelta(365 *.5 *i) for i in range(1,51)])\n",
    "\n",
    "floating_notional = [0,0,0,0,0,0,0,0,0,0,\n",
    "    128443001,126527961,124478813,122046073,119540895,117334856,115325682,113682288,112374057,110400222,108996590,\n",
    "    107427609,106277787,104934949,103826978,102318265,101011839,99241108,97427949,95062460,92643968,89488286,86306759,\n",
    "    82654668,79233393,75249260,71491885,67239725,63147273,58562602,54101515,49235670,44484930,39276217,34122360,28587822,\n",
    "    23186787,17327243,11581997,5627771]\n",
    "\n",
    "index_6m = CurveRateIndex(\"EUR6M\", \"calendar\", t0_rate_curve, \"6M\")\n",
    "spread = [0.] *(len(floating_schedule)-1)\n",
    "gearing = [1.] *(len(floating_schedule)-1)\n",
    "\n",
    "float_leg = FloatingRateLeg(floating_schedule,\n",
    "                            floating_notional,\n",
    "                            gearing,\n",
    "                            spread,\n",
    "                            index_6m)\n",
    "index_6m.add_fixing(date(2022,12,29), 0.03)\n",
    "\n",
    "# price and fixings are computed for all the input tensor\n",
    "npv_float = float_leg.npv(rate_curve_tensor, evaluation_date)\n",
    "\n"
   ]
  },
  {
   "cell_type": "markdown",
   "metadata": {},
   "source": [
    "## under construction -- next steps"
   ]
  },
  {
   "cell_type": "code",
   "execution_count": 24,
   "metadata": {},
   "outputs": [],
   "source": [
    "# scale the tensor approach for a large portfolio, divided by currency.\n",
    "# modify the pricing function such that ref_date (for future valuation) is passed by the InterestCurve object"
   ]
  },
  {
   "cell_type": "code",
   "execution_count": null,
   "metadata": {},
   "outputs": [],
   "source": []
  }
 ],
 "metadata": {
  "kernelspec": {
   "display_name": "Python 3",
   "language": "python",
   "name": "python3"
  },
  "language_info": {
   "codemirror_mode": {
    "name": "ipython",
    "version": 3
   },
   "file_extension": ".py",
   "mimetype": "text/x-python",
   "name": "python",
   "nbconvert_exporter": "python",
   "pygments_lexer": "ipython3",
   "version": "3.10.7"
  }
 },
 "nbformat": 4,
 "nbformat_minor": 2
}
