{
 "cells": [
  {
   "cell_type": "code",
   "execution_count": 1,
   "metadata": {},
   "outputs": [
    {
     "name": "stdout",
     "output_type": "stream",
     "text": [
      "WARNING:tensorflow:From c:\\Users\\carap\\AppData\\Local\\Programs\\Python\\Python311\\Lib\\site-packages\\keras\\src\\losses.py:2976: The name tf.losses.sparse_softmax_cross_entropy is deprecated. Please use tf.compat.v1.losses.sparse_softmax_cross_entropy instead.\n",
      "\n"
     ]
    }
   ],
   "source": [
    "import sys\n",
    "sys.path.append('../')\n",
    "\n",
    "from interface.fixedleg import *\n",
    "from interface.floatingleg import *\n",
    "from datetime import date, timedelta\n",
    "from models.hullwhitesimple import *\n",
    "from engines.gaussian1d import *\n",
    "from index.curverateindex import *"
   ]
  },
  {
   "cell_type": "markdown",
   "metadata": {},
   "source": [
    "## Step1 - simulate future curves"
   ]
  },
  {
   "cell_type": "code",
   "execution_count": 2,
   "metadata": {},
   "outputs": [],
   "source": [
    "t0_pillars = [0.25, 0.5, 1.0, 2.0, 5.0, 10.0, 20.0, 50.0]\n",
    "t0_rates = [0.05, 0.05, 0.05, 0.05, 0.05, 0.05, 0.05, 0.05]\n",
    "t0_rate_curve = RateCurveSimple(t0_pillars, t0_rates)\n",
    "\n",
    "# create an instance of the hull-white model\n",
    "mean_rev = 0.02\n",
    "sigma = 0.045\n",
    "hw = HullWhiteProcess(mean_rev, sigma, market_curve=t0_rate_curve)\n",
    "\n",
    "# simulate short rate and discount curve \n",
    "last_grid_time = 20\n",
    "time_steps = 50\n",
    "hw_kernel = GaussianRateKernel1D(hw)\n",
    "r_tensor, zb_tensor, grid = hw_kernel.rate_tensor(1000, last_grid_time, time_steps)\n",
    "\n",
    "# Reshape the tensor and create a discount curve object\n",
    "reshaped_tensor = tf.transpose(zb_tensor, perm=[1, 2, 0])  # Transpose the dimensions\n",
    "reshaped_tensor = tf.reshape(reshaped_tensor, shape=(8, 1000, 49))\n",
    "rate_curve_tensor = DiscountCurveSimple(t0_pillars, reshaped_tensor)"
   ]
  },
  {
   "cell_type": "code",
   "execution_count": null,
   "metadata": {},
   "outputs": [],
   "source": []
  },
  {
   "cell_type": "markdown",
   "metadata": {},
   "source": [
    "## Step2 - Fixed Legs"
   ]
  },
  {
   "cell_type": "code",
   "execution_count": 10,
   "metadata": {},
   "outputs": [
    {
     "data": {
      "text/plain": [
       "<tf.Tensor: shape=(1000, 49), dtype=float64, numpy=\n",
       "array([[42556051.17185441, 48871426.43313518, 44197012.32705101, ...,\n",
       "        47082327.28327733, 50203283.56238392, 45617813.48510081],\n",
       "       [42682533.23458554, 43747081.88581047, 44887858.31000052, ...,\n",
       "        30880711.47403741, 29906445.84902079, 28838072.35467676],\n",
       "       [45130379.17667498, 48016071.06403135, 49353487.524347  , ...,\n",
       "        47234869.76093519, 47289676.9711016 , 41977769.66813685],\n",
       "       ...,\n",
       "       [42887641.76682446, 41660668.66534071, 47647500.84253135, ...,\n",
       "        50453558.58637679, 52087478.6004387 , 49394758.39936744],\n",
       "       [40557960.19236713, 40947235.4257664 , 44337005.35780923, ...,\n",
       "        21244907.42285902, 20866626.78434666, 20672200.12219867],\n",
       "       [41728489.36036718, 40484327.42200831, 43911565.90268696, ...,\n",
       "        38319312.49889013, 38189307.30705784, 39758167.66449285]])>"
      ]
     },
     "execution_count": 10,
     "metadata": {},
     "output_type": "execute_result"
    }
   ],
   "source": [
    "evaluation_date = date(2023, 6, 21)\n",
    "start_date = date(2015,12,31)\n",
    "fixed_schedule = [start_date]\n",
    "fixed_schedule.extend([start_date + timedelta(365 *.5 *i) for i in range(1,51)])\n",
    "fixed_rate = [0.04156]*(len(fixed_schedule)-1)\n",
    "fixed_notional = [143857602,142099704,140995554,139343227,138170625,136487409,135100610,133235348,131633135,130088055,\n",
    "                128443001,126527961,124478813,122046073,119540895,117334856,115325682,113682288,112374057,110400222,108996590,\n",
    "                107427609,106277787,104934949,103826978,102318265,101011839,99241108,97427949,95062460,92643968,89488286,86306759,\n",
    "                82654668,79233393,75249260,71491885,67239725,63147273,58562602,54101515,49235670,44484930,39276217,34122360,28587822,\n",
    "                23186787,17327243,11581997,5627771]\n",
    "# create the FixedRateLeg object\n",
    "leg1 = FixedRateLeg(fixed_schedule, fixed_notional, fixed_rate)\n",
    "\n",
    "# price is computed for all the input tensor\n",
    "leg1.npv(rate_curve_tensor, evaluation_date)"
   ]
  },
  {
   "cell_type": "markdown",
   "metadata": {},
   "source": [
    "## Step3 - Floating Legs"
   ]
  },
  {
   "cell_type": "code",
   "execution_count": 11,
   "metadata": {},
   "outputs": [],
   "source": [
    "floating_schedule = [start_date]\n",
    "floating_schedule.extend([start_date + timedelta(365 *.5 *i) for i in range(1,51)])\n",
    "\n",
    "floating_notional = [0,0,0,0,0,0,0,0,0,0,\n",
    "    128443001,126527961,124478813,122046073,119540895,117334856,115325682,113682288,112374057,110400222,108996590,\n",
    "    107427609,106277787,104934949,103826978,102318265,101011839,99241108,97427949,95062460,92643968,89488286,86306759,\n",
    "    82654668,79233393,75249260,71491885,67239725,63147273,58562602,54101515,49235670,44484930,39276217,34122360,28587822,\n",
    "    23186787,17327243,11581997,5627771]\n",
    "\n",
    "index_6m = CurveRateIndex(\"EUR6M\", \"calendar\", t0_rate_curve, \"6M\")\n",
    "spread = [0.] *(len(floating_schedule)-1)\n",
    "gearing = [1.] *(len(floating_schedule)-1)\n",
    "\n",
    "float_leg = FloatingRateLeg(floating_schedule,\n",
    "                            floating_notional,\n",
    "                            gearing,\n",
    "                            spread,\n",
    "                            index_6m)\n",
    "index_6m.add_fixing(date(2022,12,29), 0.03)\n",
    "\n",
    "# price and fixings are computed for all the input tensor\n",
    "npv_float = float_leg.npv(rate_curve_tensor, evaluation_date)\n",
    "\n"
   ]
  },
  {
   "cell_type": "markdown",
   "metadata": {},
   "source": [
    "## under construction -- next steps"
   ]
  },
  {
   "cell_type": "code",
   "execution_count": 12,
   "metadata": {},
   "outputs": [],
   "source": [
    "# scale the tensor approach for a large portfolio, divided by currency.\n",
    "# modify the pricing function such that ref_date (for future valuation) is passed by the InterestCurve object"
   ]
  },
  {
   "cell_type": "code",
   "execution_count": null,
   "metadata": {},
   "outputs": [],
   "source": []
  },
  {
   "cell_type": "code",
   "execution_count": null,
   "metadata": {},
   "outputs": [],
   "source": []
  }
 ],
 "metadata": {
  "kernelspec": {
   "display_name": "Python 3",
   "language": "python",
   "name": "python3"
  },
  "language_info": {
   "codemirror_mode": {
    "name": "ipython",
    "version": 3
   },
   "file_extension": ".py",
   "mimetype": "text/x-python",
   "name": "python",
   "nbconvert_exporter": "python",
   "pygments_lexer": "ipython3",
   "version": "3.11.7"
  }
 },
 "nbformat": 4,
 "nbformat_minor": 2
}
