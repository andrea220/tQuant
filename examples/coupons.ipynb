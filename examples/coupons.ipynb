{
 "cells": [
  {
   "cell_type": "code",
   "execution_count": 1,
   "metadata": {},
   "outputs": [],
   "source": [
    "import sys\n",
    "sys.path.append('../')\n",
    "\n",
    "import tquant as tq\n",
    "from datetime import date"
   ]
  },
  {
   "cell_type": "code",
   "execution_count": 2,
   "metadata": {},
   "outputs": [],
   "source": [
    "evaluation_date = tq.Settings.evaluation_date = date(2024,2,14)"
   ]
  },
  {
   "cell_type": "markdown",
   "metadata": {},
   "source": [
    "# Fixed Flows"
   ]
  },
  {
   "cell_type": "code",
   "execution_count": 3,
   "metadata": {},
   "outputs": [],
   "source": [
    "calendar = tq.TARGET()\n",
    "daycounter = tq.DayCounter(tq.DayCounterConvention.Actual360)\n",
    "d1 = calendar.advance(evaluation_date,\n",
    "                         6,\n",
    "                         tq.TimeUnit.Months,\n",
    "                         tq.BusinessDayConvention.ModifiedFollowing)"
   ]
  },
  {
   "cell_type": "code",
   "execution_count": 4,
   "metadata": {},
   "outputs": [],
   "source": [
    "nominal = 1e6\n",
    "fixed_coupon = tq.FixedCoupon(d1,\n",
    "                              nominal,\n",
    "                              accrual_start_date= evaluation_date,\n",
    "                              accrual_end_date= d1,\n",
    "                              ref_period_start= evaluation_date,\n",
    "                              ref_period_end= d1,\n",
    "                              r= 0.02,\n",
    "                              daycounter = daycounter)"
   ]
  },
  {
   "cell_type": "code",
   "execution_count": 5,
   "metadata": {},
   "outputs": [
    {
     "data": {
      "text/html": [
       "<div>\n",
       "<style scoped>\n",
       "    .dataframe tbody tr th:only-of-type {\n",
       "        vertical-align: middle;\n",
       "    }\n",
       "\n",
       "    .dataframe tbody tr th {\n",
       "        vertical-align: top;\n",
       "    }\n",
       "\n",
       "    .dataframe thead th {\n",
       "        text-align: right;\n",
       "    }\n",
       "</style>\n",
       "<table border=\"1\" class=\"dataframe\">\n",
       "  <thead>\n",
       "    <tr style=\"text-align: right;\">\n",
       "      <th></th>\n",
       "      <th>start_period</th>\n",
       "      <th>end_period</th>\n",
       "      <th>payment_date</th>\n",
       "      <th>notional</th>\n",
       "      <th>accrual</th>\n",
       "      <th>day_counter</th>\n",
       "      <th>rate</th>\n",
       "      <th>amount</th>\n",
       "    </tr>\n",
       "  </thead>\n",
       "  <tbody>\n",
       "    <tr>\n",
       "      <th>0</th>\n",
       "      <td>2024-02-14</td>\n",
       "      <td>2024-08-14</td>\n",
       "      <td>2024-08-14</td>\n",
       "      <td>1000000.0</td>\n",
       "      <td>0.505556</td>\n",
       "      <td>Actual360</td>\n",
       "      <td>0.02</td>\n",
       "      <td>10111.111111</td>\n",
       "    </tr>\n",
       "  </tbody>\n",
       "</table>\n",
       "</div>"
      ],
      "text/plain": [
       "  start_period  end_period payment_date   notional   accrual day_counter  \\\n",
       "0   2024-02-14  2024-08-14   2024-08-14  1000000.0  0.505556   Actual360   \n",
       "\n",
       "   rate        amount  \n",
       "0  0.02  10111.111111  "
      ]
     },
     "execution_count": 5,
     "metadata": {},
     "output_type": "execute_result"
    }
   ],
   "source": [
    "coupon_df = fixed_coupon.display()\n",
    "coupon_df"
   ]
  },
  {
   "cell_type": "code",
   "execution_count": 6,
   "metadata": {},
   "outputs": [
    {
     "data": {
      "text/plain": [
       "0    10111.111111\n",
       "Name: amount, dtype: object"
      ]
     },
     "execution_count": 6,
     "metadata": {},
     "output_type": "execute_result"
    }
   ],
   "source": [
    "coupon_df['amount']"
   ]
  },
  {
   "cell_type": "code",
   "execution_count": 7,
   "metadata": {},
   "outputs": [
    {
     "data": {
      "text/plain": [
       "0    10111.111111\n",
       "dtype: object"
      ]
     },
     "execution_count": 7,
     "metadata": {},
     "output_type": "execute_result"
    }
   ],
   "source": [
    "coupon_df['rate'] * coupon_df['notional'] * coupon_df['accrual'] "
   ]
  },
  {
   "cell_type": "markdown",
   "metadata": {},
   "source": [
    "## Fixed Leg"
   ]
  },
  {
   "cell_type": "code",
   "execution_count": 8,
   "metadata": {},
   "outputs": [],
   "source": [
    "fixed_schedule = [tq.TARGET().advance(evaluation_date,\n",
    "                         t,\n",
    "                         tq.TimeUnit.Months,\n",
    "                         tq.BusinessDayConvention.ModifiedFollowing) for t in [0,6,12,18,24]]\n",
    "notionals = [1e6] * (len(fixed_schedule) - 1)\n",
    "coupon_rates = [0.03] * (len(fixed_schedule) - 1)"
   ]
  },
  {
   "cell_type": "code",
   "execution_count": 9,
   "metadata": {},
   "outputs": [],
   "source": [
    "fixed_leg = tq.FixedRateLeg(fixed_schedule,\n",
    "                            notionals,\n",
    "                            coupon_rates,\n",
    "                            daycounter= daycounter,\n",
    "                            compounding=tq.CompoundingType.Simple,\n",
    "                            frequency= tq.Frequency.Annual)"
   ]
  },
  {
   "cell_type": "code",
   "execution_count": 10,
   "metadata": {},
   "outputs": [
    {
     "data": {
      "text/html": [
       "<div>\n",
       "<style scoped>\n",
       "    .dataframe tbody tr th:only-of-type {\n",
       "        vertical-align: middle;\n",
       "    }\n",
       "\n",
       "    .dataframe tbody tr th {\n",
       "        vertical-align: top;\n",
       "    }\n",
       "\n",
       "    .dataframe thead th {\n",
       "        text-align: right;\n",
       "    }\n",
       "</style>\n",
       "<table border=\"1\" class=\"dataframe\">\n",
       "  <thead>\n",
       "    <tr style=\"text-align: right;\">\n",
       "      <th></th>\n",
       "      <th>start_period</th>\n",
       "      <th>end_period</th>\n",
       "      <th>payment_date</th>\n",
       "      <th>notional</th>\n",
       "      <th>accrual</th>\n",
       "      <th>day_counter</th>\n",
       "      <th>rate</th>\n",
       "      <th>amount</th>\n",
       "    </tr>\n",
       "  </thead>\n",
       "  <tbody>\n",
       "    <tr>\n",
       "      <th>0</th>\n",
       "      <td>2024-02-14</td>\n",
       "      <td>2024-08-14</td>\n",
       "      <td>2024-08-14</td>\n",
       "      <td>1000000.0</td>\n",
       "      <td>0.505556</td>\n",
       "      <td>Actual360</td>\n",
       "      <td>0.03</td>\n",
       "      <td>15166.666667</td>\n",
       "    </tr>\n",
       "    <tr>\n",
       "      <th>0</th>\n",
       "      <td>2024-08-14</td>\n",
       "      <td>2025-02-14</td>\n",
       "      <td>2025-02-14</td>\n",
       "      <td>1000000.0</td>\n",
       "      <td>0.511111</td>\n",
       "      <td>Actual360</td>\n",
       "      <td>0.03</td>\n",
       "      <td>15333.333333</td>\n",
       "    </tr>\n",
       "    <tr>\n",
       "      <th>0</th>\n",
       "      <td>2025-02-14</td>\n",
       "      <td>2025-08-14</td>\n",
       "      <td>2025-08-14</td>\n",
       "      <td>1000000.0</td>\n",
       "      <td>0.502778</td>\n",
       "      <td>Actual360</td>\n",
       "      <td>0.03</td>\n",
       "      <td>15083.333333</td>\n",
       "    </tr>\n",
       "    <tr>\n",
       "      <th>0</th>\n",
       "      <td>2025-08-14</td>\n",
       "      <td>2026-02-16</td>\n",
       "      <td>2026-02-16</td>\n",
       "      <td>1000000.0</td>\n",
       "      <td>0.516667</td>\n",
       "      <td>Actual360</td>\n",
       "      <td>0.03</td>\n",
       "      <td>15500.0</td>\n",
       "    </tr>\n",
       "  </tbody>\n",
       "</table>\n",
       "</div>"
      ],
      "text/plain": [
       "  start_period  end_period payment_date   notional   accrual day_counter  \\\n",
       "0   2024-02-14  2024-08-14   2024-08-14  1000000.0  0.505556   Actual360   \n",
       "0   2024-08-14  2025-02-14   2025-02-14  1000000.0  0.511111   Actual360   \n",
       "0   2025-02-14  2025-08-14   2025-08-14  1000000.0  0.502778   Actual360   \n",
       "0   2025-08-14  2026-02-16   2026-02-16  1000000.0  0.516667   Actual360   \n",
       "\n",
       "   rate        amount  \n",
       "0  0.03  15166.666667  \n",
       "0  0.03  15333.333333  \n",
       "0  0.03  15083.333333  \n",
       "0  0.03       15500.0  "
      ]
     },
     "execution_count": 10,
     "metadata": {},
     "output_type": "execute_result"
    }
   ],
   "source": [
    "fixed_leg.display_flows()"
   ]
  },
  {
   "cell_type": "markdown",
   "metadata": {},
   "source": [
    "# Floating Flows"
   ]
  },
  {
   "cell_type": "code",
   "execution_count": 11,
   "metadata": {},
   "outputs": [],
   "source": [
    "index = tq.IborIndex('EUR6M',\n",
    "             calendar,\n",
    "             6,\n",
    "             tq.TimeUnit.Months)\n",
    "gearing = 1\n",
    "spread = 0\n",
    "\n",
    "floating_coupon = tq.FloatingCoupon(d1,\n",
    "                                    nominal,\n",
    "                                    evaluation_date,\n",
    "                                    d1,\n",
    "                                    index,\n",
    "                                    gearing,\n",
    "                                    spread,\n",
    "                                    evaluation_date,\n",
    "                                    d1,\n",
    "                                    daycounter\n",
    "                                    )"
   ]
  },
  {
   "cell_type": "code",
   "execution_count": 12,
   "metadata": {},
   "outputs": [
    {
     "data": {
      "text/html": [
       "<div>\n",
       "<style scoped>\n",
       "    .dataframe tbody tr th:only-of-type {\n",
       "        vertical-align: middle;\n",
       "    }\n",
       "\n",
       "    .dataframe tbody tr th {\n",
       "        vertical-align: top;\n",
       "    }\n",
       "\n",
       "    .dataframe thead th {\n",
       "        text-align: right;\n",
       "    }\n",
       "</style>\n",
       "<table border=\"1\" class=\"dataframe\">\n",
       "  <thead>\n",
       "    <tr style=\"text-align: right;\">\n",
       "      <th></th>\n",
       "      <th>start_period</th>\n",
       "      <th>end_period</th>\n",
       "      <th>payment_date</th>\n",
       "      <th>notional</th>\n",
       "      <th>fixing_date</th>\n",
       "      <th>fixing_days</th>\n",
       "      <th>index</th>\n",
       "      <th>accrual</th>\n",
       "      <th>in_arrears</th>\n",
       "      <th>gearing</th>\n",
       "      <th>spread</th>\n",
       "      <th>day_counter</th>\n",
       "    </tr>\n",
       "  </thead>\n",
       "  <tbody>\n",
       "    <tr>\n",
       "      <th>0</th>\n",
       "      <td>2024-02-14</td>\n",
       "      <td>2024-08-14</td>\n",
       "      <td>2024-08-14</td>\n",
       "      <td>1000000.0</td>\n",
       "      <td>2024-02-14</td>\n",
       "      <td>None</td>\n",
       "      <td>EUR6M</td>\n",
       "      <td>0.505556</td>\n",
       "      <td>False</td>\n",
       "      <td>1</td>\n",
       "      <td>0</td>\n",
       "      <td>Actual360</td>\n",
       "    </tr>\n",
       "  </tbody>\n",
       "</table>\n",
       "</div>"
      ],
      "text/plain": [
       "  start_period  end_period payment_date   notional fixing_date fixing_days  \\\n",
       "0   2024-02-14  2024-08-14   2024-08-14  1000000.0  2024-02-14        None   \n",
       "\n",
       "   index   accrual in_arrears gearing spread day_counter  \n",
       "0  EUR6M  0.505556      False       1      0   Actual360  "
      ]
     },
     "execution_count": 12,
     "metadata": {},
     "output_type": "execute_result"
    }
   ],
   "source": [
    "floating_coupon.display()"
   ]
  },
  {
   "cell_type": "markdown",
   "metadata": {},
   "source": [
    "## Floating Leg "
   ]
  },
  {
   "cell_type": "code",
   "execution_count": 13,
   "metadata": {},
   "outputs": [],
   "source": [
    "spreads = [0] * (len(fixed_schedule) - 1)\n",
    "gearing = [1] * (len(fixed_schedule) - 1)\n",
    "floating_schedule = fixed_schedule"
   ]
  },
  {
   "cell_type": "code",
   "execution_count": 14,
   "metadata": {},
   "outputs": [],
   "source": [
    "floating_leg = tq.FloatingRateLeg(floating_schedule,\n",
    "                               notionals,\n",
    "                               gearing,\n",
    "                               spreads,\n",
    "                               index,\n",
    "                               daycounter)"
   ]
  },
  {
   "cell_type": "code",
   "execution_count": 15,
   "metadata": {},
   "outputs": [
    {
     "data": {
      "text/html": [
       "<div>\n",
       "<style scoped>\n",
       "    .dataframe tbody tr th:only-of-type {\n",
       "        vertical-align: middle;\n",
       "    }\n",
       "\n",
       "    .dataframe tbody tr th {\n",
       "        vertical-align: top;\n",
       "    }\n",
       "\n",
       "    .dataframe thead th {\n",
       "        text-align: right;\n",
       "    }\n",
       "</style>\n",
       "<table border=\"1\" class=\"dataframe\">\n",
       "  <thead>\n",
       "    <tr style=\"text-align: right;\">\n",
       "      <th></th>\n",
       "      <th>start_period</th>\n",
       "      <th>end_period</th>\n",
       "      <th>payment_date</th>\n",
       "      <th>notional</th>\n",
       "      <th>fixing_date</th>\n",
       "      <th>fixing_days</th>\n",
       "      <th>index</th>\n",
       "      <th>accrual</th>\n",
       "      <th>in_arrears</th>\n",
       "      <th>gearing</th>\n",
       "      <th>spread</th>\n",
       "      <th>day_counter</th>\n",
       "    </tr>\n",
       "  </thead>\n",
       "  <tbody>\n",
       "    <tr>\n",
       "      <th>0</th>\n",
       "      <td>2024-02-14</td>\n",
       "      <td>2024-08-14</td>\n",
       "      <td>2024-08-14</td>\n",
       "      <td>1000000.0</td>\n",
       "      <td>2024-02-14</td>\n",
       "      <td>None</td>\n",
       "      <td>EUR6M</td>\n",
       "      <td>0.505556</td>\n",
       "      <td>False</td>\n",
       "      <td>1</td>\n",
       "      <td>0</td>\n",
       "      <td>Actual360</td>\n",
       "    </tr>\n",
       "    <tr>\n",
       "      <th>0</th>\n",
       "      <td>2024-08-14</td>\n",
       "      <td>2025-02-14</td>\n",
       "      <td>2025-02-14</td>\n",
       "      <td>1000000.0</td>\n",
       "      <td>2024-08-14</td>\n",
       "      <td>None</td>\n",
       "      <td>EUR6M</td>\n",
       "      <td>0.511111</td>\n",
       "      <td>False</td>\n",
       "      <td>1</td>\n",
       "      <td>0</td>\n",
       "      <td>Actual360</td>\n",
       "    </tr>\n",
       "    <tr>\n",
       "      <th>0</th>\n",
       "      <td>2025-02-14</td>\n",
       "      <td>2025-08-14</td>\n",
       "      <td>2025-08-14</td>\n",
       "      <td>1000000.0</td>\n",
       "      <td>2025-02-14</td>\n",
       "      <td>None</td>\n",
       "      <td>EUR6M</td>\n",
       "      <td>0.502778</td>\n",
       "      <td>False</td>\n",
       "      <td>1</td>\n",
       "      <td>0</td>\n",
       "      <td>Actual360</td>\n",
       "    </tr>\n",
       "    <tr>\n",
       "      <th>0</th>\n",
       "      <td>2025-08-14</td>\n",
       "      <td>2026-02-16</td>\n",
       "      <td>2026-02-16</td>\n",
       "      <td>1000000.0</td>\n",
       "      <td>2025-08-14</td>\n",
       "      <td>None</td>\n",
       "      <td>EUR6M</td>\n",
       "      <td>0.516667</td>\n",
       "      <td>False</td>\n",
       "      <td>1</td>\n",
       "      <td>0</td>\n",
       "      <td>Actual360</td>\n",
       "    </tr>\n",
       "  </tbody>\n",
       "</table>\n",
       "</div>"
      ],
      "text/plain": [
       "  start_period  end_period payment_date   notional fixing_date fixing_days  \\\n",
       "0   2024-02-14  2024-08-14   2024-08-14  1000000.0  2024-02-14        None   \n",
       "0   2024-08-14  2025-02-14   2025-02-14  1000000.0  2024-08-14        None   \n",
       "0   2025-02-14  2025-08-14   2025-08-14  1000000.0  2025-02-14        None   \n",
       "0   2025-08-14  2026-02-16   2026-02-16  1000000.0  2025-08-14        None   \n",
       "\n",
       "   index   accrual in_arrears gearing spread day_counter  \n",
       "0  EUR6M  0.505556      False       1      0   Actual360  \n",
       "0  EUR6M  0.511111      False       1      0   Actual360  \n",
       "0  EUR6M  0.502778      False       1      0   Actual360  \n",
       "0  EUR6M  0.516667      False       1      0   Actual360  "
      ]
     },
     "execution_count": 15,
     "metadata": {},
     "output_type": "execute_result"
    }
   ],
   "source": [
    "floating_leg.display_flows()"
   ]
  },
  {
   "cell_type": "code",
   "execution_count": null,
   "metadata": {},
   "outputs": [],
   "source": []
  },
  {
   "cell_type": "code",
   "execution_count": null,
   "metadata": {},
   "outputs": [],
   "source": []
  }
 ],
 "metadata": {
  "kernelspec": {
   "display_name": "Python 3",
   "language": "python",
   "name": "python3"
  },
  "language_info": {
   "codemirror_mode": {
    "name": "ipython",
    "version": 3
   },
   "file_extension": ".py",
   "mimetype": "text/x-python",
   "name": "python",
   "nbconvert_exporter": "python",
   "pygments_lexer": "ipython3",
   "version": "3.10.7"
  }
 },
 "nbformat": 4,
 "nbformat_minor": 2
}
