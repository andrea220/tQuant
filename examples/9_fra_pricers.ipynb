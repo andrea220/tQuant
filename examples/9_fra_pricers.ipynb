{
 "cells": [
  {
   "cell_type": "code",
   "execution_count": 1,
   "metadata": {},
   "outputs": [],
   "source": [
    "import sys\n",
    "sys.path.append('../')\n",
    "\n",
    "import tquant as tq\n",
    "from engine.globalconfig import GlobalConfig\n",
    "from engine.loader.curveload import MarketDataLoader\n",
    "\n",
    "from datetime import date, datetime\n",
    "import tensorflow as tf\n",
    "import pandas as pd"
   ]
  },
  {
   "cell_type": "markdown",
   "metadata": {},
   "source": [
    "# Settings"
   ]
  },
  {
   "cell_type": "code",
   "execution_count": 2,
   "metadata": {},
   "outputs": [],
   "source": [
    "config = GlobalConfig.from_json()\n",
    "mdl = MarketDataLoader(config)"
   ]
  },
  {
   "cell_type": "code",
   "execution_count": 3,
   "metadata": {},
   "outputs": [
    {
     "data": {
      "text/plain": [
       "datetime.date(2023, 9, 29)"
      ]
     },
     "execution_count": 3,
     "metadata": {},
     "output_type": "execute_result"
    }
   ],
   "source": [
    "tq.Settings.evaluation_date"
   ]
  },
  {
   "cell_type": "code",
   "execution_count": 4,
   "metadata": {},
   "outputs": [],
   "source": [
    "calendar = tq.TARGET()\n",
    "daycounter = tq.DayCounter(tq.DayCounterConvention.Actual360)\n",
    "evaluation_date = tq.Settings.evaluation_date"
   ]
  },
  {
   "cell_type": "markdown",
   "metadata": {},
   "source": [
    "# Market"
   ]
  },
  {
   "cell_type": "code",
   "execution_count": 5,
   "metadata": {},
   "outputs": [],
   "source": [
    "rates = mdl.ir_eur_curve_estr['quote'].values\n",
    "times = mdl.ir_eur_curve_estr['daycount'].values/365\n",
    "\n",
    "rates_6m = mdl.ir_eur_curve_6m['quote'].values\n",
    "times_6m = mdl.ir_eur_curve_6m['daycount'].values/365"
   ]
  },
  {
   "cell_type": "code",
   "execution_count": 6,
   "metadata": {},
   "outputs": [],
   "source": [
    "estr_curve = tq.RateCurve(times, rates)\n",
    "eur6m_curve = tq.RateCurve(times_6m, rates_6m)"
   ]
  },
  {
   "cell_type": "markdown",
   "metadata": {},
   "source": [
    "# FRA"
   ]
  },
  {
   "cell_type": "code",
   "execution_count": 9,
   "metadata": {},
   "outputs": [],
   "source": [
    "evaluation_date = tq.Settings.evaluation_date\n",
    "calendar = tq.TARGET()\n",
    "index = tq.IborIndex(\"EUR6M\", calendar, 6, tq.TimeUnit.Months)\n",
    "d1 = calendar.advance(evaluation_date, 3, tq.TimeUnit.Months, tq.BusinessDayConvention.ModifiedFollowing)\n",
    "d2 = calendar.advance(d1, 6, tq.TimeUnit.Months, tq.BusinessDayConvention.ModifiedFollowing)\n",
    "fra = tq.ForwardRateAgreement(d1,d2,tq.Position.Long, 0.03, 100, index, daycounter, calendar)"
   ]
  },
  {
   "cell_type": "code",
   "execution_count": 10,
   "metadata": {},
   "outputs": [],
   "source": [
    "fra_engine = tq.FraDiscountingEngine(fra)"
   ]
  },
  {
   "cell_type": "code",
   "execution_count": 11,
   "metadata": {},
   "outputs": [
    {
     "data": {
      "text/plain": [
       "<tf.Tensor: shape=(), dtype=float64, numpy=0.5626463856388138>"
      ]
     },
     "execution_count": 11,
     "metadata": {},
     "output_type": "execute_result"
    }
   ],
   "source": [
    "fra_engine.price(estr_curve, eur6m_curve, evaluation_date)"
   ]
  },
  {
   "cell_type": "markdown",
   "metadata": {},
   "source": [
    "# FRA QuantLib"
   ]
  },
  {
   "cell_type": "code",
   "execution_count": 12,
   "metadata": {},
   "outputs": [],
   "source": [
    "import QuantLib as ql"
   ]
  },
  {
   "cell_type": "code",
   "execution_count": 13,
   "metadata": {},
   "outputs": [],
   "source": [
    "today = ql.Date.from_date(evaluation_date)\n",
    "ql.Settings.instance().evaluationDate = today\n",
    "\n",
    "calendar_ql = ql.TARGET()\n",
    "\n",
    "# curva 6m\n",
    "date_6m_ql = []\n",
    "for date_py in mdl.ir_eur_discount_6m['maturity_date']:\n",
    "    date_6m_ql.append(ql.Date.from_date(date_py))\n",
    "dfs_6m = mdl.ir_eur_discount_6m['market_quote'].to_list()\n",
    "yieldTermStructure_6m = ql.DiscountCurve(date_6m_ql, dfs_6m, ql.Actual360(), ql.TARGET())\n",
    "yieldTermStructure_6m.enableExtrapolation()\n",
    "yieldTermStructure_6m_Handle = ql.YieldTermStructureHandle(yieldTermStructure_6m)\n",
    "\n",
    "# curva estr\n",
    "date_estr_ql = []\n",
    "for date_py in mdl.ir_eur_discount_estr['maturity_date']:\n",
    "    date_estr_ql.append(ql.Date.from_date(date_py))\n",
    "dfs_estr = mdl.ir_eur_discount_estr['market_quote'].to_list()\n",
    "yieldTermStructure_estr = ql.DiscountCurve(date_estr_ql, dfs_estr, ql.Actual360(), ql.TARGET())\n",
    "yieldTermStructure_estr.enableExtrapolation()\n",
    "yieldTermStructure_estr_Handle = ql.YieldTermStructureHandle(yieldTermStructure_estr)"
   ]
  },
  {
   "cell_type": "code",
   "execution_count": 14,
   "metadata": {},
   "outputs": [],
   "source": [
    "startDate = calendar_ql.advance(today, ql.Period('3M'), ql.ModifiedFollowing)\n",
    "maturityDate = calendar_ql.advance(startDate, ql.Period('6M'), ql.ModifiedFollowing)\n",
    "index_ql = ql.Euribor6M(yieldTermStructure_6m_Handle)"
   ]
  },
  {
   "cell_type": "code",
   "execution_count": 15,
   "metadata": {},
   "outputs": [],
   "source": [
    "date_6m_ql = []\n",
    "for date_py in mdl.ir_eur_discount_6m['maturity_date']:\n",
    "    date_6m_ql.append(ql.Date.from_date(date_py))\n",
    "dfs_6m = mdl.ir_eur_discount_6m['market_quote'].to_list()\n",
    "yieldTermStructure_6m = ql.DiscountCurve(date_6m_ql, dfs_6m, ql.Actual360(), ql.TARGET())\n",
    "yieldTermStructure_6m.enableExtrapolation()"
   ]
  },
  {
   "cell_type": "code",
   "execution_count": 16,
   "metadata": {},
   "outputs": [
    {
     "name": "stdout",
     "output_type": "stream",
     "text": [
      "NPV: 0.5270891161865767\n"
     ]
    }
   ],
   "source": [
    "fra = ql.ForwardRateAgreement(startDate, maturityDate, ql.Position.Long, 0.03, 100, index_ql, yieldTermStructure_estr_Handle)\n",
    "print('NPV:', fra.NPV())"
   ]
  },
  {
   "cell_type": "markdown",
   "metadata": {},
   "source": [
    "# check "
   ]
  },
  {
   "cell_type": "code",
   "execution_count": 23,
   "metadata": {},
   "outputs": [],
   "source": [
    "# discount factor un po' differenti rispetto a ql, dovuto a curva non ancora implementata"
   ]
  },
  {
   "cell_type": "code",
   "execution_count": 20,
   "metadata": {},
   "outputs": [
    {
     "data": {
      "text/plain": [
       "0.971254410780627"
      ]
     },
     "execution_count": 20,
     "metadata": {},
     "output_type": "execute_result"
    }
   ],
   "source": [
    "yieldTermStructure_estr.discount(0.75)"
   ]
  },
  {
   "cell_type": "code",
   "execution_count": 19,
   "metadata": {},
   "outputs": [
    {
     "data": {
      "text/plain": [
       "<tf.Tensor: shape=(), dtype=float64, numpy=0.9708629540061835>"
      ]
     },
     "execution_count": 19,
     "metadata": {},
     "output_type": "execute_result"
    }
   ],
   "source": [
    "estr_curve.discount(0.75)"
   ]
  },
  {
   "cell_type": "code",
   "execution_count": 39,
   "metadata": {},
   "outputs": [],
   "source": [
    "# forward rates stessa cosa"
   ]
  },
  {
   "cell_type": "code",
   "execution_count": 38,
   "metadata": {},
   "outputs": [
    {
     "data": {
      "text/plain": [
       "0.040746360270149884"
      ]
     },
     "execution_count": 38,
     "metadata": {},
     "output_type": "execute_result"
    }
   ],
   "source": [
    "yieldTermStructure_6m.forwardRate(startDate, maturityDate,ql.Actual360(), ql.Simple).rate()"
   ]
  },
  {
   "cell_type": "code",
   "execution_count": 25,
   "metadata": {},
   "outputs": [
    {
     "data": {
      "text/plain": [
       "<tf.Tensor: shape=(), dtype=float64, numpy=0.04146692262760461>"
      ]
     },
     "execution_count": 25,
     "metadata": {},
     "output_type": "execute_result"
    }
   ],
   "source": [
    "eur6m_curve.forward_rate(d1, d2, daycounter, evaluation_date)"
   ]
  }
 ],
 "metadata": {
  "kernelspec": {
   "display_name": "Python 3",
   "language": "python",
   "name": "python3"
  },
  "language_info": {
   "codemirror_mode": {
    "name": "ipython",
    "version": 3
   },
   "file_extension": ".py",
   "mimetype": "text/x-python",
   "name": "python",
   "nbconvert_exporter": "python",
   "pygments_lexer": "ipython3",
   "version": "3.10.7"
  }
 },
 "nbformat": 4,
 "nbformat_minor": 2
}
