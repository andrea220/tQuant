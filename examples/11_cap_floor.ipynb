{
 "cells": [
  {
   "cell_type": "code",
   "execution_count": 1,
   "metadata": {},
   "outputs": [
    {
     "name": "stdout",
     "output_type": "stream",
     "text": [
      "WARNING:tensorflow:From c:\\Users\\lm.329\\AppData\\Local\\anaconda3\\Lib\\site-packages\\keras\\src\\losses.py:2976: The name tf.losses.sparse_softmax_cross_entropy is deprecated. Please use tf.compat.v1.losses.sparse_softmax_cross_entropy instead.\n",
      "\n",
      "WARNING:tensorflow:From c:\\Users\\lm.329\\AppData\\Local\\anaconda3\\Lib\\site-packages\\tensorflow_probability\\python\\internal\\backend\\numpy\\_utils.py:48: The name tf.logging.TaskLevelStatusMessage is deprecated. Please use tf.compat.v1.logging.TaskLevelStatusMessage instead.\n",
      "\n",
      "WARNING:tensorflow:From c:\\Users\\lm.329\\AppData\\Local\\anaconda3\\Lib\\site-packages\\tensorflow_probability\\python\\internal\\backend\\numpy\\_utils.py:48: The name tf.control_flow_v2_enabled is deprecated. Please use tf.compat.v1.control_flow_v2_enabled instead.\n",
      "\n"
     ]
    }
   ],
   "source": [
    "import sys\n",
    "sys.path.append('../')\n",
    "\n",
    "import tquant as tq\n",
    "from engine.globalconfig import GlobalConfig\n",
    "from engine.loader.curveload import MarketDataLoader\n",
    "\n",
    "import tensorflow as tf\n",
    "import tensorflow_probability as tfp"
   ]
  },
  {
   "cell_type": "markdown",
   "metadata": {},
   "source": [
    "# Settings"
   ]
  },
  {
   "cell_type": "code",
   "execution_count": 2,
   "metadata": {},
   "outputs": [],
   "source": [
    "config = GlobalConfig.from_json()\n",
    "mdl = MarketDataLoader(config)"
   ]
  },
  {
   "cell_type": "code",
   "execution_count": 3,
   "metadata": {},
   "outputs": [
    {
     "data": {
      "text/plain": [
       "datetime.date(2023, 9, 29)"
      ]
     },
     "execution_count": 3,
     "metadata": {},
     "output_type": "execute_result"
    }
   ],
   "source": [
    "tq.Settings.evaluation_date"
   ]
  },
  {
   "cell_type": "code",
   "execution_count": 4,
   "metadata": {},
   "outputs": [],
   "source": [
    "calendar = tq.TARGET()\n",
    "daycounter = tq.DayCounter(tq.DayCounterConvention.Actual360)\n",
    "evaluation_date = tq.Settings.evaluation_date"
   ]
  },
  {
   "cell_type": "markdown",
   "metadata": {},
   "source": [
    "# Market"
   ]
  },
  {
   "cell_type": "code",
   "execution_count": 5,
   "metadata": {},
   "outputs": [],
   "source": [
    "rates = mdl.ir_eur_curve_estr['quote'].values\n",
    "times = mdl.ir_eur_curve_estr['daycount'].values/365\n",
    "\n",
    "rates_6m = mdl.ir_eur_curve_6m['quote'].values\n",
    "times_6m = mdl.ir_eur_curve_6m['daycount'].values/365"
   ]
  },
  {
   "cell_type": "code",
   "execution_count": 6,
   "metadata": {},
   "outputs": [],
   "source": [
    "estr_curve = tq.RateCurve(times, rates)\n",
    "eur6m_curve = tq.RateCurve(times_6m, rates_6m)"
   ]
  },
  {
   "cell_type": "markdown",
   "metadata": {},
   "source": [
    "# Cap"
   ]
  },
  {
   "cell_type": "code",
   "execution_count": 7,
   "metadata": {},
   "outputs": [],
   "source": [
    "floating_schedule = [tq.TARGET().advance(evaluation_date,\n",
    "                         t,\n",
    "                         tq.TimeUnit.Months,\n",
    "                         tq.BusinessDayConvention.ModifiedFollowing) for t in [0,6,12,18,24]]\n",
    "notionals = [1e6] * (len(floating_schedule) - 1)\n",
    "\n",
    "spreads = [0] * (len(floating_schedule) - 1)\n",
    "gearing = [1] * (len(floating_schedule) - 1)\n",
    "\n",
    "index = tq.IborIndex('EUR6M',\n",
    "             calendar,\n",
    "             6,\n",
    "             tq.TimeUnit.Months)\n",
    "\n",
    "floating_leg = tq.FloatingRateLeg(floating_schedule,\n",
    "                               notionals,\n",
    "                               gearing,\n",
    "                               spreads,\n",
    "                               index,\n",
    "                               daycounter)\n",
    "strike = 0.02\n",
    "sigma = 0.54"
   ]
  },
  {
   "cell_type": "code",
   "execution_count": 8,
   "metadata": {},
   "outputs": [],
   "source": [
    "cap = tq.Cap(floating_leg, strike)"
   ]
  },
  {
   "cell_type": "code",
   "execution_count": null,
   "metadata": {},
   "outputs": [],
   "source": []
  },
  {
   "cell_type": "code",
   "execution_count": 9,
   "metadata": {},
   "outputs": [],
   "source": [
    "option = cap\n",
    "term_structure = eur6m_curve\n",
    "#\n",
    "flows = floating_leg.leg_flows()\n",
    "c = flows[0]\n",
    "sign = 1\n",
    "T = daycounter.year_fraction(evaluation_date, c.date)\n",
    "######\n",
    "f = term_structure.forward_rate(c.fixing_date, c.index.fixing_maturity(c.fixing_date), c.day_counter, evaluation_date)\n",
    "st_dev = sigma\n",
    "discount = tf.cast(estr_curve.discount(T), tf.float32)\n",
    "discounted_accrual = c.nominal * floating_leg.gearings[0] * c.accrual_period\n",
    "displacement = 0"
   ]
  },
  {
   "cell_type": "code",
   "execution_count": null,
   "metadata": {},
   "outputs": [],
   "source": []
  },
  {
   "cell_type": "code",
   "execution_count": 10,
   "metadata": {},
   "outputs": [],
   "source": [
    "cap_value = 0\n",
    "for c in flows:\n",
    "    T = daycounter.year_fraction(evaluation_date, c.date)\n",
    "    f = term_structure.forward_rate(c.fixing_date, c.index.fixing_maturity(c.fixing_date), c.day_counter, evaluation_date)\n",
    "    f = tf.cast(f, tf.float32)\n",
    "    st_dev = tf.math.sqrt(sigma*sigma*T)\n",
    "    discount = tf.cast(estr_curve.discount(T), tf.float32)\n",
    "    discounted_accrual = c.nominal * floating_leg.gearings[0] * c.accrual_period\n",
    "    #####\n",
    "    forward = tf.cast(f + displacement, tf.float32)\n",
    "    strike = option.strike\n",
    "\n",
    "    d1 = tf.math.log(f / strike)/st_dev + 0.5*st_dev\n",
    "    d1 = tf.cast(d1, tf.float32)\n",
    "    d2 = d1 - sigma\n",
    "    phi = tfp.distributions.Normal(0,1)\n",
    "    nd1 = phi.cdf(sign * d1) \n",
    "    nd2 = phi.cdf(sign * d2)\n",
    "\n",
    "    optionlet_result = discounted_accrual * sign * (forward*nd1 - strike*nd2)\n",
    "    cap_value += optionlet_result"
   ]
  },
  {
   "cell_type": "code",
   "execution_count": 11,
   "metadata": {},
   "outputs": [
    {
     "data": {
      "text/plain": [
       "<tf.Tensor: shape=(), dtype=float32, numpy=37895.87>"
      ]
     },
     "execution_count": 11,
     "metadata": {},
     "output_type": "execute_result"
    }
   ],
   "source": [
    "cap_value"
   ]
  },
  {
   "cell_type": "code",
   "execution_count": 12,
   "metadata": {},
   "outputs": [],
   "source": [
    "cap.atm_rate"
   ]
  },
  {
   "cell_type": "code",
   "execution_count": null,
   "metadata": {},
   "outputs": [],
   "source": []
  },
  {
   "cell_type": "code",
   "execution_count": null,
   "metadata": {},
   "outputs": [],
   "source": []
  },
  {
   "cell_type": "code",
   "execution_count": null,
   "metadata": {},
   "outputs": [],
   "source": []
  },
  {
   "cell_type": "code",
   "execution_count": null,
   "metadata": {},
   "outputs": [],
   "source": []
  },
  {
   "cell_type": "markdown",
   "metadata": {},
   "source": [
    "# QuantLib"
   ]
  },
  {
   "cell_type": "code",
   "execution_count": 13,
   "metadata": {},
   "outputs": [],
   "source": [
    "import QuantLib as ql\n",
    "from datetime import datetime"
   ]
  },
  {
   "cell_type": "code",
   "execution_count": 14,
   "metadata": {},
   "outputs": [],
   "source": [
    "calc_date = ql.Date.from_date(evaluation_date)\n",
    "ql.Settings.instance().evaluationDate = calc_date"
   ]
  },
  {
   "cell_type": "code",
   "execution_count": 15,
   "metadata": {},
   "outputs": [
    {
     "ename": "TypeError",
     "evalue": "Wrong number or type of arguments for overloaded function 'new_ActualActual'.\n  Possible C/C++ prototypes are:\n    QuantLib::ActualActual::ActualActual(QuantLib::ActualActual::Convention,Schedule const &)\n    QuantLib::ActualActual::ActualActual(QuantLib::ActualActual::Convention)\n",
     "output_type": "error",
     "traceback": [
      "\u001b[1;31m---------------------------------------------------------------------------\u001b[0m",
      "\u001b[1;31mTypeError\u001b[0m                                 Traceback (most recent call last)",
      "\u001b[1;32m~\\AppData\\Local\\Temp\\ipykernel_35576\\637706536.py\u001b[0m in \u001b[0;36m?\u001b[1;34m()\u001b[0m\n\u001b[0;32m      1\u001b[0m \u001b[0mql_dates\u001b[0m \u001b[1;33m=\u001b[0m \u001b[1;33m[\u001b[0m\u001b[0mql\u001b[0m\u001b[1;33m.\u001b[0m\u001b[0mDate\u001b[0m\u001b[1;33m.\u001b[0m\u001b[0mfrom_date\u001b[0m\u001b[1;33m(\u001b[0m\u001b[0mt\u001b[0m\u001b[1;33m)\u001b[0m \u001b[1;32mfor\u001b[0m \u001b[0mt\u001b[0m \u001b[1;32min\u001b[0m \u001b[0mmdl\u001b[0m\u001b[1;33m.\u001b[0m\u001b[0mir_eur_curve_6m\u001b[0m\u001b[1;33m[\u001b[0m\u001b[1;34m'maturity'\u001b[0m\u001b[1;33m]\u001b[0m\u001b[1;33m.\u001b[0m\u001b[0mvalues\u001b[0m\u001b[1;33m]\u001b[0m\u001b[1;33m\u001b[0m\u001b[1;33m\u001b[0m\u001b[0m\n\u001b[0;32m      2\u001b[0m \u001b[0myields\u001b[0m \u001b[1;33m=\u001b[0m \u001b[1;33m[\u001b[0m\u001b[0mr\u001b[0m\u001b[1;33m.\u001b[0m\u001b[0mnumpy\u001b[0m\u001b[1;33m(\u001b[0m\u001b[1;33m)\u001b[0m \u001b[1;32mfor\u001b[0m \u001b[0mr\u001b[0m \u001b[1;32min\u001b[0m \u001b[0meur6m_curve\u001b[0m\u001b[1;33m.\u001b[0m\u001b[0mrates\u001b[0m\u001b[1;33m]\u001b[0m\u001b[1;33m\u001b[0m\u001b[1;33m\u001b[0m\u001b[0m\n\u001b[1;32m----> 3\u001b[1;33m \u001b[0mday_count\u001b[0m \u001b[1;33m=\u001b[0m \u001b[0mql\u001b[0m\u001b[1;33m.\u001b[0m\u001b[0mActualActual\u001b[0m\u001b[1;33m(\u001b[0m\u001b[1;33m)\u001b[0m\u001b[1;33m\u001b[0m\u001b[1;33m\u001b[0m\u001b[0m\n\u001b[0m\u001b[0;32m      4\u001b[0m \u001b[0mcalendar\u001b[0m \u001b[1;33m=\u001b[0m \u001b[0mql\u001b[0m\u001b[1;33m.\u001b[0m\u001b[0mTARGET\u001b[0m\u001b[1;33m(\u001b[0m\u001b[1;33m)\u001b[0m\u001b[1;33m\u001b[0m\u001b[1;33m\u001b[0m\u001b[0m\n\u001b[0;32m      5\u001b[0m \u001b[0minterpolation\u001b[0m \u001b[1;33m=\u001b[0m \u001b[0mql\u001b[0m\u001b[1;33m.\u001b[0m\u001b[0mLinear\u001b[0m\u001b[1;33m(\u001b[0m\u001b[1;33m)\u001b[0m\u001b[1;33m\u001b[0m\u001b[1;33m\u001b[0m\u001b[0m\n\u001b[0;32m      6\u001b[0m \u001b[0mcompounding\u001b[0m \u001b[1;33m=\u001b[0m \u001b[0mql\u001b[0m\u001b[1;33m.\u001b[0m\u001b[0mCompounded\u001b[0m\u001b[1;33m\u001b[0m\u001b[1;33m\u001b[0m\u001b[0m\n",
      "\u001b[1;32mc:\\Users\\lm.329\\AppData\\Local\\anaconda3\\Lib\\site-packages\\QuantLib\\QuantLib.py\u001b[0m in \u001b[0;36m?\u001b[1;34m(self, *args)\u001b[0m\n\u001b[0;32m   3818\u001b[0m     \u001b[1;32mdef\u001b[0m \u001b[0m__init__\u001b[0m\u001b[1;33m(\u001b[0m\u001b[0mself\u001b[0m\u001b[1;33m,\u001b[0m \u001b[1;33m*\u001b[0m\u001b[0margs\u001b[0m\u001b[1;33m)\u001b[0m\u001b[1;33m:\u001b[0m\u001b[1;33m\u001b[0m\u001b[1;33m\u001b[0m\u001b[0m\n\u001b[0;32m   3819\u001b[0m         \u001b[1;34mr\"\"\"__init__(ActualActual self, QuantLib::ActualActual::Convention c, Schedule schedule=Schedule()) -> ActualActual\"\"\"\u001b[0m\u001b[1;33m\u001b[0m\u001b[1;33m\u001b[0m\u001b[0m\n\u001b[1;32m-> 3820\u001b[1;33m         \u001b[0m_QuantLib\u001b[0m\u001b[1;33m.\u001b[0m\u001b[0mActualActual_swiginit\u001b[0m\u001b[1;33m(\u001b[0m\u001b[0mself\u001b[0m\u001b[1;33m,\u001b[0m \u001b[0m_QuantLib\u001b[0m\u001b[1;33m.\u001b[0m\u001b[0mnew_ActualActual\u001b[0m\u001b[1;33m(\u001b[0m\u001b[1;33m*\u001b[0m\u001b[0margs\u001b[0m\u001b[1;33m)\u001b[0m\u001b[1;33m)\u001b[0m\u001b[1;33m\u001b[0m\u001b[1;33m\u001b[0m\u001b[0m\n\u001b[0m",
      "\u001b[1;31mTypeError\u001b[0m: Wrong number or type of arguments for overloaded function 'new_ActualActual'.\n  Possible C/C++ prototypes are:\n    QuantLib::ActualActual::ActualActual(QuantLib::ActualActual::Convention,Schedule const &)\n    QuantLib::ActualActual::ActualActual(QuantLib::ActualActual::Convention)\n"
     ]
    }
   ],
   "source": [
    "ql_dates = [ql.Date.from_date(t) for t in mdl.ir_eur_curve_6m['maturity'].values]\n",
    "yields = [r.numpy() for r in eur6m_curve.rates]\n",
    "day_count = ql.ActualActual()\n",
    "calendar = ql.TARGET()\n",
    "interpolation = ql.Linear()\n",
    "compounding = ql.Compounded\n",
    "compounding_frequency = ql.Annual\n",
    "\n",
    "term_structure = ql.ZeroCurve(ql_dates[:28], yields[:28], day_count, calendar, \n",
    "                       interpolation, compounding, compounding_frequency)\n",
    "ts_handle = ql.YieldTermStructureHandle(term_structure)"
   ]
  },
  {
   "cell_type": "code",
   "execution_count": null,
   "metadata": {},
   "outputs": [],
   "source": []
  },
  {
   "cell_type": "code",
   "execution_count": null,
   "metadata": {},
   "outputs": [],
   "source": [
    "start_date = ql.Date(29, 9, 2023)\n",
    "end_date = ql.Date(29, 9 , 2025)\n",
    "period = ql.Period(6, ql.Months)\n",
    "calendar = ql.TARGET()\n",
    "buss_convention = ql.ModifiedFollowing\n",
    "rule = ql.DateGeneration.Forward\n",
    "end_of_month = False\n",
    "\n",
    "schedule = ql.Schedule(start_date, end_date, period,\n",
    "                       calendar, buss_convention, buss_convention, \n",
    "                       rule, end_of_month)\n",
    "\n",
    "ibor_index = ql.Euribor6M(ts_handle)\n",
    "ibor_index.addFixing(ql.Date(27,9,2023), 0.0065560)\n",
    "\n",
    "ibor_leg = ql.IborLeg([1000000], schedule, ibor_index)\n",
    "\n",
    "strike = 0.02\n",
    "cap = ql.Cap(ibor_leg, [strike])\n",
    "\n",
    "vols = ql.QuoteHandle(ql.SimpleQuote(0.54))\n",
    "engine = ql.BlackCapFloorEngine(ts_handle, vols)\n",
    "\n",
    "cap.setPricingEngine(engine)"
   ]
  },
  {
   "cell_type": "code",
   "execution_count": null,
   "metadata": {},
   "outputs": [
    {
     "name": "stdout",
     "output_type": "stream",
     "text": [
      "24227.230276858332\n"
     ]
    }
   ],
   "source": [
    "cap.setPricingEngine(engine)\n",
    "print( cap.NPV())"
   ]
  },
  {
   "cell_type": "markdown",
   "metadata": {},
   "source": [
    "# from surface"
   ]
  },
  {
   "cell_type": "markdown",
   "metadata": {},
   "source": [
    "In the above exercise, we used a constant volatility value. In practice, one needs to strip the market quoted capfloor volatilities to infer the volatility of each and every caplet. QuantLib provides excellent tools in order to do that. Let us assume the following dummy data represents the volatility surface quoted by the market. I have the various strikes, expiries, and the volatility quotes in percentage format. I take the raw data and create a Matrix in order to construct the volatility surface."
   ]
  },
  {
   "cell_type": "code",
   "execution_count": null,
   "metadata": {},
   "outputs": [],
   "source": [
    "strikes = [0.01,0.015, 0.02]\n",
    "expiries = [ql.Period(i, ql.Years) for i in range(1,11)] + [ql.Period(12, ql.Years)]\n",
    "vols = ql.Matrix(len(expiries), len(strikes))\n",
    "data = [[47.27, 55.47, 64.07, 70.14, 72.13, 69.41, 72.15, 67.28, 66.08, 68.64, 65.83],\n",
    "   [46.65,54.15,61.47,65.53,66.28,62.83,64.42,60.05,58.71,60.35,55.91],\n",
    "   [46.6,52.65,59.32,62.05,62.0,58.09,59.03,55.0,53.59,54.74,49.54]\n",
    "   ]\n",
    "\n",
    "for i in range(vols.rows()):\n",
    "    for j in range(vols.columns()):\n",
    "        vols[i][j] = data[j][i]/100.0"
   ]
  },
  {
   "cell_type": "markdown",
   "metadata": {},
   "source": [
    "The CapFloorTermVolSurface offers a way to store the capfloor volatilities. These are however CapFloor volatilities, and not the volatilities of the individual options.\n",
    "\n"
   ]
  },
  {
   "cell_type": "code",
   "execution_count": null,
   "metadata": {},
   "outputs": [],
   "source": [
    "calendar = ql.UnitedStates()\n",
    "bdc = ql.ModifiedFollowing\n",
    "daycount = ql.Actual365Fixed()\n",
    "settlement_days = 2\n",
    "capfloor_vol = ql.CapFloorTermVolSurface(settlement_days, calendar, bdc, expiries, strikes, vols, daycount)"
   ]
  },
  {
   "cell_type": "markdown",
   "metadata": {},
   "source": [
    "The OptionletStripper1 class lets you to strip the individual caplet/floorlet volatilities from the capfloor volatilities. We have to 'jump' some hoops here to make it useful for pricing. The OptionletStripper1 class does not allow you to be consumed directly by a pricing engine. The StrippedOptionletAdapter takes the stripped optionlet volatilities, and creates a term structure of optionlet volatilities. We then wrap that into a handle using OptionletVolatilityStructureHandle."
   ]
  },
  {
   "cell_type": "code",
   "execution_count": null,
   "metadata": {},
   "outputs": [],
   "source": [
    "optionlet_surf = ql.OptionletStripper1(capfloor_vol, ibor_index)\n",
    "ovs_handle = ql.OptionletVolatilityStructureHandle(\n",
    "    ql.StrippedOptionletAdapter(optionlet_surf)\n",
    ")"
   ]
  },
  {
   "cell_type": "code",
   "execution_count": null,
   "metadata": {},
   "outputs": [],
   "source": [
    "import matplotlib.pyplot as plt\n",
    "import numpy as np\n",
    "%matplotlib inline"
   ]
  },
  {
   "cell_type": "code",
   "execution_count": null,
   "metadata": {},
   "outputs": [
    {
     "data": {
      "text/plain": [
       "<matplotlib.legend.Legend at 0x253bc34a590>"
      ]
     },
     "execution_count": 26,
     "metadata": {},
     "output_type": "execute_result"
    },
    {
     "data": {
      "image/png": "[encoded data removed]",
      "text/plain": [
       "<Figure size 640x480 with 1 Axes>"
      ]
     },
     "metadata": {},
     "output_type": "display_data"
    }
   ],
   "source": [
    "tenors = np.arange(0,10,0.25)\n",
    "strike = 0.015\n",
    "capfloor_vols = [capfloor_vol.volatility(t, strike) for t in tenors]\n",
    "opionlet_vols = [ovs_handle.volatility(t, strike) for t in tenors]\n",
    "\n",
    "plt.plot(tenors, capfloor_vols, \"--\", label=\"CapFloor Vols\")\n",
    "plt.plot(tenors, opionlet_vols,\"-\", label=\"Optionlet Vols\")\n",
    "plt.legend(bbox_to_anchor=(0.5, 0.25))"
   ]
  },
  {
   "cell_type": "markdown",
   "metadata": {},
   "source": [
    "The BlackCapFloorEngine can accept the optionlet volatility surface in order to price the caps or floors."
   ]
  },
  {
   "cell_type": "code",
   "execution_count": null,
   "metadata": {},
   "outputs": [
    {
     "name": "stdout",
     "output_type": "stream",
     "text": [
      "54384.928314950135\n"
     ]
    }
   ],
   "source": [
    "engine2 = ql.BlackCapFloorEngine(ts_handle, ovs_handle)\n",
    "cap.setPricingEngine(engine2)\n",
    "print( cap.NPV())"
   ]
  },
  {
   "cell_type": "code",
   "execution_count": null,
   "metadata": {},
   "outputs": [],
   "source": []
  }
 ],
 "metadata": {
  "kernelspec": {
   "display_name": "Python 3",
   "language": "python",
   "name": "python3"
  },
  "language_info": {
   "codemirror_mode": {
    "name": "ipython",
    "version": 3
   },
   "file_extension": ".py",
   "mimetype": "text/x-python",
   "name": "python",
   "nbconvert_exporter": "python",
   "pygments_lexer": "ipython3",
   "version": "3.11.5"
  }
 },
 "nbformat": 4,
 "nbformat_minor": 2
}
