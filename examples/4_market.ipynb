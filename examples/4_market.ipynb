{
 "cells": [
  {
   "cell_type": "code",
   "execution_count": 55,
   "metadata": {},
   "outputs": [],
   "source": [
    "import sys\n",
    "sys.path.append('../')\n",
    "\n",
    "from handles.marketdata import *"
   ]
  },
  {
   "cell_type": "markdown",
   "metadata": {},
   "source": [
    "# Index Handle - oggetti statici"
   ]
  },
  {
   "cell_type": "code",
   "execution_count": 56,
   "metadata": {},
   "outputs": [],
   "source": [
    "from index.curverateindex import IborIndex\n",
    "from instruments.swap import SwapFixedFloating\n",
    "\n",
    "class MarketIndex:\n",
    "    # da fare config file con mappaggio curva-indice\n",
    "    eur_1m = IborIndex('EUR-EURIBOR-1M',\n",
    "                        TARGET(),\n",
    "                        1\n",
    "                        )\n",
    "    \n",
    "    eur_3m = IborIndex('EUR-EURIBOR-3M',\n",
    "                        TARGET(),\n",
    "                        3\n",
    "                        )\n",
    "    \n",
    "    eur_6m = IborIndex('EUR-EURIBOR-6M',\n",
    "                        TARGET(),\n",
    "                        6\n",
    "                        )\n",
    "    \n",
    "    eur_12m = IborIndex('EUR-EURIBOR-12M',\n",
    "                        TARGET(),\n",
    "                        12\n",
    "                        )\n",
    "   "
   ]
  },
  {
   "cell_type": "markdown",
   "metadata": {},
   "source": [
    "# Load Portfolio"
   ]
  },
  {
   "cell_type": "code",
   "execution_count": 61,
   "metadata": {},
   "outputs": [],
   "source": [
    "import json\n",
    "\n",
    "class DataModel:\n",
    "    with open('../data/trades/TradesAggregated_2.json', 'r') as file:\n",
    "        trade_data = json.load(file)\n",
    "        \n",
    "def make_swap(trade):\n",
    "    ''' \n",
    "    Read json and returns tq.Swap\n",
    "    '''\n",
    "    leg1_schedule_len = len(trade['data']['Leg1.schedule']['rows'])\n",
    "    leg2_schedule_len = len(trade['data']['Leg2.schedule']['rows'])\n",
    "\n",
    "    leg1_is_fixed = trade['data']['Leg1.isFixedLeg']\n",
    "    leg2_is_fixed = trade['data']['Leg2.isFixedLeg']\n",
    "\n",
    "    if not leg1_is_fixed:\n",
    "        leg1_index = trade['data']['Leg1.index']\n",
    "    elif not leg2_is_fixed:\n",
    "        leg2_index = trade['data']['Leg2.index']\n",
    "\n",
    "    date_format = '%Y-%m-%d'\n",
    "    leg1_payment_dates = [trade['data']['Leg1.schedule']['rows'][i]['paymentDate'] for i in range(leg1_schedule_len)]\n",
    "    leg1_payment_dates = [datetime.strptime(dt, date_format).date() for dt in leg1_payment_dates]\n",
    "    leg2_payment_dates = [trade['data']['Leg2.schedule']['rows'][i]['paymentDate'] for i in range(leg2_schedule_len)]\n",
    "    leg2_payment_dates = [datetime.strptime(dt, date_format).date() for dt in leg2_payment_dates]\n",
    "\n",
    "    leg1_notionals = [trade['data']['Leg1.notionalTable']['rows'][i]['value'] for i in range(leg1_schedule_len)]\n",
    "    leg2_notionals = [trade['data']['Leg2.notionalTable']['rows'][i]['value'] for i in range(leg2_schedule_len)]\n",
    "\n",
    "    leg1_margins = [trade['data']['Leg1.marginTable']['rows'][i]['value'] for i in range(leg1_schedule_len)]\n",
    "    leg2_margins = [trade['data']['Leg2.marginTable']['rows'][i]['value'] for i in range(leg2_schedule_len)]\n",
    "\n",
    "    leg1_rate_factor = [trade['data']['Leg1.rateFactorTable']['rows'][i]['value'] for i in range(leg1_schedule_len)]\n",
    "    leg2_rate_factor = [trade['data']['Leg2.rateFactorTable']['rows'][i]['value'] for i in range(leg2_schedule_len)]\n",
    "\n",
    "    leg1_fixed_payments = [trade['data']['Leg1.fixedPaymentAmountTable']['rows'][i]['value'] for i in range(leg1_schedule_len)]\n",
    "    leg2_fixed_payments = [trade['data']['Leg2.fixedPaymentAmountTable']['rows'][i]['value'] for i in range(leg2_schedule_len)]\n",
    "\n",
    "    if leg1_is_fixed and not leg2_is_fixed:\n",
    "\n",
    "        if leg2_index == 'EUR-EURIBOR-1M':\n",
    "            index = MarketIndex.eur_1m\n",
    "        elif leg2_index == 'EUR-EURIBOR-3M':\n",
    "            index = MarketIndex.eur_3m\n",
    "        elif leg2_index == 'EUR-EURIBOR-6M':\n",
    "            index = MarketIndex.eur_6m\n",
    "        elif leg2_index == 'EUR-EURIBOR-12M':\n",
    "            index = MarketIndex.eur_12m\n",
    "        else:\n",
    "            raise ValueError('No index available')\n",
    "\n",
    "        swap_obj = SwapFixedFloating(leg1_payment_dates,\n",
    "                                    leg2_payment_dates,\n",
    "                                    leg1_notionals,\n",
    "                                    leg2_notionals ,\n",
    "                                    leg2_rate_factor, # moltiplicatore variabile\n",
    "                                    leg2_margins, # spread variabile\n",
    "                                    index,\n",
    "                                    leg1_margins) # tasso fisso\n",
    "        \n",
    "    elif leg2_is_fixed and not leg1_is_fixed:\n",
    "        if leg1_index == 'EUR-EURIBOR-6M':\n",
    "            index = MarketIndex.eur_6m_index\n",
    "        elif leg1_index == 'EUR-EURIBOR-3M':\n",
    "            index = MarketIndex.eur_3m\n",
    "        elif leg1_index == 'EUR-EURIBOR-6M':\n",
    "            index = MarketIndex.eur_6m\n",
    "        elif leg1_index == 'EUR-EURIBOR-12M':\n",
    "            index = MarketIndex.eur_12m\n",
    "        else:\n",
    "            raise ValueError('No index available')\n",
    "\n",
    "        swap_obj = SwapFixedFloating(leg1_payment_dates,\n",
    "                                    leg2_payment_dates,\n",
    "                                    leg1_notionals,\n",
    "                                    leg2_notionals,\n",
    "                                    leg1_rate_factor, # moltiplicatore variabile\n",
    "                                    leg1_margins, # spread variabile\n",
    "                                    index,\n",
    "                                    leg2_margins) # tasso fisso    \n",
    "    return swap_obj\n",
    "\n",
    "def make_portfolio(trade_data):\n",
    "    portfolio = {}\n",
    "    for trade_json in trade_data:\n",
    "        try:\n",
    "            if trade_json['data']['productType'] == 'InterestRateSwapScript':\n",
    "                obj = make_swap(trade_json)\n",
    "                obj.counterparty = trade_json['data']['cpty']\n",
    "                portfolio[trade_json['ref']] = obj\n",
    "            # if cross currency: make_ccs()\n",
    "\n",
    "        except Exception as error:\n",
    "            portfolio[trade_json['ref']] = error\n",
    "    return portfolio\n"
   ]
  },
  {
   "cell_type": "code",
   "execution_count": 64,
   "metadata": {},
   "outputs": [],
   "source": [
    "# load portfolio into memory\n",
    "ptf = make_portfolio(DataModel.trade_data)\n",
    "# swap object test\n",
    "swap_test = ptf['0-17092454']"
   ]
  },
  {
   "cell_type": "markdown",
   "metadata": {},
   "source": [
    "# Load curve"
   ]
  },
  {
   "cell_type": "code",
   "execution_count": 68,
   "metadata": {},
   "outputs": [],
   "source": [
    "mdl = MarketDataLoader() # source"
   ]
  },
  {
   "cell_type": "markdown",
   "metadata": {},
   "source": [
    "# Pricing test"
   ]
  },
  {
   "cell_type": "code",
   "execution_count": 71,
   "metadata": {},
   "outputs": [],
   "source": [
    "import tensorflow as tf\n",
    "from tensorflow.python.framework import dtypes"
   ]
  },
  {
   "cell_type": "code",
   "execution_count": 72,
   "metadata": {},
   "outputs": [],
   "source": [
    "class RateCurve:\n",
    "    def __init__(self, pillars, rates):\n",
    "        ''' \n",
    "        classe dummy per le curve\n",
    "        '''\n",
    "        self.pillars = pillars # list\n",
    "        self.rates = rates     # tensor list\n",
    "\n",
    "    def discount(self, term):\n",
    "        if term <= self.pillars[0]:\n",
    "            nrt = -term * self.rates[0]\n",
    "            df = tf.exp(nrt)\n",
    "            return df\n",
    "        if term >= self.pillars[-1]:\n",
    "            nrt = -term * self.rates[-1]\n",
    "            df = tf.exp(nrt)\n",
    "            return df\n",
    "        for i in range(0, len(self.pillars) - 1):\n",
    "            if term < self.pillars[i + 1]:\n",
    "                dtr = 1 / (self.pillars[i + 1] - self.pillars[i])\n",
    "                w1 = (self.pillars[i + 1] - term) * dtr\n",
    "                w2 = (term - self.pillars[i]) * dtr\n",
    "                r1 = w1 * self.rates[i]\n",
    "                r2 = w2 * self.rates[i + 1]\n",
    "                rm = r1 + r2\n",
    "                nrt = -term * rm\n",
    "                df = tf.exp(nrt)\n",
    "                return df"
   ]
  },
  {
   "cell_type": "code",
   "execution_count": 73,
   "metadata": {},
   "outputs": [],
   "source": [
    "# add fixing storici\n",
    "MarketIndex.eur_6m.add_fixing(date(2023,6,30), 0.03)"
   ]
  },
  {
   "cell_type": "code",
   "execution_count": 74,
   "metadata": {},
   "outputs": [],
   "source": [
    "curve_rates = mdl.ir_eur_curve_estr['quote'].to_list()\n",
    "curve_pillars = (mdl.ir_eur_curve_estr['daycount']/365).to_list()\n",
    "\n",
    "rc_rates_tensor = [tf.Variable(r, dtype=dtypes.float64) for r in curve_rates]\n",
    "curve_tensor = RateCurve(curve_pillars, rc_rates_tensor)"
   ]
  },
  {
   "cell_type": "code",
   "execution_count": 75,
   "metadata": {},
   "outputs": [],
   "source": [
    "with tf.GradientTape() as tape:\n",
    "    npv = swap_test.price(curve_tensor, curve_tensor, mdl.evaluation_date)\n",
    "    #sum = tf.reduce_sum(npv, 0)"
   ]
  },
  {
   "cell_type": "code",
   "execution_count": 76,
   "metadata": {},
   "outputs": [],
   "source": [
    "sensitivities = tape.gradient(npv, curve_tensor.rates)"
   ]
  },
  {
   "cell_type": "code",
   "execution_count": null,
   "metadata": {},
   "outputs": [],
   "source": []
  },
  {
   "cell_type": "code",
   "execution_count": null,
   "metadata": {},
   "outputs": [],
   "source": []
  },
  {
   "cell_type": "code",
   "execution_count": null,
   "metadata": {},
   "outputs": [],
   "source": []
  },
  {
   "cell_type": "code",
   "execution_count": null,
   "metadata": {},
   "outputs": [],
   "source": []
  }
 ],
 "metadata": {
  "kernelspec": {
   "display_name": "Python 3",
   "language": "python",
   "name": "python3"
  },
  "language_info": {
   "codemirror_mode": {
    "name": "ipython",
    "version": 3
   },
   "file_extension": ".py",
   "mimetype": "text/x-python",
   "name": "python",
   "nbconvert_exporter": "python",
   "pygments_lexer": "ipython3",
   "version": "3.10.7"
  }
 },
 "nbformat": 4,
 "nbformat_minor": 2
}
