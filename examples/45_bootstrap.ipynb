{
 "cells": [
  {
   "cell_type": "code",
   "execution_count": 60,
   "metadata": {},
   "outputs": [],
   "source": [
    "import sys\n",
    "sys.path.append('../')\n",
    "\n",
    "import numpy as np\n",
    "import pandas as pd\n",
    "from datetime import date\n",
    "from dateutil.relativedelta import relativedelta\n",
    "from enum import IntEnum\n",
    "from scipy.interpolate import interp1d\n",
    "from scipy.optimize import minimize"
   ]
  },
  {
   "cell_type": "code",
   "execution_count": 69,
   "metadata": {},
   "outputs": [],
   "source": [
    "def generate_dates(start_date, maturity_months, tenor_months=12):\n",
    "    \"\"\"\n",
    "    generate_swap_dates: computes a set of dates given starting date and length in months.\n",
    "                         The tenor is by construction 12 months.\n",
    "\n",
    "    Params:\n",
    "    -------\n",
    "    start_date: datetime.date\n",
    "        The start date of the set of dates.\n",
    "    n_months: int\n",
    "        Number of months that define the length of the list of dates.\n",
    "    tenor_months: int\n",
    "        Set the tenor of the list of dates, by default it is 12 months.\n",
    "    \"\"\"\n",
    "    dates = []\n",
    "    for d in range(0, maturity_months, tenor_months):\n",
    "        dates.append(start_date + relativedelta(months=d))\n",
    "    dates.append(start_date + relativedelta(months=maturity_months))\n",
    "    return dates\n",
    "\n",
    "SwapType = IntEnum(\"SwapType\", {\"Receiver\":-1, \"Payer\":1})\n",
    "\n",
    "class OvernightIndexSwap:\n",
    "    \"\"\"\n",
    "    A class to represent O/N swaps\n",
    "\n",
    "    Attributes:\n",
    "    -----------\n",
    "    notional: float\n",
    "        notional of the swap\n",
    "    start_date: datetime.date\n",
    "         start date of the contract\n",
    "    maturity: str\n",
    "        maturity of the swap.\n",
    "    fixed_rate: float\n",
    "        rate of the fixed leg of the swap\n",
    "    type: SwapType\n",
    "        type of the swap. default is SwapType.Payer\n",
    "    \"\"\"\n",
    "    def __init__(self, nominal, start_date, maturity, fixed_rate, type=SwapType.Payer):\n",
    "        self.nominal = nominal\n",
    "        self.fixed_rate = fixed_rate\n",
    "        self.payment_dates = generate_dates(start_date, maturity)\n",
    "        self.type = type\n",
    "      \n",
    "    def npv_floating(self, dc):\n",
    "        \"\"\"\n",
    "        Compute the floating leg NPV\n",
    "    \n",
    "        Params:\n",
    "        -------\n",
    "        dc: DiscountCurve\n",
    "            discount curve to be used in the calculation\n",
    "        \"\"\"\n",
    "        return self.nominal * (dc.df(self.payment_dates[0]) - dc.df(self.payment_dates[-1]))\n",
    "  \n",
    "    def npv_fixed(self, dc):\n",
    "        \"\"\"\n",
    "        Computes the fixed leg NPV\n",
    "    \n",
    "        Params:\n",
    "        -------\n",
    "        dc: DiscountCurve\n",
    "            discount curve to be used in the calculation\n",
    "        \"\"\"\n",
    "        val = 0\n",
    "        for i in range(1, len(self.payment_dates)):\n",
    "            val += dc.df(self.payment_dates[i]) * \\\n",
    "                    (self.payment_dates[i] - self.payment_dates[i-1]).days/360 \n",
    "        return self.nominal*self.fixed_rate*val\n",
    "  \n",
    "    def npv(self, dc):\n",
    "        \"\"\"\n",
    "        Computes the contract NPV seen from the point of view of the \n",
    "        receiver of the floating leg.\n",
    "    \n",
    "        Params:\n",
    "        -------\n",
    "        dc: DiscountCurve\n",
    "            discount curve to be used in the calculation\n",
    "        \"\"\"\n",
    "        return self.npv_floating(dc) - self.npv_fixed(dc)*self.type\n",
    "\n",
    "    def fair_value_strike(self, dc):\n",
    "        \"\"\"\n",
    "        Computes the fair value strike\n",
    "\n",
    "        Params:\n",
    "        -------\n",
    "        dc: DiscountCurve\n",
    "            siscount curve object used for npv calculation.\n",
    "        \"\"\"\n",
    "        den = self.npv_fixed_leg(dc)/self.fixed_rate\n",
    "        num = self.npv_floating_leg(dc)\n",
    "        return num/den\n",
    "\n",
    "class DiscountCurve:\n",
    "    \"\"\"\n",
    "    A class to represent discount curves\n",
    "\n",
    "    Attributes:\n",
    "    -----------\n",
    "    obs_date: datetime.date\n",
    "        observation date.\n",
    "    pillar_dates: list(datetime.date)\n",
    "        pillars dates of the discount curve\n",
    "    discount_factors: list(float)\n",
    "        actual discount factors\n",
    "    \"\"\"\n",
    "    def __init__(self, obs_date, pillar_dates, discount_factors):\n",
    "        discount_factors = np.array(discount_factors)\n",
    "        self.obs_date = obs_date\n",
    "        if obs_date not in pillar_dates:\n",
    "            pillar_dates = [obs_date] + pillar_dates\n",
    "            discount_factors = np.insert(discount_factors, 0, 1)\n",
    "        self.pillars = [p.toordinal() for p in pillar_dates] \n",
    "        self.log_discount_factors = np.log(discount_factors)\n",
    "        self.interpolator = interp1d(self.pillars, self.log_discount_factors)\n",
    "        \n",
    "    def df(self, adate):\n",
    "        \"\"\"\n",
    "        Gets interpolated discount factor at `adate`\n",
    "\n",
    "        Params:\n",
    "        -------\n",
    "        adate: datetime.date\n",
    "            actual date at which we would like the interpolated discount factor\n",
    "        \"\"\"\n",
    "        d = adate.toordinal()\n",
    "        if d < self.pillars[0] or d > self.pillars[-1]:\n",
    "            print (f\"Cannot extrapolate discount factors (date: {adate}).\")\n",
    "            return None\n",
    "        return np.exp(self.interpolator(d))\n",
    "    \n",
    "    def annualized_yield(self, d):\n",
    "        \"\"\"\n",
    "        Computes the annualized yield at a given date\n",
    "\n",
    "        Params:\n",
    "        -------\n",
    "        d: datetime.date\n",
    "            actual date at which calculate the yield\n",
    "        \"\"\"\n",
    "        return -np.log(self.df(d))/((d-self.obs_date).days/365) "
   ]
  },
  {
   "cell_type": "code",
   "execution_count": null,
   "metadata": {},
   "outputs": [],
   "source": []
  },
  {
   "cell_type": "code",
   "execution_count": 31,
   "metadata": {},
   "outputs": [],
   "source": [
    "mq = pd.read_excel('../data/20230929/markets/ois_test.xlsx')"
   ]
  },
  {
   "cell_type": "code",
   "execution_count": 52,
   "metadata": {},
   "outputs": [
    {
     "data": {
      "text/plain": [
       "12    0.024475\n",
       "Name: quotes, dtype: float64"
      ]
     },
     "execution_count": 52,
     "metadata": {},
     "output_type": "execute_result"
    }
   ],
   "source": [
    "obs_date = date.today()\n",
    "maturity_months = 18\n",
    "ois = OvernightIndexSwap(1e6, obs_date, maturity_months,\n",
    "                        mq.loc[mq['months']==maturity_months, 'quotes']*0.01)\n",
    "ois.fixed_rate"
   ]
  },
  {
   "cell_type": "code",
   "execution_count": 53,
   "metadata": {},
   "outputs": [],
   "source": [
    "pillar_dates = []\n",
    "swaps = []\n",
    "start_date = obs_date\n",
    "for i in range(len(mq)):\n",
    "    swap = OvernightIndexSwap(1e6, obs_date, mq.loc[i, 'months'],\n",
    "                                mq.loc[i, 'quotes']*0.01)\n",
    "    \n",
    "    # OvernightIndexSwap(1e5, start_date,\n",
    "    #                             f\"{mq.loc[i, 'months']}M\",\n",
    "    #                             0.01 * mq.loc[i, 'quotes'])\n",
    "    swaps.append(swap)\n",
    "    pillar_dates.append(swap.payment_dates[-1])\n",
    "                                           \n",
    "pillar_dates = sorted(pillar_dates)"
   ]
  },
  {
   "cell_type": "code",
   "execution_count": 54,
   "metadata": {},
   "outputs": [],
   "source": [
    "def objective_function(dfs, obs_date, pillars, swaps):\n",
    "    curve = DiscountCurve(obs_date, pillars, dfs)\n",
    "    sum_sq = 0.0\n",
    "    for swap in swaps:\n",
    "        sum_sq += swap.npv(curve)**2\n",
    "    return sum_sq"
   ]
  },
  {
   "cell_type": "code",
   "execution_count": 55,
   "metadata": {},
   "outputs": [],
   "source": [
    "x0 = [1.0 for i in range(len(swaps))]\n",
    "bounds = [(0.01, 10.0) for i in range(len(swaps))]"
   ]
  },
  {
   "cell_type": "code",
   "execution_count": 61,
   "metadata": {},
   "outputs": [
    {
     "name": "stdout",
     "output_type": "stream",
     "text": [
      "  message: CONVERGENCE: REL_REDUCTION_OF_F_<=_FACTR*EPSMCH\n",
      "  success: True\n",
      "   status: 0\n",
      "      fun: 0.0006027305758561416\n",
      "        x: [ 9.994e-01  9.983e-01 ...  4.428e-01  3.901e-01]\n",
      "      nit: 11\n",
      "      jac: [ 1.145e+01  1.766e+01 ... -1.789e+01  8.189e+00]\n",
      "     nfev: 465\n",
      "     njev: 15\n",
      " hess_inv: <30x30 LbfgsInvHessProduct with dtype=float64>\n"
     ]
    }
   ],
   "source": [
    "result = minimize(objective_function, x0, bounds=bounds,\n",
    "args=(obs_date, pillar_dates, swaps))\n",
    "print (result)"
   ]
  },
  {
   "cell_type": "code",
   "execution_count": 67,
   "metadata": {},
   "outputs": [
    {
     "name": "stdout",
     "output_type": "stream",
     "text": [
      "Initial objective function value  3792979138168.1074\n",
      "Final objective function value  0.0006027305758561416\n"
     ]
    }
   ],
   "source": [
    "print (\"Initial objective function value \", objective_function(x0, obs_date,\n",
    "pillar_dates, swaps))\n",
    "print (\"Final objective function value \", objective_function(result.x, obs_date,\n",
    "pillar_dates, swaps))"
   ]
  },
  {
   "cell_type": "code",
   "execution_count": 66,
   "metadata": {},
   "outputs": [
    {
     "data": {
      "text/plain": [
       "array([ 11.44622938,  17.65937571,  20.00923964,  18.21342727,\n",
       "        13.45806948,   7.82555167,   3.41746089,   1.51570217,\n",
       "         2.21362486,   4.7723774 ,   8.08736046, -10.95634646,\n",
       "        -9.03316437,  18.64626798,   8.80588666,   2.90305088,\n",
       "        -0.83171869,  -3.19791507,  -2.65334357,  -2.26025763,\n",
       "        -0.60603123,  -1.7133146 ,  -2.86188593, -33.81190336,\n",
       "         7.05848015, -35.31583683, -25.07174475,   1.7874019 ,\n",
       "       -17.88887386,   8.1892812 ])"
      ]
     },
     "execution_count": 66,
     "metadata": {},
     "output_type": "execute_result"
    }
   ],
   "source": [
    "result.jac"
   ]
  },
  {
   "cell_type": "code",
   "execution_count": 78,
   "metadata": {},
   "outputs": [
    {
     "name": "stdout",
     "output_type": "stream",
     "text": [
      "40y df: 0.978\n",
      "40y rate: 0.022617\n"
     ]
    }
   ],
   "source": [
    "dfs = result.x\n",
    "curve = DiscountCurve(obs_date, pillar_dates, dfs)\n",
    "d = obs_date + relativedelta(years=1)\n",
    "print (f\"40y df: {curve.df(d):.3f}\")\n",
    "print (f\"40y rate: {curve.annualized_yield(d):.6f}\")"
   ]
  },
  {
   "cell_type": "code",
   "execution_count": null,
   "metadata": {},
   "outputs": [],
   "source": []
  }
 ],
 "metadata": {
  "kernelspec": {
   "display_name": "Python 3",
   "language": "python",
   "name": "python3"
  },
  "language_info": {
   "codemirror_mode": {
    "name": "ipython",
    "version": 3
   },
   "file_extension": ".py",
   "mimetype": "text/x-python",
   "name": "python",
   "nbconvert_exporter": "python",
   "pygments_lexer": "ipython3",
   "version": "3.10.7"
  }
 },
 "nbformat": 4,
 "nbformat_minor": 2
}
