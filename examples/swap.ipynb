{
 "cells": [
  {
   "cell_type": "code",
   "execution_count": 1,
   "metadata": {},
   "outputs": [],
   "source": [
    "import sys\n",
    "sys.path.append('../')\n",
    "\n",
    "import tquant as tq\n",
    "\n",
    "from datetime import date, timedelta\n",
    "import tensorflow as tf\n",
    "# import pandas as pd\n",
    "from datastore import *"
   ]
  },
  {
   "cell_type": "markdown",
   "metadata": {},
   "source": [
    "# Settings"
   ]
  },
  {
   "cell_type": "code",
   "execution_count": 2,
   "metadata": {},
   "outputs": [],
   "source": [
    "tq.Settings.evaluation_date = date(2024, 4, 30)\n",
    "\n",
    "calendar = tq.TARGET()\n",
    "daycounter = tq.DayCounter(tq.DayCounterConvention.Actual360)\n",
    "evaluation_date = tq.Settings.evaluation_date"
   ]
  },
  {
   "cell_type": "markdown",
   "metadata": {},
   "source": [
    "# Market"
   ]
  },
  {
   "cell_type": "code",
   "execution_count": 3,
   "metadata": {},
   "outputs": [],
   "source": [
    "rates = ir_eur_curve_estr['quote'].values\n",
    "times = ir_eur_curve_estr['daycount'].values/365\n",
    "\n",
    "rates_6m = ir_eur_curve_6m['quote'].values\n",
    "times_6m = ir_eur_curve_6m['daycount'].values/365 # sono sbagliati questi\n",
    "\n",
    "market_data = {}\n",
    "market_data[\"EUR:ESTR\"] = tq.RateCurve(times, rates, 'LINEAR')\n",
    "market_data[\"EUR:6M\"] = tq.RateCurve(times, rates, 'LINEAR')#tq.RateCurve(times_6m, rates_6m, 'LINEAR')\n"
   ]
  },
  {
   "cell_type": "markdown",
   "metadata": {},
   "source": [
    "# Swap"
   ]
  },
  {
   "cell_type": "code",
   "execution_count": 4,
   "metadata": {},
   "outputs": [],
   "source": [
    "currency = tq.Currency.EUR\n",
    "mod_fol_convention = tq.BusinessDayConvention.ModifiedFollowing\n",
    "daycount_fix = tq.DayCounterConvention.Actual360\n",
    "daycount_flt = tq.DayCounterConvention.Actual360\n",
    "\n",
    "# --------------\n",
    "# fixed leg\n",
    "# start_date = date(2015,12,31)\n",
    "# end_date = calendar.advance(start_date, 25, tq.TimeUnit.Years, mod_fol_convention) #25 years\n",
    "\n",
    "eur6m_index = tq.IborIndex(calendar, 6, tq.TimeUnit.Months, tq.Currency.EUR)\n",
    "irs_eur6m_generator = tq.SwapGenerator(currency, 2, \"1Y\", \"6M\", mod_fol_convention, 100e6, daycount_fix, daycount_flt, calendar, eur6m_index)"
   ]
  },
  {
   "cell_type": "code",
   "execution_count": 5,
   "metadata": {},
   "outputs": [],
   "source": [
    "fixed_rate = 0.01\n",
    "swap = irs_eur6m_generator.build(evaluation_date, fixed_rate, \"10Y\")"
   ]
  },
  {
   "cell_type": "code",
   "execution_count": 6,
   "metadata": {},
   "outputs": [
    {
     "name": "stdout",
     "output_type": "stream",
     "text": [
      "NPV FixedLeg: 8,716,366\n",
      "NPV FloatingLeg: 24,053,323\n",
      "NPV Swap: 15,336,956\n"
     ]
    }
   ],
   "source": [
    "swap_engine = tq.SwapPricer(curve_map) # perché  non va in errore se non trova il fixing??\n",
    "npv_swap = swap_engine.price(swap, evaluation_date, market_data)\n",
    "\n",
    "print(f\"NPV FixedLeg: {swap_engine.pv_fix :,.0f}\")\n",
    "print(f\"NPV FloatingLeg: {swap_engine.pv_flt :,.0f}\")\n",
    "########\n",
    "print(f\"NPV Swap: {npv_swap :,.0f}\")"
   ]
  },
  {
   "cell_type": "code",
   "execution_count": 7,
   "metadata": {},
   "outputs": [],
   "source": [
    "npv_swap, tape = swap_engine.price_aad(swap, evaluation_date, market_data)\n",
    "sensitivities = tape.gradient(npv_swap, [market_data['EUR:ESTR'].rates, market_data['EUR:6M'].rates])"
   ]
  },
  {
   "cell_type": "code",
   "execution_count": 8,
   "metadata": {},
   "outputs": [
    {
     "data": {
      "image/png": "[encoded data removed]",
      "text/plain": [
       "<Figure size 640x480 with 1 Axes>"
      ]
     },
     "metadata": {},
     "output_type": "display_data"
    }
   ],
   "source": [
    "# Function to extract values from TensorFlow tensors\n",
    "def extract_value(x):\n",
    "    if isinstance(x, tf.Tensor):\n",
    "        return x.numpy()  # Extract value from TensorFlow tensor\n",
    "    else:\n",
    "        return x\n",
    "    \n",
    "sensy_estr = pd.DataFrame([market_data['EUR:ESTR'].pillars.tolist(), sensitivities[0]]).T\n",
    "sensy_estr.columns = ['time', 'sensy_estr']\n",
    "sensy_estr.fillna(0, inplace = True)\n",
    "sensy_estr.set_index('time', inplace = True)\n",
    "sensy_estr['sensy_estr'] = sensy_estr['sensy_estr'].apply(extract_value)\n",
    "\n",
    "sensy_eur6m = pd.DataFrame([market_data['EUR:6M'].pillars.tolist(), sensitivities[1]]).T\n",
    "sensy_eur6m.columns = ['time', 'sensy_eur6m']\n",
    "sensy_eur6m.fillna(0, inplace = True)\n",
    "sensy_eur6m.set_index('time', inplace = True)\n",
    "sensy_eur6m['sensy_eur6m'] = sensy_eur6m['sensy_eur6m'].apply(extract_value)\n",
    "\n",
    "import matplotlib.pyplot as plt\n",
    "# Plot line chart of column 'A'\n",
    "# plt.bar(sensy_eur6m.index, sensy_eur6m['sensy_eur6m'])\n",
    "# plt.xlabel('Index')\n",
    "# plt.ylabel('Value')\n",
    "# plt.title('EUR 6M sensy')\n",
    "# plt.show()\n",
    "\n",
    "# Plot line chart of column 'A'\n",
    "plt.bar(sensy_estr.index, sensy_estr['sensy_estr'])\n",
    "plt.xlabel('Index')\n",
    "plt.ylabel('Value')\n",
    "plt.title('ESTR sensy')\n",
    "plt.show()"
   ]
  },
  {
   "cell_type": "markdown",
   "metadata": {},
   "source": [
    "# debug vs quantlib"
   ]
  },
  {
   "cell_type": "code",
   "execution_count": 9,
   "metadata": {},
   "outputs": [],
   "source": [
    "import QuantLib as ql\n",
    "calendar_ql = ql.TARGET()\n",
    "\n",
    "\n",
    "def get_ql_curve(curve_tq, evaluation_date):\n",
    "    evaluation_date_ql = ql.Date.from_date(evaluation_date)\n",
    "    pillar_taus = [int(np.round(x,0)) for x in curve_tq.pillars*365]\n",
    "    dates_ql = [evaluation_date_ql + d for d in pillar_taus]\n",
    "    rates_ql = [r.numpy() for r in curve_tq.rates]\n",
    "    curve_ql = ql.ZeroCurve(dates_ql, rates_ql, ql.ActualActual(ql.ActualActual.ISDA), ql.TARGET())\n",
    "    curve_ql.enableExtrapolation()\n",
    "    return curve_ql"
   ]
  },
  {
   "cell_type": "code",
   "execution_count": 10,
   "metadata": {},
   "outputs": [],
   "source": [
    "estr_ql = get_ql_curve(market_data['EUR:ESTR'], evaluation_date)\n",
    "eur6m_ql = get_ql_curve(market_data['EUR:6M'], evaluation_date)\n",
    "handleYieldTermStructure = ql.YieldTermStructureHandle(eur6m_ql)\n",
    "index_ql = ql.Euribor6M(handleYieldTermStructure)\n",
    "ql.Settings.instance().evaluationDate = ql.Date.from_date(evaluation_date)"
   ]
  },
  {
   "cell_type": "code",
   "execution_count": 74,
   "metadata": {},
   "outputs": [
    {
     "name": "stdout",
     "output_type": "stream",
     "text": [
      "NPV Swap: 14,990,353\n",
      "********************\n"
     ]
    }
   ],
   "source": [
    "start_date_ql = ql.Date.from_date(swap.start_date) +2\n",
    "end_date_ql = ql.Date.from_date(swap.maturity)\n",
    "fix_schedule_ql = ql.MakeSchedule(start_date_ql, end_date_ql, ql.Period('1Y'))\n",
    "flt_schedule_ql = ql.MakeSchedule(start_date_ql, end_date_ql, ql.Period('6M'))\n",
    "gearing = swap._gearings\n",
    "spread = swap._margins\n",
    "rates_swap = swap._rates\n",
    "fixed_daycount = ql.Actual360()\n",
    "flt_daycount = ql.Actual360()\n",
    "\n",
    "swap_ql = ql.NonstandardSwap(type = ql.VanillaSwap.Payer, fixedNominal=swap._fix_notionals, floatingNominal=swap._float_notionals,\n",
    "                   fixedSchedule=fix_schedule_ql, floatSchedule=flt_schedule_ql, fixedRate=rates_swap, gearing=gearing, spread=spread,\n",
    "                   index=index_ql, fixedDayCount=fixed_daycount, floatDayCount=flt_daycount)\n",
    "engine = ql.DiscountingSwapEngine(handleYieldTermStructure)\n",
    "\n",
    "swap_ql.setPricingEngine(engine)\n",
    "print(f\"NPV Swap: {swap_ql.NPV() :,.0f}\")\n",
    "print(20*\"*\")\n",
    "# print(f\"NPV FixedLeg: {swap_ql.fixedLegNPV() :,.0f}\")\n",
    "# print(f\"NPV FloatingLeg: {swap_ql.floatingLegNPV() :,.0f}\")"
   ]
  },
  {
   "cell_type": "code",
   "execution_count": 85,
   "metadata": {},
   "outputs": [],
   "source": [
    "def makeVanillaSwap(start, maturity, nominal, fixedRate, index, typ=ql.VanillaSwap.Payer):\n",
    "    end = maturity# ql.TARGET().advance(start, maturity)\n",
    "    fixedLegTenor = ql.Period(\"12M\")\n",
    "    fixedLegBDC = ql.ModifiedFollowing\n",
    "    fixedLegDC = ql.Thirty360(ql.Thirty360.BondBasis)\n",
    "    spread = 0.0\n",
    "    fixedSchedule = ql.Schedule(start,\n",
    "                                end, \n",
    "                                fixedLegTenor, \n",
    "                                index.fixingCalendar(), \n",
    "                                fixedLegBDC,\n",
    "                                fixedLegBDC, \n",
    "                                ql.DateGeneration.Backward,\n",
    "                                False)\n",
    "    floatSchedule = ql.Schedule(start,\n",
    "                                end,\n",
    "                                index.tenor(),\n",
    "                                index.fixingCalendar(),\n",
    "                                index.businessDayConvention(),\n",
    "                                index.businessDayConvention(),\n",
    "                                ql.DateGeneration.Backward,\n",
    "                                False)\n",
    "    swap = ql.VanillaSwap(typ, \n",
    "                          nominal,\n",
    "                          fixedSchedule,\n",
    "                          fixedRate,\n",
    "                          fixedLegDC,\n",
    "                          floatSchedule,\n",
    "                          index,\n",
    "                          spread,\n",
    "                          index.dayCounter())\n",
    "    return swap"
   ]
  },
  {
   "cell_type": "code",
   "execution_count": 93,
   "metadata": {},
   "outputs": [
    {
     "name": "stdout",
     "output_type": "stream",
     "text": [
      "NPV QL Swap: 15,110,528\n",
      "NPV TQ Swap: 15,336,956\n",
      "********************\n",
      "NPV QL FixedLeg: -8,603,777\n",
      "NPV TQ FixedLeg: 8,716,366\n",
      "NPV QL FloatingLeg: 23,714,305\n",
      "NPV TQ FloatingLeg: 24,053,323\n"
     ]
    }
   ],
   "source": [
    "swap_ql2 = makeVanillaSwap(start_date_ql, end_date_ql, swap.notional, swap.quote, index_ql )\n",
    "swap_ql2.setPricingEngine(engine)\n",
    "print(f\"NPV QL Swap: {swap_ql2.NPV() :,.0f}\")\n",
    "print(f\"NPV TQ Swap: {npv_swap :,.0f}\")\n",
    "print(20*\"*\")\n",
    "print(f\"NPV QL FixedLeg: {swap_ql2.fixedLegNPV() :,.0f}\")\n",
    "print(f\"NPV TQ FixedLeg: {swap_engine.pv_fix :,.0f}\")\n",
    "print(f\"NPV QL FloatingLeg: {swap_ql2.floatingLegNPV() :,.0f}\")\n",
    "print(f\"NPV TQ FloatingLeg: {swap_engine.pv_flt :,.0f}\")"
   ]
  },
  {
   "cell_type": "code",
   "execution_count": null,
   "metadata": {},
   "outputs": [],
   "source": []
  },
  {
   "cell_type": "markdown",
   "metadata": {},
   "source": [
    "# Tensor Pricing "
   ]
  },
  {
   "cell_type": "markdown",
   "metadata": {},
   "source": [
    "## simulate random 1M curves"
   ]
  },
  {
   "cell_type": "code",
   "execution_count": 13,
   "metadata": {},
   "outputs": [],
   "source": [
    "# instance of the hull-white model for 1M curve simulation\n",
    "mean_rev = 0.02\n",
    "sigma = 0.045\n",
    "hw = tq.HullWhiteProcess(mean_rev, sigma, market_curve=market_data['EUR:ESTR'])\n",
    "hw_kernel = tq.GaussianRateKernel1D(hw)\n",
    "\n",
    "# simulate short rate and discount curve \n",
    "paths = int(1e6) \n",
    "r_tensor, zb_tensor, grid = hw_kernel.rate_tensor(paths,\n",
    "                                                  last_grid_time=1,\n",
    "                                                  time_steps=2) # evaluation_date + 1y\n",
    "# Reshape the tensor and create a discount curve object\n",
    "reshaped_tensor = tf.reshape(zb_tensor, shape=(zb_tensor.shape[1], paths, 1))\n",
    "rate_curve_tensor = tq.DiscountCurveSimple(times, reshaped_tensor)"
   ]
  },
  {
   "cell_type": "code",
   "execution_count": 19,
   "metadata": {},
   "outputs": [],
   "source": [
    "simulated_market = {}\n",
    "simulated_market['EUR:ESTR'] = rate_curve_tensor\n",
    "simulated_market['EUR:6M'] = rate_curve_tensor"
   ]
  },
  {
   "cell_type": "markdown",
   "metadata": {},
   "source": [
    "## swap price for 1M simulated curves"
   ]
  },
  {
   "cell_type": "code",
   "execution_count": 20,
   "metadata": {},
   "outputs": [],
   "source": [
    "npv_swap = swap_engine.price(swap, evaluation_date, simulated_market)"
   ]
  },
  {
   "cell_type": "code",
   "execution_count": 22,
   "metadata": {},
   "outputs": [
    {
     "data": {
      "image/png": "[encoded data removed]",
      "text/plain": [
       "<Figure size 640x480 with 1 Axes>"
      ]
     },
     "metadata": {},
     "output_type": "display_data"
    }
   ],
   "source": [
    "plt.plot(npv_swap[:1000], '.');"
   ]
  },
  {
   "cell_type": "code",
   "execution_count": null,
   "metadata": {},
   "outputs": [],
   "source": []
  }
 ],
 "metadata": {
  "kernelspec": {
   "display_name": "Python 3",
   "language": "python",
   "name": "python3"
  },
  "language_info": {
   "codemirror_mode": {
    "name": "ipython",
    "version": 3
   },
   "file_extension": ".py",
   "mimetype": "text/x-python",
   "name": "python",
   "nbconvert_exporter": "python",
   "pygments_lexer": "ipython3",
   "version": "3.10.7"
  }
 },
 "nbformat": 4,
 "nbformat_minor": 2
}
