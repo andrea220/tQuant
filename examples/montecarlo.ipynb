{
 "cells": [
  {
   "cell_type": "code",
   "execution_count": 1,
   "metadata": {},
   "outputs": [],
   "source": [
    "import sys\n",
    "sys.path.append('../')\n",
    "\n",
    "import tquant as tq\n",
    "\n",
    "\n",
    "import tensorflow as tf\n",
    "from datastore import *\n",
    "import matplotlib.pyplot as plt\n",
    "import QuantLib as ql\n",
    "\n",
    "def get_ql_curve(curve_tq, evaluation_date):\n",
    "    evaluation_date_ql = ql.Date.from_date(evaluation_date)\n",
    "    dates_ql = [evaluation_date_ql + d for d in curve_tq._pillar_days]\n",
    "    rates_ql = [r.numpy() for r in curve_tq._rates]\n",
    "    curve_ql = ql.ZeroCurve(dates_ql, rates_ql, ql.ActualActual(ql.ActualActual.ISDA), ql.TARGET())\n",
    "    curve_ql.enableExtrapolation()\n",
    "    return curve_ql\n"
   ]
  },
  {
   "cell_type": "markdown",
   "metadata": {},
   "source": [
    "# Settings"
   ]
  },
  {
   "cell_type": "code",
   "execution_count": 3,
   "metadata": {},
   "outputs": [],
   "source": [
    "tq.Settings.evaluation_date = date(2024, 4, 30)\n",
    "\n",
    "calendar = tq.TARGET()\n",
    "daycounter = tq.DayCounter(tq.DayCounterConvention.Actual360)\n",
    "evaluation_date = tq.Settings.evaluation_date\n",
    "\n",
    "rates = ir_eur_curve_estr['quote'].values\n",
    "times = ir_eur_curve_estr['daycount'].values/365\n",
    "\n",
    "\n",
    "rate_curve = tq.RateCurve(evaluation_date, times, rates, 'LINEAR')\n",
    "eur6m_index = tq.IborIndex(calendar, 6, tq.TimeUnit.Months, tq.Currency.EUR)"
   ]
  },
  {
   "cell_type": "markdown",
   "metadata": {},
   "source": [
    "# Test QL"
   ]
  },
  {
   "cell_type": "code",
   "execution_count": 4,
   "metadata": {},
   "outputs": [],
   "source": [
    "a = 0.03\n",
    "sigma = 0.2\n",
    "#TQ\n",
    "hw_tq = tq.HullWhiteProcess(rate_curve, a, sigma)\n",
    "# QL\n",
    "rate_curve_ql = get_ql_curve(rate_curve, evaluation_date)\n",
    "hrate_curve_ql = ql.YieldTermStructureHandle(rate_curve_ql)\n",
    "hw_ql = ql.HullWhiteProcess(hrate_curve_ql, a, sigma)\n"
   ]
  },
  {
   "cell_type": "code",
   "execution_count": 5,
   "metadata": {},
   "outputs": [
    {
     "name": "stdout",
     "output_type": "stream",
     "text": [
      "tq drift:  0.42119516645478117\n",
      "ql drift:  0.421211266538131\n",
      "******************************\n",
      "tq diffusion:  0.34605408716188574\n",
      "ql diffusion:  0.34605408716188574\n"
     ]
    }
   ],
   "source": [
    "t0 = 2\n",
    "x0 = 0.01\n",
    "dt = 3.3\n",
    "\n",
    "print(\"tq drift: \", hw_tq.expectation(x0=x0, dt=dt, t0=t0).numpy() )\n",
    "print(\"ql drift: \", hw_ql.expectation(t0, x0, dt) ) # differenza data dall'inst. forward\n",
    "print(\"*\"*30)\n",
    "print(\"tq diffusion: \", hw_tq.std_deviation(x0=x0, dt=dt, t0=t0).numpy() )\n",
    "print(\"ql diffusion: \", hw_ql.stdDeviation(t0, x0, dt) )"
   ]
  },
  {
   "cell_type": "code",
   "execution_count": 6,
   "metadata": {},
   "outputs": [
    {
     "name": "stdout",
     "output_type": "stream",
     "text": [
      "QL evolve:  0.3059935613534811\n",
      "TQ evolve:  0.30597746127013126\n"
     ]
    }
   ],
   "source": [
    "dw = np.random.normal()\n",
    "print(\"QL evolve: \", hw_ql.evolve(t0, x0, dt, dw))\n",
    "print(\"TQ evolve: \", hw_tq.evolve(t0, x0, dt, dw).numpy())"
   ]
  },
  {
   "cell_type": "code",
   "execution_count": 8,
   "metadata": {},
   "outputs": [],
   "source": [
    "process = tq.HullWhiteProcess(rate_curve, a, sigma)\n",
    "time_grid = np.linspace(start=0.0, stop=10, num=60, retstep=False)\n",
    "kernel = tq.GaussianPathGenerator(hw_tq, time_grid)"
   ]
  },
  {
   "cell_type": "code",
   "execution_count": 9,
   "metadata": {},
   "outputs": [
    {
     "data": {
      "text/plain": [
       "<tf.Tensor: shape=(100000, 60), dtype=float64, numpy=\n",
       "array([[ 3.90613283e-02,  1.38530208e-01,  1.07311986e-01, ...,\n",
       "         1.63054088e+00,  1.49220753e+00,  1.45691688e+00],\n",
       "       [ 3.90613283e-02, -3.73553000e-02,  7.30364440e-02, ...,\n",
       "         1.30885836e+00,  1.52537914e+00,  1.51146786e+00],\n",
       "       [ 3.90613283e-02,  6.46984086e-02,  1.42910148e-01, ...,\n",
       "         1.63688252e+00,  1.70581935e+00,  1.65443594e+00],\n",
       "       ...,\n",
       "       [ 3.90613283e-02, -5.36651148e-02,  8.68353670e-03, ...,\n",
       "         9.34250369e-01,  9.78699995e-01,  9.93115682e-01],\n",
       "       [ 3.90613283e-02, -1.52429158e-02,  1.75886315e-03, ...,\n",
       "         1.33646827e+00,  1.29399076e+00,  1.26651726e+00],\n",
       "       [ 3.90613283e-02,  4.86743070e-02, -2.36146749e-02, ...,\n",
       "         1.89760432e+00,  1.97315824e+00,  2.05329567e+00]])>"
      ]
     },
     "execution_count": 9,
     "metadata": {},
     "output_type": "execute_result"
    }
   ],
   "source": [
    "kernel.simulate(n_paths=100000)"
   ]
  },
  {
   "cell_type": "code",
   "execution_count": 10,
   "metadata": {},
   "outputs": [],
   "source": [
    "# creazione curve future zcb vs ql\n",
    "# pricing swap a date future"
   ]
  },
  {
   "cell_type": "code",
   "execution_count": null,
   "metadata": {},
   "outputs": [],
   "source": []
  },
  {
   "cell_type": "markdown",
   "metadata": {},
   "source": [
    "## QL"
   ]
  },
  {
   "cell_type": "code",
   "execution_count": 10,
   "metadata": {},
   "outputs": [
    {
     "ename": "NameError",
     "evalue": "name 'Grid' is not defined",
     "output_type": "error",
     "traceback": [
      "\u001b[1;31m---------------------------------------------------------------------------\u001b[0m",
      "\u001b[1;31mNameError\u001b[0m                                 Traceback (most recent call last)",
      "Cell \u001b[1;32mIn [10], line 4\u001b[0m\n\u001b[0;32m      2\u001b[0m simulation_end \u001b[38;5;241m=\u001b[39m evaluation_date_ql \u001b[38;5;241m+\u001b[39m ql\u001b[38;5;241m.\u001b[39mPeriod(\u001b[38;5;124m\"\u001b[39m\u001b[38;5;124m20Y\u001b[39m\u001b[38;5;124m\"\u001b[39m)\n\u001b[0;32m      3\u001b[0m gridStepPeriod \u001b[38;5;241m=\u001b[39m ql\u001b[38;5;241m.\u001b[39mPeriod(\u001b[38;5;241m3\u001b[39m, ql\u001b[38;5;241m.\u001b[39mMonths)\n\u001b[1;32m----> 4\u001b[0m timeGrid \u001b[38;5;241m=\u001b[39m Grid(evaluation_date_ql, simulation_end, gridStepPeriod)\n\u001b[0;32m      5\u001b[0m times \u001b[38;5;241m=\u001b[39m np\u001b[38;5;241m.\u001b[39marray(timeGrid\u001b[38;5;241m.\u001b[39mGetTimes())\n\u001b[0;32m      6\u001b[0m dates \u001b[38;5;241m=\u001b[39m np\u001b[38;5;241m.\u001b[39marray(timeGrid\u001b[38;5;241m.\u001b[39mGetDates())\n",
      "\u001b[1;31mNameError\u001b[0m: name 'Grid' is not defined"
     ]
    }
   ],
   "source": [
    "evaluation_date_ql = ql.Date.from_date(evaluation_date)\n",
    "simulation_end = evaluation_date_ql + ql.Period(\"20Y\")\n",
    "gridStepPeriod = ql.Period(3, ql.Months)\n",
    "timeGrid = Grid(evaluation_date_ql, simulation_end, gridStepPeriod)\n",
    "times = np.array(timeGrid.GetTimes())\n",
    "dates = np.array(timeGrid.GetDates())\n",
    "\n",
    "process = hw_ql\n",
    "Npaths = 100\n",
    "\n",
    "timestep_len= len(times[1:])\n",
    "dimension = process.factors()\n",
    "\n",
    "rng = ql.UniformRandomSequenceGenerator(dimension * timestep_len, ql.UniformRandomGenerator())\n",
    "sequenceGenerator = ql.GaussianRandomSequenceGenerator(rng)\n",
    "pathGenerator = ql.GaussianMultiPathGenerator(process, list(times), sequenceGenerator, False)\n",
    "\n",
    "# singolo path QL-like\n",
    "generator = sequenceGenerator\n",
    "\n",
    "sequence = generator.nextSequence().value() # per la timegrid data\n",
    "m = process.size()\n",
    "n = process.factors()\n",
    "asset = list(process.initialValues())\n",
    "time_grid = times\n",
    "dt = times[1:]-times[:-1]\n",
    "\n",
    "path = np.zeros((m, len(time_grid)))\n",
    "for j in range(m):\n",
    "    path[j,0] = asset[j]\n",
    "\n",
    "for i in range(1, path.size):\n",
    "    offset = (i-1)/n\n",
    "    offset_int = int(offset)\n",
    "    temp = np.array(sequence[offset_int:offset_int+n])\n",
    "    pass\n",
    "    path[j,i] = process.evolve(time_grid[i], asset[0], dt[i-1], temp[0])\n",
    "    \n",
    "# multipli path QL-like\n",
    "gen_paths = np.zeros((dimension, timestep_len+1, Npaths))\n",
    "for i in range(Npaths):\n",
    "    samplePath = pathGenerator.next()\n",
    "    values = samplePath.value() \n",
    "\n",
    "    for j in range(dimension):\n",
    "        gen_paths[j, :, i] = values[0]"
   ]
  },
  {
   "cell_type": "code",
   "execution_count": null,
   "metadata": {},
   "outputs": [],
   "source": [
    "# implementazione tq\n"
   ]
  },
  {
   "cell_type": "code",
   "execution_count": null,
   "metadata": {},
   "outputs": [],
   "source": []
  },
  {
   "cell_type": "code",
   "execution_count": null,
   "metadata": {},
   "outputs": [],
   "source": []
  },
  {
   "cell_type": "code",
   "execution_count": null,
   "metadata": {},
   "outputs": [],
   "source": []
  },
  {
   "cell_type": "code",
   "execution_count": null,
   "metadata": {},
   "outputs": [],
   "source": []
  },
  {
   "cell_type": "markdown",
   "metadata": {},
   "source": [
    "# OLD"
   ]
  },
  {
   "cell_type": "code",
   "execution_count": null,
   "metadata": {},
   "outputs": [],
   "source": [
    "hw = tq.HullWhiteProcess(a, sigma, rate_curve)\n",
    "hw_kernel = tq.GaussianRateKernel1D(hw)\n",
    "\n",
    "# simulate short rate and discount curve \n",
    "paths = int(1e6) \n",
    "r_tensor, zb_tensor, grid = hw_kernel.rate_tensor(paths,\n",
    "                                                  last_grid_time=1,\n",
    "                                                  time_steps=2) \n",
    "# Reshape the tensor and create a discount curve object\n",
    "reshaped_tensor = tf.reshape(zb_tensor, shape=(zb_tensor.shape[1], paths, 1))\n",
    "rate_curve_tensor = tq.RateCurve.from_zcb(evaluation_date, times, reshaped_tensor, \"LINEAR\")"
   ]
  },
  {
   "cell_type": "code",
   "execution_count": null,
   "metadata": {},
   "outputs": [
    {
     "data": {
      "text/plain": [
       "<tf.Tensor: shape=(1000000, 1), dtype=float64, numpy=\n",
       "array([[0.99560683],\n",
       "       [1.00017447],\n",
       "       [0.98124546],\n",
       "       ...,\n",
       "       [0.99541913],\n",
       "       [0.99054788],\n",
       "       [0.99026692]])>"
      ]
     },
     "execution_count": 115,
     "metadata": {},
     "output_type": "execute_result"
    }
   ],
   "source": [
    "rate_curve_tensor.discount(2.0)"
   ]
  },
  {
   "cell_type": "code",
   "execution_count": null,
   "metadata": {},
   "outputs": [],
   "source": []
  },
  {
   "cell_type": "code",
   "execution_count": null,
   "metadata": {},
   "outputs": [],
   "source": []
  }
 ],
 "metadata": {
  "kernelspec": {
   "display_name": "Python 3",
   "language": "python",
   "name": "python3"
  },
  "language_info": {
   "codemirror_mode": {
    "name": "ipython",
    "version": 3
   },
   "file_extension": ".py",
   "mimetype": "text/x-python",
   "name": "python",
   "nbconvert_exporter": "python",
   "pygments_lexer": "ipython3",
   "version": "3.10.7"
  }
 },
 "nbformat": 4,
 "nbformat_minor": 2
}
