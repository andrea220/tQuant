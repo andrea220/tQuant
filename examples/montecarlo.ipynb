{
 "cells": [
  {
   "cell_type": "code",
   "execution_count": 1,
   "metadata": {},
   "outputs": [],
   "source": [
    "import sys\n",
    "sys.path.append('../')\n",
    "\n",
    "import tquant as tq\n",
    "\n",
    "\n",
    "import tensorflow as tf\n",
    "from datastore import *\n",
    "import matplotlib.pyplot as plt\n",
    "import QuantLib as ql\n",
    "\n",
    "def get_ql_curve(curve_tq, evaluation_date):\n",
    "    evaluation_date_ql = ql.Date.from_date(evaluation_date)\n",
    "    dates_ql = [evaluation_date_ql + d for d in curve_tq._pillar_days]\n",
    "    rates_ql = [r.numpy() for r in curve_tq._rates]\n",
    "    curve_ql = ql.ZeroCurve(dates_ql, rates_ql, ql.ActualActual(ql.ActualActual.ISDA), ql.TARGET())\n",
    "    curve_ql.enableExtrapolation()\n",
    "    return curve_ql\n"
   ]
  },
  {
   "cell_type": "code",
   "execution_count": 2,
   "metadata": {},
   "outputs": [],
   "source": [
    "# from abc import ABC, abstractmethod\n",
    "# from tensorflow.python.framework import dtypes\n",
    "\n",
    "# class StochasticProcess(ABC):\n",
    "#     def __init__(self):\n",
    "#         pass\n",
    "\n",
    "#     @abstractmethod\n",
    "#     def size(self):\n",
    "#         pass\n",
    "    \n",
    "#     @property\n",
    "#     def factors(self):\n",
    "#         return self.size()\n",
    "    \n",
    "#     @abstractmethod\n",
    "#     def initial_values(self):\n",
    "#         pass\n",
    "\n",
    "#     @abstractmethod\n",
    "#     def drift(self, t0, x0, dt):\n",
    "#         pass\n",
    "\n",
    "#     @abstractmethod\n",
    "#     def diffusion(self, t0, x0, dt):\n",
    "#         pass\n",
    "\n",
    "#     def expectation(self, t0, x0, dt):\n",
    "#         \"\"\" aggiungere euler discretization\"\"\"\n",
    "#         return x0 + self.drift(t0, x0, dt) \n",
    "\n",
    "#     def std_deviation(self, t0, x0, dt):\n",
    "#         return self.diffusion(t0, x0, dt)\n",
    "    \n",
    "#     def evolve(self, t0, x0, dt, dw):\n",
    "#         return self.expectation(t0=t0, x0=x0, dt=dt) + self.std_deviation(t0=t0, x0=x0, dt=dt)*dw\n",
    "\n",
    "# class OrnsteinUhlenbeckProcess(StochasticProcess):\n",
    "#     def __init__(self, mr_speed, volatility, x0=0.0, level=0.0):\n",
    "#         self._x0 =  tf.Variable(x0, dtype=dtypes.float64)\n",
    "#         self._mr_speed =  tf.Variable(mr_speed, dtype=dtypes.float64)\n",
    "#         self._volatility =  tf.Variable(volatility, dtype=dtypes.float64)\n",
    "#         self._level =  level#tf.Variable(level, dtype=dtypes.float64)\n",
    "\n",
    "#     def size(self):\n",
    "#         return 1\n",
    "    \n",
    "#     def initial_values(self):\n",
    "#         return self.x0\n",
    "\n",
    "#     def drift(self, x):\n",
    "#         return self._mr_speed * (self._level - x)\n",
    "\n",
    "#     def diffusion(self):\n",
    "#         return self._volatility\n",
    "\n",
    "#     def expectation(self, x0, dt, t0=None):\n",
    "#         \"\"\" overload di euler \"\"\"\n",
    "#         return self._level + (x0 - self._level) * tf.exp(-self._mr_speed * dt)\n",
    "\n",
    "#     def std_deviation(self, dt, t0=None, x0=None):\n",
    "#         \"\"\" parametri none per rispettare interfaccia\"\"\"\n",
    "#         return tf.sqrt(self.variance(dt))\n",
    "\n",
    "#     def variance(self, dt):\n",
    "#         return 0.5*self._volatility**2 / self._mr_speed * (1 - tf.exp(-2 * self._mr_speed * dt))\n",
    "    \n",
    "#     @property\n",
    "#     def x0(self):\n",
    "#         return self._x0.numpy()\n",
    "\n",
    "#     @property\n",
    "#     def mr_speed(self):\n",
    "#         return self._mr_speed.numpy()\n",
    "\n",
    "#     @property\n",
    "#     def volatility(self):\n",
    "#         return self._volatility.numpy()\n",
    "\n",
    "#     @property\n",
    "#     def level(self):\n",
    "#         return self._level\n",
    "\n",
    "# class HullWhiteProcess(StochasticProcess):\n",
    "#     def __init__(self,\n",
    "#                  term_structure: tq.RateCurve,\n",
    "#                  a: float,\n",
    "#                  sigma: float):\n",
    "#         self._process = OrnsteinUhlenbeckProcess(mr_speed=a, volatility=sigma, x0=term_structure.inst_fwd(0))\n",
    "#         self._a = tf.Variable(a, dtype=dtypes.float64)\n",
    "#         self._sigma = tf.Variable(sigma, dtype=dtypes.float64)\n",
    "#         self._term_structure = term_structure\n",
    "\n",
    "#     def size(self):\n",
    "#         return self._process.size()\n",
    "    \n",
    "#     def initial_values(self):\n",
    "#         return self._process.x0\n",
    "    \n",
    "#     @property\n",
    "#     def a(self):\n",
    "#         return self._a.numpy()\n",
    "\n",
    "#     @property\n",
    "#     def sigma(self):\n",
    "#         return self._sigma.numpy()\n",
    "\n",
    "#     @property\n",
    "#     def x0(self):\n",
    "#         return self._process.x0.numpy()\n",
    "    \n",
    "#     def drift(self, t, x):\n",
    "#         alpha_drift = self._sigma**2 / (2 * self._a) * (1 - tf.exp(-2 * self._a * t))\n",
    "#         shift = 0.0001\n",
    "#         f = self._term_structure.forward_rate(t, t)\n",
    "#         fup = self._term_structure.forward_rate(t + shift, t + shift)\n",
    "#         f_prime = (fup - f) / shift\n",
    "#         alpha_drift += self._a * f + f_prime\n",
    "#         return self._process.drift(t, x) + alpha_drift\n",
    "\n",
    "#     def diffusion(self, t, x):\n",
    "#         return self._process.diffusion(t, x) # perché diffusion ha (t,x) se sul c++ ritorna sempre volatility_?\n",
    "\n",
    "#     def expectation(self, t0, x0, dt):\n",
    "#         return (self._process.expectation(x0=x0, dt=dt) \n",
    "#                 + self.alpha(t0 + dt) - self.alpha(t0) * tf.exp(-self._a * dt))\n",
    "\n",
    "#     def std_deviation(self, dt, t0=None, x0=None):\n",
    "#         return self._process.std_deviation(dt=dt)\n",
    "\n",
    "#     def variance(self, dt):\n",
    "#         return self._process.variance(dt)\n",
    "\n",
    "#     def alpha(self, t):\n",
    "#         if self.a > 1e-10:\n",
    "#             alfa = (self._sigma / self._a) * (1 - tf.exp(-self._a * t))\n",
    "#         else:\n",
    "#             alfa = self._sigma * t\n",
    "#         alfa = 0.5 * alfa**2\n",
    "#         alfa += self._term_structure.inst_fwd(t)\n",
    "#         return alfa\n",
    "\n",
    "# # class for hosting simulation grid (dates, times)\n",
    "# class Grid:\n",
    "#     def __init__(self, startDate, endDate, tenor):\n",
    "#         # create date schedule, ignore conventions and calendars\n",
    "#         self.schedule = ql.Schedule(startDate, endDate, tenor, ql.NullCalendar(), \n",
    "#             ql.Unadjusted, ql.Unadjusted, ql.DateGeneration.Forward, False)\n",
    "#         self.dayCounter = ql.Actual365Fixed()\n",
    "#         self.tenor = tenor\n",
    "#     def GetDates(self):\n",
    "#         # get list of scheduled dates\n",
    "#         dates = []\n",
    "#         [dates.append(self.schedule[i]) for i in range(self.GetSize())]\n",
    "#         return dates            \n",
    "#     def GetTimes(self):\n",
    "#         # get list of scheduled times\n",
    "#         times = []\n",
    "#         [times.append(self.dayCounter.yearFraction(self.schedule[0], self.schedule[i])) \n",
    "#             for i in range(self.GetSize())]\n",
    "#         return times\n",
    "#     def GetMaturity(self):\n",
    "#         # get maturity in time units\n",
    "#         return self.dayCounter.yearFraction(self.schedule[0], self.schedule[self.GetSteps()])\n",
    "#     def GetSteps(self):\n",
    "#         # get number of steps in schedule\n",
    "#         return self.GetSize() - 1    \n",
    "#     def GetSize(self):\n",
    "#         # get total number of items in schedule\n",
    "#         return len(self.schedule)    \n",
    "#     def GetTimeGrid(self):\n",
    "#         # get QuantLib TimeGrid object, constructed by using list of scheduled times\n",
    "#         return ql.TimeGrid(self.GetTimes(), self.GetSize())\n",
    "#     def GetDt(self):\n",
    "#         # get constant time step\n",
    "#         return self.GetMaturity() / self.GetSteps()\n",
    "#     def GetTenor(self):\n",
    "#         # get grid tenor\n",
    "#         return self.tenor"
   ]
  },
  {
   "cell_type": "markdown",
   "metadata": {},
   "source": [
    "# Settings"
   ]
  },
  {
   "cell_type": "code",
   "execution_count": 3,
   "metadata": {},
   "outputs": [],
   "source": [
    "tq.Settings.evaluation_date = date(2024, 4, 30)\n",
    "\n",
    "calendar = tq.TARGET()\n",
    "daycounter = tq.DayCounter(tq.DayCounterConvention.Actual360)\n",
    "evaluation_date = tq.Settings.evaluation_date\n",
    "\n",
    "rates = ir_eur_curve_estr['quote'].values\n",
    "times = ir_eur_curve_estr['daycount'].values/365\n",
    "\n",
    "\n",
    "rate_curve = tq.RateCurve(evaluation_date, times, rates, 'LINEAR')\n",
    "eur6m_index = tq.IborIndex(calendar, 6, tq.TimeUnit.Months, tq.Currency.EUR)"
   ]
  },
  {
   "cell_type": "markdown",
   "metadata": {},
   "source": [
    "# Test QL"
   ]
  },
  {
   "cell_type": "code",
   "execution_count": 4,
   "metadata": {},
   "outputs": [],
   "source": [
    "a = 0.03\n",
    "sigma = 0.2\n",
    "#TQ\n",
    "hw_tq = tq.HullWhiteProcess(rate_curve, a, sigma)\n",
    "# QL\n",
    "rate_curve_ql = get_ql_curve(rate_curve, evaluation_date)\n",
    "hrate_curve_ql = ql.YieldTermStructureHandle(rate_curve_ql)\n",
    "hw_ql = ql.HullWhiteProcess(hrate_curve_ql, a, sigma)\n"
   ]
  },
  {
   "cell_type": "code",
   "execution_count": 5,
   "metadata": {},
   "outputs": [
    {
     "name": "stdout",
     "output_type": "stream",
     "text": [
      "tq drift:  0.42119516645478117\n",
      "ql drift:  0.421211266538131\n",
      "******************************\n",
      "tq diffusion:  0.34605408716188574\n",
      "ql diffusion:  0.34605408716188574\n"
     ]
    }
   ],
   "source": [
    "t0 = 2\n",
    "x0 = 0.01\n",
    "dt = 3.3\n",
    "\n",
    "print(\"tq drift: \", hw_tq.expectation(x0=x0, dt=dt, t0=t0).numpy() )\n",
    "print(\"ql drift: \", hw_ql.expectation(t0, x0, dt) ) # differenza data dall'inst. forward\n",
    "print(\"*\"*30)\n",
    "print(\"tq diffusion: \", hw_tq.std_deviation(x0=x0, dt=dt, t0=t0).numpy() )\n",
    "print(\"ql diffusion: \", hw_ql.stdDeviation(t0, x0, dt) )"
   ]
  },
  {
   "cell_type": "code",
   "execution_count": 6,
   "metadata": {},
   "outputs": [
    {
     "name": "stdout",
     "output_type": "stream",
     "text": [
      "QL evolve:  0.6535155393425665\n",
      "TQ evolve:  0.6534994392592166\n"
     ]
    }
   ],
   "source": [
    "dw = np.random.normal()\n",
    "print(\"QL evolve: \", hw_ql.evolve(t0, x0, dt, dw))\n",
    "print(\"TQ evolve: \", hw_tq.evolve(t0, x0, dt, dw).numpy())"
   ]
  },
  {
   "cell_type": "markdown",
   "metadata": {},
   "source": [
    "# Implementazione tq hull white"
   ]
  },
  {
   "cell_type": "code",
   "execution_count": 7,
   "metadata": {},
   "outputs": [],
   "source": [
    "# class GaussianPathGenerator:\n",
    "#     def __init__(self,\n",
    "#                  process: tq.StochasticProcess,\n",
    "#                  time_grid: list[float]) -> None:\n",
    "#         self._process = process\n",
    "#         self._time_grid = time_grid\n",
    "#         self._generator = None #TODO implementazione random numbers\n",
    "\n",
    "#     def simulate(self,\n",
    "#                  n_paths: int) -> tf.Tensor:\n",
    "#         path = []\n",
    "#         path.append(tf.fill((n_paths,),\n",
    "#                                 value= self._process.initial_values()))\n",
    "#         for i in range(1, len(self._time_grid)):\n",
    "#             w = tf.random.normal(shape=(n_paths,), mean=0, stddev=1, dtype= tf.float64)\n",
    "#             s = self._time_grid[i-1]\n",
    "#             t = self._time_grid[i]\n",
    "#             dt = t-s\n",
    "#             x_t = self._process.evolve(s, path[i-1], dt, w)\n",
    "#             path.append(x_t)\n",
    "#         path_tensor = tf.stack(path, axis=1)\n",
    "#         return path_tensor\n"
   ]
  },
  {
   "cell_type": "code",
   "execution_count": 8,
   "metadata": {},
   "outputs": [],
   "source": [
    "process = tq.HullWhiteProcess(rate_curve, a, sigma)\n",
    "time_grid = np.linspace(start=0.0, stop=10, num=60, retstep=False)\n",
    "kernel = tq.GaussianPathGenerator(hw_tq, time_grid)"
   ]
  },
  {
   "cell_type": "code",
   "execution_count": 9,
   "metadata": {},
   "outputs": [
    {
     "data": {
      "text/plain": [
       "<tf.Tensor: shape=(100000, 60), dtype=float64, numpy=\n",
       "array([[ 0.03906133,  0.02749389, -0.00796917, ...,  1.8378611 ,\n",
       "         1.96137252,  1.88649841],\n",
       "       [ 0.03906133,  0.03882495, -0.12797137, ...,  0.73683127,\n",
       "         0.75222466,  0.79651335],\n",
       "       [ 0.03906133,  0.03115385, -0.03290972, ...,  1.49475579,\n",
       "         1.5053906 ,  1.67323518],\n",
       "       ...,\n",
       "       [ 0.03906133, -0.03665279,  0.05350294, ...,  2.48437322,\n",
       "         2.53626651,  2.49049699],\n",
       "       [ 0.03906133, -0.02052662,  0.05416424, ...,  1.80446699,\n",
       "         1.7559083 ,  1.85681209],\n",
       "       [ 0.03906133,  0.06652872,  0.12182186, ...,  1.00545399,\n",
       "         1.05296104,  1.10653549]])>"
      ]
     },
     "execution_count": 9,
     "metadata": {},
     "output_type": "execute_result"
    }
   ],
   "source": [
    "kernel.simulate(n_paths=100000)"
   ]
  },
  {
   "cell_type": "code",
   "execution_count": null,
   "metadata": {},
   "outputs": [],
   "source": []
  },
  {
   "cell_type": "code",
   "execution_count": null,
   "metadata": {},
   "outputs": [],
   "source": []
  },
  {
   "cell_type": "markdown",
   "metadata": {},
   "source": [
    "## QL"
   ]
  },
  {
   "cell_type": "code",
   "execution_count": 10,
   "metadata": {},
   "outputs": [
    {
     "ename": "NameError",
     "evalue": "name 'Grid' is not defined",
     "output_type": "error",
     "traceback": [
      "\u001b[1;31m---------------------------------------------------------------------------\u001b[0m",
      "\u001b[1;31mNameError\u001b[0m                                 Traceback (most recent call last)",
      "Cell \u001b[1;32mIn [10], line 4\u001b[0m\n\u001b[0;32m      2\u001b[0m simulation_end \u001b[38;5;241m=\u001b[39m evaluation_date_ql \u001b[38;5;241m+\u001b[39m ql\u001b[38;5;241m.\u001b[39mPeriod(\u001b[38;5;124m\"\u001b[39m\u001b[38;5;124m20Y\u001b[39m\u001b[38;5;124m\"\u001b[39m)\n\u001b[0;32m      3\u001b[0m gridStepPeriod \u001b[38;5;241m=\u001b[39m ql\u001b[38;5;241m.\u001b[39mPeriod(\u001b[38;5;241m3\u001b[39m, ql\u001b[38;5;241m.\u001b[39mMonths)\n\u001b[1;32m----> 4\u001b[0m timeGrid \u001b[38;5;241m=\u001b[39m Grid(evaluation_date_ql, simulation_end, gridStepPeriod)\n\u001b[0;32m      5\u001b[0m times \u001b[38;5;241m=\u001b[39m np\u001b[38;5;241m.\u001b[39marray(timeGrid\u001b[38;5;241m.\u001b[39mGetTimes())\n\u001b[0;32m      6\u001b[0m dates \u001b[38;5;241m=\u001b[39m np\u001b[38;5;241m.\u001b[39marray(timeGrid\u001b[38;5;241m.\u001b[39mGetDates())\n",
      "\u001b[1;31mNameError\u001b[0m: name 'Grid' is not defined"
     ]
    }
   ],
   "source": [
    "evaluation_date_ql = ql.Date.from_date(evaluation_date)\n",
    "simulation_end = evaluation_date_ql + ql.Period(\"20Y\")\n",
    "gridStepPeriod = ql.Period(3, ql.Months)\n",
    "timeGrid = Grid(evaluation_date_ql, simulation_end, gridStepPeriod)\n",
    "times = np.array(timeGrid.GetTimes())\n",
    "dates = np.array(timeGrid.GetDates())\n",
    "\n",
    "process = hw_ql\n",
    "Npaths = 100\n",
    "\n",
    "timestep_len= len(times[1:])\n",
    "dimension = process.factors()\n",
    "\n",
    "rng = ql.UniformRandomSequenceGenerator(dimension * timestep_len, ql.UniformRandomGenerator())\n",
    "sequenceGenerator = ql.GaussianRandomSequenceGenerator(rng)\n",
    "pathGenerator = ql.GaussianMultiPathGenerator(process, list(times), sequenceGenerator, False)\n",
    "\n",
    "# singolo path QL-like\n",
    "generator = sequenceGenerator\n",
    "\n",
    "sequence = generator.nextSequence().value() # per la timegrid data\n",
    "m = process.size()\n",
    "n = process.factors()\n",
    "asset = list(process.initialValues())\n",
    "time_grid = times\n",
    "dt = times[1:]-times[:-1]\n",
    "\n",
    "path = np.zeros((m, len(time_grid)))\n",
    "for j in range(m):\n",
    "    path[j,0] = asset[j]\n",
    "\n",
    "for i in range(1, path.size):\n",
    "    offset = (i-1)/n\n",
    "    offset_int = int(offset)\n",
    "    temp = np.array(sequence[offset_int:offset_int+n])\n",
    "    pass\n",
    "    path[j,i] = process.evolve(time_grid[i], asset[0], dt[i-1], temp[0])\n",
    "    \n",
    "# multipli path QL-like\n",
    "gen_paths = np.zeros((dimension, timestep_len+1, Npaths))\n",
    "for i in range(Npaths):\n",
    "    samplePath = pathGenerator.next()\n",
    "    values = samplePath.value() \n",
    "\n",
    "    for j in range(dimension):\n",
    "        gen_paths[j, :, i] = values[0]"
   ]
  },
  {
   "cell_type": "code",
   "execution_count": null,
   "metadata": {},
   "outputs": [],
   "source": [
    "# implementazione tq\n"
   ]
  },
  {
   "cell_type": "code",
   "execution_count": null,
   "metadata": {},
   "outputs": [],
   "source": []
  },
  {
   "cell_type": "code",
   "execution_count": null,
   "metadata": {},
   "outputs": [],
   "source": []
  },
  {
   "cell_type": "code",
   "execution_count": null,
   "metadata": {},
   "outputs": [],
   "source": []
  },
  {
   "cell_type": "code",
   "execution_count": null,
   "metadata": {},
   "outputs": [],
   "source": []
  },
  {
   "cell_type": "markdown",
   "metadata": {},
   "source": [
    "# OLD"
   ]
  },
  {
   "cell_type": "code",
   "execution_count": null,
   "metadata": {},
   "outputs": [],
   "source": [
    "hw = tq.HullWhiteProcess(a, sigma, rate_curve)\n",
    "hw_kernel = tq.GaussianRateKernel1D(hw)\n",
    "\n",
    "# simulate short rate and discount curve \n",
    "paths = int(1e6) \n",
    "r_tensor, zb_tensor, grid = hw_kernel.rate_tensor(paths,\n",
    "                                                  last_grid_time=1,\n",
    "                                                  time_steps=2) \n",
    "# Reshape the tensor and create a discount curve object\n",
    "reshaped_tensor = tf.reshape(zb_tensor, shape=(zb_tensor.shape[1], paths, 1))\n",
    "rate_curve_tensor = tq.RateCurve.from_zcb(evaluation_date, times, reshaped_tensor, \"LINEAR\")"
   ]
  },
  {
   "cell_type": "code",
   "execution_count": null,
   "metadata": {},
   "outputs": [
    {
     "data": {
      "text/plain": [
       "<tf.Tensor: shape=(1000000, 1), dtype=float64, numpy=\n",
       "array([[0.99560683],\n",
       "       [1.00017447],\n",
       "       [0.98124546],\n",
       "       ...,\n",
       "       [0.99541913],\n",
       "       [0.99054788],\n",
       "       [0.99026692]])>"
      ]
     },
     "execution_count": 115,
     "metadata": {},
     "output_type": "execute_result"
    }
   ],
   "source": [
    "rate_curve_tensor.discount(2.0)"
   ]
  },
  {
   "cell_type": "code",
   "execution_count": null,
   "metadata": {},
   "outputs": [],
   "source": []
  },
  {
   "cell_type": "code",
   "execution_count": null,
   "metadata": {},
   "outputs": [],
   "source": []
  }
 ],
 "metadata": {
  "kernelspec": {
   "display_name": "Python 3",
   "language": "python",
   "name": "python3"
  },
  "language_info": {
   "codemirror_mode": {
    "name": "ipython",
    "version": 3
   },
   "file_extension": ".py",
   "mimetype": "text/x-python",
   "name": "python",
   "nbconvert_exporter": "python",
   "pygments_lexer": "ipython3",
   "version": "3.10.7"
  }
 },
 "nbformat": 4,
 "nbformat_minor": 2
}
