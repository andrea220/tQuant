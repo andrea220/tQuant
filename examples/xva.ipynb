{
 "cells": [
  {
   "cell_type": "code",
   "execution_count": 1,
   "metadata": {},
   "outputs": [],
   "source": [
    "import sys\n",
    "sys.path.append('../')\n",
    "\n",
    "import tquant as tq\n",
    "import matplotlib.pyplot as plt\n",
    "from datetime import date\n",
    "import pandas as pd\n",
    "import numpy as np \n",
    "import tensorflow as tf\n",
    "import QuantLib as ql\n",
    "\n",
    "curve_map = { #TODO inserire in libreria\n",
    "    \"EUR\": {\n",
    "        \"ON\": \"EUR:ESTR\",\n",
    "        \"3M\": \"EUR:3M\",\n",
    "        \"6M\": \"EUR:6M\"\n",
    "    },\n",
    "    \"USD\": {\n",
    "        \"ON\": \"USD:SOFR\",\n",
    "        \"3M\": \"USD:3M\",\n",
    "        \"6M\": \"USD:6M\"\n",
    "    }\n",
    "}\n",
    "\n",
    "def get_ql_curve(curve_tq: tq.RateCurve, evaluation_date):\n",
    "    evaluation_date_ql = ql.Date.from_date(evaluation_date)\n",
    "    dates_ql = [evaluation_date_ql] + [evaluation_date_ql + d for d in curve_tq._pillar_days]\n",
    "    rates_ql = [curve_tq.inst_fwd(0).numpy()] + [r.numpy() for r in curve_tq._rates]\n",
    "    curve_ql = ql.ZeroCurve(dates_ql, rates_ql, ql.ActualActual(ql.ActualActual.ISDA), ql.TARGET())\n",
    "    curve_ql.enableExtrapolation()\n",
    "    return curve_ql\n",
    "\n",
    "def makeVanillaSwap(start, maturity, nominal, fixedRate, index, typ=ql.VanillaSwap.Payer):\n",
    "    end = maturity# ql.TARGET().advance(start, maturity)\n",
    "    fixedLegTenor = ql.Period(\"12M\")\n",
    "    fixedLegBDC = ql.ModifiedFollowing\n",
    "    fixedLegDC = ql.Thirty360(ql.Thirty360.BondBasis)\n",
    "    spread = 0.0\n",
    "    fixedSchedule = ql.Schedule(start,\n",
    "                                end, \n",
    "                                fixedLegTenor, \n",
    "                                index.fixingCalendar(), \n",
    "                                fixedLegBDC,\n",
    "                                fixedLegBDC, \n",
    "                                ql.DateGeneration.Backward,\n",
    "                                False)\n",
    "    floatSchedule = ql.Schedule(start,\n",
    "                                end,\n",
    "                                index.tenor(),\n",
    "                                index.fixingCalendar(),\n",
    "                                index.businessDayConvention(),\n",
    "                                index.businessDayConvention(),\n",
    "                                ql.DateGeneration.Backward,\n",
    "                                False)\n",
    "    swap = ql.VanillaSwap(typ, \n",
    "                          nominal,\n",
    "                          fixedSchedule,\n",
    "                          fixedRate,\n",
    "                          fixedLegDC,\n",
    "                          floatSchedule,\n",
    "                          index,\n",
    "                          spread,\n",
    "                          index.dayCounter())\n",
    "    return swap\n",
    "\n",
    "def getfloating(swap, evaluation_date):\n",
    "\n",
    "    float_leg = swap.floatingLeg()\n",
    "    n = len(float_leg)\n",
    "    ref_starts = []\n",
    "    ref_ends = []\n",
    "    accrual_starts = []\n",
    "    accrual_ends = []\n",
    "    accrual_periods = []\n",
    "    fixings = []\n",
    "    payments = []\n",
    "    nominals = []\n",
    "    rates = []\n",
    "    amounts = []\n",
    "    convexity = []\n",
    "    daycounter = []\n",
    "    spreads = []\n",
    "    gearings = []\n",
    "    index = []\n",
    "\n",
    "    for i in range(n):\n",
    "        cf = ql.as_floating_rate_coupon(float_leg[i])\n",
    "\n",
    "        accrual_starts.append(cf.accrualStartDate())\n",
    "        accrual_ends.append(cf.accrualEndDate())\n",
    "        ref_starts.append(cf.referencePeriodStart())\n",
    "        ref_ends.append(cf.referencePeriodEnd())\n",
    "        daycounter.append(cf.dayCounter().name())\n",
    "        accrual_periods.append(cf.accrualPeriod())\n",
    "        fixings.append(cf.fixingDate())\n",
    "        payments.append(cf.date())\n",
    "        nominals.append(cf.nominal())\n",
    "        index.append(cf.index().name())\n",
    "        rates.append(cf.indexFixing())\n",
    "        spreads.append(cf.spread())\n",
    "        gearings.append(cf.gearing())\n",
    "        amounts.append(cf.amount())\n",
    "        convexity.append(cf.convexityAdjustment())\n",
    "        \n",
    "    display_flows = pd.DataFrame([accrual_starts, accrual_ends,\n",
    "                                ref_starts, ref_ends, daycounter, accrual_periods,\n",
    "                                fixings, payments, nominals, index, rates, spreads, gearings,\n",
    "                                amounts, convexity]).T\n",
    "    display_flows.columns = [\"accr_start\", \"accr_end\",\n",
    "                            \"ref_start\", \"ref_end\", \"dc\", \"accrual\",\n",
    "                            \"fixing_date\", \"pay_date\", \"nominal\",\n",
    "                             \"index\", \"rate\", \"spread\", \"gearing\", \"amount\", \"convexity\"]\n",
    "    return display_flows[display_flows['pay_date'] >= evaluation_date]\n"
   ]
  },
  {
   "cell_type": "code",
   "execution_count": 2,
   "metadata": {},
   "outputs": [],
   "source": [
    "market_data = {}\n",
    "\n",
    "ref_date = date(2024, 7, 31)\n",
    "daycounter_convention = tq.DayCounterConvention.ActualActual\n",
    "daycounter = tq.DayCounter(daycounter_convention )\n",
    "calendar = tq.TARGET()\n",
    "\n",
    "mkt = pd.read_excel(\"market_20240731.xlsx\")\n",
    "mkt['start'] = mkt['start'].dt.date\n",
    "mkt['end'] = mkt['end'].dt.date\n",
    "estr_df = mkt[mkt['name'] == 'EUR_ESTR']\n",
    "eur6m_df = mkt[mkt['name'] == 'EUR_6M']\n",
    "\n",
    "rates = estr_df['quote'].values/100\n",
    "times = [daycounter.day_count(ref_date, d) for d in estr_df['end']]\n",
    "\n",
    "rates_6m = eur6m_df['quote'].values/100\n",
    "times_6m = [daycounter.day_count(ref_date, d) for d in eur6m_df['end']]\n",
    "#tq\n",
    "market_data['EUR:ESTR'] = tq.RateCurve(reference_date=ref_date,\n",
    "                                    pillars=estr_df['end'],\n",
    "                                    rates=rates,\n",
    "                                    interp='LINEAR', \n",
    "                                    daycounter_convention=daycounter_convention)\n",
    "market_data['EUR:6M'] = tq.RateCurve(reference_date=ref_date,\n",
    "                                    pillars=eur6m_df['end'],\n",
    "                                    rates=rates_6m,\n",
    "                                    interp='LINEAR', \n",
    "                                    daycounter_convention=daycounter_convention)"
   ]
  },
  {
   "cell_type": "markdown",
   "metadata": {},
   "source": [
    "# pricing t0"
   ]
  },
  {
   "cell_type": "code",
   "execution_count": 3,
   "metadata": {},
   "outputs": [],
   "source": [
    "currency = tq.Currency.EUR\n",
    "mod_fol_convention = tq.BusinessDayConvention.ModifiedFollowing\n",
    "daycount_fix = tq.DayCounterConvention.Actual360\n",
    "daycount_flt = tq.DayCounterConvention.Actual360\n",
    "\n",
    "settlement_delay = 2 \n",
    "period_fixed_leg = \"1Y\"\n",
    "period_float_leg = \"6M\"\n",
    "eur6m_index = tq.IborIndex(calendar, 6, tq.TimeUnit.Months, tq.Currency.EUR, 2)\n",
    "\n",
    "irs_eur6m_generator = tq.SwapGenerator(currency, settlement_delay, period_fixed_leg, period_float_leg, mod_fol_convention, 100e6, daycount_fix, daycount_flt, calendar, eur6m_index)\n",
    "fixed_rate = 0.01\n",
    "swap = irs_eur6m_generator.build(trade_date=ref_date, quote=fixed_rate, term=\"10Y\")"
   ]
  },
  {
   "cell_type": "code",
   "execution_count": 4,
   "metadata": {},
   "outputs": [
    {
     "name": "stdout",
     "output_type": "stream",
     "text": [
      "NPV FixedLeg: 8,878,357\n",
      "NPV FloatingLeg: 23,300,635\n",
      "NPV Swap: 14,422,278\n"
     ]
    }
   ],
   "source": [
    "swap_engine = tq.SwapPricer(curve_map)\n",
    "npv_swap, tape = swap_engine.price(swap, ref_date, market_data, True)\n",
    "sensitivities = tape.gradient(npv_swap, [market_data['EUR:ESTR']._rates, market_data['EUR:6M']._rates])\n",
    "\n",
    "print(f\"NPV FixedLeg: {swap_engine.pv_fix :,.0f}\")\n",
    "print(f\"NPV FloatingLeg: {swap_engine.pv_flt :,.0f}\")\n",
    "########\n",
    "print(f\"NPV Swap: {npv_swap :,.0f}\")"
   ]
  },
  {
   "cell_type": "code",
   "execution_count": null,
   "metadata": {},
   "outputs": [],
   "source": []
  },
  {
   "cell_type": "code",
   "execution_count": null,
   "metadata": {},
   "outputs": [],
   "source": []
  },
  {
   "cell_type": "markdown",
   "metadata": {},
   "source": [
    "## debugging vs QL"
   ]
  },
  {
   "cell_type": "code",
   "execution_count": 5,
   "metadata": {},
   "outputs": [
    {
     "name": "stdout",
     "output_type": "stream",
     "text": [
      "NPV QL Swap: 13,856,500\n",
      "NPV TQ Swap: 14,422,278\n",
      "********************\n",
      "NPV QL FixedLeg: -8,698,955\n",
      "NPV TQ FixedLeg: 8,878,357\n",
      "NPV QL FloatingLeg: 22,555,455\n",
      "NPV TQ FloatingLeg: 23,300,635\n"
     ]
    }
   ],
   "source": [
    "estr_ql = get_ql_curve(market_data['EUR:ESTR'], ref_date)\n",
    "eur6m_ql = get_ql_curve(market_data['EUR:6M'], ref_date)\n",
    "handleYieldTermStructure = ql.YieldTermStructureHandle(eur6m_ql)\n",
    "index_ql = ql.Euribor6M(handleYieldTermStructure)\n",
    "calendar_ql = ql.TARGET()\n",
    "index_ql.addFixing(ql.Date(31,7,2024), 0.03) # perchè????\n",
    "\n",
    "start_date_ql = ql.Date.from_date(swap.start_date) \n",
    "end_date_ql = ql.Date.from_date(swap.maturity)\n",
    "engine = ql.DiscountingSwapEngine(handleYieldTermStructure)\n",
    "\n",
    "swap_ql2 = makeVanillaSwap(start_date_ql, end_date_ql, swap.notional, swap.quote, index_ql )\n",
    "swap_ql2.setPricingEngine(engine)\n",
    "print(f\"NPV QL Swap: {swap_ql2.NPV() :,.0f}\")\n",
    "print(f\"NPV TQ Swap: {npv_swap :,.0f}\")\n",
    "print(20*\"*\")\n",
    "print(f\"NPV QL FixedLeg: {swap_ql2.fixedLegNPV() :,.0f}\")\n",
    "print(f\"NPV TQ FixedLeg: {swap_engine.pv_fix :,.0f}\")\n",
    "print(f\"NPV QL FloatingLeg: {swap_ql2.floatingLegNPV() :,.0f}\")\n",
    "print(f\"NPV TQ FloatingLeg: {swap_engine.pv_flt :,.0f}\")"
   ]
  },
  {
   "cell_type": "code",
   "execution_count": 14,
   "metadata": {},
   "outputs": [],
   "source": [
    "ql_flows = getfloating(swap_ql2, ql.Date(31,7,2024))\n",
    "tq_flows = swap.floating_leg.display_flows()"
   ]
  },
  {
   "cell_type": "code",
   "execution_count": null,
   "metadata": {},
   "outputs": [],
   "source": []
  },
  {
   "cell_type": "code",
   "execution_count": null,
   "metadata": {},
   "outputs": [],
   "source": []
  },
  {
   "cell_type": "code",
   "execution_count": null,
   "metadata": {},
   "outputs": [],
   "source": []
  },
  {
   "cell_type": "code",
   "execution_count": null,
   "metadata": {},
   "outputs": [],
   "source": []
  },
  {
   "cell_type": "markdown",
   "metadata": {},
   "source": [
    "# simulation"
   ]
  },
  {
   "cell_type": "code",
   "execution_count": null,
   "metadata": {},
   "outputs": [],
   "source": [
    "# pre-calibrated\n",
    "a = 0.14\n",
    "sigma = 0.008\n",
    "\n",
    "hw_model = tq.HullWhiteProcess(market_data['EUR:ESTR'], a, sigma)\n",
    "\n",
    "schedule_gen = tq.ScheduleGenerator(calendar, tq.BusinessDayConvention.Unadjusted)\n",
    "end_date = calendar.advance(ref_date, 30, tq.TimeUnit.Years, tq.BusinessDayConvention.ModifiedFollowing)\n",
    "dates = schedule_gen.generate(ref_date, end_date, 6, tq.TimeUnit.Months)\n",
    "date_grid = tq.DateGrid(dates, tq.DayCounterConvention.ActualActual)\n",
    "\n",
    "n_path = 10000\n",
    "kernel = tq.GaussianShortRateGenerator(hw_model, date_grid)\n",
    "simulated_curves = kernel.simulate_curves(n_path)"
   ]
  },
  {
   "cell_type": "code",
   "execution_count": null,
   "metadata": {},
   "outputs": [],
   "source": [
    "product = swap \n",
    "index = eur6m_index\n",
    "# request transaction floating leg fixings dates\n",
    "schedule_dates = np.array(product.pay_dates_flt)\n",
    "transaction_fixing_dates = product.floating_leg.display_flows()['fixing_date'].values\n",
    "transaction_fixing_rates = np.zeros(shape = (transaction_fixing_dates.shape[0]))\n",
    "\n",
    "simulated_fixing_dates = [eur6m_index.fixing_date(d) for d in date_grid.dates]\n",
    "simulated_fixing_rates = tf.reduce_mean(kernel._short_rate, axis=0).numpy()\n",
    "\n",
    "# create fixings lookup table\n",
    "fixings_lookup_table = {}\n",
    "for i in range(len(simulated_fixing_dates)):\n",
    "    fixings_lookup_table[simulated_fixing_dates[i]] = simulated_fixing_rates[i]\n",
    "\n",
    "\n",
    "# # add transaction fixing rates for a given date from fixings lookup table\n",
    "for i in range(len(transaction_fixing_dates)):\n",
    "    if transaction_fixing_dates[i] in fixings_lookup_table:\n",
    "        transaction_fixing_rates[i] = fixings_lookup_table[transaction_fixing_dates[i]]\n",
    "    else:\n",
    "        # find the nearest fixing from lookup table\n",
    "        transaction_fixing_rates[i] = \\\n",
    "        fixings_lookup_table.get(transaction_fixing_dates[i], \\\n",
    "        fixings_lookup_table[min(fixings_lookup_table.keys(), \\\n",
    "        key = lambda d: abs(d - transaction_fixing_dates[i]))])\n",
    "        \n",
    "for i, d in enumerate(transaction_fixing_dates):\n",
    "    index.add_fixing(d, transaction_fixing_rates[i])\n",
    "\n",
    "exposure = []\n",
    "for i in range(len(date_grid.dates)):\n",
    "    market_simulated = {}\n",
    "    market_simulated['EUR:ESTR'] = simulated_curves[i]\n",
    "    market_simulated['EUR:6M'] = simulated_curves[i]\n",
    "    val_date = date_grid.dates[i]\n",
    "    tq.Settings.evaluation_date = val_date\n",
    "    if date_grid.dates[i] > swap.maturity:\n",
    "        pv = tf.zeros(shape=(n_path,),  dtype=tf.float64)\n",
    "    else:\n",
    "        pv = swap_engine.price(swap, val_date, market_simulated)\n",
    "    exposure.append(pv)\n",
    "\n",
    "exposure = tf.stack(exposure, axis=0)"
   ]
  },
  {
   "cell_type": "code",
   "execution_count": null,
   "metadata": {},
   "outputs": [],
   "source": []
  },
  {
   "cell_type": "code",
   "execution_count": null,
   "metadata": {},
   "outputs": [],
   "source": []
  },
  {
   "cell_type": "code",
   "execution_count": null,
   "metadata": {},
   "outputs": [],
   "source": [
    "i = 25\n",
    "path = 1000\n",
    "plt.plot(date_grid.times[:i], exposure[:i,:1000]);"
   ]
  },
  {
   "cell_type": "code",
   "execution_count": null,
   "metadata": {},
   "outputs": [],
   "source": [
    "ee = tf.reduce_mean(exposure, axis=1)\n",
    "plt.plot(date_grid.times[:i], ee[:i])"
   ]
  },
  {
   "cell_type": "code",
   "execution_count": null,
   "metadata": {},
   "outputs": [],
   "source": []
  },
  {
   "cell_type": "code",
   "execution_count": null,
   "metadata": {},
   "outputs": [],
   "source": []
  },
  {
   "cell_type": "code",
   "execution_count": null,
   "metadata": {},
   "outputs": [],
   "source": []
  }
 ],
 "metadata": {
  "kernelspec": {
   "display_name": "Python 3",
   "language": "python",
   "name": "python3"
  },
  "language_info": {
   "codemirror_mode": {
    "name": "ipython",
    "version": 3
   },
   "file_extension": ".py",
   "mimetype": "text/x-python",
   "name": "python",
   "nbconvert_exporter": "python",
   "pygments_lexer": "ipython3",
   "version": "3.10.7"
  }
 },
 "nbformat": 4,
 "nbformat_minor": 2
}
