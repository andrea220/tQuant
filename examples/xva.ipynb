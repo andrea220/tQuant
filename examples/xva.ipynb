{
 "cells": [
  {
   "cell_type": "code",
   "execution_count": 1,
   "metadata": {},
   "outputs": [],
   "source": [
    "import sys\n",
    "sys.path.append('../')\n",
    "\n",
    "import tquant as tq\n",
    "import matplotlib.pyplot as plt\n",
    "from datetime import date\n",
    "import pandas as pd\n",
    "import numpy as np \n",
    "import tensorflow as tf\n",
    "\n",
    "curve_map = { #TODO inserire in libreria\n",
    "    \"EUR\": {\n",
    "        \"ON\": \"EUR:ESTR\",\n",
    "        \"3M\": \"EUR:3M\",\n",
    "        \"6M\": \"EUR:6M\"\n",
    "    },\n",
    "    \"USD\": {\n",
    "        \"ON\": \"USD:SOFR\",\n",
    "        \"3M\": \"USD:3M\",\n",
    "        \"6M\": \"USD:6M\"\n",
    "    }\n",
    "}"
   ]
  },
  {
   "cell_type": "code",
   "execution_count": 2,
   "metadata": {},
   "outputs": [],
   "source": [
    "market_data = {}\n",
    "\n",
    "ref_date = date(2024, 7, 31)\n",
    "daycounter_convention = tq.DayCounterConvention.ActualActual\n",
    "daycounter = tq.DayCounter(daycounter_convention )\n",
    "calendar = tq.TARGET()\n",
    "\n",
    "mkt = pd.read_excel(\"market_20240731.xlsx\")\n",
    "mkt['start'] = mkt['start'].dt.date\n",
    "mkt['end'] = mkt['end'].dt.date\n",
    "estr_df = mkt[mkt['name'] == 'EUR_ESTR']\n",
    "eur6m_df = mkt[mkt['name'] == 'EUR_6M']\n",
    "\n",
    "rates = estr_df['quote'].values/100\n",
    "times = [daycounter.day_count(ref_date, d) for d in estr_df['end']]\n",
    "\n",
    "rates_6m = eur6m_df['quote'].values/100\n",
    "times_6m = [daycounter.day_count(ref_date, d) for d in eur6m_df['end']]\n",
    "#tq\n",
    "market_data['EUR:ESTR'] = tq.RateCurve(reference_date=ref_date,\n",
    "                                    pillars=estr_df['end'],\n",
    "                                    rates=rates,\n",
    "                                    interp='LINEAR', \n",
    "                                    daycounter_convention=daycounter_convention)\n",
    "market_data['EUR:6M'] = tq.RateCurve(reference_date=ref_date,\n",
    "                                    pillars=eur6m_df['end'],\n",
    "                                    rates=rates_6m,\n",
    "                                    interp='LINEAR', \n",
    "                                    daycounter_convention=daycounter_convention)"
   ]
  },
  {
   "cell_type": "markdown",
   "metadata": {},
   "source": [
    "# pricing t0"
   ]
  },
  {
   "cell_type": "code",
   "execution_count": 3,
   "metadata": {},
   "outputs": [],
   "source": [
    "currency = tq.Currency.EUR\n",
    "mod_fol_convention = tq.BusinessDayConvention.ModifiedFollowing\n",
    "daycount_fix = tq.DayCounterConvention.Actual360\n",
    "daycount_flt = tq.DayCounterConvention.Actual360\n",
    "\n",
    "settlement_delay = 2 \n",
    "period_fixed_leg = \"1Y\"\n",
    "period_float_leg = \"6M\"\n",
    "eur6m_index = tq.IborIndex(calendar, 6, tq.TimeUnit.Months, tq.Currency.EUR, 2)\n",
    "\n",
    "irs_eur6m_generator = tq.SwapGenerator(currency, settlement_delay, period_fixed_leg, period_float_leg, mod_fol_convention, 100e6, daycount_fix, daycount_flt, calendar, eur6m_index)\n",
    "fixed_rate = 0.01\n",
    "swap = irs_eur6m_generator.build(trade_date=ref_date, quote=0.01, term=\"20Y\")"
   ]
  },
  {
   "cell_type": "code",
   "execution_count": 4,
   "metadata": {},
   "outputs": [
    {
     "name": "stdout",
     "output_type": "stream",
     "text": [
      "NPV FixedLeg: 15,726,649\n",
      "NPV FloatingLeg: 41,370,828\n",
      "NPV Swap: 25,644,179\n"
     ]
    }
   ],
   "source": [
    "swap_engine = tq.SwapPricer(curve_map)\n",
    "npv_swap, tape = swap_engine.price(swap, ref_date, market_data, True)\n",
    "sensitivities = tape.gradient(npv_swap, [market_data['EUR:ESTR']._rates, market_data['EUR:6M']._rates])\n",
    "\n",
    "print(f\"NPV FixedLeg: {swap_engine.pv_fix :,.0f}\")\n",
    "print(f\"NPV FloatingLeg: {swap_engine.pv_flt :,.0f}\")\n",
    "########\n",
    "print(f\"NPV Swap: {npv_swap :,.0f}\")"
   ]
  },
  {
   "cell_type": "markdown",
   "metadata": {},
   "source": [
    "# simulation"
   ]
  },
  {
   "cell_type": "code",
   "execution_count": 5,
   "metadata": {},
   "outputs": [],
   "source": [
    "# pre-calibrated\n",
    "a = 0.142184283416318\n",
    "sigma = 0.008135596903654983\n",
    "\n",
    "hw_model = tq.HullWhiteProcess(market_data['EUR:ESTR'], a, sigma)\n",
    "\n",
    "schedule_gen = tq.ScheduleGenerator(calendar, tq.BusinessDayConvention.Unadjusted)\n",
    "end_date = calendar.advance(ref_date, 30, tq.TimeUnit.Years, tq.BusinessDayConvention.ModifiedFollowing)\n",
    "dates = schedule_gen.generate(ref_date, end_date, 6, tq.TimeUnit.Months)\n",
    "date_grid = tq.DateGrid(dates, tq.DayCounterConvention.ActualActual)\n",
    "\n",
    "kernel = tq.GaussianShortRateGenerator(hw_model, date_grid)\n",
    "simulated_curves = kernel.simulate_curves(1000)"
   ]
  },
  {
   "cell_type": "code",
   "execution_count": 10,
   "metadata": {},
   "outputs": [],
   "source": [
    "product = swap \n",
    "index = eur6m_index\n",
    "# request transaction floating leg fixings dates\n",
    "schedule_dates = np.array(product.pay_dates_flt)\n",
    "transaction_fixing_dates = np.array([index.fixing_date(d) for d in schedule_dates])\n",
    "transaction_fixing_rates = np.zeros(shape = (transaction_fixing_dates.shape[0]))\n",
    "\n",
    "simulated_fixing_dates = [eur6m_index.fixing_date(d) for d in date_grid.dates]\n",
    "simulated_fixing_rates = tf.reduce_mean(kernel._short_rate, axis=0).numpy()\n",
    "\n",
    "# create fixings lookup table\n",
    "fixings_lookup_table = {}\n",
    "for i in range(len(simulated_fixing_dates)):\n",
    "    fixings_lookup_table[simulated_fixing_dates[i]] = simulated_fixing_rates[i]\n",
    "\n",
    "\n",
    "# # add transaction fixing rates for a given date from fixings lookup table\n",
    "for i in range(len(transaction_fixing_dates)):\n",
    "    if transaction_fixing_dates[i] in fixings_lookup_table:\n",
    "        transaction_fixing_rates[i] = fixings_lookup_table[transaction_fixing_dates[i]]\n",
    "    else:\n",
    "        # find the nearest fixing from lookup table\n",
    "        transaction_fixing_rates[i] = \\\n",
    "        fixings_lookup_table.get(transaction_fixing_dates[i], \\\n",
    "        fixings_lookup_table[min(fixings_lookup_table.keys(), \\\n",
    "        key = lambda d: abs(d - transaction_fixing_dates[i]))])\n",
    "        \n",
    "for i, d in enumerate(transaction_fixing_dates):\n",
    "    index.add_fixing(d, transaction_fixing_rates[i])"
   ]
  },
  {
   "cell_type": "code",
   "execution_count": 22,
   "metadata": {},
   "outputs": [
    {
     "data": {
      "text/plain": [
       "array([datetime.date(2025, 2, 3), datetime.date(2025, 8, 4),\n",
       "       datetime.date(2026, 2, 4), datetime.date(2026, 8, 4),\n",
       "       datetime.date(2027, 2, 4), datetime.date(2027, 8, 4),\n",
       "       datetime.date(2028, 2, 4), datetime.date(2028, 8, 4),\n",
       "       datetime.date(2029, 2, 5), datetime.date(2029, 8, 6),\n",
       "       datetime.date(2030, 2, 6), datetime.date(2030, 8, 6),\n",
       "       datetime.date(2031, 2, 6), datetime.date(2031, 8, 6),\n",
       "       datetime.date(2032, 2, 6), datetime.date(2032, 8, 6),\n",
       "       datetime.date(2033, 2, 7), datetime.date(2033, 8, 8),\n",
       "       datetime.date(2034, 2, 8), datetime.date(2034, 8, 8),\n",
       "       datetime.date(2035, 2, 8), datetime.date(2035, 8, 8),\n",
       "       datetime.date(2036, 2, 8), datetime.date(2036, 8, 8),\n",
       "       datetime.date(2037, 2, 9), datetime.date(2037, 8, 10),\n",
       "       datetime.date(2038, 2, 10), datetime.date(2038, 8, 10),\n",
       "       datetime.date(2039, 2, 10), datetime.date(2039, 8, 10),\n",
       "       datetime.date(2040, 2, 10), datetime.date(2040, 8, 10),\n",
       "       datetime.date(2041, 2, 11), datetime.date(2041, 8, 12),\n",
       "       datetime.date(2042, 2, 12), datetime.date(2042, 8, 12),\n",
       "       datetime.date(2043, 2, 12), datetime.date(2043, 8, 12),\n",
       "       datetime.date(2044, 2, 12), datetime.date(2044, 8, 2)],\n",
       "      dtype=object)"
      ]
     },
     "execution_count": 22,
     "metadata": {},
     "output_type": "execute_result"
    }
   ],
   "source": [
    "schedule_dates"
   ]
  },
  {
   "cell_type": "code",
   "execution_count": 23,
   "metadata": {},
   "outputs": [
    {
     "data": {
      "text/plain": [
       "array([datetime.date(2025, 1, 30), datetime.date(2025, 7, 31),\n",
       "       datetime.date(2026, 2, 2), datetime.date(2026, 7, 31),\n",
       "       datetime.date(2027, 2, 2), datetime.date(2027, 8, 2),\n",
       "       datetime.date(2028, 2, 2), datetime.date(2028, 8, 2),\n",
       "       datetime.date(2029, 2, 1), datetime.date(2029, 8, 2),\n",
       "       datetime.date(2030, 2, 4), datetime.date(2030, 8, 2),\n",
       "       datetime.date(2031, 2, 4), datetime.date(2031, 8, 4),\n",
       "       datetime.date(2032, 2, 4), datetime.date(2032, 8, 4),\n",
       "       datetime.date(2033, 2, 3), datetime.date(2033, 8, 4),\n",
       "       datetime.date(2034, 2, 6), datetime.date(2034, 8, 4),\n",
       "       datetime.date(2035, 2, 6), datetime.date(2035, 8, 6),\n",
       "       datetime.date(2036, 2, 6), datetime.date(2036, 8, 6),\n",
       "       datetime.date(2037, 2, 5), datetime.date(2037, 8, 6),\n",
       "       datetime.date(2038, 2, 8), datetime.date(2038, 8, 6),\n",
       "       datetime.date(2039, 2, 8), datetime.date(2039, 8, 8),\n",
       "       datetime.date(2040, 2, 8), datetime.date(2040, 8, 8),\n",
       "       datetime.date(2041, 2, 7), datetime.date(2041, 8, 8),\n",
       "       datetime.date(2042, 2, 10), datetime.date(2042, 8, 8),\n",
       "       datetime.date(2043, 2, 10), datetime.date(2043, 8, 10),\n",
       "       datetime.date(2044, 2, 10), datetime.date(2044, 7, 29)],\n",
       "      dtype=object)"
      ]
     },
     "execution_count": 23,
     "metadata": {},
     "output_type": "execute_result"
    }
   ],
   "source": [
    "transaction_fixing_dates"
   ]
  },
  {
   "cell_type": "code",
   "execution_count": 18,
   "metadata": {},
   "outputs": [
    {
     "data": {
      "text/plain": [
       "datetime.date(2024, 8, 29)"
      ]
     },
     "execution_count": 18,
     "metadata": {},
     "output_type": "execute_result"
    }
   ],
   "source": [
    "tq.Settings.evaluation_date"
   ]
  },
  {
   "cell_type": "code",
   "execution_count": 20,
   "metadata": {},
   "outputs": [
    {
     "ename": "ValueError",
     "evalue": "EUR:6M fixing time series is not complete, missing 2024-08-01",
     "output_type": "error",
     "traceback": [
      "\u001b[1;31m---------------------------------------------------------------------------\u001b[0m",
      "\u001b[1;31mValueError\u001b[0m                                Traceback (most recent call last)",
      "Cell \u001b[1;32mIn [20], line 9\u001b[0m\n\u001b[0;32m      7\u001b[0m tq\u001b[38;5;241m.\u001b[39mSettings\u001b[38;5;241m.\u001b[39mevaluation_date \u001b[38;5;241m=\u001b[39m val_date\n\u001b[0;32m      8\u001b[0m \u001b[38;5;66;03m# eur6m_index.add_fixing(date(2024,8,1), 0.03) \u001b[39;00m\n\u001b[1;32m----> 9\u001b[0m npv_swap, tape \u001b[38;5;241m=\u001b[39m swap_engine\u001b[38;5;241m.\u001b[39mprice(swap, val_date, market_simulated, \u001b[38;5;28;01mTrue\u001b[39;00m)\n",
      "File \u001b[1;32mc:\\dev\\tQuant\\examples\\..\\tquant\\pricers\\pricer.py:21\u001b[0m, in \u001b[0;36mPricer.price\u001b[1;34m(self, product, trade_date, market, autodiff)\u001b[0m\n\u001b[0;32m     19\u001b[0m \u001b[38;5;28;01mif\u001b[39;00m autodiff:\n\u001b[0;32m     20\u001b[0m     \u001b[38;5;28;01mwith\u001b[39;00m tf\u001b[38;5;241m.\u001b[39mGradientTape() \u001b[38;5;28;01mas\u001b[39;00m tape:\n\u001b[1;32m---> 21\u001b[0m         npv \u001b[38;5;241m=\u001b[39m \u001b[38;5;28;43mself\u001b[39;49m\u001b[38;5;241;43m.\u001b[39;49m\u001b[43mcalculate_price\u001b[49m\u001b[43m(\u001b[49m\u001b[43mproduct\u001b[49m\u001b[43m,\u001b[49m\u001b[43m \u001b[49m\u001b[43mtrade_date\u001b[49m\u001b[43m,\u001b[49m\u001b[43m \u001b[49m\u001b[43mmarket\u001b[49m\u001b[43m)\u001b[49m\n\u001b[0;32m     22\u001b[0m     \u001b[38;5;28;01mreturn\u001b[39;00m npv, tape\n\u001b[0;32m     23\u001b[0m \u001b[38;5;28;01melse\u001b[39;00m:\n",
      "File \u001b[1;32mc:\\dev\\tQuant\\examples\\..\\tquant\\pricers\\swapdiscounting.py:68\u001b[0m, in \u001b[0;36mSwapPricer.calculate_price\u001b[1;34m(self, product, as_of_date, curves)\u001b[0m\n\u001b[0;32m     65\u001b[0m floating_leg_pricer \u001b[38;5;241m=\u001b[39m FloatingLegDiscounting(ois\u001b[38;5;241m.\u001b[39mfloating_leg)\n\u001b[0;32m     66\u001b[0m fixed_leg_pricer \u001b[38;5;241m=\u001b[39m FixedLegDiscounting(ois\u001b[38;5;241m.\u001b[39mfixed_leg)\n\u001b[1;32m---> 68\u001b[0m pv_flt \u001b[38;5;241m=\u001b[39m \u001b[43mfloating_leg_pricer\u001b[49m\u001b[38;5;241;43m.\u001b[39;49m\u001b[43mcalculate_price\u001b[49m\u001b[43m(\u001b[49m\u001b[43mdc\u001b[49m\u001b[43m,\u001b[49m\u001b[43m \u001b[49m\u001b[43mfc\u001b[49m\u001b[43m,\u001b[49m\u001b[43m \u001b[49m\u001b[43mas_of_date\u001b[49m\u001b[43m)\u001b[49m\n\u001b[0;32m     69\u001b[0m pv_fix \u001b[38;5;241m=\u001b[39m fixed_leg_pricer\u001b[38;5;241m.\u001b[39mcalculate_price(dc, as_of_date)\n\u001b[0;32m     70\u001b[0m \u001b[38;5;28mself\u001b[39m\u001b[38;5;241m.\u001b[39mpv_flt \u001b[38;5;241m=\u001b[39m pv_flt\n",
      "File \u001b[1;32mc:\\dev\\tQuant\\examples\\..\\tquant\\pricers\\floatingflow.py:96\u001b[0m, in \u001b[0;36mFloatingLegDiscounting.calculate_price\u001b[1;34m(self, disc_curve, est_curve, evaluation_date)\u001b[0m\n\u001b[0;32m     94\u001b[0m     \u001b[38;5;28;01mif\u001b[39;00m \u001b[38;5;129;01mnot\u001b[39;00m cf\u001b[38;5;241m.\u001b[39mhas_occurred(evaluation_date):\n\u001b[0;32m     95\u001b[0m         pricer \u001b[38;5;241m=\u001b[39m FloatingCouponDiscounting(cf)\n\u001b[1;32m---> 96\u001b[0m         npv \u001b[38;5;241m+\u001b[39m\u001b[38;5;241m=\u001b[39m \u001b[43mpricer\u001b[49m\u001b[38;5;241;43m.\u001b[39;49m\u001b[43mcalculate_price\u001b[49m\u001b[43m(\u001b[49m\u001b[43mdisc_curve\u001b[49m\u001b[43m,\u001b[49m\u001b[43m \u001b[49m\u001b[43mest_curve\u001b[49m\u001b[43m,\u001b[49m\u001b[43m \u001b[49m\u001b[43mevaluation_date\u001b[49m\u001b[43m)\u001b[49m\n\u001b[0;32m     97\u001b[0m \u001b[38;5;28;01mreturn\u001b[39;00m npv\n",
      "File \u001b[1;32mc:\\dev\\tQuant\\examples\\..\\tquant\\pricers\\floatingflow.py:72\u001b[0m, in \u001b[0;36mFloatingCouponDiscounting.calculate_price\u001b[1;34m(self, disc_curve, est_curve, evaluation_date)\u001b[0m\n\u001b[0;32m     70\u001b[0m \u001b[38;5;28;01mif\u001b[39;00m \u001b[38;5;129;01mnot\u001b[39;00m \u001b[38;5;28mself\u001b[39m\u001b[38;5;241m.\u001b[39m_coupon\u001b[38;5;241m.\u001b[39mhas_occurred(evaluation_date):\n\u001b[0;32m     71\u001b[0m     payment_time \u001b[38;5;241m=\u001b[39m \u001b[38;5;28mself\u001b[39m\u001b[38;5;241m.\u001b[39m_coupon\u001b[38;5;241m.\u001b[39mday_counter\u001b[38;5;241m.\u001b[39myear_fraction(evaluation_date, \u001b[38;5;28mself\u001b[39m\u001b[38;5;241m.\u001b[39m_coupon\u001b[38;5;241m.\u001b[39m_payment_date)\n\u001b[1;32m---> 72\u001b[0m     \u001b[38;5;28;01mreturn\u001b[39;00m \u001b[38;5;28;43mself\u001b[39;49m\u001b[38;5;241;43m.\u001b[39;49m\u001b[43mamount\u001b[49m\u001b[43m(\u001b[49m\u001b[43mest_curve\u001b[49m\u001b[43m,\u001b[49m\u001b[43m \u001b[49m\u001b[43mevaluation_date\u001b[49m\u001b[43m)\u001b[49m \u001b[38;5;241m*\u001b[39m disc_curve\u001b[38;5;241m.\u001b[39mdiscount(payment_time)\n\u001b[0;32m     73\u001b[0m \u001b[38;5;28;01melse\u001b[39;00m:\n\u001b[0;32m     74\u001b[0m     \u001b[38;5;28;01mreturn\u001b[39;00m \u001b[38;5;241m0\u001b[39m\n",
      "File \u001b[1;32mc:\\dev\\tQuant\\examples\\..\\tquant\\pricers\\floatingflow.py:66\u001b[0m, in \u001b[0;36mFloatingCouponDiscounting.amount\u001b[1;34m(self, term_structure, evaluation_date)\u001b[0m\n\u001b[0;32m     62\u001b[0m \u001b[38;5;28;01mdef\u001b[39;00m \u001b[38;5;21mamount\u001b[39m(\u001b[38;5;28mself\u001b[39m, term_structure, evaluation_date)\u001b[38;5;241m-\u001b[39m\u001b[38;5;241m>\u001b[39m \u001b[38;5;28mfloat\u001b[39m: \n\u001b[0;32m     63\u001b[0m \u001b[38;5;250m    \u001b[39m\u001b[38;5;124;03m''' \u001b[39;00m\n\u001b[0;32m     64\u001b[0m \u001b[38;5;124;03m    cash flow futuro non scontato\u001b[39;00m\n\u001b[0;32m     65\u001b[0m \u001b[38;5;124;03m    '''\u001b[39;00m\n\u001b[1;32m---> 66\u001b[0m     a \u001b[38;5;241m=\u001b[39m \u001b[38;5;28mself\u001b[39m\u001b[38;5;241m.\u001b[39m_coupon\u001b[38;5;241m.\u001b[39mnominal \u001b[38;5;241m*\u001b[39m (\u001b[38;5;28mself\u001b[39m\u001b[38;5;241m.\u001b[39m_coupon\u001b[38;5;241m.\u001b[39m_gearing\u001b[38;5;241m*\u001b[39m\u001b[38;5;28;43mself\u001b[39;49m\u001b[38;5;241;43m.\u001b[39;49m\u001b[43mfloating_rate\u001b[49m\u001b[43m(\u001b[49m\u001b[38;5;28;43mself\u001b[39;49m\u001b[38;5;241;43m.\u001b[39;49m\u001b[43m_coupon\u001b[49m\u001b[38;5;241;43m.\u001b[39;49m\u001b[43mref_period_start\u001b[49m\u001b[43m,\u001b[49m\u001b[43m \u001b[49m\u001b[38;5;28;43mself\u001b[39;49m\u001b[38;5;241;43m.\u001b[39;49m\u001b[43m_coupon\u001b[49m\u001b[38;5;241;43m.\u001b[39;49m\u001b[43mref_period_end\u001b[49m\u001b[43m,\u001b[49m\u001b[43m \u001b[49m\u001b[43mterm_structure\u001b[49m\u001b[43m,\u001b[49m\u001b[43mevaluation_date\u001b[49m\u001b[43m)\u001b[49m \u001b[38;5;241m+\u001b[39m \u001b[38;5;28mself\u001b[39m\u001b[38;5;241m.\u001b[39m_coupon\u001b[38;5;241m.\u001b[39m_spread) \u001b[38;5;241m*\u001b[39m \u001b[38;5;28mself\u001b[39m\u001b[38;5;241m.\u001b[39m_coupon\u001b[38;5;241m.\u001b[39maccrual_period\n\u001b[0;32m     67\u001b[0m     \u001b[38;5;28;01mreturn\u001b[39;00m a\n",
      "File \u001b[1;32mc:\\dev\\tQuant\\examples\\..\\tquant\\pricers\\floatingflow.py:60\u001b[0m, in \u001b[0;36mFloatingCouponDiscounting.floating_rate\u001b[1;34m(self, start_date, end_date, term_structure, evaluation_date)\u001b[0m\n\u001b[0;32m     58\u001b[0m \u001b[38;5;28;01melse\u001b[39;00m: \u001b[38;5;66;03m# historical\u001b[39;00m\n\u001b[0;32m     59\u001b[0m     new_date \u001b[38;5;241m=\u001b[39m \u001b[38;5;28mself\u001b[39m\u001b[38;5;241m.\u001b[39m_coupon\u001b[38;5;241m.\u001b[39mindex\u001b[38;5;241m.\u001b[39mfixing_date(\u001b[38;5;28mself\u001b[39m\u001b[38;5;241m.\u001b[39m_coupon\u001b[38;5;241m.\u001b[39mfixing_date)\n\u001b[1;32m---> 60\u001b[0m     \u001b[38;5;28;01mreturn\u001b[39;00m \u001b[38;5;28;43mself\u001b[39;49m\u001b[38;5;241;43m.\u001b[39;49m\u001b[43m_coupon\u001b[49m\u001b[38;5;241;43m.\u001b[39;49m\u001b[43mindex\u001b[49m\u001b[38;5;241;43m.\u001b[39;49m\u001b[43mfixing\u001b[49m\u001b[43m(\u001b[49m\u001b[43mnew_date\u001b[49m\u001b[43m)\u001b[49m\n",
      "File \u001b[1;32mc:\\dev\\tQuant\\examples\\..\\tquant\\index\\index.py:189\u001b[0m, in \u001b[0;36mIndex.fixing\u001b[1;34m(self, date)\u001b[0m\n\u001b[0;32m    187\u001b[0m         \u001b[38;5;28;01mreturn\u001b[39;00m \u001b[38;5;28mself\u001b[39m\u001b[38;5;241m.\u001b[39mpast_fixing(date)\n\u001b[0;32m    188\u001b[0m     \u001b[38;5;28;01melse\u001b[39;00m:\n\u001b[1;32m--> 189\u001b[0m         \u001b[38;5;28;01mraise\u001b[39;00m \u001b[38;5;167;01mValueError\u001b[39;00m(\u001b[38;5;124mf\u001b[39m\u001b[38;5;124m\"\u001b[39m\u001b[38;5;132;01m{\u001b[39;00m\u001b[38;5;28mself\u001b[39m\u001b[38;5;241m.\u001b[39mname\u001b[38;5;132;01m}\u001b[39;00m\u001b[38;5;124m fixing time series is not complete, missing \u001b[39m\u001b[38;5;132;01m{\u001b[39;00mdate\u001b[38;5;132;01m}\u001b[39;00m\u001b[38;5;124m\"\u001b[39m)\n\u001b[0;32m    190\u001b[0m \u001b[38;5;28;01melse\u001b[39;00m:\n\u001b[0;32m    191\u001b[0m     \u001b[38;5;28;01mraise\u001b[39;00m \u001b[38;5;167;01mValueError\u001b[39;00m(\u001b[38;5;124mf\u001b[39m\u001b[38;5;124m\"\u001b[39m\u001b[38;5;124mMissing \u001b[39m\u001b[38;5;132;01m{\u001b[39;00m\u001b[38;5;28mself\u001b[39m\u001b[38;5;241m.\u001b[39mname\u001b[38;5;132;01m}\u001b[39;00m\u001b[38;5;124m fixing for \u001b[39m\u001b[38;5;132;01m{\u001b[39;00mdate\u001b[38;5;132;01m}\u001b[39;00m\u001b[38;5;124m\"\u001b[39m)\n",
      "\u001b[1;31mValueError\u001b[0m: EUR:6M fixing time series is not complete, missing 2024-08-01"
     ]
    }
   ],
   "source": [
    "t = 1\n",
    "\n",
    "market_simulated = {}\n",
    "market_simulated['EUR:ESTR'] = simulated_curves[t]\n",
    "market_simulated['EUR:6M'] = simulated_curves[t]\n",
    "val_date = date_grid.dates[t]\n",
    "tq.Settings.evaluation_date = val_date\n",
    "# eur6m_index.add_fixing(date(2024,8,1), 0.03) \n",
    "npv_swap, tape = swap_engine.price(swap, val_date, market_simulated, True)"
   ]
  },
  {
   "cell_type": "code",
   "execution_count": 17,
   "metadata": {},
   "outputs": [
    {
     "data": {
      "text/plain": [
       "{'EUR:6M': {datetime.date(2025, 1, 30): 0.030745323029350465,\n",
       "  datetime.date(2025, 7, 31): 0.0251629672991022,\n",
       "  datetime.date(2026, 2, 2): 0.022363410820052276,\n",
       "  datetime.date(2026, 7, 31): 0.02208677168471906,\n",
       "  datetime.date(2027, 2, 2): 0.021530567778937148,\n",
       "  datetime.date(2027, 8, 2): 0.020753132758047868,\n",
       "  datetime.date(2028, 2, 2): 0.022410079667522072,\n",
       "  datetime.date(2028, 8, 2): 0.022108267658678904,\n",
       "  datetime.date(2029, 2, 1): 0.022876449313232558,\n",
       "  datetime.date(2029, 8, 2): 0.022858464941266442,\n",
       "  datetime.date(2030, 2, 4): 0.02354094531204979,\n",
       "  datetime.date(2030, 8, 2): 0.023803865051191402,\n",
       "  datetime.date(2031, 2, 4): 0.024578388343189622,\n",
       "  datetime.date(2031, 8, 4): 0.024804455385386934,\n",
       "  datetime.date(2032, 2, 4): 0.025575575610732905,\n",
       "  datetime.date(2032, 8, 4): 0.02587558150718335,\n",
       "  datetime.date(2033, 2, 3): 0.026513531968531335,\n",
       "  datetime.date(2033, 8, 4): 0.027051135541688216,\n",
       "  datetime.date(2034, 2, 6): 0.027568830687523024,\n",
       "  datetime.date(2034, 8, 4): 0.02751742869682149,\n",
       "  datetime.date(2035, 2, 6): 0.02791286624941994,\n",
       "  datetime.date(2035, 8, 6): 0.02792212030853112,\n",
       "  datetime.date(2036, 2, 6): 0.028212069753540965,\n",
       "  datetime.date(2036, 8, 6): 0.02848021605600139,\n",
       "  datetime.date(2037, 2, 5): 0.028372275103001204,\n",
       "  datetime.date(2037, 8, 6): 0.028614544118620727,\n",
       "  datetime.date(2038, 2, 8): 0.02838220500684526,\n",
       "  datetime.date(2038, 8, 6): 0.02828559154714894,\n",
       "  datetime.date(2039, 2, 8): 0.02789840533434768,\n",
       "  datetime.date(2039, 8, 8): 0.02800678977002592,\n",
       "  datetime.date(2040, 2, 8): 0.0270354416020062,\n",
       "  datetime.date(2040, 8, 8): 0.026714439702107882,\n",
       "  datetime.date(2041, 2, 7): 0.026238178102555885,\n",
       "  datetime.date(2041, 8, 8): 0.026256111907077516,\n",
       "  datetime.date(2042, 2, 10): 0.025907851767169653,\n",
       "  datetime.date(2042, 8, 8): 0.02543567339892308,\n",
       "  datetime.date(2043, 2, 10): 0.024589194868579092,\n",
       "  datetime.date(2043, 8, 10): 0.02429830586648568,\n",
       "  datetime.date(2044, 2, 10): 0.02400864004087238,\n",
       "  datetime.date(2044, 7, 29): 0.023600239821255677}}"
      ]
     },
     "execution_count": 17,
     "metadata": {},
     "output_type": "execute_result"
    }
   ],
   "source": [
    "index.fixing_time_series"
   ]
  },
  {
   "cell_type": "code",
   "execution_count": null,
   "metadata": {},
   "outputs": [],
   "source": []
  },
  {
   "cell_type": "code",
   "execution_count": 13,
   "metadata": {},
   "outputs": [
    {
     "data": {
      "text/plain": [
       "[<matplotlib.lines.Line2D at 0x2d3a4045ba0>]"
      ]
     },
     "execution_count": 13,
     "metadata": {},
     "output_type": "execute_result"
    },
    {
     "data": {
      "image/png": "[encoded data removed]",
      "text/plain": [
       "<Figure size 640x480 with 1 Axes>"
      ]
     },
     "metadata": {},
     "output_type": "display_data"
    }
   ],
   "source": [
    "plt.plot(npv_swap)"
   ]
  },
  {
   "cell_type": "code",
   "execution_count": null,
   "metadata": {},
   "outputs": [],
   "source": []
  },
  {
   "cell_type": "code",
   "execution_count": null,
   "metadata": {},
   "outputs": [],
   "source": []
  }
 ],
 "metadata": {
  "kernelspec": {
   "display_name": "Python 3",
   "language": "python",
   "name": "python3"
  },
  "language_info": {
   "codemirror_mode": {
    "name": "ipython",
    "version": 3
   },
   "file_extension": ".py",
   "mimetype": "text/x-python",
   "name": "python",
   "nbconvert_exporter": "python",
   "pygments_lexer": "ipython3",
   "version": "3.10.7"
  }
 },
 "nbformat": 4,
 "nbformat_minor": 2
}
