{
 "cells": [
  {
   "cell_type": "code",
   "execution_count": 11,
   "metadata": {},
   "outputs": [],
   "source": [
    "import sys\n",
    "sys.path.append('../')\n",
    "\n",
    "import tquant as tq\n",
    "\n",
    "from datetime import date\n",
    "# import tensorflow as tf\n",
    "# import pandas as pd\n",
    "from datastore import *"
   ]
  },
  {
   "cell_type": "markdown",
   "metadata": {},
   "source": [
    "# Settings"
   ]
  },
  {
   "cell_type": "code",
   "execution_count": 12,
   "metadata": {},
   "outputs": [],
   "source": [
    "tq.Settings.evaluation_date = date(2024, 4, 30)"
   ]
  },
  {
   "cell_type": "code",
   "execution_count": 13,
   "metadata": {},
   "outputs": [],
   "source": [
    "calendar = tq.TARGET()\n",
    "daycounter = tq.DayCounter(tq.DayCounterConvention.Actual360)\n",
    "evaluation_date = tq.Settings.evaluation_date"
   ]
  },
  {
   "cell_type": "markdown",
   "metadata": {},
   "source": [
    "# Market"
   ]
  },
  {
   "cell_type": "code",
   "execution_count": 14,
   "metadata": {},
   "outputs": [],
   "source": [
    "rates = ir_eur_curve_estr['quote'].values\n",
    "times = ir_eur_curve_estr['daycount'].values/365\n",
    "\n",
    "rates_6m = ir_eur_curve_6m['quote'].values\n",
    "times_6m = ir_eur_curve_6m['daycount'].values/365\n",
    "\n",
    "estr_curve = tq.RateCurve(times, rates)\n",
    "eur6m_curve = tq.RateCurve(times_6m, rates_6m)"
   ]
  },
  {
   "cell_type": "markdown",
   "metadata": {},
   "source": [
    "# FRA"
   ]
  },
  {
   "cell_type": "code",
   "execution_count": 15,
   "metadata": {},
   "outputs": [],
   "source": [
    "evaluation_date = tq.Settings.evaluation_date\n",
    "calendar = tq.TARGET()\n",
    "index = tq.IborIndex(\"EUR6M\", calendar, 6, tq.TimeUnit.Months)\n",
    "d1 = calendar.advance(evaluation_date, 3, tq.TimeUnit.Months, tq.BusinessDayConvention.ModifiedFollowing)\n",
    "d2 = calendar.advance(d1, 6, tq.TimeUnit.Months, tq.BusinessDayConvention.ModifiedFollowing)\n",
    "fra = tq.ForwardRateAgreement(d1,d2,tq.Position.Long, 0.03, 100, index, daycounter, calendar)"
   ]
  },
  {
   "cell_type": "code",
   "execution_count": 16,
   "metadata": {},
   "outputs": [],
   "source": [
    "fra_engine = tq.FraDiscountingEngine(fra)"
   ]
  },
  {
   "cell_type": "code",
   "execution_count": 17,
   "metadata": {},
   "outputs": [
    {
     "data": {
      "text/plain": [
       "<tf.Tensor: shape=(), dtype=float64, numpy=0.32547650433899206>"
      ]
     },
     "execution_count": 17,
     "metadata": {},
     "output_type": "execute_result"
    }
   ],
   "source": [
    "fra_engine.price(estr_curve, eur6m_curve, evaluation_date)"
   ]
  }
 ],
 "metadata": {
  "kernelspec": {
   "display_name": "Python 3",
   "language": "python",
   "name": "python3"
  },
  "language_info": {
   "codemirror_mode": {
    "name": "ipython",
    "version": 3
   },
   "file_extension": ".py",
   "mimetype": "text/x-python",
   "name": "python",
   "nbconvert_exporter": "python",
   "pygments_lexer": "ipython3",
   "version": "3.10.7"
  }
 },
 "nbformat": 4,
 "nbformat_minor": 2
}
