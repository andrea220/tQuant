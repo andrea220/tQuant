{
 "cells": [
  {
   "cell_type": "code",
   "execution_count": 17,
   "metadata": {},
   "outputs": [],
   "source": [
    "import sys\n",
    "sys.path.append('../')\n",
    "import matplotlib.pyplot as plt\n",
    "import time\n",
    "import QuantLib as ql \n",
    "####\n",
    "from instruments.EuropeanOptions import *\n",
    "from engines.blacksimple import *"
   ]
  },
  {
   "cell_type": "markdown",
   "metadata": {},
   "source": [
    "## Option Parameters"
   ]
  },
  {
   "cell_type": "code",
   "execution_count": 11,
   "metadata": {},
   "outputs": [],
   "source": [
    "# Sample data\n",
    "spot_price = 100.0\n",
    "strike_price = 100.0\n",
    "maturity = 1.0\n",
    "option_type = \"Call\"\n",
    "risk_free_rate = 0.03\n",
    "volatility = 0.2"
   ]
  },
  {
   "cell_type": "markdown",
   "metadata": {},
   "source": [
    "## Closed Form"
   ]
  },
  {
   "cell_type": "code",
   "execution_count": 12,
   "metadata": {},
   "outputs": [
    {
     "name": "stdout",
     "output_type": "stream",
     "text": [
      "Call Option Price: 9.413406372070312\n",
      "******************************\n",
      "Black AAD: \n",
      "Price:  9.413406\n",
      "Delta: 0.5987063646316528\n",
      "Vega: 38.666812896728516\n",
      "Rho: 50.45722961425781\n",
      "******************************\n",
      "******************************\n",
      "Black AAD XLA: \n",
      "Price:  9.413406\n",
      "Delta: 0.5987063646316528\n",
      "Vega: 38.666812896728516\n",
      "Rho: 50.45722961425781\n"
     ]
    }
   ],
   "source": [
    "# Create an instrument-object for the European Call Option \n",
    "call_option = EuropeanCallOption(strike_price, maturity, option_type)\n",
    "# Create an engine-object for the Black-Scholes model\n",
    "bs_engine = BlackScholesPricing(call_option, spot_price, risk_free_rate, volatility)\n",
    "# Calculate the call option price\n",
    "call_option_price = bs_engine.calculate_option_price()\n",
    "print(f\"Call Option Price: {call_option_price.numpy()}\")\n",
    "print(\"*\"*30)\n",
    "\n",
    "# Calculate Delta and Vega using automatic differentiation\n",
    "price, sensy = bs_engine.calculate_aad()\n",
    "print(\"Black AAD: \")\n",
    "print(\"Price: \", price.numpy())\n",
    "print(f\"Delta: {sensy[0].numpy()}\")\n",
    "print(f\"Vega: {sensy[1].numpy()}\")\n",
    "print(f\"Rho: {sensy[2].numpy()}\")\n",
    "\n",
    "print(\"*\"*30)\n",
    "print(\"*\"*30)\n",
    "# Calculate Delta and Vega using automatic differentiation\n",
    "price_xla, sensy_xla = bs_engine.calculate_aad_xla()\n",
    "print(\"Black AAD XLA: \")\n",
    "print(\"Price: \", price_xla.numpy())\n",
    "print(f\"Delta: {sensy_xla[0].numpy()}\")\n",
    "print(f\"Vega: {sensy_xla[1].numpy()}\")\n",
    "print(f\"Rho: {sensy_xla[2].numpy()}\")"
   ]
  },
  {
   "cell_type": "markdown",
   "metadata": {},
   "source": [
    "## MC Simulation"
   ]
  },
  {
   "cell_type": "code",
   "execution_count": 13,
   "metadata": {},
   "outputs": [],
   "source": [
    "n_path = 20000\n",
    "timesteps = 100\n",
    "z = tf.random.normal((n_path, timesteps), seed=12)\n",
    "\n",
    "mc_engine = EuropeanKernel(call_option, spot_price, risk_free_rate, volatility, z)"
   ]
  },
  {
   "cell_type": "code",
   "execution_count": 14,
   "metadata": {},
   "outputs": [
    {
     "name": "stdout",
     "output_type": "stream",
     "text": [
      "Call Option MC Price: 9.448568344116211\n",
      "******************************\n",
      "Black AAD MC: \n",
      "Price:  9.448568\n",
      "Delta: 0.5953810811042786\n",
      "Vega: 38.992950439453125\n",
      "Rho: 50.08954620361328\n",
      "******************************\n",
      "******************************\n",
      "Black AAD MC XLA: \n",
      "Price:  9.448568\n",
      "Delta: 0.5953811407089233\n",
      "Vega: 38.99294662475586\n",
      "Rho: 50.089542388916016\n"
     ]
    }
   ],
   "source": [
    "call_option_price = mc_engine.calculate_option_price()\n",
    "print(f\"Call Option MC Price: {call_option_price.numpy()}\")\n",
    "print(\"*\"*30)\n",
    "# Calculate Delta and Vega using automatic differentiation\n",
    "price, sensy = mc_engine.calculate_aad()\n",
    "print(\"Black AAD MC: \")\n",
    "print(\"Price: \", price.numpy())\n",
    "print(f\"Delta: {sensy[0].numpy()}\")\n",
    "print(f\"Vega: {sensy[1].numpy()}\")\n",
    "print(f\"Rho: {sensy[2].numpy()}\")\n",
    "\n",
    "print(\"*\"*30)\n",
    "print(\"*\"*30)\n",
    "# Calculate Delta and Vega using automatic differentiation\n",
    "price_xla, sensy_xla = mc_engine.calculate_aad_xla()\n",
    "print(\"Black AAD MC XLA: \")\n",
    "print(\"Price: \", price_xla.numpy())\n",
    "print(f\"Delta: {sensy_xla[0].numpy()}\")\n",
    "print(f\"Vega: {sensy_xla[1].numpy()}\")\n",
    "print(f\"Rho: {sensy_xla[2].numpy()}\")"
   ]
  },
  {
   "cell_type": "markdown",
   "metadata": {},
   "source": [
    "### Performances: QuantLib vs TensorFlow"
   ]
  },
  {
   "cell_type": "code",
   "execution_count": 15,
   "metadata": {},
   "outputs": [],
   "source": [
    "def EuropeanKernelQl(n_path, timesteps, spot_price, risk_free_rate, volatility, strike_price):\n",
    "    calculation_date = ql.Date(1, 1, 2010)\n",
    "    ql.Settings.instance().evaluationDate = calculation_date\n",
    "    maturity_date = ql.Date(1, 1, 2011)\n",
    "    day_count = ql.Thirty360(ql.Thirty360.BondBasis)\n",
    "    calendar = ql.NullCalendar()\n",
    "\n",
    "    volatility_ql = ql.SimpleQuote(volatility)\n",
    "    option_type = ql.Option.Call\n",
    "\n",
    "    payoff = ql.PlainVanillaPayoff(option_type, strike_price)\n",
    "    eu_exercise = ql.EuropeanExercise(maturity_date)\n",
    "    european_option_ql = ql.VanillaOption(payoff, eu_exercise)\n",
    "\n",
    "    flat_ts = ql.YieldTermStructureHandle( ql.FlatForward(calculation_date, risk_free_rate, day_count) )\n",
    "    flat_vol_ts = ql.BlackVolTermStructureHandle( ql.BlackConstantVol(calculation_date, calendar, ql.QuoteHandle(volatility_ql), day_count) )\n",
    "\n",
    "    spot_handle = ql.QuoteHandle( ql.SimpleQuote(spot_price) )\n",
    "    bsm_process = ql.BlackScholesProcess(spot_handle, flat_ts, flat_vol_ts)\n",
    "\n",
    "    # Compute the same price number_of_options times\n",
    "\n",
    "    engine = ql.MCEuropeanEngine(bsm_process, \"PseudoRandom\",\n",
    "                                timeSteps= timesteps,\n",
    "                                requiredSamples= n_path,\n",
    "                                seed=12)\n",
    "\n",
    "    european_option_ql.setPricingEngine(engine)\n",
    "    return european_option_ql\n",
    "\n"
   ]
  },
  {
   "cell_type": "code",
   "execution_count": 16,
   "metadata": {},
   "outputs": [
    {
     "name": "stdout",
     "output_type": "stream",
     "text": [
      "Time (seconds) to price a European Call Option using QuantLib:  2.6102826595306396\n",
      "Time (seconds) to price a European Call Option using TensorFlow:  0.06581878662109375\n",
      "Time (seconds) to price a European Call Option using XLA:  0.3190290927886963\n"
     ]
    }
   ],
   "source": [
    "n_path = 100000\n",
    "timesteps = 100\n",
    "z = tf.random.normal((n_path, timesteps), seed=12)\n",
    "\n",
    "\n",
    "mc_engine_ql = EuropeanKernelQl(n_path, timesteps, spot_price, risk_free_rate, volatility, strike_price)\n",
    "mc_engine = EuropeanKernel(call_option, spot_price, risk_free_rate, volatility, z)\n",
    "\n",
    "# Price\n",
    "t = time.time()\n",
    "price_ql = mc_engine_ql.NPV()\n",
    "print(\"Time (seconds) to price a European Call Option using QuantLib: \", time.time() - t)\n",
    "\n",
    "t = time.time()\n",
    "price_tf = mc_engine.calculate_option_price()\n",
    "print(\"Time (seconds) to price a European Call Option using TensorFlow: \", time.time() - t)\n",
    "\n",
    "t = time.time()\n",
    "price_xla = mc_engine.calculate_option_price_xla()\n",
    "print(\"Time (seconds) to price a European Call Option using XLA: \", time.time() - t)"
   ]
  },
  {
   "cell_type": "code",
   "execution_count": 9,
   "metadata": {},
   "outputs": [
    {
     "name": "stdout",
     "output_type": "stream",
     "text": [
      "1000\n",
      "WARNING:tensorflow:6 out of the last 6 calls to <function EuropeanKernel.calculate_option_price_xla.<locals>.compute_price at 0x000002A9534AB130> triggered tf.function retracing. Tracing is expensive and the excessive number of tracings could be due to (1) creating @tf.function repeatedly in a loop, (2) passing tensors with different shapes, (3) passing Python objects instead of tensors. For (1), please define your @tf.function outside of the loop. For (2), @tf.function has reduce_retracing=True option that can avoid unnecessary retracing. For (3), please refer to https://www.tensorflow.org/guide/function#controlling_retracing and https://www.tensorflow.org/api_docs/python/tf/function for  more details.\n",
      "10000\n",
      "30000\n",
      "80000\n",
      "100000\n",
      "200000\n",
      "500000\n",
      "800000\n",
      "1000000\n"
     ]
    }
   ],
   "source": [
    "def test_runtime(paths):\n",
    "    \n",
    "    runtime_ql = []\n",
    "    runtime_tf = []\n",
    "    runtime_xla = []\n",
    "\n",
    "    price_ql = []\n",
    "    price_tf = []\n",
    "    price_xla = []\n",
    "\n",
    "    for i in range(0, len(paths)):\n",
    "        n_path = paths[i]\n",
    "        print(n_path)\n",
    "        timesteps = 100\n",
    "        z = tf.random.normal((n_path, timesteps), seed=12)\n",
    "\n",
    "\n",
    "        mc_engine_ql = EuropeanKernelQl(n_path, timesteps, spot_price, risk_free_rate, volatility, strike_price)\n",
    "        mc_engine = EuropeanKernel(call_option, spot_price, risk_free_rate, volatility, z)\n",
    "\n",
    "        t = time.time()\n",
    "        npv_ql = mc_engine_ql.NPV()\n",
    "        runtime = time.time() - t\n",
    "        runtime_ql.append(runtime)\n",
    "        price_ql.append(npv_ql)\n",
    "\n",
    "        t = time.time()\n",
    "        npv_tf = mc_engine.calculate_option_price()\n",
    "        runtime = time.time() - t\n",
    "        runtime_tf.append(runtime)\n",
    "        price_tf.append(npv_tf)\n",
    "\n",
    "        t = time.time()\n",
    "        npv_xla = mc_engine.calculate_option_price_xla()\n",
    "        runtime = time.time() - t\n",
    "        runtime_xla.append(runtime)\n",
    "        price_xla.append(npv_xla)\n",
    "\n",
    "    return [runtime_ql, runtime_tf, runtime_xla], [npv_ql, npv_tf, npv_xla]\n",
    "\n",
    "paths = [1000, 10000, 30000, 80000, 100000, 200000, 500000, 800000, 1000000]\n",
    "times, npvs = test_runtime(paths)"
   ]
  },
  {
   "cell_type": "code",
   "execution_count": 11,
   "metadata": {},
   "outputs": [
    {
     "data": {
      "image/png": "[encoded data removed]",
      "text/plain": [
       "<Figure size 640x480 with 1 Axes>"
      ]
     },
     "metadata": {},
     "output_type": "display_data"
    }
   ],
   "source": [
    "\n",
    "#plt.plot(runtime_ql, paths)\n",
    "plt.plot(paths, times[0], label = 'QuantLib')\n",
    "plt.plot(paths, times[1],  label = 'TensorFlow')\n",
    "plt.plot(paths, times[2],  label = 'Tf-XLA')\n",
    "plt.title(\"MonteCarlo CPU runtime - European option\")\n",
    "plt.xlabel(\"n. paths\")\n",
    "plt.ylabel(\"Time in seconds\")\n",
    "plt.grid()\n",
    "plt.legend()\n",
    "plt.show()"
   ]
  },
  {
   "cell_type": "code",
   "execution_count": null,
   "metadata": {},
   "outputs": [],
   "source": []
  },
  {
   "cell_type": "code",
   "execution_count": null,
   "metadata": {},
   "outputs": [],
   "source": []
  },
  {
   "cell_type": "code",
   "execution_count": null,
   "metadata": {},
   "outputs": [],
   "source": []
  },
  {
   "cell_type": "code",
   "execution_count": null,
   "metadata": {},
   "outputs": [],
   "source": []
  },
  {
   "cell_type": "code",
   "execution_count": null,
   "metadata": {},
   "outputs": [],
   "source": []
  },
  {
   "cell_type": "code",
   "execution_count": null,
   "metadata": {},
   "outputs": [],
   "source": []
  },
  {
   "cell_type": "code",
   "execution_count": null,
   "metadata": {},
   "outputs": [],
   "source": []
  },
  {
   "cell_type": "code",
   "execution_count": null,
   "metadata": {},
   "outputs": [],
   "source": []
  }
 ],
 "metadata": {
  "kernelspec": {
   "display_name": "Python 3",
   "language": "python",
   "name": "python3"
  },
  "language_info": {
   "codemirror_mode": {
    "name": "ipython",
    "version": 3
   },
   "file_extension": ".py",
   "mimetype": "text/x-python",
   "name": "python",
   "nbconvert_exporter": "python",
   "pygments_lexer": "ipython3",
   "version": "3.10.7"
  }
 },
 "nbformat": 4,
 "nbformat_minor": 2
}
