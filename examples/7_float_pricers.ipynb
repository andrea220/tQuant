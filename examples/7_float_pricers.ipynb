{
 "cells": [
  {
   "cell_type": "code",
   "execution_count": 1,
   "metadata": {},
   "outputs": [],
   "source": [
    "import sys\n",
    "sys.path.append('../')\n",
    "\n",
    "import tquant as tq\n",
    "from engine.globalconfig import GlobalConfig\n",
    "from engine.loader.curveload import MarketDataLoader\n",
    "\n",
    "from datetime import date\n",
    "import tensorflow as tf\n",
    "import pandas as pd"
   ]
  },
  {
   "cell_type": "markdown",
   "metadata": {},
   "source": [
    "# Settings"
   ]
  },
  {
   "cell_type": "code",
   "execution_count": 2,
   "metadata": {},
   "outputs": [],
   "source": [
    "config = GlobalConfig.from_json()\n",
    "mdl = MarketDataLoader(config)"
   ]
  },
  {
   "cell_type": "code",
   "execution_count": 3,
   "metadata": {},
   "outputs": [
    {
     "data": {
      "text/plain": [
       "datetime.date(2023, 9, 29)"
      ]
     },
     "execution_count": 3,
     "metadata": {},
     "output_type": "execute_result"
    }
   ],
   "source": [
    "tq.Settings.evaluation_date"
   ]
  },
  {
   "cell_type": "code",
   "execution_count": 4,
   "metadata": {},
   "outputs": [],
   "source": [
    "calendar = tq.TARGET()\n",
    "daycounter = tq.DayCounter(tq.DayCounterConvention.Actual360)\n",
    "evaluation_date = tq.Settings.evaluation_date"
   ]
  },
  {
   "cell_type": "markdown",
   "metadata": {},
   "source": [
    "# Market"
   ]
  },
  {
   "cell_type": "code",
   "execution_count": 5,
   "metadata": {},
   "outputs": [],
   "source": [
    "rates = mdl.ir_eur_curve_estr['quote'].values\n",
    "times = mdl.ir_eur_curve_estr['daycount'].values/365\n",
    "\n",
    "rates_6m = mdl.ir_eur_curve_6m['quote'].values\n",
    "times_6m = mdl.ir_eur_curve_6m['daycount'].values/365"
   ]
  },
  {
   "cell_type": "code",
   "execution_count": 6,
   "metadata": {},
   "outputs": [],
   "source": [
    "estr_curve = tq.RateCurve(times, rates)\n",
    "eur6m_curve = tq.RateCurve(times_6m, rates_6m)"
   ]
  },
  {
   "cell_type": "markdown",
   "metadata": {},
   "source": [
    "# Floating coupon"
   ]
  },
  {
   "cell_type": "code",
   "execution_count": 7,
   "metadata": {},
   "outputs": [],
   "source": [
    "d1 = calendar.advance(evaluation_date,\n",
    "                         6,\n",
    "                         tq.TimeUnit.Months,\n",
    "                         tq.BusinessDayConvention.ModifiedFollowing)\n",
    "\n",
    "index = tq.IborIndex('EUR6M',\n",
    "             calendar,\n",
    "             6,\n",
    "             tq.TimeUnit.Months)\n",
    "gearing = 1\n",
    "spread = 0\n",
    "nominal = 1e6\n",
    "\n",
    "floating_coupon = tq.FloatingCoupon(d1,\n",
    "                                    nominal,\n",
    "                                    evaluation_date,\n",
    "                                    d1,\n",
    "                                    index,\n",
    "                                    gearing,\n",
    "                                    spread,\n",
    "                                    evaluation_date,\n",
    "                                    d1,\n",
    "                                    daycounter\n",
    "                                    )"
   ]
  },
  {
   "cell_type": "code",
   "execution_count": 8,
   "metadata": {},
   "outputs": [],
   "source": [
    "float_pricer = tq.FloatingCouponDiscounting(floating_coupon, False)"
   ]
  },
  {
   "cell_type": "code",
   "execution_count": 9,
   "metadata": {},
   "outputs": [],
   "source": [
    "npv, tape = float_pricer.price_aad(estr_curve, eur6m_curve, tq.Settings.evaluation_date)\n",
    "sensitivities = tape.gradient(npv, [estr_curve.rates, eur6m_curve.rates])"
   ]
  },
  {
   "cell_type": "code",
   "execution_count": 10,
   "metadata": {},
   "outputs": [
    {
     "data": {
      "text/html": [
       "<div>\n",
       "<style scoped>\n",
       "    .dataframe tbody tr th:only-of-type {\n",
       "        vertical-align: middle;\n",
       "    }\n",
       "\n",
       "    .dataframe tbody tr th {\n",
       "        vertical-align: top;\n",
       "    }\n",
       "\n",
       "    .dataframe thead th {\n",
       "        text-align: right;\n",
       "    }\n",
       "</style>\n",
       "<table border=\"1\" class=\"dataframe\">\n",
       "  <thead>\n",
       "    <tr style=\"text-align: right;\">\n",
       "      <th></th>\n",
       "      <th>time</th>\n",
       "      <th>sensy_estr</th>\n",
       "      <th>sensy_eur6m</th>\n",
       "    </tr>\n",
       "  </thead>\n",
       "  <tbody>\n",
       "    <tr>\n",
       "      <th>8</th>\n",
       "      <td>0.249315</td>\n",
       "      <td>NaN</td>\n",
       "      <td>NaN</td>\n",
       "    </tr>\n",
       "    <tr>\n",
       "      <th>9</th>\n",
       "      <td>0.334247</td>\n",
       "      <td>None</td>\n",
       "      <td>tf.Tensor(483101.04394118447, shape=(), dtype=...</td>\n",
       "    </tr>\n",
       "    <tr>\n",
       "      <th>10</th>\n",
       "      <td>0.419178</td>\n",
       "      <td>None</td>\n",
       "      <td>tf.Tensor(20078.367153468203, shape=(), dtype=...</td>\n",
       "    </tr>\n",
       "    <tr>\n",
       "      <th>11</th>\n",
       "      <td>0.49589</td>\n",
       "      <td>tf.Tensor(-9497.84399362655, shape=(), dtype=f...</td>\n",
       "      <td>None</td>\n",
       "    </tr>\n",
       "    <tr>\n",
       "      <th>12</th>\n",
       "      <td>0.583562</td>\n",
       "      <td>tf.Tensor(-809.7549518824293, shape=(), dtype=...</td>\n",
       "      <td>None</td>\n",
       "    </tr>\n",
       "    <tr>\n",
       "      <th>13</th>\n",
       "      <td>0.665753</td>\n",
       "      <td>NaN</td>\n",
       "      <td>NaN</td>\n",
       "    </tr>\n",
       "    <tr>\n",
       "      <th>14</th>\n",
       "      <td>0.747945</td>\n",
       "      <td>NaN</td>\n",
       "      <td>NaN</td>\n",
       "    </tr>\n",
       "    <tr>\n",
       "      <th>15</th>\n",
       "      <td>0.832877</td>\n",
       "      <td>NaN</td>\n",
       "      <td>NaN</td>\n",
       "    </tr>\n",
       "    <tr>\n",
       "      <th>16</th>\n",
       "      <td>0.917808</td>\n",
       "      <td>NaN</td>\n",
       "      <td>NaN</td>\n",
       "    </tr>\n",
       "    <tr>\n",
       "      <th>17</th>\n",
       "      <td>1.005479</td>\n",
       "      <td>NaN</td>\n",
       "      <td>NaN</td>\n",
       "    </tr>\n",
       "  </tbody>\n",
       "</table>\n",
       "</div>"
      ],
      "text/plain": [
       "        time                                         sensy_estr  \\\n",
       "8   0.249315                                                NaN   \n",
       "9   0.334247                                               None   \n",
       "10  0.419178                                               None   \n",
       "11   0.49589  tf.Tensor(-9497.84399362655, shape=(), dtype=f...   \n",
       "12  0.583562  tf.Tensor(-809.7549518824293, shape=(), dtype=...   \n",
       "13  0.665753                                                NaN   \n",
       "14  0.747945                                                NaN   \n",
       "15  0.832877                                                NaN   \n",
       "16  0.917808                                                NaN   \n",
       "17  1.005479                                                NaN   \n",
       "\n",
       "                                          sensy_eur6m  \n",
       "8                                                 NaN  \n",
       "9   tf.Tensor(483101.04394118447, shape=(), dtype=...  \n",
       "10  tf.Tensor(20078.367153468203, shape=(), dtype=...  \n",
       "11                                               None  \n",
       "12                                               None  \n",
       "13                                                NaN  \n",
       "14                                                NaN  \n",
       "15                                                NaN  \n",
       "16                                                NaN  \n",
       "17                                                NaN  "
      ]
     },
     "execution_count": 10,
     "metadata": {},
     "output_type": "execute_result"
    }
   ],
   "source": [
    "sensy = pd.DataFrame([estr_curve.pillars.tolist(), sensitivities[0], sensitivities[1]]).T\n",
    "sensy.columns = ['time', 'sensy_estr', 'sensy_eur6m']\n",
    "sensy[sensy['time'] > 0.2].head(10)"
   ]
  },
  {
   "cell_type": "code",
   "execution_count": 11,
   "metadata": {},
   "outputs": [
    {
     "data": {
      "text/plain": [
       "<tf.Tensor: shape=(), dtype=float64, numpy=20501.301770073107>"
      ]
     },
     "execution_count": 11,
     "metadata": {},
     "output_type": "execute_result"
    }
   ],
   "source": [
    "npv"
   ]
  },
  {
   "cell_type": "code",
   "execution_count": null,
   "metadata": {},
   "outputs": [],
   "source": []
  },
  {
   "cell_type": "code",
   "execution_count": null,
   "metadata": {},
   "outputs": [],
   "source": []
  }
 ],
 "metadata": {
  "kernelspec": {
   "display_name": "Python 3",
   "language": "python",
   "name": "python3"
  },
  "language_info": {
   "codemirror_mode": {
    "name": "ipython",
    "version": 3
   },
   "file_extension": ".py",
   "mimetype": "text/x-python",
   "name": "python",
   "nbconvert_exporter": "python",
   "pygments_lexer": "ipython3",
   "version": "3.10.7"
  }
 },
 "nbformat": 4,
 "nbformat_minor": 2
}
