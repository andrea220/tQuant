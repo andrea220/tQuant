{
 "cells": [
  {
   "cell_type": "code",
   "execution_count": 1,
   "metadata": {},
   "outputs": [],
   "source": [
    "import sys\n",
    "sys.path.append('../')\n",
    "\n",
    "import tquant as tq\n",
    "import tensorflow as tf\n",
    "\n",
    "from datastore import *\n",
    "# import datetime\n",
    "\n",
    "tq.Settings.evaluation_date = date(2024, 4, 30)"
   ]
  },
  {
   "cell_type": "markdown",
   "metadata": {},
   "source": [
    "# Market Instance"
   ]
  },
  {
   "cell_type": "code",
   "execution_count": 2,
   "metadata": {},
   "outputs": [],
   "source": [
    "pillars = ir_eur_curve_estr['daycount'].values/365\n",
    "tenors = ir_eur_curve_estr.tenor\n",
    "rates = ir_eur_curve_estr['quote'].values\n",
    "rate_curve = tq.RateCurve(pillars, rates, 'LINEAR')\n",
    "\n",
    "calendar = tq.TARGET()"
   ]
  },
  {
   "cell_type": "markdown",
   "metadata": {},
   "source": [
    "# Deposit"
   ]
  },
  {
   "cell_type": "code",
   "execution_count": 3,
   "metadata": {},
   "outputs": [],
   "source": [
    "# rate_curve.set_rates(rates)\n",
    "\n",
    "today = date(2024, 4, 30)\n",
    "\n",
    "dc_convention = tq.DayCounterConvention.Actual360\n",
    "spot_date = calendar.advance(today, 2, tq.TimeUnit.Days, dc_convention)\n",
    "maturity = calendar.advance(spot_date, 1, tq.TimeUnit.Days, dc_convention)\n",
    "quote = 0.03\n",
    "deposit = tq.Deposit(tq.Currency.EUR, today, spot_date, maturity, 100, dc_convention, quote)\n",
    "\n",
    "pricer = tq.DepositEngine(deposit)\n",
    "pv_depo, tape = pricer.price_aad(rate_curve, today)\n",
    "sensy_depo = tape.gradient(pv_depo, rate_curve.rates)\n",
    "# print(pv_depo)\n",
    "# print(sensy_depo)\n",
    "sensy_depo = pd.DataFrame([tenors.tolist(), sensy_depo]).T\n",
    "sensy_depo.columns = ['time', 'sensy']\n",
    "sensy_depo.fillna(0, inplace = True)\n",
    "sensy_depo.set_index('time', inplace = True)\n",
    "sensy_depo['sensy'] = sensy_depo['sensy'].apply(tq.extract_value)"
   ]
  },
  {
   "cell_type": "code",
   "execution_count": 4,
   "metadata": {},
   "outputs": [
    {
     "data": {
      "text/html": [
       "<div>\n",
       "<style scoped>\n",
       "    .dataframe tbody tr th:only-of-type {\n",
       "        vertical-align: middle;\n",
       "    }\n",
       "\n",
       "    .dataframe tbody tr th {\n",
       "        vertical-align: top;\n",
       "    }\n",
       "\n",
       "    .dataframe thead th {\n",
       "        text-align: right;\n",
       "    }\n",
       "</style>\n",
       "<table border=\"1\" class=\"dataframe\">\n",
       "  <thead>\n",
       "    <tr style=\"text-align: right;\">\n",
       "      <th></th>\n",
       "      <th>sensy</th>\n",
       "    </tr>\n",
       "    <tr>\n",
       "      <th>time</th>\n",
       "      <th></th>\n",
       "    </tr>\n",
       "  </thead>\n",
       "  <tbody>\n",
       "    <tr>\n",
       "      <th>2BD</th>\n",
       "      <td>-0.821492</td>\n",
       "    </tr>\n",
       "    <tr>\n",
       "      <th>3BD</th>\n",
       "      <td>1.515595</td>\n",
       "    </tr>\n",
       "    <tr>\n",
       "      <th>1W</th>\n",
       "      <td>0.138833</td>\n",
       "    </tr>\n",
       "  </tbody>\n",
       "</table>\n",
       "</div>"
      ],
      "text/plain": [
       "         sensy\n",
       "time          \n",
       "2BD  -0.821492\n",
       "3BD   1.515595\n",
       "1W    0.138833"
      ]
     },
     "execution_count": 4,
     "metadata": {},
     "output_type": "execute_result"
    }
   ],
   "source": [
    "sensy_depo[sensy_depo['sensy'] != 0]"
   ]
  },
  {
   "cell_type": "markdown",
   "metadata": {},
   "source": [
    "# Overnight Indexed Swap (OIS)"
   ]
  },
  {
   "cell_type": "code",
   "execution_count": 5,
   "metadata": {},
   "outputs": [],
   "source": [
    "## class helper\n",
    "## input class helper\n",
    "currency = tq.Currency.EUR\n",
    "start_delay = 2\n",
    "fixing_days = 2\n",
    "period_fix_units = 1\n",
    "period_fix = tq.TimeUnit.Years\n",
    "bd_convention = tq.BusinessDayConvention.ModifiedFollowing\n",
    "notional = 1.0\n",
    "day_count_convention_fix = tq.DayCounterConvention.Actual360\n",
    "day_count_convention_flt = tq.DayCounterConvention.Actual360\n",
    "\n",
    "#### function build helper\n",
    "#### input function build  \n",
    "trade_date = tq.Settings.evaluation_date\n",
    "quote = 0.01\n",
    "term = 2\n",
    "term_units = tq.TimeUnit.Years\n",
    "\n",
    "if currency == tq.Currency.EUR:\n",
    "    calendar = tq.TARGET()\n",
    "else:\n",
    "    raise TypeError(\"Calendar is not present for currency\")\n",
    "\n",
    "start_date = calendar.advance(trade_date,\n",
    "                              start_delay, \n",
    "                              tq.TimeUnit.Days, \n",
    "                              bd_convention)\n",
    "maturity = calendar.advance(start_date, term, term_units, bd_convention)\n",
    "\n",
    "schedule_generator = tq.ScheduleGenerator(calendar, bd_convention)\n",
    "schedule = schedule_generator.generate(start_date, \n",
    "                                           maturity, \n",
    "                                           period_fix_units, period_fix)\n",
    "\n",
    "# start_fix = []\n",
    "# end_fix = []\n",
    "# pay_fix = []\n",
    "# for i in range(len(schedule) - 1):\n",
    "#     start_fix.append(schedule[i])\n",
    "#     end_fix.append(schedule[i + 1])\n",
    "#     pay_fix.append(calendar.adjust(schedule[i + 1], bd_convention))\n",
    "\n",
    "day_count_fix = tq.DayCounter(day_count_convention_fix)\n",
    "# day_count_flt = tq.DayCounter(day_count_convention_flt)\n",
    "\n",
    "# start_flt = []\n",
    "# end_flt = []\n",
    "# pay_flt = []\n",
    "# for i in range(len(schedule_float) - 1):\n",
    "#     start_flt.append(schedule_float[i])\n",
    "#     end_flt.append(schedule_float[i + 1])\n",
    "#     pay_flt.append(calendar.adjust(schedule_float[i + 1], bd_convention))\n",
    "\n",
    "# fixing_dates = []\n",
    "# fixing_rates = []\n",
    "\n",
    "\n",
    "index = tq.OvernightIndex('ESTR', calendar)"
   ]
  },
  {
   "cell_type": "code",
   "execution_count": 6,
   "metadata": {},
   "outputs": [
    {
     "name": "stdout",
     "output_type": "stream",
     "text": [
      "tf.Tensor(0.047897643775294346, shape=(), dtype=float64)\n"
     ]
    }
   ],
   "source": [
    "ois = tq.Ois(schedule,\n",
    "             notional, \n",
    "             index, \n",
    "             quote,\n",
    "             day_count_fix)\n",
    "eng_ois = tq.OisAnalyticEngine(ois)\n",
    "\n",
    "pv_ois, tape = eng_ois.price_aad(rate_curve, today)\n",
    "sensy_ois = tape.gradient(pv_ois, rate_curve.rates)\n",
    "print(pv_ois)\n",
    "sensy_ois = pd.DataFrame([tenors.tolist(), sensy_ois]).T\n",
    "sensy_ois.columns = ['time', 'sensy']\n",
    "sensy_ois.fillna(0, inplace = True)\n",
    "sensy_ois.set_index('time', inplace = True)\n",
    "sensy_ois['sensy'] = sensy_ois['sensy'].apply(tq.extract_value)"
   ]
  },
  {
   "cell_type": "code",
   "execution_count": 7,
   "metadata": {},
   "outputs": [
    {
     "data": {
      "text/html": [
       "<div>\n",
       "<style scoped>\n",
       "    .dataframe tbody tr th:only-of-type {\n",
       "        vertical-align: middle;\n",
       "    }\n",
       "\n",
       "    .dataframe tbody tr th {\n",
       "        vertical-align: top;\n",
       "    }\n",
       "\n",
       "    .dataframe thead th {\n",
       "        text-align: right;\n",
       "    }\n",
       "</style>\n",
       "<table border=\"1\" class=\"dataframe\">\n",
       "  <thead>\n",
       "    <tr style=\"text-align: right;\">\n",
       "      <th></th>\n",
       "      <th>sensy</th>\n",
       "    </tr>\n",
       "    <tr>\n",
       "      <th>time</th>\n",
       "      <th></th>\n",
       "    </tr>\n",
       "  </thead>\n",
       "  <tbody>\n",
       "    <tr>\n",
       "      <th>2BD</th>\n",
       "      <td>-0.970262</td>\n",
       "    </tr>\n",
       "    <tr>\n",
       "      <th>3BD</th>\n",
       "      <td>1.790202</td>\n",
       "    </tr>\n",
       "    <tr>\n",
       "      <th>1W</th>\n",
       "      <td>0.163988</td>\n",
       "    </tr>\n",
       "    <tr>\n",
       "      <th>1Y</th>\n",
       "      <td>-11.277392</td>\n",
       "    </tr>\n",
       "    <tr>\n",
       "      <th>13M</th>\n",
       "      <td>12.195904</td>\n",
       "    </tr>\n",
       "    <tr>\n",
       "      <th>2Y</th>\n",
       "      <td>-0.037783</td>\n",
       "    </tr>\n",
       "    <tr>\n",
       "      <th>3Y</th>\n",
       "      <td>-0.001529</td>\n",
       "    </tr>\n",
       "  </tbody>\n",
       "</table>\n",
       "</div>"
      ],
      "text/plain": [
       "          sensy\n",
       "time           \n",
       "2BD   -0.970262\n",
       "3BD    1.790202\n",
       "1W     0.163988\n",
       "1Y   -11.277392\n",
       "13M   12.195904\n",
       "2Y    -0.037783\n",
       "3Y    -0.001529"
      ]
     },
     "execution_count": 7,
     "metadata": {},
     "output_type": "execute_result"
    }
   ],
   "source": [
    "sensy_ois[sensy_ois['sensy'] != 0]"
   ]
  },
  {
   "cell_type": "markdown",
   "metadata": {},
   "source": [
    "# QuantLib check"
   ]
  },
  {
   "cell_type": "code",
   "execution_count": 8,
   "metadata": {},
   "outputs": [],
   "source": [
    "import QuantLib as ql\n",
    "import matplotlib.pyplot as plt"
   ]
  },
  {
   "cell_type": "code",
   "execution_count": 9,
   "metadata": {},
   "outputs": [
    {
     "data": {
      "image/png": "[encoded data removed]",
      "text/plain": [
       "<Figure size 640x480 with 1 Axes>"
      ]
     },
     "metadata": {},
     "output_type": "display_data"
    }
   ],
   "source": [
    "today_ql = ql.Date.from_date(today)\n",
    "ql.Settings.instance().evaluationDate = today_ql\n",
    "calendar_ql=ql.TARGET()\n",
    "\n",
    "pillars_days = ir_eur_curve_estr['daycount'].tolist()\n",
    "pillars_ql = [today_ql + d for d in pillars_days]\n",
    "\n",
    "rate_curve_ql = ql.ZeroCurve(pillars_ql, rates, ql.ActualActual(ql.ActualActual.ISDA), calendar_ql)\n",
    "yts = ql.YieldTermStructureHandle(rate_curve_ql)\n",
    "df_ql = [rate_curve_ql.discount(d) for d in pillars/365]\n",
    "df_tq = [rate_curve.discount(d).numpy() for d in pillars/365]\n",
    "\n",
    "plt.plot(pillars/365, df_ql, label='QuantLib')\n",
    "plt.plot(pillars/365, df_tq, label='tQuant', marker='x')\n",
    "plt.legend()\n",
    "plt.show()\n"
   ]
  },
  {
   "cell_type": "code",
   "execution_count": null,
   "metadata": {},
   "outputs": [],
   "source": []
  },
  {
   "cell_type": "code",
   "execution_count": 10,
   "metadata": {},
   "outputs": [],
   "source": [
    "convention_ql = ql.ModifiedFollowing\n",
    "start_date_ql = ql.Date.from_date(start_date)\n",
    "nominal = 1\n",
    "schedule_ql = ql.MakeSchedule(start_date_ql, ql.Date.from_date(maturity), ql.Period('1Y'), calendar=calendar_ql, convention=convention_ql, forwards=True)\n",
    "fixedRate_ql = 0.01\n",
    "fixedDC_ql = ql.Actual360()\n",
    "overnightIndex_ql = ql.Estr(yts)\n",
    "ois_ql = ql.OvernightIndexedSwap(ql.OvernightIndexedSwap.Payer,\n",
    "                                   nominal,\n",
    "                                   schedule_ql,\n",
    "                                   fixedRate_ql,\n",
    "                                   fixedDC_ql,\n",
    "                                   overnightIndex_ql)"
   ]
  },
  {
   "cell_type": "code",
   "execution_count": 11,
   "metadata": {},
   "outputs": [
    {
     "data": {
      "text/plain": [
       "0.04219302987229101"
      ]
     },
     "execution_count": 11,
     "metadata": {},
     "output_type": "execute_result"
    }
   ],
   "source": [
    "engine = ql.DiscountingSwapEngine(yts)\n",
    "ois_ql.setPricingEngine(engine)\n",
    "ois_ql.NPV()"
   ]
  },
  {
   "cell_type": "code",
   "execution_count": 12,
   "metadata": {},
   "outputs": [
    {
     "data": {
      "text/plain": [
       "<tf.Tensor: shape=(), dtype=float64, numpy=0.047897643775294346>"
      ]
     },
     "execution_count": 12,
     "metadata": {},
     "output_type": "execute_result"
    }
   ],
   "source": [
    "pv_ois"
   ]
  },
  {
   "cell_type": "markdown",
   "metadata": {},
   "source": [
    "## Debugging vs Ql: scomporre lo swap e trovare differenze"
   ]
  },
  {
   "cell_type": "markdown",
   "metadata": {},
   "source": [
    "fixed leg"
   ]
  },
  {
   "cell_type": "code",
   "execution_count": 13,
   "metadata": {},
   "outputs": [
    {
     "data": {
      "text/plain": [
       "-0.019330750828065058"
      ]
     },
     "execution_count": 13,
     "metadata": {},
     "output_type": "execute_result"
    }
   ],
   "source": [
    "ois_ql.fixedLegNPV()"
   ]
  },
  {
   "cell_type": "code",
   "execution_count": 14,
   "metadata": {},
   "outputs": [
    {
     "data": {
      "text/plain": [
       "<tf.Tensor: shape=(), dtype=float64, numpy=0.01931451792517587>"
      ]
     },
     "execution_count": 14,
     "metadata": {},
     "output_type": "execute_result"
    }
   ],
   "source": [
    "eng_ois.npv_fixed"
   ]
  },
  {
   "cell_type": "code",
   "execution_count": 15,
   "metadata": {},
   "outputs": [],
   "source": [
    "dates_fixed_ql = []\n",
    "amounts_fixed_ql = []\n",
    "for cf in ois_ql.fixedLeg():\n",
    "    dates_fixed_ql.append(cf.date())\n",
    "    amounts_fixed_ql.append(cf.amount())"
   ]
  },
  {
   "cell_type": "code",
   "execution_count": 16,
   "metadata": {},
   "outputs": [
    {
     "data": {
      "text/plain": [
       "[Date(5,5,2025), Date(4,5,2026)]"
      ]
     },
     "execution_count": 16,
     "metadata": {},
     "output_type": "execute_result"
    }
   ],
   "source": [
    "dates_fixed_ql"
   ]
  },
  {
   "cell_type": "code",
   "execution_count": 17,
   "metadata": {},
   "outputs": [
    {
     "data": {
      "text/html": [
       "<div>\n",
       "<style scoped>\n",
       "    .dataframe tbody tr th:only-of-type {\n",
       "        vertical-align: middle;\n",
       "    }\n",
       "\n",
       "    .dataframe tbody tr th {\n",
       "        vertical-align: top;\n",
       "    }\n",
       "\n",
       "    .dataframe thead th {\n",
       "        text-align: right;\n",
       "    }\n",
       "</style>\n",
       "<table border=\"1\" class=\"dataframe\">\n",
       "  <thead>\n",
       "    <tr style=\"text-align: right;\">\n",
       "      <th></th>\n",
       "      <th>start_period</th>\n",
       "      <th>end_period</th>\n",
       "      <th>payment_date</th>\n",
       "      <th>notional</th>\n",
       "      <th>accrual</th>\n",
       "      <th>day_counter</th>\n",
       "      <th>rate</th>\n",
       "      <th>amount</th>\n",
       "    </tr>\n",
       "  </thead>\n",
       "  <tbody>\n",
       "    <tr>\n",
       "      <th>0</th>\n",
       "      <td>2024-05-03</td>\n",
       "      <td>2025-05-05</td>\n",
       "      <td>2025-05-05</td>\n",
       "      <td>1.0</td>\n",
       "      <td>1.019444</td>\n",
       "      <td>Actual360</td>\n",
       "      <td>0.01</td>\n",
       "      <td>0.010194</td>\n",
       "    </tr>\n",
       "    <tr>\n",
       "      <th>0</th>\n",
       "      <td>2025-05-05</td>\n",
       "      <td>2026-05-04</td>\n",
       "      <td>2026-05-04</td>\n",
       "      <td>1.0</td>\n",
       "      <td>1.011111</td>\n",
       "      <td>Actual360</td>\n",
       "      <td>0.01</td>\n",
       "      <td>0.010111</td>\n",
       "    </tr>\n",
       "  </tbody>\n",
       "</table>\n",
       "</div>"
      ],
      "text/plain": [
       "  start_period  end_period payment_date notional   accrual day_counter  rate  \\\n",
       "0   2024-05-03  2025-05-05   2025-05-05      1.0  1.019444   Actual360  0.01   \n",
       "0   2025-05-05  2026-05-04   2026-05-04      1.0  1.011111   Actual360  0.01   \n",
       "\n",
       "     amount  \n",
       "0  0.010194  \n",
       "0  0.010111  "
      ]
     },
     "execution_count": 17,
     "metadata": {},
     "output_type": "execute_result"
    }
   ],
   "source": [
    "ois.fixed_leg.display_flows()"
   ]
  },
  {
   "cell_type": "markdown",
   "metadata": {},
   "source": [
    "floating leg"
   ]
  },
  {
   "cell_type": "code",
   "execution_count": 18,
   "metadata": {},
   "outputs": [
    {
     "data": {
      "text/plain": [
       "<tf.Tensor: shape=(), dtype=float64, numpy=0.06721216170047022>"
      ]
     },
     "execution_count": 18,
     "metadata": {},
     "output_type": "execute_result"
    }
   ],
   "source": [
    "eng_ois.npv_float"
   ]
  },
  {
   "cell_type": "code",
   "execution_count": 19,
   "metadata": {},
   "outputs": [
    {
     "data": {
      "text/plain": [
       "0.061523780700356065"
      ]
     },
     "execution_count": 19,
     "metadata": {},
     "output_type": "execute_result"
    }
   ],
   "source": [
    "ois_ql.floatingLegNPV()"
   ]
  },
  {
   "cell_type": "code",
   "execution_count": 20,
   "metadata": {},
   "outputs": [],
   "source": [
    "dates_float_ql = []\n",
    "amounts_float_ql = []\n",
    "for cf in ois_ql.floatingLeg():\n",
    "    dates_float_ql.append(cf.date())\n",
    "    amounts_float_ql.append(cf.amount())"
   ]
  },
  {
   "cell_type": "code",
   "execution_count": 21,
   "metadata": {},
   "outputs": [
    {
     "data": {
      "text/plain": [
       "[<tf.Tensor: shape=(), dtype=float64, numpy=0.02945168800279107>,\n",
       " <tf.Tensor: shape=(), dtype=float64, numpy=0.026695030984667596>]"
      ]
     },
     "execution_count": 21,
     "metadata": {},
     "output_type": "execute_result"
    }
   ],
   "source": [
    "# tq\n",
    "[rate_curve.forward_rate(d, calendar.advance(d, 6, \n",
    "                                             tq.TimeUnit.Months, \n",
    "                                             bd_convention), day_count_fix, trade_date) for d in schedule[1:] ]"
   ]
  },
  {
   "cell_type": "code",
   "execution_count": 38,
   "metadata": {},
   "outputs": [],
   "source": [
    "# ql\n",
    "ql_fwd = [rate_curve_ql.forwardRate(d, calendar_ql.advance(d, ql.Period(\"6M\")), fixedDC_ql, ql.Continuous).rate() for d in dates_float_ql]\n",
    "ql_accr = [fixedDC_ql.yearFraction(start_date_ql, d) for d in dates_float_ql]"
   ]
  },
  {
   "cell_type": "code",
   "execution_count": 39,
   "metadata": {},
   "outputs": [],
   "source": [
    "##\n",
    "# tq\n",
    "tq_fwd = [rate_curve.forward_rate(d, calendar.advance(d, 6, \n",
    "                                             tq.TimeUnit.Months, \n",
    "                                             bd_convention), day_count_fix, trade_date) for d in schedule[1:] ]\n",
    "tq_acc = [day_count_fix.year_fraction(start_date, d) for d in schedule[1:]]"
   ]
  },
  {
   "cell_type": "code",
   "execution_count": 40,
   "metadata": {},
   "outputs": [],
   "source": [
    "accruals =ois.floating_leg.display_flows()['accrual'].values"
   ]
  },
  {
   "cell_type": "code",
   "execution_count": 41,
   "metadata": {},
   "outputs": [
    {
     "data": {
      "text/plain": [
       "0.029493570979877422"
      ]
     },
     "execution_count": 41,
     "metadata": {},
     "output_type": "execute_result"
    }
   ],
   "source": [
    "notional * accruals[0] * ql_fwd[0]"
   ]
  },
  {
   "cell_type": "code",
   "execution_count": 42,
   "metadata": {},
   "outputs": [
    {
     "data": {
      "text/plain": [
       "0.026583962569587987"
      ]
     },
     "execution_count": 42,
     "metadata": {},
     "output_type": "execute_result"
    }
   ],
   "source": [
    "notional * accruals[1] * ql_fwd[1]"
   ]
  },
  {
   "cell_type": "code",
   "execution_count": 46,
   "metadata": {},
   "outputs": [
    {
     "data": {
      "text/plain": [
       "<tf.Tensor: shape=(), dtype=float64, numpy=0.03002435971395645>"
      ]
     },
     "execution_count": 46,
     "metadata": {},
     "output_type": "execute_result"
    }
   ],
   "source": [
    "notional * accruals[0] * tq_fwd[0] "
   ]
  },
  {
   "cell_type": "code",
   "execution_count": 44,
   "metadata": {},
   "outputs": [
    {
     "data": {
      "text/plain": [
       "<tf.Tensor: shape=(), dtype=float64, numpy=0.02699164244005279>"
      ]
     },
     "execution_count": 44,
     "metadata": {},
     "output_type": "execute_result"
    }
   ],
   "source": [
    "notional * accruals[1] * tq_fwd[1]"
   ]
  },
  {
   "cell_type": "code",
   "execution_count": 55,
   "metadata": {},
   "outputs": [
    {
     "data": {
      "text/plain": [
       "1.0194444444444444"
      ]
     },
     "execution_count": 55,
     "metadata": {},
     "output_type": "execute_result"
    }
   ],
   "source": [
    "ois.floating_leg.leg_flows()[0].accrual_period"
   ]
  },
  {
   "cell_type": "code",
   "execution_count": 54,
   "metadata": {},
   "outputs": [
    {
     "data": {
      "text/html": [
       "<div>\n",
       "<style scoped>\n",
       "    .dataframe tbody tr th:only-of-type {\n",
       "        vertical-align: middle;\n",
       "    }\n",
       "\n",
       "    .dataframe tbody tr th {\n",
       "        vertical-align: top;\n",
       "    }\n",
       "\n",
       "    .dataframe thead th {\n",
       "        text-align: right;\n",
       "    }\n",
       "</style>\n",
       "<table border=\"1\" class=\"dataframe\">\n",
       "  <thead>\n",
       "    <tr style=\"text-align: right;\">\n",
       "      <th></th>\n",
       "      <th>start_period</th>\n",
       "      <th>end_period</th>\n",
       "      <th>payment_date</th>\n",
       "      <th>notional</th>\n",
       "      <th>fixing_date</th>\n",
       "      <th>fixing_days</th>\n",
       "      <th>index</th>\n",
       "      <th>accrual</th>\n",
       "      <th>in_arrears</th>\n",
       "      <th>gearing</th>\n",
       "      <th>spread</th>\n",
       "      <th>day_counter</th>\n",
       "    </tr>\n",
       "  </thead>\n",
       "  <tbody>\n",
       "    <tr>\n",
       "      <th>0</th>\n",
       "      <td>2024-05-03</td>\n",
       "      <td>2025-05-05</td>\n",
       "      <td>2025-05-05</td>\n",
       "      <td>1.0</td>\n",
       "      <td>2024-05-03</td>\n",
       "      <td>None</td>\n",
       "      <td>ESTR</td>\n",
       "      <td>1.019444</td>\n",
       "      <td>False</td>\n",
       "      <td>1.0</td>\n",
       "      <td>0.0</td>\n",
       "      <td>Actual360</td>\n",
       "    </tr>\n",
       "    <tr>\n",
       "      <th>0</th>\n",
       "      <td>2025-05-05</td>\n",
       "      <td>2026-05-04</td>\n",
       "      <td>2026-05-04</td>\n",
       "      <td>1.0</td>\n",
       "      <td>2025-05-05</td>\n",
       "      <td>None</td>\n",
       "      <td>ESTR</td>\n",
       "      <td>1.011111</td>\n",
       "      <td>False</td>\n",
       "      <td>1.0</td>\n",
       "      <td>0.0</td>\n",
       "      <td>Actual360</td>\n",
       "    </tr>\n",
       "  </tbody>\n",
       "</table>\n",
       "</div>"
      ],
      "text/plain": [
       "  start_period  end_period payment_date notional fixing_date fixing_days  \\\n",
       "0   2024-05-03  2025-05-05   2025-05-05      1.0  2024-05-03        None   \n",
       "0   2025-05-05  2026-05-04   2026-05-04      1.0  2025-05-05        None   \n",
       "\n",
       "  index   accrual in_arrears gearing spread day_counter  \n",
       "0  ESTR  1.019444      False     1.0    0.0   Actual360  \n",
       "0  ESTR  1.011111      False     1.0    0.0   Actual360  "
      ]
     },
     "execution_count": 54,
     "metadata": {},
     "output_type": "execute_result"
    }
   ],
   "source": [
    "ois.floating_leg.display_flows()"
   ]
  },
  {
   "cell_type": "code",
   "execution_count": null,
   "metadata": {},
   "outputs": [],
   "source": []
  },
  {
   "cell_type": "code",
   "execution_count": 25,
   "metadata": {},
   "outputs": [
    {
     "data": {
      "text/html": [
       "<div>\n",
       "<style scoped>\n",
       "    .dataframe tbody tr th:only-of-type {\n",
       "        vertical-align: middle;\n",
       "    }\n",
       "\n",
       "    .dataframe tbody tr th {\n",
       "        vertical-align: top;\n",
       "    }\n",
       "\n",
       "    .dataframe thead th {\n",
       "        text-align: right;\n",
       "    }\n",
       "</style>\n",
       "<table border=\"1\" class=\"dataframe\">\n",
       "  <thead>\n",
       "    <tr style=\"text-align: right;\">\n",
       "      <th></th>\n",
       "      <th>start_period</th>\n",
       "      <th>end_period</th>\n",
       "      <th>payment_date</th>\n",
       "      <th>notional</th>\n",
       "      <th>fixing_date</th>\n",
       "      <th>fixing_days</th>\n",
       "      <th>index</th>\n",
       "      <th>accrual</th>\n",
       "      <th>in_arrears</th>\n",
       "      <th>gearing</th>\n",
       "      <th>spread</th>\n",
       "      <th>day_counter</th>\n",
       "    </tr>\n",
       "  </thead>\n",
       "  <tbody>\n",
       "    <tr>\n",
       "      <th>0</th>\n",
       "      <td>2024-05-03</td>\n",
       "      <td>2025-05-05</td>\n",
       "      <td>2025-05-05</td>\n",
       "      <td>1.0</td>\n",
       "      <td>2024-05-03</td>\n",
       "      <td>None</td>\n",
       "      <td>ESTR</td>\n",
       "      <td>1.019444</td>\n",
       "      <td>False</td>\n",
       "      <td>1.0</td>\n",
       "      <td>0.0</td>\n",
       "      <td>Actual360</td>\n",
       "    </tr>\n",
       "    <tr>\n",
       "      <th>0</th>\n",
       "      <td>2025-05-05</td>\n",
       "      <td>2026-05-04</td>\n",
       "      <td>2026-05-04</td>\n",
       "      <td>1.0</td>\n",
       "      <td>2025-05-05</td>\n",
       "      <td>None</td>\n",
       "      <td>ESTR</td>\n",
       "      <td>1.011111</td>\n",
       "      <td>False</td>\n",
       "      <td>1.0</td>\n",
       "      <td>0.0</td>\n",
       "      <td>Actual360</td>\n",
       "    </tr>\n",
       "  </tbody>\n",
       "</table>\n",
       "</div>"
      ],
      "text/plain": [
       "  start_period  end_period payment_date notional fixing_date fixing_days  \\\n",
       "0   2024-05-03  2025-05-05   2025-05-05      1.0  2024-05-03        None   \n",
       "0   2025-05-05  2026-05-04   2026-05-04      1.0  2025-05-05        None   \n",
       "\n",
       "  index   accrual in_arrears gearing spread day_counter  \n",
       "0  ESTR  1.019444      False     1.0    0.0   Actual360  \n",
       "0  ESTR  1.011111      False     1.0    0.0   Actual360  "
      ]
     },
     "execution_count": 25,
     "metadata": {},
     "output_type": "execute_result"
    }
   ],
   "source": [
    "ois.floating_leg.display_flows()"
   ]
  },
  {
   "cell_type": "code",
   "execution_count": null,
   "metadata": {},
   "outputs": [],
   "source": []
  },
  {
   "cell_type": "code",
   "execution_count": null,
   "metadata": {},
   "outputs": [],
   "source": []
  }
 ],
 "metadata": {
  "kernelspec": {
   "display_name": "Python 3",
   "language": "python",
   "name": "python3"
  },
  "language_info": {
   "codemirror_mode": {
    "name": "ipython",
    "version": 3
   },
   "file_extension": ".py",
   "mimetype": "text/x-python",
   "name": "python",
   "nbconvert_exporter": "python",
   "pygments_lexer": "ipython3",
   "version": "3.10.7"
  }
 },
 "nbformat": 4,
 "nbformat_minor": 2
}
