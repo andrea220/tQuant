{
 "cells": [
  {
   "cell_type": "code",
   "execution_count": 5,
   "metadata": {},
   "outputs": [],
   "source": [
    "import sys\n",
    "sys.path.append('../')\n",
    "\n",
    "import tquant as tq\n",
    "import tensorflow as tf\n",
    "\n",
    "from datastore import *\n",
    "import datetime\n",
    "\n",
    "tq.Settings.evaluation_date = date(2024, 4, 30)"
   ]
  },
  {
   "cell_type": "code",
   "execution_count": 3,
   "metadata": {},
   "outputs": [],
   "source": [
    "# rc0 = tq.RateCurve(ir_eur_curve_estr['daycount'].values/365, ir_eur_curve_estr['quote'].values)\n",
    "rc = tq.RateCurveTest(ir_eur_curve_estr['daycount'].values/365, ir_eur_curve_estr['quote'].values, 'LINEAR')"
   ]
  },
  {
   "cell_type": "code",
   "execution_count": 8,
   "metadata": {},
   "outputs": [],
   "source": [
    "## class helper\n",
    "## input class helper\n",
    "currency = tq.Currency.EUR\n",
    "start_delay = 2\n",
    "fixing_days = 2\n",
    "period_fix_units = 1\n",
    "period_fix = tq.TimeUnit.Years\n",
    "period_flt_units = 6\n",
    "period_flt = tq.TimeUnit.Months\n",
    "bd_convention = tq.BusinessDayConvention.ModifiedFollowing\n",
    "notional = 1.0\n",
    "day_count_convention_fix = tq.DayCounterConvention.Actual360\n",
    "day_count_convention_flt = tq.DayCounterConvention.Actual360\n",
    "\n",
    "#### function build helper\n",
    "#### input function build  \n",
    "trade_date = tq.Settings.evaluation_date\n",
    "quote = 0.01\n",
    "term = 2\n",
    "term_units = tq.TimeUnit.Years\n",
    "\n",
    "if currency == tq.Currency.EUR:\n",
    "    calendar = tq.TARGET()\n",
    "else:\n",
    "    raise TypeError(\"Calendar is not present for currency\")\n",
    "\n",
    "start_date = calendar.advance(trade_date,\n",
    "                              start_delay, \n",
    "                              tq.TimeUnit.Days, \n",
    "                              bd_convention)\n",
    "maturity = calendar.advance(start_date, term, term_units, bd_convention)\n",
    "\n",
    "schedule_generator = tq.ScheduleGeneratorTest(calendar, bd_convention)\n",
    "schedule_fix = schedule_generator.generate(start_date, \n",
    "                                           maturity, \n",
    "                                           period_fix_units, period_fix)\n",
    "schedule_float = schedule_generator.generate(start_date,\n",
    "                                             maturity,\n",
    "                                             period_flt_units,\n",
    "                                             period_flt)\n",
    "\n",
    "start_fix = []\n",
    "end_fix = []\n",
    "pay_fix = []\n",
    "for i in range(len(schedule_fix) - 1):\n",
    "    start_fix.append(schedule_fix[i])\n",
    "    end_fix.append(schedule_fix[i + 1])\n",
    "    pay_fix.append(calendar.adjust(schedule_fix[i + 1], bd_convention))\n",
    "\n",
    "day_count_fix = tq.DayCounter(day_count_convention_fix)\n",
    "day_count_flt = tq.DayCounter(day_count_convention_flt)\n",
    "\n",
    "start_flt = []\n",
    "end_flt = []\n",
    "pay_flt = []\n",
    "for i in range(len(schedule_float) - 1):\n",
    "    start_flt.append(schedule_float[i])\n",
    "    end_flt.append(schedule_float[i + 1])\n",
    "    pay_flt.append(calendar.adjust(schedule_float[i + 1], bd_convention))\n",
    "\n",
    "fixing_dates = []\n",
    "fixing_rates = []\n",
    "\n",
    "\n",
    "index = tq.OvernightIndex('ESTR', calendar)\n",
    "\n",
    "ois_test = tq.OisTest(schedule_float, \n",
    "                      schedule_fix,\n",
    "                      notional,\n",
    "                      index,\n",
    "                      quote,\n",
    "                      day_count_fix,\n",
    "                      day_count_flt,\n",
    "                      tq.Currency.EUR)"
   ]
  },
  {
   "cell_type": "code",
   "execution_count": 9,
   "metadata": {},
   "outputs": [
    {
     "data": {
      "text/plain": [
       "<tf.Tensor: shape=(), dtype=float64, numpy=-0.045277554423039795>"
      ]
     },
     "execution_count": 9,
     "metadata": {},
     "output_type": "execute_result"
    }
   ],
   "source": [
    "eng_ois_test = tq.SwapAnalyticEngine(ois_test)\n",
    "eng_ois_test.price(rc, rc, trade_date)"
   ]
  },
  {
   "cell_type": "code",
   "execution_count": null,
   "metadata": {},
   "outputs": [],
   "source": []
  },
  {
   "cell_type": "code",
   "execution_count": null,
   "metadata": {},
   "outputs": [],
   "source": []
  },
  {
   "cell_type": "code",
   "execution_count": null,
   "metadata": {},
   "outputs": [],
   "source": []
  },
  {
   "cell_type": "code",
   "execution_count": null,
   "metadata": {},
   "outputs": [],
   "source": []
  }
 ],
 "metadata": {
  "kernelspec": {
   "display_name": "Python 3",
   "language": "python",
   "name": "python3"
  },
  "language_info": {
   "codemirror_mode": {
    "name": "ipython",
    "version": 3
   },
   "file_extension": ".py",
   "mimetype": "text/x-python",
   "name": "python",
   "nbconvert_exporter": "python",
   "pygments_lexer": "ipython3",
   "version": "3.10.7"
  }
 },
 "nbformat": 4,
 "nbformat_minor": 2
}
